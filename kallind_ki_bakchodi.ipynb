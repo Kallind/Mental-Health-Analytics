{
 "cells": [
  {
   "cell_type": "code",
   "execution_count": 1,
   "id": "1726a829",
   "metadata": {},
   "outputs": [],
   "source": [
    "import numpy as np\n",
    "import pandas as pd\n",
    "import matplotlib.pyplot as plt\n",
    "import seaborn as sns\n",
    "from sklearn import preprocessing\n",
    "from sklearn import metrics\n",
    "import plotly.graph_objects as go\n",
    "import plotly.express as px\n",
    "from plotly.subplots import make_subplots\n",
    "import warnings\n",
    "warnings.filterwarnings(\"ignore\")"
   ]
  },
  {
   "cell_type": "code",
   "execution_count": 21,
   "id": "34801cfa",
   "metadata": {},
   "outputs": [],
   "source": [
    "df1 = pd.read_csv(\"mental_cleaned.csv\")\n",
    "df22 = pd.read_csv(\"data/4- adult-population-covered-in-primary-data-on-the-prevalence-of-mental-illnesses.csv\")\n",
    "df3 = pd.read_csv(\"data/6- depressive-symptoms-across-us-population.csv\")\n",
    "df44 = pd.read_csv(\"data/7- number-of-countries-with-primary-data-on-prevalence-of-mental-illnesses-in-the-global-burden-of-disease-study.csv\")"
   ]
  },
  {
   "cell_type": "code",
   "execution_count": 22,
   "id": "fc5134f8",
   "metadata": {},
   "outputs": [
    {
     "data": {
      "text/html": [
       "<div>\n",
       "<style scoped>\n",
       "    .dataframe tbody tr th:only-of-type {\n",
       "        vertical-align: middle;\n",
       "    }\n",
       "\n",
       "    .dataframe tbody tr th {\n",
       "        vertical-align: top;\n",
       "    }\n",
       "\n",
       "    .dataframe thead th {\n",
       "        text-align: right;\n",
       "    }\n",
       "</style>\n",
       "<table border=\"1\" class=\"dataframe\">\n",
       "  <thead>\n",
       "    <tr style=\"text-align: right;\">\n",
       "      <th></th>\n",
       "      <th>Entity</th>\n",
       "      <th>Code</th>\n",
       "      <th>Year</th>\n",
       "      <th>Schizophrenia disorders (share of population) - Sex: Both - Age: Age-standardized</th>\n",
       "      <th>Depressive disorders (share of population) - Sex: Both - Age: Age-standardized</th>\n",
       "      <th>Anxiety disorders (share of population) - Sex: Both - Age: Age-standardized</th>\n",
       "      <th>Bipolar disorders (share of population) - Sex: Both - Age: Age-standardized</th>\n",
       "      <th>Eating disorders (share of population) - Sex: Both - Age: Age-standardized</th>\n",
       "    </tr>\n",
       "  </thead>\n",
       "  <tbody>\n",
       "    <tr>\n",
       "      <th>0</th>\n",
       "      <td>Afghanistan</td>\n",
       "      <td>AFG</td>\n",
       "      <td>1990.000000</td>\n",
       "      <td>0.223206</td>\n",
       "      <td>4.996118</td>\n",
       "      <td>4.713314</td>\n",
       "      <td>0.703023</td>\n",
       "      <td>0.127700</td>\n",
       "    </tr>\n",
       "    <tr>\n",
       "      <th>1</th>\n",
       "      <td>Afghanistan</td>\n",
       "      <td>AFG</td>\n",
       "      <td>1991.000000</td>\n",
       "      <td>0.222454</td>\n",
       "      <td>3.767303</td>\n",
       "      <td>4.100860</td>\n",
       "      <td>0.702069</td>\n",
       "      <td>0.123256</td>\n",
       "    </tr>\n",
       "    <tr>\n",
       "      <th>2</th>\n",
       "      <td>Afghanistan</td>\n",
       "      <td>AFG</td>\n",
       "      <td>1992.000000</td>\n",
       "      <td>0.221751</td>\n",
       "      <td>4.981346</td>\n",
       "      <td>4.683743</td>\n",
       "      <td>0.700792</td>\n",
       "      <td>0.195365</td>\n",
       "    </tr>\n",
       "    <tr>\n",
       "      <th>3</th>\n",
       "      <td>Afghanistan</td>\n",
       "      <td>AFG</td>\n",
       "      <td>1993.000000</td>\n",
       "      <td>0.220987</td>\n",
       "      <td>3.767303</td>\n",
       "      <td>4.673549</td>\n",
       "      <td>0.700087</td>\n",
       "      <td>0.115089</td>\n",
       "    </tr>\n",
       "    <tr>\n",
       "      <th>4</th>\n",
       "      <td>Afghanistan</td>\n",
       "      <td>AFG</td>\n",
       "      <td>1994.000000</td>\n",
       "      <td>0.220183</td>\n",
       "      <td>4.977782</td>\n",
       "      <td>4.670810</td>\n",
       "      <td>0.699898</td>\n",
       "      <td>0.195365</td>\n",
       "    </tr>\n",
       "    <tr>\n",
       "      <th>...</th>\n",
       "      <td>...</td>\n",
       "      <td>...</td>\n",
       "      <td>...</td>\n",
       "      <td>...</td>\n",
       "      <td>...</td>\n",
       "      <td>...</td>\n",
       "      <td>...</td>\n",
       "      <td>...</td>\n",
       "    </tr>\n",
       "    <tr>\n",
       "      <th>6415</th>\n",
       "      <td>Zimbabwe</td>\n",
       "      <td>ZWE</td>\n",
       "      <td>2015.000000</td>\n",
       "      <td>0.201042</td>\n",
       "      <td>3.407624</td>\n",
       "      <td>4.100860</td>\n",
       "      <td>0.538596</td>\n",
       "      <td>0.195365</td>\n",
       "    </tr>\n",
       "    <tr>\n",
       "      <th>6416</th>\n",
       "      <td>Algeria</td>\n",
       "      <td>CHL</td>\n",
       "      <td>2016.000000</td>\n",
       "      <td>0.201319</td>\n",
       "      <td>3.410755</td>\n",
       "      <td>3.187148</td>\n",
       "      <td>0.538593</td>\n",
       "      <td>0.096662</td>\n",
       "    </tr>\n",
       "    <tr>\n",
       "      <th>6417</th>\n",
       "      <td>Zimbabwe</td>\n",
       "      <td>ZWE</td>\n",
       "      <td>2004.472189</td>\n",
       "      <td>0.201639</td>\n",
       "      <td>3.411965</td>\n",
       "      <td>3.188418</td>\n",
       "      <td>0.538589</td>\n",
       "      <td>0.195365</td>\n",
       "    </tr>\n",
       "    <tr>\n",
       "      <th>6418</th>\n",
       "      <td>Zimbabwe</td>\n",
       "      <td>ZWE</td>\n",
       "      <td>2018.000000</td>\n",
       "      <td>0.201976</td>\n",
       "      <td>3.406929</td>\n",
       "      <td>3.172111</td>\n",
       "      <td>0.538585</td>\n",
       "      <td>0.097909</td>\n",
       "    </tr>\n",
       "    <tr>\n",
       "      <th>6419</th>\n",
       "      <td>Zimbabwe</td>\n",
       "      <td>ZWE</td>\n",
       "      <td>2019.000000</td>\n",
       "      <td>0.202482</td>\n",
       "      <td>3.395476</td>\n",
       "      <td>3.137017</td>\n",
       "      <td>0.538580</td>\n",
       "      <td>0.098295</td>\n",
       "    </tr>\n",
       "  </tbody>\n",
       "</table>\n",
       "<p>6420 rows × 8 columns</p>\n",
       "</div>"
      ],
      "text/plain": [
       "           Entity Code         Year  \\\n",
       "0     Afghanistan  AFG  1990.000000   \n",
       "1     Afghanistan  AFG  1991.000000   \n",
       "2     Afghanistan  AFG  1992.000000   \n",
       "3     Afghanistan  AFG  1993.000000   \n",
       "4     Afghanistan  AFG  1994.000000   \n",
       "...           ...  ...          ...   \n",
       "6415     Zimbabwe  ZWE  2015.000000   \n",
       "6416      Algeria  CHL  2016.000000   \n",
       "6417     Zimbabwe  ZWE  2004.472189   \n",
       "6418     Zimbabwe  ZWE  2018.000000   \n",
       "6419     Zimbabwe  ZWE  2019.000000   \n",
       "\n",
       "      Schizophrenia disorders (share of population) - Sex: Both - Age: Age-standardized  \\\n",
       "0                                              0.223206                                   \n",
       "1                                              0.222454                                   \n",
       "2                                              0.221751                                   \n",
       "3                                              0.220987                                   \n",
       "4                                              0.220183                                   \n",
       "...                                                 ...                                   \n",
       "6415                                           0.201042                                   \n",
       "6416                                           0.201319                                   \n",
       "6417                                           0.201639                                   \n",
       "6418                                           0.201976                                   \n",
       "6419                                           0.202482                                   \n",
       "\n",
       "      Depressive disorders (share of population) - Sex: Both - Age: Age-standardized  \\\n",
       "0                                              4.996118                                \n",
       "1                                              3.767303                                \n",
       "2                                              4.981346                                \n",
       "3                                              3.767303                                \n",
       "4                                              4.977782                                \n",
       "...                                                 ...                                \n",
       "6415                                           3.407624                                \n",
       "6416                                           3.410755                                \n",
       "6417                                           3.411965                                \n",
       "6418                                           3.406929                                \n",
       "6419                                           3.395476                                \n",
       "\n",
       "      Anxiety disorders (share of population) - Sex: Both - Age: Age-standardized  \\\n",
       "0                                              4.713314                             \n",
       "1                                              4.100860                             \n",
       "2                                              4.683743                             \n",
       "3                                              4.673549                             \n",
       "4                                              4.670810                             \n",
       "...                                                 ...                             \n",
       "6415                                           4.100860                             \n",
       "6416                                           3.187148                             \n",
       "6417                                           3.188418                             \n",
       "6418                                           3.172111                             \n",
       "6419                                           3.137017                             \n",
       "\n",
       "      Bipolar disorders (share of population) - Sex: Both - Age: Age-standardized  \\\n",
       "0                                              0.703023                             \n",
       "1                                              0.702069                             \n",
       "2                                              0.700792                             \n",
       "3                                              0.700087                             \n",
       "4                                              0.699898                             \n",
       "...                                                 ...                             \n",
       "6415                                           0.538596                             \n",
       "6416                                           0.538593                             \n",
       "6417                                           0.538589                             \n",
       "6418                                           0.538585                             \n",
       "6419                                           0.538580                             \n",
       "\n",
       "      Eating disorders (share of population) - Sex: Both - Age: Age-standardized  \n",
       "0                                              0.127700                           \n",
       "1                                              0.123256                           \n",
       "2                                              0.195365                           \n",
       "3                                              0.115089                           \n",
       "4                                              0.195365                           \n",
       "...                                                 ...                           \n",
       "6415                                           0.195365                           \n",
       "6416                                           0.096662                           \n",
       "6417                                           0.195365                           \n",
       "6418                                           0.097909                           \n",
       "6419                                           0.098295                           \n",
       "\n",
       "[6420 rows x 8 columns]"
      ]
     },
     "execution_count": 22,
     "metadata": {},
     "output_type": "execute_result"
    }
   ],
   "source": [
    "df1"
   ]
  },
  {
   "cell_type": "code",
   "execution_count": 23,
   "id": "8cf2bf68",
   "metadata": {},
   "outputs": [],
   "source": [
    "df1_ent=df1.drop([\"Entity\",\"Year\"],axis=1)\n",
    "df=df1_ent.groupby('Code').mean()"
   ]
  },
  {
   "cell_type": "code",
   "execution_count": 24,
   "id": "0b932c41",
   "metadata": {},
   "outputs": [
    {
     "name": "stdout",
     "output_type": "stream",
     "text": [
      "      Schizophrenia  Depressive   Anxiety   Bipolar    Eating\n",
      "Code                                                         \n",
      "AFG        0.223247    4.828664  4.647262  0.687824  0.120704\n",
      "AGO        0.220522    5.846069  3.973929  0.562717  0.119745\n",
      "ALB        0.282077    2.481458  3.771262  0.555680  0.115813\n",
      "AND        0.286709    3.608395  5.202232  0.920273  0.474165\n",
      "ARE        0.280566    3.678485  4.131969  0.747051  0.297405\n",
      "...             ...         ...       ...       ...       ...\n",
      "WSM        0.285123    2.924681  3.945187  0.313547  0.094537\n",
      "YEM        0.236576    4.687178  4.684103  0.722368  0.147879\n",
      "ZAF        0.228085    4.111359  3.818607  0.571142  0.158694\n",
      "ZMB        0.223266    4.181038  3.877597  0.579462  0.109275\n",
      "ZWE        0.212587    3.364111  3.291787  0.538524  0.111101\n",
      "\n",
      "[205 rows x 5 columns]\n"
     ]
    }
   ],
   "source": [
    "# Assuming your data is stored in a DataFrame called df\n",
    "\n",
    "# New column names\n",
    "new_column_names = {\n",
    "    'Schizophrenia disorders (share of population) - Sex: Both - Age: Age-standardized': 'Schizophrenia',\n",
    "    'Depressive disorders (share of population) - Sex: Both - Age: Age-standardized': 'Depressive',\n",
    "    'Anxiety disorders (share of population) - Sex: Both - Age: Age-standardized': 'Anxiety',\n",
    "    'Bipolar disorders (share of population) - Sex: Both - Age: Age-standardized': 'Bipolar',\n",
    "    'Eating disorders (share of population) - Sex: Both - Age: Age-standardized': 'Eating'\n",
    "}\n",
    "\n",
    "# Rename columns\n",
    "df.rename(columns=new_column_names, inplace=True)\n",
    "\n",
    "# Display the DataFrame with renamed columns\n",
    "print(df)\n"
   ]
  },
  {
   "cell_type": "code",
   "execution_count": 25,
   "id": "013de5fb",
   "metadata": {},
   "outputs": [
    {
     "data": {
      "image/png": "[encoded data removed]",
      "text/plain": [
       "<Figure size 1000x600 with 1 Axes>"
      ]
     },
     "metadata": {},
     "output_type": "display_data"
    }
   ],
   "source": [
    "import matplotlib.pyplot as plt\n",
    "import seaborn as sns\n",
    "\n",
    "# Bar Chart of Average Disorder Prevalence by Country\n",
    "plt.figure(figsize=(10, 6))\n",
    "sns.barplot(data=df.reset_index(), x='Code', y='Schizophrenia')\n",
    "plt.title('Average Schizophrenia Prevalence by Country')\n",
    "plt.xlabel('Country Code')\n",
    "plt.ylabel('Average Prevalence')\n",
    "plt.xticks(rotation=45)\n",
    "plt.show()\n",
    "\n",
    "# # Line Plot of Disorder Trends Over Time\n",
    "# plt.figure(figsize=(10, 6))\n",
    "# for country_code in df.index:\n",
    "#     plt.plot(df.loc[df.index == country_code].drop(columns='Year').values.flatten(), label=country_code)\n",
    "# plt.title('Disorder Trends Over Time')\n",
    "# plt.xlabel('Disorder Type')\n",
    "# plt.ylabel('Average Prevalence')\n",
    "# plt.legend(title='Country Code')\n",
    "# plt.xticks(range(len(df.columns) - 1), df.columns[1:], rotation=45)\n",
    "# plt.show()\n",
    "\n",
    "# # Stacked Bar Chart of Disorder Prevalence Across Countries\n",
    "# plt.figure(figsize=(10, 6))\n",
    "# df.plot(kind='bar', stacked=True, colormap='viridis')\n",
    "# plt.title('Disorder Prevalence Across Countries')\n",
    "# plt.xlabel('Country Code')\n",
    "# plt.ylabel('Average Prevalence')\n",
    "# plt.xticks(rotation=45)\n",
    "# plt.legend(title='Disorder Type', loc='upper right')\n",
    "# plt.show()\n"
   ]
  },
  {
   "cell_type": "code",
   "execution_count": 26,
   "id": "63af1acf",
   "metadata": {},
   "outputs": [
    {
     "name": "stdout",
     "output_type": "stream",
     "text": [
      "205\n"
     ]
    }
   ],
   "source": [
    "unique_codes = df1['Code'].unique()\n",
    "\n",
    "# Print the unique values\n",
    "print(len(unique_codes))"
   ]
  },
  {
   "cell_type": "code",
   "execution_count": 27,
   "id": "509aa03e",
   "metadata": {},
   "outputs": [
    {
     "data": {
      "application/vnd.plotly.v1+json": {
       "config": {
        "plotlyServerURL": "https://plot.ly"
       },
       "data": [
        {
         "customdata": [
          [
           "AFG"
          ],
          [
           "AGO"
          ],
          [
           "ALB"
          ],
          [
           "AND"
          ],
          [
           "ARE"
          ],
          [
           "ARG"
          ],
          [
           "ARM"
          ],
          [
           "ASM"
          ],
          [
           "ATG"
          ],
          [
           "AUS"
          ],
          [
           "AUT"
          ],
          [
           "AZE"
          ],
          [
           "BDI"
          ],
          [
           "BEL"
          ],
          [
           "BEN"
          ],
          [
           "BFA"
          ],
          [
           "BGD"
          ],
          [
           "BGR"
          ],
          [
           "BHR"
          ],
          [
           "BHS"
          ],
          [
           "BIH"
          ],
          [
           "BLR"
          ],
          [
           "BLZ"
          ],
          [
           "BMU"
          ],
          [
           "BOL"
          ],
          [
           "BRA"
          ],
          [
           "BRB"
          ],
          [
           "BRN"
          ],
          [
           "BTN"
          ],
          [
           "BWA"
          ],
          [
           "CAF"
          ],
          [
           "CAN"
          ],
          [
           "CHE"
          ],
          [
           "CHL"
          ],
          [
           "CHN"
          ],
          [
           "CIV"
          ],
          [
           "CMR"
          ],
          [
           "COD"
          ],
          [
           "COG"
          ],
          [
           "COK"
          ],
          [
           "COL"
          ],
          [
           "COM"
          ],
          [
           "CPV"
          ],
          [
           "CRI"
          ],
          [
           "CUB"
          ],
          [
           "CYP"
          ],
          [
           "CZE"
          ],
          [
           "DEU"
          ],
          [
           "DJI"
          ],
          [
           "DMA"
          ],
          [
           "DNK"
          ],
          [
           "DOM"
          ],
          [
           "DZA"
          ],
          [
           "ECU"
          ],
          [
           "EGY"
          ],
          [
           "ERI"
          ],
          [
           "ESP"
          ],
          [
           "EST"
          ],
          [
           "ETH"
          ],
          [
           "FIN"
          ],
          [
           "FJI"
          ],
          [
           "FRA"
          ],
          [
           "FSM"
          ],
          [
           "GAB"
          ],
          [
           "GBR"
          ],
          [
           "GEO"
          ],
          [
           "GHA"
          ],
          [
           "GIN"
          ],
          [
           "GMB"
          ],
          [
           "GNB"
          ],
          [
           "GNQ"
          ],
          [
           "GRC"
          ],
          [
           "GRD"
          ],
          [
           "GRL"
          ],
          [
           "GTM"
          ],
          [
           "GUM"
          ],
          [
           "GUY"
          ],
          [
           "HND"
          ],
          [
           "HRV"
          ],
          [
           "HTI"
          ],
          [
           "HUN"
          ],
          [
           "IDN"
          ],
          [
           "IND"
          ],
          [
           "IRL"
          ],
          [
           "IRN"
          ],
          [
           "IRQ"
          ],
          [
           "ISL"
          ],
          [
           "ISR"
          ],
          [
           "ITA"
          ],
          [
           "JAM"
          ],
          [
           "JOR"
          ],
          [
           "JPN"
          ],
          [
           "KAZ"
          ],
          [
           "KEN"
          ],
          [
           "KGZ"
          ],
          [
           "KHM"
          ],
          [
           "KIR"
          ],
          [
           "KNA"
          ],
          [
           "KOR"
          ],
          [
           "KWT"
          ],
          [
           "LAO"
          ],
          [
           "LBN"
          ],
          [
           "LBR"
          ],
          [
           "LBY"
          ],
          [
           "LCA"
          ],
          [
           "LKA"
          ],
          [
           "LSO"
          ],
          [
           "LTU"
          ],
          [
           "LUX"
          ],
          [
           "LVA"
          ],
          [
           "MAR"
          ],
          [
           "MCO"
          ],
          [
           "MDA"
          ],
          [
           "MDG"
          ],
          [
           "MDV"
          ],
          [
           "MEX"
          ],
          [
           "MHL"
          ],
          [
           "MKD"
          ],
          [
           "MLI"
          ],
          [
           "MLT"
          ],
          [
           "MMR"
          ],
          [
           "MNE"
          ],
          [
           "MNG"
          ],
          [
           "MNP"
          ],
          [
           "MOZ"
          ],
          [
           "MRT"
          ],
          [
           "MUS"
          ],
          [
           "MWI"
          ],
          [
           "MYS"
          ],
          [
           "NAM"
          ],
          [
           "NER"
          ],
          [
           "NGA"
          ],
          [
           "NIC"
          ],
          [
           "NIU"
          ],
          [
           "NLD"
          ],
          [
           "NOR"
          ],
          [
           "NPL"
          ],
          [
           "NRU"
          ],
          [
           "NZL"
          ],
          [
           "OMN"
          ],
          [
           "OWID_WRL"
          ],
          [
           "PAK"
          ],
          [
           "PAN"
          ],
          [
           "PER"
          ],
          [
           "PHL"
          ],
          [
           "PLW"
          ],
          [
           "PNG"
          ],
          [
           "POL"
          ],
          [
           "PRI"
          ],
          [
           "PRK"
          ],
          [
           "PRT"
          ],
          [
           "PRY"
          ],
          [
           "PSE"
          ],
          [
           "QAT"
          ],
          [
           "ROU"
          ],
          [
           "RUS"
          ],
          [
           "RWA"
          ],
          [
           "SAU"
          ],
          [
           "SDN"
          ],
          [
           "SEN"
          ],
          [
           "SGP"
          ],
          [
           "SLB"
          ],
          [
           "SLE"
          ],
          [
           "SLV"
          ],
          [
           "SMR"
          ],
          [
           "SOM"
          ],
          [
           "SRB"
          ],
          [
           "SSD"
          ],
          [
           "STP"
          ],
          [
           "SUR"
          ],
          [
           "SVK"
          ],
          [
           "SVN"
          ],
          [
           "SWE"
          ],
          [
           "SWZ"
          ],
          [
           "SYC"
          ],
          [
           "SYR"
          ],
          [
           "TCD"
          ],
          [
           "TGO"
          ],
          [
           "THA"
          ],
          [
           "TJK"
          ],
          [
           "TKL"
          ],
          [
           "TKM"
          ],
          [
           "TLS"
          ],
          [
           "TON"
          ],
          [
           "TTO"
          ],
          [
           "TUN"
          ],
          [
           "TUR"
          ],
          [
           "TUV"
          ],
          [
           "TWN"
          ],
          [
           "TZA"
          ],
          [
           "UGA"
          ],
          [
           "UKR"
          ],
          [
           "URY"
          ],
          [
           "USA"
          ],
          [
           "UZB"
          ],
          [
           "VCT"
          ],
          [
           "VEN"
          ],
          [
           "VIR"
          ],
          [
           "VNM"
          ],
          [
           "VUT"
          ],
          [
           "WSM"
          ],
          [
           "YEM"
          ],
          [
           "ZAF"
          ],
          [
           "ZMB"
          ],
          [
           "ZWE"
          ]
         ],
         "hovertemplate": "Schizophrenia=%{x}<br>Depressive=%{y}<br>Code=%{customdata[0]}<br>Cluster=%{marker.color}<extra></extra>",
         "legendgroup": "",
         "marker": {
          "color": [
           0,
           0,
           1,
           2,
           1,
           2,
           1,
           1,
           1,
           2,
           2,
           1,
           0,
           2,
           0,
           0,
           0,
           1,
           0,
           1,
           1,
           0,
           1,
           1,
           2,
           2,
           1,
           1,
           0,
           0,
           0,
           1,
           2,
           0,
           1,
           0,
           0,
           0,
           0,
           1,
           1,
           0,
           0,
           1,
           0,
           2,
           1,
           2,
           0,
           1,
           2,
           0,
           0,
           2,
           0,
           0,
           0,
           0,
           0,
           0,
           1,
           2,
           1,
           0,
           0,
           1,
           0,
           0,
           0,
           0,
           0,
           2,
           1,
           0,
           0,
           1,
           0,
           1,
           1,
           1,
           1,
           1,
           0,
           2,
           2,
           2,
           2,
           0,
           2,
           1,
           0,
           1,
           1,
           0,
           1,
           1,
           1,
           0,
           1,
           0,
           1,
           2,
           0,
           2,
           1,
           1,
           0,
           0,
           2,
           0,
           0,
           2,
           1,
           0,
           1,
           1,
           1,
           1,
           1,
           2,
           1,
           1,
           1,
           1,
           0,
           1,
           0,
           0,
           1,
           1,
           0,
           0,
           1,
           1,
           2,
           2,
           0,
           1,
           2,
           0,
           1,
           0,
           1,
           2,
           1,
           1,
           1,
           1,
           1,
           1,
           2,
           2,
           0,
           0,
           1,
           1,
           0,
           0,
           0,
           0,
           1,
           1,
           0,
           1,
           2,
           0,
           1,
           0,
           1,
           0,
           1,
           1,
           0,
           0,
           1,
           2,
           0,
           0,
           1,
           1,
           1,
           1,
           1,
           1,
           0,
           0,
           0,
           1,
           1,
           0,
           0,
           0,
           2,
           2,
           1,
           1,
           1,
           1,
           1,
           1,
           1,
           0,
           0,
           0,
           1
          ],
          "coloraxis": "coloraxis",
          "symbol": "circle"
         },
         "mode": "markers",
         "name": "",
         "orientation": "v",
         "showlegend": false,
         "type": "scatter",
         "x": [
          0.22324695556780333,
          0.22052188945581738,
          0.28207726832768776,
          0.2867091715995242,
          0.2805658245032455,
          0.30661608731296025,
          0.27767361041384386,
          0.30371535202825506,
          0.2857131143424153,
          0.37502654980603284,
          0.27442690103178696,
          0.27539337641389844,
          0.2079030008843888,
          0.2728814167120766,
          0.2145451759812559,
          0.21638110385493373,
          0.2766272342540206,
          0.28198756393890795,
          0.2711078162962963,
          0.28308295552724594,
          0.28273450892857144,
          0.2717090350500191,
          0.26918942813798574,
          0.29900289345093545,
          0.2637104890750089,
          0.27497182368483064,
          0.2812676582657503,
          0.30089432610232913,
          0.2843863536848306,
          0.2220602503995734,
          0.20025636974723174,
          0.28537930165537556,
          0.27813267109793816,
          0.27104244157042,
          0.2976860091553756,
          0.22188980171207656,
          0.2163889630805651,
          0.20779626396827913,
          0.2180523266612158,
          0.30989461898527243,
          0.27591473801298205,
          0.22234901374153165,
          0.2271132357195876,
          0.2823875993768614,
          0.2753859570540206,
          0.2743616251851852,
          0.2933347862149088,
          0.2605641953270103,
          0.22247526582768778,
          0.2713664403402062,
          0.23042847385402063,
          0.2709449132676857,
          0.24906831296296297,
          0.2725659112415317,
          0.2505713272250267,
          0.21558678216732752,
          0.2657203846208476,
          0.28335343332768775,
          0.21631058522680413,
          0.26415957139809676,
          0.2878561667120766,
          0.26842275627597145,
          0.27078497798281786,
          0.23313241223320297,
          0.2574322863370341,
          0.2735432917857143,
          0.22058021677070744,
          0.21563881739051546,
          0.2199651912982327,
          0.20851015732701028,
          0.22700543011340207,
          0.2725686633921344,
          0.2737395347562592,
          0.3630942415982936,
          0.26213516313798574,
          0.3213324201764032,
          0.25851379562673305,
          0.2604973893180603,
          0.29063867443917524,
          0.24475159979857256,
          0.286610132028255,
          0.2844088749918237,
          0.28093616246350517,
          0.3391991135544919,
          0.2551810928277969,
          0.24720491522680413,
          0.2755286651088201,
          0.2974329848596352,
          0.29372699874153163,
          0.2749120364726995,
          0.2544913031581941,
          0.3022178957142857,
          0.2741304083175258,
          0.22095907539051546,
          0.2632020173270103,
          0.2634032274662085,
          0.2597215494745823,
          0.27800159387835055,
          0.2941971924908802,
          0.27592942052724595,
          0.26862153045431925,
          0.2558954252835052,
          0.21197442943566247,
          0.2582785979365583,
          0.2747752818336296,
          0.2900396655272459,
          0.20995926344108984,
          0.28169890446350515,
          0.27789365905402064,
          0.2784796635450172,
          0.24259936646350513,
          0.29121244179896905,
          0.26720363583029344,
          0.21639163900649103,
          0.29834826935289455,
          0.2829413212,
          0.27301390566350514,
          0.28436892743917525,
          0.21380926166058684,
          0.27486629358366377,
          0.26426056177548685,
          0.28473266092701033,
          0.2651903934509355,
          0.315059927613402,
          0.20180888505292097,
          0.22224530604352807,
          0.29515160918289424,
          0.20557873974723176,
          0.3082041536,
          0.2238438743021685,
          0.21147376858366376,
          0.22344642122871325,
          0.26899251577250854,
          0.2937546647562592,
          0.37027578846563575,
          0.2824926228133665,
          0.2710067155489691,
          0.2811961415990836,
          0.38125951943917524,
          0.2650266962149088,
          0.2874154341058419,
          0.28032525974723177,
          0.2804268097722994,
          0.27370958992890154,
          0.28448166735087094,
          0.2983782251851852,
          0.27033782870578904,
          0.28792807689911637,
          0.2869671098648339,
          0.2670026385317869,
          0.2686416890419735,
          0.2744454046995582,
          0.24861607719999998,
          0.281687561488802,
          0.28317414436131566,
          0.27843793524398625,
          0.2109467438823024,
          0.2630424669841396,
          0.2323842622810233,
          0.22131698710626485,
          0.3132778668635051,
          0.257818923938908,
          0.2116675445620466,
          0.2659670493768614,
          0.28123458980603283,
          0.18984313000000003,
          0.28146455202825504,
          0.23308906980603283,
          0.22419032304896905,
          0.27165588172701033,
          0.28697743585402063,
          0.2950706354391752,
          0.27932293605292097,
          0.22143042179051545,
          0.3021514751701031,
          0.24921584992363496,
          0.21410276878492712,
          0.2164186420870561,
          0.28988872826011103,
          0.2642070915227186,
          0.28331125878492713,
          0.2720888943424153,
          0.2583535259977909,
          0.28831183054677356,
          0.27795143870578903,
          0.25341688827098674,
          0.24894566752500957,
          0.2721953883853537,
          0.29717480319816725,
          0.21393362752500952,
          0.21161617499121801,
          0.27119409045431925,
          0.3065582809524187,
          0.44164188467644727,
          0.2661422273687549,
          0.27067089368483066,
          0.2762463494558174,
          0.2929431782069492,
          0.3105360071546392,
          0.2709621597562592,
          0.28512297582768775,
          0.2365758576426117,
          0.2280854698129602,
          0.22326606358103093,
          0.21258696061512028
         ],
         "xaxis": "x",
         "y": [
          4.828664421409527,
          5.8460692821428575,
          2.481458351864853,
          3.60839462525568,
          3.678485283415404,
          2.6606502734517035,
          2.878232017857143,
          2.8075227225505035,
          3.0544865931736997,
          4.5148629038678445,
          3.3142969063423293,
          2.7798531409048812,
          4.943032691308846,
          3.4733655824594143,
          4.386554247827996,
          4.261579695038553,
          4.5160041782659075,
          2.9092297594234,
          4.747174950246211,
          3.076261319880275,
          3.0257321697219965,
          3.9819273463783667,
          3.3210181598710653,
          3.3453596871191076,
          3.5867116883130863,
          4.122404617857143,
          3.1828690336616146,
          1.9624375430029442,
          4.044460630436282,
          4.2250769640223345,
          5.817078496460437,
          3.3888346664671247,
          3.8096024525449788,
          3.7792632752824504,
          2.9662991377374177,
          3.8939339144439926,
          4.551884513045033,
          5.349064573247377,
          5.45192138486481,
          3.205813627023132,
          2.5403272428388033,
          4.251161110872564,
          4.727918820295454,
          3.1928438112752513,
          4.154908216,
          3.083641233497474,
          3.106770644315996,
          3.4360222723545437,
          4.39223784658685,
          3.0635041413088464,
          3.806875322265908,
          3.851888829539576,
          4.121906546378367,
          3.3461663804362822,
          3.8141592362833068,
          4.828583207862762,
          4.072440550246211,
          4.1735390732934246,
          4.680391366467125,
          4.522129282947988,
          2.97279672158685,
          4.047093405854458,
          3.085835704535983,
          5.403894958926331,
          4.095499075426134,
          3.305608875158278,
          4.340049453524687,
          4.241343682265907,
          5.3559997074594135,
          4.413637206088636,
          5.479604966467124,
          5.089160276172136,
          3.217448167857143,
          6.197194239731583,
          3.9184967752556807,
          3.2315841391350997,
          4.732632209002741,
          3.2513668022622033,
          3.1984804299999996,
          3.6534013020083034,
          3.1110186594234,
          2.4810476518769584,
          4.106699382265908,
          4.07232941476055,
          4.59872280950547,
          3.746245221903407,
          3.0839470391351,
          4.390312402178758,
          3.6787114501582785,
          3.004706270534511,
          4.266288986512538,
          2.11303645,
          3.517051966265908,
          4.794065502265908,
          3.538963454088636,
          3.22963413929924,
          3.118543331340124,
          3.905789370295453,
          2.008472873076923,
          3.9498079268648536,
          2.91627156747061,
          4.650914411189121,
          4.632750470534511,
          4.260103432947988,
          3.3466101487343236,
          3.1545170110308427,
          5.217554457301135,
          4.102399736354544,
          3.462836828177272,
          3.9929117384071966,
          5.032641228177272,
          4.015082973193654,
          3.4388723483326036,
          4.745144720452441,
          3.2846537001704537,
          3.3704173622659077,
          3.0244357342659076,
          2.65440135174053,
          3.5611034254261345,
          3.1733795772639843,
          2.386893281809763,
          2.8777382820886364,
          4.012408679875841,
          2.815293566308846,
          4.803138841888257,
          3.663421237365318,
          4.0437430504103515,
          4.115619533661614,
          3.4189831921772718,
          3.6500056364361275,
          4.146163427093531,
          4.269725085185185,
          3.3541119618882567,
          3.2529282307528393,
          3.548730643842329,
          3.1809789003056412,
          4.820766893842329,
          3.1633608260900665,
          3.6698567453693163,
          3.9268087866236883,
          3.5348237885549234,
          3.9104795853493255,
          2.9906795631398215,
          2.4974557451332275,
          2.9931927331406722,
          3.1037878,
          3.180037615555069,
          2.265510073293425,
          3.048026043002944,
          2.9308321337026495,
          4.628661559324267,
          3.5798117482934253,
          6.304269818265908,
          4.081636336283307,
          2.830043321745128,
          3.276907811439392,
          5.222267798193654,
          4.051306732947989,
          4.379941742838803,
          3.9605713404698424,
          2.4791071822659076,
          3.0868824853493257,
          4.312724555719696,
          3.5628147132091743,
          4.061756135267255,
          4.825464405248824,
          3.031237198394359,
          4.529206478106059,
          3.665281571017992,
          4.5024662403545435,
          2.9715225323545438,
          3.49238367522159,
          4.096677605517042,
          4.308038188177272,
          2.729657616150568,
          4.000777213045033,
          5.011635724443572,
          4.433792227859848,
          2.986310682947988,
          2.918297296460437,
          3.209202805401645,
          3.2080681413088463,
          2.995019927023132,
          2.8403294521801334,
          3.833813182947988,
          4.979708126864854,
          4.0187463504103516,
          3.213894684711989,
          2.5839978463783666,
          4.6332978594234,
          7.143546144444445,
          4.175467732987852,
          2.7596788463242996,
          4.354968169230769,
          3.3087283964947534,
          3.3429539414671248,
          3.2453239930154214,
          3.289472007571548,
          2.6326933964604367,
          3.045914773293425,
          2.924680543015421,
          4.687178372632574,
          4.111358934165989,
          4.1810384900886355,
          3.3641111396756624
         ],
         "yaxis": "y"
        }
       ],
       "layout": {
        "coloraxis": {
         "colorbar": {
          "title": {
           "text": "Cluster"
          }
         },
         "colorscale": [
          [
           0,
           "#0d0887"
          ],
          [
           0.1111111111111111,
           "#46039f"
          ],
          [
           0.2222222222222222,
           "#7201a8"
          ],
          [
           0.3333333333333333,
           "#9c179e"
          ],
          [
           0.4444444444444444,
           "#bd3786"
          ],
          [
           0.5555555555555556,
           "#d8576b"
          ],
          [
           0.6666666666666666,
           "#ed7953"
          ],
          [
           0.7777777777777778,
           "#fb9f3a"
          ],
          [
           0.8888888888888888,
           "#fdca26"
          ],
          [
           1,
           "#f0f921"
          ]
         ]
        },
        "height": 600,
        "legend": {
         "tracegroupgap": 0
        },
        "template": {
         "data": {
          "bar": [
           {
            "error_x": {
             "color": "#2a3f5f"
            },
            "error_y": {
             "color": "#2a3f5f"
            },
            "marker": {
             "line": {
              "color": "#E5ECF6",
              "width": 0.5
             },
             "pattern": {
              "fillmode": "overlay",
              "size": 10,
              "solidity": 0.2
             }
            },
            "type": "bar"
           }
          ],
          "barpolar": [
           {
            "marker": {
             "line": {
              "color": "#E5ECF6",
              "width": 0.5
             },
             "pattern": {
              "fillmode": "overlay",
              "size": 10,
              "solidity": 0.2
             }
            },
            "type": "barpolar"
           }
          ],
          "carpet": [
           {
            "aaxis": {
             "endlinecolor": "#2a3f5f",
             "gridcolor": "white",
             "linecolor": "white",
             "minorgridcolor": "white",
             "startlinecolor": "#2a3f5f"
            },
            "baxis": {
             "endlinecolor": "#2a3f5f",
             "gridcolor": "white",
             "linecolor": "white",
             "minorgridcolor": "white",
             "startlinecolor": "#2a3f5f"
            },
            "type": "carpet"
           }
          ],
          "choropleth": [
           {
            "colorbar": {
             "outlinewidth": 0,
             "ticks": ""
            },
            "type": "choropleth"
           }
          ],
          "contour": [
           {
            "colorbar": {
             "outlinewidth": 0,
             "ticks": ""
            },
            "colorscale": [
             [
              0,
              "#0d0887"
             ],
             [
              0.1111111111111111,
              "#46039f"
             ],
             [
              0.2222222222222222,
              "#7201a8"
             ],
             [
              0.3333333333333333,
              "#9c179e"
             ],
             [
              0.4444444444444444,
              "#bd3786"
             ],
             [
              0.5555555555555556,
              "#d8576b"
             ],
             [
              0.6666666666666666,
              "#ed7953"
             ],
             [
              0.7777777777777778,
              "#fb9f3a"
             ],
             [
              0.8888888888888888,
              "#fdca26"
             ],
             [
              1,
              "#f0f921"
             ]
            ],
            "type": "contour"
           }
          ],
          "contourcarpet": [
           {
            "colorbar": {
             "outlinewidth": 0,
             "ticks": ""
            },
            "type": "contourcarpet"
           }
          ],
          "heatmap": [
           {
            "colorbar": {
             "outlinewidth": 0,
             "ticks": ""
            },
            "colorscale": [
             [
              0,
              "#0d0887"
             ],
             [
              0.1111111111111111,
              "#46039f"
             ],
             [
              0.2222222222222222,
              "#7201a8"
             ],
             [
              0.3333333333333333,
              "#9c179e"
             ],
             [
              0.4444444444444444,
              "#bd3786"
             ],
             [
              0.5555555555555556,
              "#d8576b"
             ],
             [
              0.6666666666666666,
              "#ed7953"
             ],
             [
              0.7777777777777778,
              "#fb9f3a"
             ],
             [
              0.8888888888888888,
              "#fdca26"
             ],
             [
              1,
              "#f0f921"
             ]
            ],
            "type": "heatmap"
           }
          ],
          "heatmapgl": [
           {
            "colorbar": {
             "outlinewidth": 0,
             "ticks": ""
            },
            "colorscale": [
             [
              0,
              "#0d0887"
             ],
             [
              0.1111111111111111,
              "#46039f"
             ],
             [
              0.2222222222222222,
              "#7201a8"
             ],
             [
              0.3333333333333333,
              "#9c179e"
             ],
             [
              0.4444444444444444,
              "#bd3786"
             ],
             [
              0.5555555555555556,
              "#d8576b"
             ],
             [
              0.6666666666666666,
              "#ed7953"
             ],
             [
              0.7777777777777778,
              "#fb9f3a"
             ],
             [
              0.8888888888888888,
              "#fdca26"
             ],
             [
              1,
              "#f0f921"
             ]
            ],
            "type": "heatmapgl"
           }
          ],
          "histogram": [
           {
            "marker": {
             "pattern": {
              "fillmode": "overlay",
              "size": 10,
              "solidity": 0.2
             }
            },
            "type": "histogram"
           }
          ],
          "histogram2d": [
           {
            "colorbar": {
             "outlinewidth": 0,
             "ticks": ""
            },
            "colorscale": [
             [
              0,
              "#0d0887"
             ],
             [
              0.1111111111111111,
              "#46039f"
             ],
             [
              0.2222222222222222,
              "#7201a8"
             ],
             [
              0.3333333333333333,
              "#9c179e"
             ],
             [
              0.4444444444444444,
              "#bd3786"
             ],
             [
              0.5555555555555556,
              "#d8576b"
             ],
             [
              0.6666666666666666,
              "#ed7953"
             ],
             [
              0.7777777777777778,
              "#fb9f3a"
             ],
             [
              0.8888888888888888,
              "#fdca26"
             ],
             [
              1,
              "#f0f921"
             ]
            ],
            "type": "histogram2d"
           }
          ],
          "histogram2dcontour": [
           {
            "colorbar": {
             "outlinewidth": 0,
             "ticks": ""
            },
            "colorscale": [
             [
              0,
              "#0d0887"
             ],
             [
              0.1111111111111111,
              "#46039f"
             ],
             [
              0.2222222222222222,
              "#7201a8"
             ],
             [
              0.3333333333333333,
              "#9c179e"
             ],
             [
              0.4444444444444444,
              "#bd3786"
             ],
             [
              0.5555555555555556,
              "#d8576b"
             ],
             [
              0.6666666666666666,
              "#ed7953"
             ],
             [
              0.7777777777777778,
              "#fb9f3a"
             ],
             [
              0.8888888888888888,
              "#fdca26"
             ],
             [
              1,
              "#f0f921"
             ]
            ],
            "type": "histogram2dcontour"
           }
          ],
          "mesh3d": [
           {
            "colorbar": {
             "outlinewidth": 0,
             "ticks": ""
            },
            "type": "mesh3d"
           }
          ],
          "parcoords": [
           {
            "line": {
             "colorbar": {
              "outlinewidth": 0,
              "ticks": ""
             }
            },
            "type": "parcoords"
           }
          ],
          "pie": [
           {
            "automargin": true,
            "type": "pie"
           }
          ],
          "scatter": [
           {
            "fillpattern": {
             "fillmode": "overlay",
             "size": 10,
             "solidity": 0.2
            },
            "type": "scatter"
           }
          ],
          "scatter3d": [
           {
            "line": {
             "colorbar": {
              "outlinewidth": 0,
              "ticks": ""
             }
            },
            "marker": {
             "colorbar": {
              "outlinewidth": 0,
              "ticks": ""
             }
            },
            "type": "scatter3d"
           }
          ],
          "scattercarpet": [
           {
            "marker": {
             "colorbar": {
              "outlinewidth": 0,
              "ticks": ""
             }
            },
            "type": "scattercarpet"
           }
          ],
          "scattergeo": [
           {
            "marker": {
             "colorbar": {
              "outlinewidth": 0,
              "ticks": ""
             }
            },
            "type": "scattergeo"
           }
          ],
          "scattergl": [
           {
            "marker": {
             "colorbar": {
              "outlinewidth": 0,
              "ticks": ""
             }
            },
            "type": "scattergl"
           }
          ],
          "scattermapbox": [
           {
            "marker": {
             "colorbar": {
              "outlinewidth": 0,
              "ticks": ""
             }
            },
            "type": "scattermapbox"
           }
          ],
          "scatterpolar": [
           {
            "marker": {
             "colorbar": {
              "outlinewidth": 0,
              "ticks": ""
             }
            },
            "type": "scatterpolar"
           }
          ],
          "scatterpolargl": [
           {
            "marker": {
             "colorbar": {
              "outlinewidth": 0,
              "ticks": ""
             }
            },
            "type": "scatterpolargl"
           }
          ],
          "scatterternary": [
           {
            "marker": {
             "colorbar": {
              "outlinewidth": 0,
              "ticks": ""
             }
            },
            "type": "scatterternary"
           }
          ],
          "surface": [
           {
            "colorbar": {
             "outlinewidth": 0,
             "ticks": ""
            },
            "colorscale": [
             [
              0,
              "#0d0887"
             ],
             [
              0.1111111111111111,
              "#46039f"
             ],
             [
              0.2222222222222222,
              "#7201a8"
             ],
             [
              0.3333333333333333,
              "#9c179e"
             ],
             [
              0.4444444444444444,
              "#bd3786"
             ],
             [
              0.5555555555555556,
              "#d8576b"
             ],
             [
              0.6666666666666666,
              "#ed7953"
             ],
             [
              0.7777777777777778,
              "#fb9f3a"
             ],
             [
              0.8888888888888888,
              "#fdca26"
             ],
             [
              1,
              "#f0f921"
             ]
            ],
            "type": "surface"
           }
          ],
          "table": [
           {
            "cells": {
             "fill": {
              "color": "#EBF0F8"
             },
             "line": {
              "color": "white"
             }
            },
            "header": {
             "fill": {
              "color": "#C8D4E3"
             },
             "line": {
              "color": "white"
             }
            },
            "type": "table"
           }
          ]
         },
         "layout": {
          "annotationdefaults": {
           "arrowcolor": "#2a3f5f",
           "arrowhead": 0,
           "arrowwidth": 1
          },
          "autotypenumbers": "strict",
          "coloraxis": {
           "colorbar": {
            "outlinewidth": 0,
            "ticks": ""
           }
          },
          "colorscale": {
           "diverging": [
            [
             0,
             "#8e0152"
            ],
            [
             0.1,
             "#c51b7d"
            ],
            [
             0.2,
             "#de77ae"
            ],
            [
             0.3,
             "#f1b6da"
            ],
            [
             0.4,
             "#fde0ef"
            ],
            [
             0.5,
             "#f7f7f7"
            ],
            [
             0.6,
             "#e6f5d0"
            ],
            [
             0.7,
             "#b8e186"
            ],
            [
             0.8,
             "#7fbc41"
            ],
            [
             0.9,
             "#4d9221"
            ],
            [
             1,
             "#276419"
            ]
           ],
           "sequential": [
            [
             0,
             "#0d0887"
            ],
            [
             0.1111111111111111,
             "#46039f"
            ],
            [
             0.2222222222222222,
             "#7201a8"
            ],
            [
             0.3333333333333333,
             "#9c179e"
            ],
            [
             0.4444444444444444,
             "#bd3786"
            ],
            [
             0.5555555555555556,
             "#d8576b"
            ],
            [
             0.6666666666666666,
             "#ed7953"
            ],
            [
             0.7777777777777778,
             "#fb9f3a"
            ],
            [
             0.8888888888888888,
             "#fdca26"
            ],
            [
             1,
             "#f0f921"
            ]
           ],
           "sequentialminus": [
            [
             0,
             "#0d0887"
            ],
            [
             0.1111111111111111,
             "#46039f"
            ],
            [
             0.2222222222222222,
             "#7201a8"
            ],
            [
             0.3333333333333333,
             "#9c179e"
            ],
            [
             0.4444444444444444,
             "#bd3786"
            ],
            [
             0.5555555555555556,
             "#d8576b"
            ],
            [
             0.6666666666666666,
             "#ed7953"
            ],
            [
             0.7777777777777778,
             "#fb9f3a"
            ],
            [
             0.8888888888888888,
             "#fdca26"
            ],
            [
             1,
             "#f0f921"
            ]
           ]
          },
          "colorway": [
           "#636efa",
           "#EF553B",
           "#00cc96",
           "#ab63fa",
           "#FFA15A",
           "#19d3f3",
           "#FF6692",
           "#B6E880",
           "#FF97FF",
           "#FECB52"
          ],
          "font": {
           "color": "#2a3f5f"
          },
          "geo": {
           "bgcolor": "white",
           "lakecolor": "white",
           "landcolor": "#E5ECF6",
           "showlakes": true,
           "showland": true,
           "subunitcolor": "white"
          },
          "hoverlabel": {
           "align": "left"
          },
          "hovermode": "closest",
          "mapbox": {
           "style": "light"
          },
          "paper_bgcolor": "white",
          "plot_bgcolor": "#E5ECF6",
          "polar": {
           "angularaxis": {
            "gridcolor": "white",
            "linecolor": "white",
            "ticks": ""
           },
           "bgcolor": "#E5ECF6",
           "radialaxis": {
            "gridcolor": "white",
            "linecolor": "white",
            "ticks": ""
           }
          },
          "scene": {
           "xaxis": {
            "backgroundcolor": "#E5ECF6",
            "gridcolor": "white",
            "gridwidth": 2,
            "linecolor": "white",
            "showbackground": true,
            "ticks": "",
            "zerolinecolor": "white"
           },
           "yaxis": {
            "backgroundcolor": "#E5ECF6",
            "gridcolor": "white",
            "gridwidth": 2,
            "linecolor": "white",
            "showbackground": true,
            "ticks": "",
            "zerolinecolor": "white"
           },
           "zaxis": {
            "backgroundcolor": "#E5ECF6",
            "gridcolor": "white",
            "gridwidth": 2,
            "linecolor": "white",
            "showbackground": true,
            "ticks": "",
            "zerolinecolor": "white"
           }
          },
          "shapedefaults": {
           "line": {
            "color": "#2a3f5f"
           }
          },
          "ternary": {
           "aaxis": {
            "gridcolor": "white",
            "linecolor": "white",
            "ticks": ""
           },
           "baxis": {
            "gridcolor": "white",
            "linecolor": "white",
            "ticks": ""
           },
           "bgcolor": "#E5ECF6",
           "caxis": {
            "gridcolor": "white",
            "linecolor": "white",
            "ticks": ""
           }
          },
          "title": {
           "x": 0.05
          },
          "xaxis": {
           "automargin": true,
           "gridcolor": "white",
           "linecolor": "white",
           "ticks": "",
           "title": {
            "standoff": 15
           },
           "zerolinecolor": "white",
           "zerolinewidth": 2
          },
          "yaxis": {
           "automargin": true,
           "gridcolor": "white",
           "linecolor": "white",
           "ticks": "",
           "title": {
            "standoff": 15
           },
           "zerolinecolor": "white",
           "zerolinewidth": 2
          }
         }
        },
        "title": {
         "text": "Schizophrenia vs Depressive"
        },
        "xaxis": {
         "anchor": "y",
         "domain": [
          0,
          1
         ],
         "title": {
          "text": "Schizophrenia"
         }
        },
        "yaxis": {
         "anchor": "x",
         "domain": [
          0,
          1
         ],
         "title": {
          "text": "Depressive"
         }
        }
       }
      },
      "text/html": [
       "<div>                            <div id=\"9c6caf05-ff6e-4d64-8cff-d2fbab7d95a6\" class=\"plotly-graph-div\" style=\"height:600px; width:100%;\"></div>            <script type=\"text/javascript\">                require([\"plotly\"], function(Plotly) {                    window.PLOTLYENV=window.PLOTLYENV || {};                                    if (document.getElementById(\"9c6caf05-ff6e-4d64-8cff-d2fbab7d95a6\")) {                    Plotly.newPlot(                        \"9c6caf05-ff6e-4d64-8cff-d2fbab7d95a6\",                        [{\"customdata\":[[\"AFG\"],[\"AGO\"],[\"ALB\"],[\"AND\"],[\"ARE\"],[\"ARG\"],[\"ARM\"],[\"ASM\"],[\"ATG\"],[\"AUS\"],[\"AUT\"],[\"AZE\"],[\"BDI\"],[\"BEL\"],[\"BEN\"],[\"BFA\"],[\"BGD\"],[\"BGR\"],[\"BHR\"],[\"BHS\"],[\"BIH\"],[\"BLR\"],[\"BLZ\"],[\"BMU\"],[\"BOL\"],[\"BRA\"],[\"BRB\"],[\"BRN\"],[\"BTN\"],[\"BWA\"],[\"CAF\"],[\"CAN\"],[\"CHE\"],[\"CHL\"],[\"CHN\"],[\"CIV\"],[\"CMR\"],[\"COD\"],[\"COG\"],[\"COK\"],[\"COL\"],[\"COM\"],[\"CPV\"],[\"CRI\"],[\"CUB\"],[\"CYP\"],[\"CZE\"],[\"DEU\"],[\"DJI\"],[\"DMA\"],[\"DNK\"],[\"DOM\"],[\"DZA\"],[\"ECU\"],[\"EGY\"],[\"ERI\"],[\"ESP\"],[\"EST\"],[\"ETH\"],[\"FIN\"],[\"FJI\"],[\"FRA\"],[\"FSM\"],[\"GAB\"],[\"GBR\"],[\"GEO\"],[\"GHA\"],[\"GIN\"],[\"GMB\"],[\"GNB\"],[\"GNQ\"],[\"GRC\"],[\"GRD\"],[\"GRL\"],[\"GTM\"],[\"GUM\"],[\"GUY\"],[\"HND\"],[\"HRV\"],[\"HTI\"],[\"HUN\"],[\"IDN\"],[\"IND\"],[\"IRL\"],[\"IRN\"],[\"IRQ\"],[\"ISL\"],[\"ISR\"],[\"ITA\"],[\"JAM\"],[\"JOR\"],[\"JPN\"],[\"KAZ\"],[\"KEN\"],[\"KGZ\"],[\"KHM\"],[\"KIR\"],[\"KNA\"],[\"KOR\"],[\"KWT\"],[\"LAO\"],[\"LBN\"],[\"LBR\"],[\"LBY\"],[\"LCA\"],[\"LKA\"],[\"LSO\"],[\"LTU\"],[\"LUX\"],[\"LVA\"],[\"MAR\"],[\"MCO\"],[\"MDA\"],[\"MDG\"],[\"MDV\"],[\"MEX\"],[\"MHL\"],[\"MKD\"],[\"MLI\"],[\"MLT\"],[\"MMR\"],[\"MNE\"],[\"MNG\"],[\"MNP\"],[\"MOZ\"],[\"MRT\"],[\"MUS\"],[\"MWI\"],[\"MYS\"],[\"NAM\"],[\"NER\"],[\"NGA\"],[\"NIC\"],[\"NIU\"],[\"NLD\"],[\"NOR\"],[\"NPL\"],[\"NRU\"],[\"NZL\"],[\"OMN\"],[\"OWID_WRL\"],[\"PAK\"],[\"PAN\"],[\"PER\"],[\"PHL\"],[\"PLW\"],[\"PNG\"],[\"POL\"],[\"PRI\"],[\"PRK\"],[\"PRT\"],[\"PRY\"],[\"PSE\"],[\"QAT\"],[\"ROU\"],[\"RUS\"],[\"RWA\"],[\"SAU\"],[\"SDN\"],[\"SEN\"],[\"SGP\"],[\"SLB\"],[\"SLE\"],[\"SLV\"],[\"SMR\"],[\"SOM\"],[\"SRB\"],[\"SSD\"],[\"STP\"],[\"SUR\"],[\"SVK\"],[\"SVN\"],[\"SWE\"],[\"SWZ\"],[\"SYC\"],[\"SYR\"],[\"TCD\"],[\"TGO\"],[\"THA\"],[\"TJK\"],[\"TKL\"],[\"TKM\"],[\"TLS\"],[\"TON\"],[\"TTO\"],[\"TUN\"],[\"TUR\"],[\"TUV\"],[\"TWN\"],[\"TZA\"],[\"UGA\"],[\"UKR\"],[\"URY\"],[\"USA\"],[\"UZB\"],[\"VCT\"],[\"VEN\"],[\"VIR\"],[\"VNM\"],[\"VUT\"],[\"WSM\"],[\"YEM\"],[\"ZAF\"],[\"ZMB\"],[\"ZWE\"]],\"hovertemplate\":\"Schizophrenia=%{x}<br>Depressive=%{y}<br>Code=%{customdata[0]}<br>Cluster=%{marker.color}<extra></extra>\",\"legendgroup\":\"\",\"marker\":{\"color\":[0,0,1,2,1,2,1,1,1,2,2,1,0,2,0,0,0,1,0,1,1,0,1,1,2,2,1,1,0,0,0,1,2,0,1,0,0,0,0,1,1,0,0,1,0,2,1,2,0,1,2,0,0,2,0,0,0,0,0,0,1,2,1,0,0,1,0,0,0,0,0,2,1,0,0,1,0,1,1,1,1,1,0,2,2,2,2,0,2,1,0,1,1,0,1,1,1,0,1,0,1,2,0,2,1,1,0,0,2,0,0,2,1,0,1,1,1,1,1,2,1,1,1,1,0,1,0,0,1,1,0,0,1,1,2,2,0,1,2,0,1,0,1,2,1,1,1,1,1,1,2,2,0,0,1,1,0,0,0,0,1,1,0,1,2,0,1,0,1,0,1,1,0,0,1,2,0,0,1,1,1,1,1,1,0,0,0,1,1,0,0,0,2,2,1,1,1,1,1,1,1,0,0,0,1],\"coloraxis\":\"coloraxis\",\"symbol\":\"circle\"},\"mode\":\"markers\",\"name\":\"\",\"orientation\":\"v\",\"showlegend\":false,\"x\":[0.22324695556780333,0.22052188945581738,0.28207726832768776,0.2867091715995242,0.2805658245032455,0.30661608731296025,0.27767361041384386,0.30371535202825506,0.2857131143424153,0.37502654980603284,0.27442690103178696,0.27539337641389844,0.2079030008843888,0.2728814167120766,0.2145451759812559,0.21638110385493373,0.2766272342540206,0.28198756393890795,0.2711078162962963,0.28308295552724594,0.28273450892857144,0.2717090350500191,0.26918942813798574,0.29900289345093545,0.2637104890750089,0.27497182368483064,0.2812676582657503,0.30089432610232913,0.2843863536848306,0.2220602503995734,0.20025636974723174,0.28537930165537556,0.27813267109793816,0.27104244157042,0.2976860091553756,0.22188980171207656,0.2163889630805651,0.20779626396827913,0.2180523266612158,0.30989461898527243,0.27591473801298205,0.22234901374153165,0.2271132357195876,0.2823875993768614,0.2753859570540206,0.2743616251851852,0.2933347862149088,0.2605641953270103,0.22247526582768778,0.2713664403402062,0.23042847385402063,0.2709449132676857,0.24906831296296297,0.2725659112415317,0.2505713272250267,0.21558678216732752,0.2657203846208476,0.28335343332768775,0.21631058522680413,0.26415957139809676,0.2878561667120766,0.26842275627597145,0.27078497798281786,0.23313241223320297,0.2574322863370341,0.2735432917857143,0.22058021677070744,0.21563881739051546,0.2199651912982327,0.20851015732701028,0.22700543011340207,0.2725686633921344,0.2737395347562592,0.3630942415982936,0.26213516313798574,0.3213324201764032,0.25851379562673305,0.2604973893180603,0.29063867443917524,0.24475159979857256,0.286610132028255,0.2844088749918237,0.28093616246350517,0.3391991135544919,0.2551810928277969,0.24720491522680413,0.2755286651088201,0.2974329848596352,0.29372699874153163,0.2749120364726995,0.2544913031581941,0.3022178957142857,0.2741304083175258,0.22095907539051546,0.2632020173270103,0.2634032274662085,0.2597215494745823,0.27800159387835055,0.2941971924908802,0.27592942052724595,0.26862153045431925,0.2558954252835052,0.21197442943566247,0.2582785979365583,0.2747752818336296,0.2900396655272459,0.20995926344108984,0.28169890446350515,0.27789365905402064,0.2784796635450172,0.24259936646350513,0.29121244179896905,0.26720363583029344,0.21639163900649103,0.29834826935289455,0.2829413212,0.27301390566350514,0.28436892743917525,0.21380926166058684,0.27486629358366377,0.26426056177548685,0.28473266092701033,0.2651903934509355,0.315059927613402,0.20180888505292097,0.22224530604352807,0.29515160918289424,0.20557873974723176,0.3082041536,0.2238438743021685,0.21147376858366376,0.22344642122871325,0.26899251577250854,0.2937546647562592,0.37027578846563575,0.2824926228133665,0.2710067155489691,0.2811961415990836,0.38125951943917524,0.2650266962149088,0.2874154341058419,0.28032525974723177,0.2804268097722994,0.27370958992890154,0.28448166735087094,0.2983782251851852,0.27033782870578904,0.28792807689911637,0.2869671098648339,0.2670026385317869,0.2686416890419735,0.2744454046995582,0.24861607719999998,0.281687561488802,0.28317414436131566,0.27843793524398625,0.2109467438823024,0.2630424669841396,0.2323842622810233,0.22131698710626485,0.3132778668635051,0.257818923938908,0.2116675445620466,0.2659670493768614,0.28123458980603283,0.18984313000000003,0.28146455202825504,0.23308906980603283,0.22419032304896905,0.27165588172701033,0.28697743585402063,0.2950706354391752,0.27932293605292097,0.22143042179051545,0.3021514751701031,0.24921584992363496,0.21410276878492712,0.2164186420870561,0.28988872826011103,0.2642070915227186,0.28331125878492713,0.2720888943424153,0.2583535259977909,0.28831183054677356,0.27795143870578903,0.25341688827098674,0.24894566752500957,0.2721953883853537,0.29717480319816725,0.21393362752500952,0.21161617499121801,0.27119409045431925,0.3065582809524187,0.44164188467644727,0.2661422273687549,0.27067089368483066,0.2762463494558174,0.2929431782069492,0.3105360071546392,0.2709621597562592,0.28512297582768775,0.2365758576426117,0.2280854698129602,0.22326606358103093,0.21258696061512028],\"xaxis\":\"x\",\"y\":[4.828664421409527,5.8460692821428575,2.481458351864853,3.60839462525568,3.678485283415404,2.6606502734517035,2.878232017857143,2.8075227225505035,3.0544865931736997,4.5148629038678445,3.3142969063423293,2.7798531409048812,4.943032691308846,3.4733655824594143,4.386554247827996,4.261579695038553,4.5160041782659075,2.9092297594234,4.747174950246211,3.076261319880275,3.0257321697219965,3.9819273463783667,3.3210181598710653,3.3453596871191076,3.5867116883130863,4.122404617857143,3.1828690336616146,1.9624375430029442,4.044460630436282,4.2250769640223345,5.817078496460437,3.3888346664671247,3.8096024525449788,3.7792632752824504,2.9662991377374177,3.8939339144439926,4.551884513045033,5.349064573247377,5.45192138486481,3.205813627023132,2.5403272428388033,4.251161110872564,4.727918820295454,3.1928438112752513,4.154908216,3.083641233497474,3.106770644315996,3.4360222723545437,4.39223784658685,3.0635041413088464,3.806875322265908,3.851888829539576,4.121906546378367,3.3461663804362822,3.8141592362833068,4.828583207862762,4.072440550246211,4.1735390732934246,4.680391366467125,4.522129282947988,2.97279672158685,4.047093405854458,3.085835704535983,5.403894958926331,4.095499075426134,3.305608875158278,4.340049453524687,4.241343682265907,5.3559997074594135,4.413637206088636,5.479604966467124,5.089160276172136,3.217448167857143,6.197194239731583,3.9184967752556807,3.2315841391350997,4.732632209002741,3.2513668022622033,3.1984804299999996,3.6534013020083034,3.1110186594234,2.4810476518769584,4.106699382265908,4.07232941476055,4.59872280950547,3.746245221903407,3.0839470391351,4.390312402178758,3.6787114501582785,3.004706270534511,4.266288986512538,2.11303645,3.517051966265908,4.794065502265908,3.538963454088636,3.22963413929924,3.118543331340124,3.905789370295453,2.008472873076923,3.9498079268648536,2.91627156747061,4.650914411189121,4.632750470534511,4.260103432947988,3.3466101487343236,3.1545170110308427,5.217554457301135,4.102399736354544,3.462836828177272,3.9929117384071966,5.032641228177272,4.015082973193654,3.4388723483326036,4.745144720452441,3.2846537001704537,3.3704173622659077,3.0244357342659076,2.65440135174053,3.5611034254261345,3.1733795772639843,2.386893281809763,2.8777382820886364,4.012408679875841,2.815293566308846,4.803138841888257,3.663421237365318,4.0437430504103515,4.115619533661614,3.4189831921772718,3.6500056364361275,4.146163427093531,4.269725085185185,3.3541119618882567,3.2529282307528393,3.548730643842329,3.1809789003056412,4.820766893842329,3.1633608260900665,3.6698567453693163,3.9268087866236883,3.5348237885549234,3.9104795853493255,2.9906795631398215,2.4974557451332275,2.9931927331406722,3.1037878,3.180037615555069,2.265510073293425,3.048026043002944,2.9308321337026495,4.628661559324267,3.5798117482934253,6.304269818265908,4.081636336283307,2.830043321745128,3.276907811439392,5.222267798193654,4.051306732947989,4.379941742838803,3.9605713404698424,2.4791071822659076,3.0868824853493257,4.312724555719696,3.5628147132091743,4.061756135267255,4.825464405248824,3.031237198394359,4.529206478106059,3.665281571017992,4.5024662403545435,2.9715225323545438,3.49238367522159,4.096677605517042,4.308038188177272,2.729657616150568,4.000777213045033,5.011635724443572,4.433792227859848,2.986310682947988,2.918297296460437,3.209202805401645,3.2080681413088463,2.995019927023132,2.8403294521801334,3.833813182947988,4.979708126864854,4.0187463504103516,3.213894684711989,2.5839978463783666,4.6332978594234,7.143546144444445,4.175467732987852,2.7596788463242996,4.354968169230769,3.3087283964947534,3.3429539414671248,3.2453239930154214,3.289472007571548,2.6326933964604367,3.045914773293425,2.924680543015421,4.687178372632574,4.111358934165989,4.1810384900886355,3.3641111396756624],\"yaxis\":\"y\",\"type\":\"scatter\"}],                        {\"template\":{\"data\":{\"histogram2dcontour\":[{\"type\":\"histogram2dcontour\",\"colorbar\":{\"outlinewidth\":0,\"ticks\":\"\"},\"colorscale\":[[0.0,\"#0d0887\"],[0.1111111111111111,\"#46039f\"],[0.2222222222222222,\"#7201a8\"],[0.3333333333333333,\"#9c179e\"],[0.4444444444444444,\"#bd3786\"],[0.5555555555555556,\"#d8576b\"],[0.6666666666666666,\"#ed7953\"],[0.7777777777777778,\"#fb9f3a\"],[0.8888888888888888,\"#fdca26\"],[1.0,\"#f0f921\"]]}],\"choropleth\":[{\"type\":\"choropleth\",\"colorbar\":{\"outlinewidth\":0,\"ticks\":\"\"}}],\"histogram2d\":[{\"type\":\"histogram2d\",\"colorbar\":{\"outlinewidth\":0,\"ticks\":\"\"},\"colorscale\":[[0.0,\"#0d0887\"],[0.1111111111111111,\"#46039f\"],[0.2222222222222222,\"#7201a8\"],[0.3333333333333333,\"#9c179e\"],[0.4444444444444444,\"#bd3786\"],[0.5555555555555556,\"#d8576b\"],[0.6666666666666666,\"#ed7953\"],[0.7777777777777778,\"#fb9f3a\"],[0.8888888888888888,\"#fdca26\"],[1.0,\"#f0f921\"]]}],\"heatmap\":[{\"type\":\"heatmap\",\"colorbar\":{\"outlinewidth\":0,\"ticks\":\"\"},\"colorscale\":[[0.0,\"#0d0887\"],[0.1111111111111111,\"#46039f\"],[0.2222222222222222,\"#7201a8\"],[0.3333333333333333,\"#9c179e\"],[0.4444444444444444,\"#bd3786\"],[0.5555555555555556,\"#d8576b\"],[0.6666666666666666,\"#ed7953\"],[0.7777777777777778,\"#fb9f3a\"],[0.8888888888888888,\"#fdca26\"],[1.0,\"#f0f921\"]]}],\"heatmapgl\":[{\"type\":\"heatmapgl\",\"colorbar\":{\"outlinewidth\":0,\"ticks\":\"\"},\"colorscale\":[[0.0,\"#0d0887\"],[0.1111111111111111,\"#46039f\"],[0.2222222222222222,\"#7201a8\"],[0.3333333333333333,\"#9c179e\"],[0.4444444444444444,\"#bd3786\"],[0.5555555555555556,\"#d8576b\"],[0.6666666666666666,\"#ed7953\"],[0.7777777777777778,\"#fb9f3a\"],[0.8888888888888888,\"#fdca26\"],[1.0,\"#f0f921\"]]}],\"contourcarpet\":[{\"type\":\"contourcarpet\",\"colorbar\":{\"outlinewidth\":0,\"ticks\":\"\"}}],\"contour\":[{\"type\":\"contour\",\"colorbar\":{\"outlinewidth\":0,\"ticks\":\"\"},\"colorscale\":[[0.0,\"#0d0887\"],[0.1111111111111111,\"#46039f\"],[0.2222222222222222,\"#7201a8\"],[0.3333333333333333,\"#9c179e\"],[0.4444444444444444,\"#bd3786\"],[0.5555555555555556,\"#d8576b\"],[0.6666666666666666,\"#ed7953\"],[0.7777777777777778,\"#fb9f3a\"],[0.8888888888888888,\"#fdca26\"],[1.0,\"#f0f921\"]]}],\"surface\":[{\"type\":\"surface\",\"colorbar\":{\"outlinewidth\":0,\"ticks\":\"\"},\"colorscale\":[[0.0,\"#0d0887\"],[0.1111111111111111,\"#46039f\"],[0.2222222222222222,\"#7201a8\"],[0.3333333333333333,\"#9c179e\"],[0.4444444444444444,\"#bd3786\"],[0.5555555555555556,\"#d8576b\"],[0.6666666666666666,\"#ed7953\"],[0.7777777777777778,\"#fb9f3a\"],[0.8888888888888888,\"#fdca26\"],[1.0,\"#f0f921\"]]}],\"mesh3d\":[{\"type\":\"mesh3d\",\"colorbar\":{\"outlinewidth\":0,\"ticks\":\"\"}}],\"scatter\":[{\"fillpattern\":{\"fillmode\":\"overlay\",\"size\":10,\"solidity\":0.2},\"type\":\"scatter\"}],\"parcoords\":[{\"type\":\"parcoords\",\"line\":{\"colorbar\":{\"outlinewidth\":0,\"ticks\":\"\"}}}],\"scatterpolargl\":[{\"type\":\"scatterpolargl\",\"marker\":{\"colorbar\":{\"outlinewidth\":0,\"ticks\":\"\"}}}],\"bar\":[{\"error_x\":{\"color\":\"#2a3f5f\"},\"error_y\":{\"color\":\"#2a3f5f\"},\"marker\":{\"line\":{\"color\":\"#E5ECF6\",\"width\":0.5},\"pattern\":{\"fillmode\":\"overlay\",\"size\":10,\"solidity\":0.2}},\"type\":\"bar\"}],\"scattergeo\":[{\"type\":\"scattergeo\",\"marker\":{\"colorbar\":{\"outlinewidth\":0,\"ticks\":\"\"}}}],\"scatterpolar\":[{\"type\":\"scatterpolar\",\"marker\":{\"colorbar\":{\"outlinewidth\":0,\"ticks\":\"\"}}}],\"histogram\":[{\"marker\":{\"pattern\":{\"fillmode\":\"overlay\",\"size\":10,\"solidity\":0.2}},\"type\":\"histogram\"}],\"scattergl\":[{\"type\":\"scattergl\",\"marker\":{\"colorbar\":{\"outlinewidth\":0,\"ticks\":\"\"}}}],\"scatter3d\":[{\"type\":\"scatter3d\",\"line\":{\"colorbar\":{\"outlinewidth\":0,\"ticks\":\"\"}},\"marker\":{\"colorbar\":{\"outlinewidth\":0,\"ticks\":\"\"}}}],\"scattermapbox\":[{\"type\":\"scattermapbox\",\"marker\":{\"colorbar\":{\"outlinewidth\":0,\"ticks\":\"\"}}}],\"scatterternary\":[{\"type\":\"scatterternary\",\"marker\":{\"colorbar\":{\"outlinewidth\":0,\"ticks\":\"\"}}}],\"scattercarpet\":[{\"type\":\"scattercarpet\",\"marker\":{\"colorbar\":{\"outlinewidth\":0,\"ticks\":\"\"}}}],\"carpet\":[{\"aaxis\":{\"endlinecolor\":\"#2a3f5f\",\"gridcolor\":\"white\",\"linecolor\":\"white\",\"minorgridcolor\":\"white\",\"startlinecolor\":\"#2a3f5f\"},\"baxis\":{\"endlinecolor\":\"#2a3f5f\",\"gridcolor\":\"white\",\"linecolor\":\"white\",\"minorgridcolor\":\"white\",\"startlinecolor\":\"#2a3f5f\"},\"type\":\"carpet\"}],\"table\":[{\"cells\":{\"fill\":{\"color\":\"#EBF0F8\"},\"line\":{\"color\":\"white\"}},\"header\":{\"fill\":{\"color\":\"#C8D4E3\"},\"line\":{\"color\":\"white\"}},\"type\":\"table\"}],\"barpolar\":[{\"marker\":{\"line\":{\"color\":\"#E5ECF6\",\"width\":0.5},\"pattern\":{\"fillmode\":\"overlay\",\"size\":10,\"solidity\":0.2}},\"type\":\"barpolar\"}],\"pie\":[{\"automargin\":true,\"type\":\"pie\"}]},\"layout\":{\"autotypenumbers\":\"strict\",\"colorway\":[\"#636efa\",\"#EF553B\",\"#00cc96\",\"#ab63fa\",\"#FFA15A\",\"#19d3f3\",\"#FF6692\",\"#B6E880\",\"#FF97FF\",\"#FECB52\"],\"font\":{\"color\":\"#2a3f5f\"},\"hovermode\":\"closest\",\"hoverlabel\":{\"align\":\"left\"},\"paper_bgcolor\":\"white\",\"plot_bgcolor\":\"#E5ECF6\",\"polar\":{\"bgcolor\":\"#E5ECF6\",\"angularaxis\":{\"gridcolor\":\"white\",\"linecolor\":\"white\",\"ticks\":\"\"},\"radialaxis\":{\"gridcolor\":\"white\",\"linecolor\":\"white\",\"ticks\":\"\"}},\"ternary\":{\"bgcolor\":\"#E5ECF6\",\"aaxis\":{\"gridcolor\":\"white\",\"linecolor\":\"white\",\"ticks\":\"\"},\"baxis\":{\"gridcolor\":\"white\",\"linecolor\":\"white\",\"ticks\":\"\"},\"caxis\":{\"gridcolor\":\"white\",\"linecolor\":\"white\",\"ticks\":\"\"}},\"coloraxis\":{\"colorbar\":{\"outlinewidth\":0,\"ticks\":\"\"}},\"colorscale\":{\"sequential\":[[0.0,\"#0d0887\"],[0.1111111111111111,\"#46039f\"],[0.2222222222222222,\"#7201a8\"],[0.3333333333333333,\"#9c179e\"],[0.4444444444444444,\"#bd3786\"],[0.5555555555555556,\"#d8576b\"],[0.6666666666666666,\"#ed7953\"],[0.7777777777777778,\"#fb9f3a\"],[0.8888888888888888,\"#fdca26\"],[1.0,\"#f0f921\"]],\"sequentialminus\":[[0.0,\"#0d0887\"],[0.1111111111111111,\"#46039f\"],[0.2222222222222222,\"#7201a8\"],[0.3333333333333333,\"#9c179e\"],[0.4444444444444444,\"#bd3786\"],[0.5555555555555556,\"#d8576b\"],[0.6666666666666666,\"#ed7953\"],[0.7777777777777778,\"#fb9f3a\"],[0.8888888888888888,\"#fdca26\"],[1.0,\"#f0f921\"]],\"diverging\":[[0,\"#8e0152\"],[0.1,\"#c51b7d\"],[0.2,\"#de77ae\"],[0.3,\"#f1b6da\"],[0.4,\"#fde0ef\"],[0.5,\"#f7f7f7\"],[0.6,\"#e6f5d0\"],[0.7,\"#b8e186\"],[0.8,\"#7fbc41\"],[0.9,\"#4d9221\"],[1,\"#276419\"]]},\"xaxis\":{\"gridcolor\":\"white\",\"linecolor\":\"white\",\"ticks\":\"\",\"title\":{\"standoff\":15},\"zerolinecolor\":\"white\",\"automargin\":true,\"zerolinewidth\":2},\"yaxis\":{\"gridcolor\":\"white\",\"linecolor\":\"white\",\"ticks\":\"\",\"title\":{\"standoff\":15},\"zerolinecolor\":\"white\",\"automargin\":true,\"zerolinewidth\":2},\"scene\":{\"xaxis\":{\"backgroundcolor\":\"#E5ECF6\",\"gridcolor\":\"white\",\"linecolor\":\"white\",\"showbackground\":true,\"ticks\":\"\",\"zerolinecolor\":\"white\",\"gridwidth\":2},\"yaxis\":{\"backgroundcolor\":\"#E5ECF6\",\"gridcolor\":\"white\",\"linecolor\":\"white\",\"showbackground\":true,\"ticks\":\"\",\"zerolinecolor\":\"white\",\"gridwidth\":2},\"zaxis\":{\"backgroundcolor\":\"#E5ECF6\",\"gridcolor\":\"white\",\"linecolor\":\"white\",\"showbackground\":true,\"ticks\":\"\",\"zerolinecolor\":\"white\",\"gridwidth\":2}},\"shapedefaults\":{\"line\":{\"color\":\"#2a3f5f\"}},\"annotationdefaults\":{\"arrowcolor\":\"#2a3f5f\",\"arrowhead\":0,\"arrowwidth\":1},\"geo\":{\"bgcolor\":\"white\",\"landcolor\":\"#E5ECF6\",\"subunitcolor\":\"white\",\"showland\":true,\"showlakes\":true,\"lakecolor\":\"white\"},\"title\":{\"x\":0.05},\"mapbox\":{\"style\":\"light\"}}},\"xaxis\":{\"anchor\":\"y\",\"domain\":[0.0,1.0],\"title\":{\"text\":\"Schizophrenia\"}},\"yaxis\":{\"anchor\":\"x\",\"domain\":[0.0,1.0],\"title\":{\"text\":\"Depressive\"}},\"coloraxis\":{\"colorbar\":{\"title\":{\"text\":\"Cluster\"}},\"colorscale\":[[0.0,\"#0d0887\"],[0.1111111111111111,\"#46039f\"],[0.2222222222222222,\"#7201a8\"],[0.3333333333333333,\"#9c179e\"],[0.4444444444444444,\"#bd3786\"],[0.5555555555555556,\"#d8576b\"],[0.6666666666666666,\"#ed7953\"],[0.7777777777777778,\"#fb9f3a\"],[0.8888888888888888,\"#fdca26\"],[1.0,\"#f0f921\"]]},\"legend\":{\"tracegroupgap\":0},\"title\":{\"text\":\"Schizophrenia vs Depressive\"},\"height\":600},                        {\"responsive\": true}                    ).then(function(){\n",
       "                            \n",
       "var gd = document.getElementById('9c6caf05-ff6e-4d64-8cff-d2fbab7d95a6');\n",
       "var x = new MutationObserver(function (mutations, observer) {{\n",
       "        var display = window.getComputedStyle(gd).display;\n",
       "        if (!display || display === 'none') {{\n",
       "            console.log([gd, 'removed!']);\n",
       "            Plotly.purge(gd);\n",
       "            observer.disconnect();\n",
       "        }}\n",
       "}});\n",
       "\n",
       "// Listen for the removal of the full notebook cells\n",
       "var notebookContainer = gd.closest('#notebook-container');\n",
       "if (notebookContainer) {{\n",
       "    x.observe(notebookContainer, {childList: true});\n",
       "}}\n",
       "\n",
       "// Listen for the clearing of the current output cell\n",
       "var outputEl = gd.closest('.output');\n",
       "if (outputEl) {{\n",
       "    x.observe(outputEl, {childList: true});\n",
       "}}\n",
       "\n",
       "                        })                };                });            </script>        </div>"
      ]
     },
     "metadata": {},
     "output_type": "display_data"
    },
    {
     "data": {
      "application/vnd.plotly.v1+json": {
       "config": {
        "plotlyServerURL": "https://plot.ly"
       },
       "data": [
        {
         "customdata": [
          [
           "AFG"
          ],
          [
           "AGO"
          ],
          [
           "ALB"
          ],
          [
           "AND"
          ],
          [
           "ARE"
          ],
          [
           "ARG"
          ],
          [
           "ARM"
          ],
          [
           "ASM"
          ],
          [
           "ATG"
          ],
          [
           "AUS"
          ],
          [
           "AUT"
          ],
          [
           "AZE"
          ],
          [
           "BDI"
          ],
          [
           "BEL"
          ],
          [
           "BEN"
          ],
          [
           "BFA"
          ],
          [
           "BGD"
          ],
          [
           "BGR"
          ],
          [
           "BHR"
          ],
          [
           "BHS"
          ],
          [
           "BIH"
          ],
          [
           "BLR"
          ],
          [
           "BLZ"
          ],
          [
           "BMU"
          ],
          [
           "BOL"
          ],
          [
           "BRA"
          ],
          [
           "BRB"
          ],
          [
           "BRN"
          ],
          [
           "BTN"
          ],
          [
           "BWA"
          ],
          [
           "CAF"
          ],
          [
           "CAN"
          ],
          [
           "CHE"
          ],
          [
           "CHL"
          ],
          [
           "CHN"
          ],
          [
           "CIV"
          ],
          [
           "CMR"
          ],
          [
           "COD"
          ],
          [
           "COG"
          ],
          [
           "COK"
          ],
          [
           "COL"
          ],
          [
           "COM"
          ],
          [
           "CPV"
          ],
          [
           "CRI"
          ],
          [
           "CUB"
          ],
          [
           "CYP"
          ],
          [
           "CZE"
          ],
          [
           "DEU"
          ],
          [
           "DJI"
          ],
          [
           "DMA"
          ],
          [
           "DNK"
          ],
          [
           "DOM"
          ],
          [
           "DZA"
          ],
          [
           "ECU"
          ],
          [
           "EGY"
          ],
          [
           "ERI"
          ],
          [
           "ESP"
          ],
          [
           "EST"
          ],
          [
           "ETH"
          ],
          [
           "FIN"
          ],
          [
           "FJI"
          ],
          [
           "FRA"
          ],
          [
           "FSM"
          ],
          [
           "GAB"
          ],
          [
           "GBR"
          ],
          [
           "GEO"
          ],
          [
           "GHA"
          ],
          [
           "GIN"
          ],
          [
           "GMB"
          ],
          [
           "GNB"
          ],
          [
           "GNQ"
          ],
          [
           "GRC"
          ],
          [
           "GRD"
          ],
          [
           "GRL"
          ],
          [
           "GTM"
          ],
          [
           "GUM"
          ],
          [
           "GUY"
          ],
          [
           "HND"
          ],
          [
           "HRV"
          ],
          [
           "HTI"
          ],
          [
           "HUN"
          ],
          [
           "IDN"
          ],
          [
           "IND"
          ],
          [
           "IRL"
          ],
          [
           "IRN"
          ],
          [
           "IRQ"
          ],
          [
           "ISL"
          ],
          [
           "ISR"
          ],
          [
           "ITA"
          ],
          [
           "JAM"
          ],
          [
           "JOR"
          ],
          [
           "JPN"
          ],
          [
           "KAZ"
          ],
          [
           "KEN"
          ],
          [
           "KGZ"
          ],
          [
           "KHM"
          ],
          [
           "KIR"
          ],
          [
           "KNA"
          ],
          [
           "KOR"
          ],
          [
           "KWT"
          ],
          [
           "LAO"
          ],
          [
           "LBN"
          ],
          [
           "LBR"
          ],
          [
           "LBY"
          ],
          [
           "LCA"
          ],
          [
           "LKA"
          ],
          [
           "LSO"
          ],
          [
           "LTU"
          ],
          [
           "LUX"
          ],
          [
           "LVA"
          ],
          [
           "MAR"
          ],
          [
           "MCO"
          ],
          [
           "MDA"
          ],
          [
           "MDG"
          ],
          [
           "MDV"
          ],
          [
           "MEX"
          ],
          [
           "MHL"
          ],
          [
           "MKD"
          ],
          [
           "MLI"
          ],
          [
           "MLT"
          ],
          [
           "MMR"
          ],
          [
           "MNE"
          ],
          [
           "MNG"
          ],
          [
           "MNP"
          ],
          [
           "MOZ"
          ],
          [
           "MRT"
          ],
          [
           "MUS"
          ],
          [
           "MWI"
          ],
          [
           "MYS"
          ],
          [
           "NAM"
          ],
          [
           "NER"
          ],
          [
           "NGA"
          ],
          [
           "NIC"
          ],
          [
           "NIU"
          ],
          [
           "NLD"
          ],
          [
           "NOR"
          ],
          [
           "NPL"
          ],
          [
           "NRU"
          ],
          [
           "NZL"
          ],
          [
           "OMN"
          ],
          [
           "OWID_WRL"
          ],
          [
           "PAK"
          ],
          [
           "PAN"
          ],
          [
           "PER"
          ],
          [
           "PHL"
          ],
          [
           "PLW"
          ],
          [
           "PNG"
          ],
          [
           "POL"
          ],
          [
           "PRI"
          ],
          [
           "PRK"
          ],
          [
           "PRT"
          ],
          [
           "PRY"
          ],
          [
           "PSE"
          ],
          [
           "QAT"
          ],
          [
           "ROU"
          ],
          [
           "RUS"
          ],
          [
           "RWA"
          ],
          [
           "SAU"
          ],
          [
           "SDN"
          ],
          [
           "SEN"
          ],
          [
           "SGP"
          ],
          [
           "SLB"
          ],
          [
           "SLE"
          ],
          [
           "SLV"
          ],
          [
           "SMR"
          ],
          [
           "SOM"
          ],
          [
           "SRB"
          ],
          [
           "SSD"
          ],
          [
           "STP"
          ],
          [
           "SUR"
          ],
          [
           "SVK"
          ],
          [
           "SVN"
          ],
          [
           "SWE"
          ],
          [
           "SWZ"
          ],
          [
           "SYC"
          ],
          [
           "SYR"
          ],
          [
           "TCD"
          ],
          [
           "TGO"
          ],
          [
           "THA"
          ],
          [
           "TJK"
          ],
          [
           "TKL"
          ],
          [
           "TKM"
          ],
          [
           "TLS"
          ],
          [
           "TON"
          ],
          [
           "TTO"
          ],
          [
           "TUN"
          ],
          [
           "TUR"
          ],
          [
           "TUV"
          ],
          [
           "TWN"
          ],
          [
           "TZA"
          ],
          [
           "UGA"
          ],
          [
           "UKR"
          ],
          [
           "URY"
          ],
          [
           "USA"
          ],
          [
           "UZB"
          ],
          [
           "VCT"
          ],
          [
           "VEN"
          ],
          [
           "VIR"
          ],
          [
           "VNM"
          ],
          [
           "VUT"
          ],
          [
           "WSM"
          ],
          [
           "YEM"
          ],
          [
           "ZAF"
          ],
          [
           "ZMB"
          ],
          [
           "ZWE"
          ]
         ],
         "hovertemplate": "Schizophrenia=%{x}<br>Anxiety=%{y}<br>Code=%{customdata[0]}<br>Cluster=%{marker.color}<extra></extra>",
         "legendgroup": "",
         "marker": {
          "color": [
           0,
           0,
           1,
           2,
           1,
           2,
           1,
           1,
           1,
           2,
           2,
           1,
           0,
           2,
           0,
           0,
           0,
           1,
           0,
           1,
           1,
           0,
           1,
           1,
           2,
           2,
           1,
           1,
           0,
           0,
           0,
           1,
           2,
           0,
           1,
           0,
           0,
           0,
           0,
           1,
           1,
           0,
           0,
           1,
           0,
           2,
           1,
           2,
           0,
           1,
           2,
           0,
           0,
           2,
           0,
           0,
           0,
           0,
           0,
           0,
           1,
           2,
           1,
           0,
           0,
           1,
           0,
           0,
           0,
           0,
           0,
           2,
           1,
           0,
           0,
           1,
           0,
           1,
           1,
           1,
           1,
           1,
           0,
           2,
           2,
           2,
           2,
           0,
           2,
           1,
           0,
           1,
           1,
           0,
           1,
           1,
           1,
           0,
           1,
           0,
           1,
           2,
           0,
           2,
           1,
           1,
           0,
           0,
           2,
           0,
           0,
           2,
           1,
           0,
           1,
           1,
           1,
           1,
           1,
           2,
           1,
           1,
           1,
           1,
           0,
           1,
           0,
           0,
           1,
           1,
           0,
           0,
           1,
           1,
           2,
           2,
           0,
           1,
           2,
           0,
           1,
           0,
           1,
           2,
           1,
           1,
           1,
           1,
           1,
           1,
           2,
           2,
           0,
           0,
           1,
           1,
           0,
           0,
           0,
           0,
           1,
           1,
           0,
           1,
           2,
           0,
           1,
           0,
           1,
           0,
           1,
           1,
           0,
           0,
           1,
           2,
           0,
           0,
           1,
           1,
           1,
           1,
           1,
           1,
           0,
           0,
           0,
           1,
           1,
           0,
           0,
           0,
           2,
           2,
           1,
           1,
           1,
           1,
           1,
           1,
           1,
           0,
           0,
           0,
           1
          ],
          "coloraxis": "coloraxis",
          "symbol": "circle"
         },
         "mode": "markers",
         "name": "",
         "orientation": "v",
         "showlegend": false,
         "type": "scatter",
         "x": [
          0.22324695556780333,
          0.22052188945581738,
          0.28207726832768776,
          0.2867091715995242,
          0.2805658245032455,
          0.30661608731296025,
          0.27767361041384386,
          0.30371535202825506,
          0.2857131143424153,
          0.37502654980603284,
          0.27442690103178696,
          0.27539337641389844,
          0.2079030008843888,
          0.2728814167120766,
          0.2145451759812559,
          0.21638110385493373,
          0.2766272342540206,
          0.28198756393890795,
          0.2711078162962963,
          0.28308295552724594,
          0.28273450892857144,
          0.2717090350500191,
          0.26918942813798574,
          0.29900289345093545,
          0.2637104890750089,
          0.27497182368483064,
          0.2812676582657503,
          0.30089432610232913,
          0.2843863536848306,
          0.2220602503995734,
          0.20025636974723174,
          0.28537930165537556,
          0.27813267109793816,
          0.27104244157042,
          0.2976860091553756,
          0.22188980171207656,
          0.2163889630805651,
          0.20779626396827913,
          0.2180523266612158,
          0.30989461898527243,
          0.27591473801298205,
          0.22234901374153165,
          0.2271132357195876,
          0.2823875993768614,
          0.2753859570540206,
          0.2743616251851852,
          0.2933347862149088,
          0.2605641953270103,
          0.22247526582768778,
          0.2713664403402062,
          0.23042847385402063,
          0.2709449132676857,
          0.24906831296296297,
          0.2725659112415317,
          0.2505713272250267,
          0.21558678216732752,
          0.2657203846208476,
          0.28335343332768775,
          0.21631058522680413,
          0.26415957139809676,
          0.2878561667120766,
          0.26842275627597145,
          0.27078497798281786,
          0.23313241223320297,
          0.2574322863370341,
          0.2735432917857143,
          0.22058021677070744,
          0.21563881739051546,
          0.2199651912982327,
          0.20851015732701028,
          0.22700543011340207,
          0.2725686633921344,
          0.2737395347562592,
          0.3630942415982936,
          0.26213516313798574,
          0.3213324201764032,
          0.25851379562673305,
          0.2604973893180603,
          0.29063867443917524,
          0.24475159979857256,
          0.286610132028255,
          0.2844088749918237,
          0.28093616246350517,
          0.3391991135544919,
          0.2551810928277969,
          0.24720491522680413,
          0.2755286651088201,
          0.2974329848596352,
          0.29372699874153163,
          0.2749120364726995,
          0.2544913031581941,
          0.3022178957142857,
          0.2741304083175258,
          0.22095907539051546,
          0.2632020173270103,
          0.2634032274662085,
          0.2597215494745823,
          0.27800159387835055,
          0.2941971924908802,
          0.27592942052724595,
          0.26862153045431925,
          0.2558954252835052,
          0.21197442943566247,
          0.2582785979365583,
          0.2747752818336296,
          0.2900396655272459,
          0.20995926344108984,
          0.28169890446350515,
          0.27789365905402064,
          0.2784796635450172,
          0.24259936646350513,
          0.29121244179896905,
          0.26720363583029344,
          0.21639163900649103,
          0.29834826935289455,
          0.2829413212,
          0.27301390566350514,
          0.28436892743917525,
          0.21380926166058684,
          0.27486629358366377,
          0.26426056177548685,
          0.28473266092701033,
          0.2651903934509355,
          0.315059927613402,
          0.20180888505292097,
          0.22224530604352807,
          0.29515160918289424,
          0.20557873974723176,
          0.3082041536,
          0.2238438743021685,
          0.21147376858366376,
          0.22344642122871325,
          0.26899251577250854,
          0.2937546647562592,
          0.37027578846563575,
          0.2824926228133665,
          0.2710067155489691,
          0.2811961415990836,
          0.38125951943917524,
          0.2650266962149088,
          0.2874154341058419,
          0.28032525974723177,
          0.2804268097722994,
          0.27370958992890154,
          0.28448166735087094,
          0.2983782251851852,
          0.27033782870578904,
          0.28792807689911637,
          0.2869671098648339,
          0.2670026385317869,
          0.2686416890419735,
          0.2744454046995582,
          0.24861607719999998,
          0.281687561488802,
          0.28317414436131566,
          0.27843793524398625,
          0.2109467438823024,
          0.2630424669841396,
          0.2323842622810233,
          0.22131698710626485,
          0.3132778668635051,
          0.257818923938908,
          0.2116675445620466,
          0.2659670493768614,
          0.28123458980603283,
          0.18984313000000003,
          0.28146455202825504,
          0.23308906980603283,
          0.22419032304896905,
          0.27165588172701033,
          0.28697743585402063,
          0.2950706354391752,
          0.27932293605292097,
          0.22143042179051545,
          0.3021514751701031,
          0.24921584992363496,
          0.21410276878492712,
          0.2164186420870561,
          0.28988872826011103,
          0.2642070915227186,
          0.28331125878492713,
          0.2720888943424153,
          0.2583535259977909,
          0.28831183054677356,
          0.27795143870578903,
          0.25341688827098674,
          0.24894566752500957,
          0.2721953883853537,
          0.29717480319816725,
          0.21393362752500952,
          0.21161617499121801,
          0.27119409045431925,
          0.3065582809524187,
          0.44164188467644727,
          0.2661422273687549,
          0.27067089368483066,
          0.2762463494558174,
          0.2929431782069492,
          0.3105360071546392,
          0.2709621597562592,
          0.28512297582768775,
          0.2365758576426117,
          0.2280854698129602,
          0.22326606358103093,
          0.21258696061512028
         ],
         "xaxis": "x",
         "y": [
          4.647262355815861,
          3.97392881965729,
          3.771262001829014,
          5.202231892369866,
          4.13196911484475,
          5.014971535714286,
          3.282122535772018,
          3.983165766696602,
          4.265642810772018,
          5.347868294489348,
          5.717059737533678,
          2.5894586574223752,
          3.6076249143145804,
          4.935498178600295,
          3.295265029600563,
          3.3753860501154653,
          3.18376443203233,
          3.5539402556453616,
          4.881316070400306,
          4.263899455371576,
          3.5735328803715762,
          3.5987429185783895,
          4.0863556000621735,
          4.250287894489348,
          5.5460127620968365,
          6.974027603629161,
          4.257692781511417,
          2.9179158648297827,
          3.304719537543299,
          3.6335291017938154,
          4.233236107437342,
          4.031355008943004,
          6.5518379187668385,
          4.133746108306716,
          3.38519729465729,
          3.2941192768290137,
          3.18594347037037,
          3.8398373115695486,
          3.771629432800427,
          3.992956289343447,
          4.61974333149645,
          3.516378503600295,
          3.20615496672055,
          4.091541477807713,
          4.186432358048496,
          6.420857611111111,
          3.259706430800317,
          5.962590032032331,
          3.2614496875144328,
          4.210468991114728,
          4.786280136032331,
          4.433592324165802,
          4.618660477807713,
          4.990363864343446,
          4.302461832800427,
          3.748183092369866,
          4.678324631526385,
          3.533660044715023,
          3.5011640768001473,
          3.890051352000794,
          3.9852263714863043,
          6.132490596184932,
          3.9903316375673548,
          3.9564352293521514,
          4.371210732707851,
          2.802765009000737,
          3.008682405186349,
          3.4485756800646605,
          3.3320394571717236,
          3.2373268920646603,
          3.878634571486304,
          5.580339624089042,
          4.205749491143594,
          4.710538550041806,
          4.1443011616006356,
          3.9787063704302414,
          4.308289669021259,
          3.9746838037336394,
          3.5866013333602753,
          4.445096344277399,
          3.563472009334098,
          3.5228576638349094,
          2.905314390016165,
          6.4688096714574375,
          6.617974224148912,
          5.0324577428860096,
          4.982964394489347,
          3.5644172673232357,
          5.096988837572165,
          3.972470224089042,
          4.7881316758899395,
          2.6639902286002948,
          2.198117810016165,
          3.3819089680000003,
          2.137849018016165,
          4.440266172267125,
          4.024924863807039,
          4.236547431680138,
          3.3943231346464717,
          4.296731000028866,
          4.309735898317668,
          5.8221543357720185,
          3.51272108708194,
          5.109241180800317,
          4.233295560386634,
          3.914134096457438,
          3.5262204285714285,
          4.3117313980484955,
          5.179697454048495,
          3.819228908400688,
          4.672917310016165,
          5.279830422967183,
          4.098955644308486,
          3.907716679704468,
          3.678376198123553,
          3.401306886016165,
          3.96353119203233,
          3.64882639170708,
          2.825044898123553,
          6.181288913477082,
          3.859013696296296,
          3.69813660003233,
          2.161849851881787,
          3.964961142886009,
          3.980026120026942,
          2.7273492518518516,
          3.8478221963262316,
          3.7681043240890415,
          4.529426054016165,
          3.5412143104005698,
          2.994946486585092,
          2.9912914796445977,
          4.252814358373746,
          3.9781048232575853,
          6.396156904200343,
          6.411812291448988,
          3.1504345500336774,
          3.9821784370969078,
          7.259191568346805,
          4.5986313057847745,
          3.812592586693609,
          3.4163592870520043,
          3.5651792543653973,
          5.340319525903876,
          4.469722725903875,
          3.935870898193051,
          3.955523250031087,
          3.183104417886009,
          4.324377350104774,
          3.667703966700344,
          7.367010885772018,
          6.031613567886009,
          5.415234414016165,
          4.265468681076289,
          3.340647604800393,
          3.2571247907856438,
          3.640377556300516,
          4.427043117323236,
          4.637655192622528,
          2.9790716654157023,
          2.9094199620484953,
          3.9580964574523105,
          3.6434196352001527,
          4.280812114844751,
          5.232061835260023,
          3.4791222276698197,
          3.428270164859718,
          4.780817677807714,
          3.147128604200344,
          4.09859857203233,
          3.50938918403233,
          3.497175663387217,
          4.6806974767205505,
          3.5527182760323304,
          3.753865714343447,
          5.26485557410401,
          3.31471151726925,
          3.56530294260756,
          3.433786819292943,
          2.6335952296895004,
          3.9913160052142205,
          2.359050748228719,
          3.750757971486304,
          3.996197981511417,
          3.8213522442773993,
          5.004328553571428,
          4.286480098193051,
          4.006550777628013,
          3.7349666889188247,
          3.7939879111709818,
          3.9610298426075605,
          3.2212562328282983,
          5.027458398092467,
          5.652665167323235,
          2.1031965327078512,
          4.211356514314581,
          3.8532652375432996,
          4.261723114874686,
          2.4547712519117226,
          3.9668748018290136,
          3.9451873785714286,
          4.684103085245056,
          3.8186072392857144,
          3.8775973980484952,
          3.2917869938005158
         ],
         "yaxis": "y"
        }
       ],
       "layout": {
        "coloraxis": {
         "colorbar": {
          "title": {
           "text": "Cluster"
          }
         },
         "colorscale": [
          [
           0,
           "#0d0887"
          ],
          [
           0.1111111111111111,
           "#46039f"
          ],
          [
           0.2222222222222222,
           "#7201a8"
          ],
          [
           0.3333333333333333,
           "#9c179e"
          ],
          [
           0.4444444444444444,
           "#bd3786"
          ],
          [
           0.5555555555555556,
           "#d8576b"
          ],
          [
           0.6666666666666666,
           "#ed7953"
          ],
          [
           0.7777777777777778,
           "#fb9f3a"
          ],
          [
           0.8888888888888888,
           "#fdca26"
          ],
          [
           1,
           "#f0f921"
          ]
         ]
        },
        "height": 600,
        "legend": {
         "tracegroupgap": 0
        },
        "template": {
         "data": {
          "bar": [
           {
            "error_x": {
             "color": "#2a3f5f"
            },
            "error_y": {
             "color": "#2a3f5f"
            },
            "marker": {
             "line": {
              "color": "#E5ECF6",
              "width": 0.5
             },
             "pattern": {
              "fillmode": "overlay",
              "size": 10,
              "solidity": 0.2
             }
            },
            "type": "bar"
           }
          ],
          "barpolar": [
           {
            "marker": {
             "line": {
              "color": "#E5ECF6",
              "width": 0.5
             },
             "pattern": {
              "fillmode": "overlay",
              "size": 10,
              "solidity": 0.2
             }
            },
            "type": "barpolar"
           }
          ],
          "carpet": [
           {
            "aaxis": {
             "endlinecolor": "#2a3f5f",
             "gridcolor": "white",
             "linecolor": "white",
             "minorgridcolor": "white",
             "startlinecolor": "#2a3f5f"
            },
            "baxis": {
             "endlinecolor": "#2a3f5f",
             "gridcolor": "white",
             "linecolor": "white",
             "minorgridcolor": "white",
             "startlinecolor": "#2a3f5f"
            },
            "type": "carpet"
           }
          ],
          "choropleth": [
           {
            "colorbar": {
             "outlinewidth": 0,
             "ticks": ""
            },
            "type": "choropleth"
           }
          ],
          "contour": [
           {
            "colorbar": {
             "outlinewidth": 0,
             "ticks": ""
            },
            "colorscale": [
             [
              0,
              "#0d0887"
             ],
             [
              0.1111111111111111,
              "#46039f"
             ],
             [
              0.2222222222222222,
              "#7201a8"
             ],
             [
              0.3333333333333333,
              "#9c179e"
             ],
             [
              0.4444444444444444,
              "#bd3786"
             ],
             [
              0.5555555555555556,
              "#d8576b"
             ],
             [
              0.6666666666666666,
              "#ed7953"
             ],
             [
              0.7777777777777778,
              "#fb9f3a"
             ],
             [
              0.8888888888888888,
              "#fdca26"
             ],
             [
              1,
              "#f0f921"
             ]
            ],
            "type": "contour"
           }
          ],
          "contourcarpet": [
           {
            "colorbar": {
             "outlinewidth": 0,
             "ticks": ""
            },
            "type": "contourcarpet"
           }
          ],
          "heatmap": [
           {
            "colorbar": {
             "outlinewidth": 0,
             "ticks": ""
            },
            "colorscale": [
             [
              0,
              "#0d0887"
             ],
             [
              0.1111111111111111,
              "#46039f"
             ],
             [
              0.2222222222222222,
              "#7201a8"
             ],
             [
              0.3333333333333333,
              "#9c179e"
             ],
             [
              0.4444444444444444,
              "#bd3786"
             ],
             [
              0.5555555555555556,
              "#d8576b"
             ],
             [
              0.6666666666666666,
              "#ed7953"
             ],
             [
              0.7777777777777778,
              "#fb9f3a"
             ],
             [
              0.8888888888888888,
              "#fdca26"
             ],
             [
              1,
              "#f0f921"
             ]
            ],
            "type": "heatmap"
           }
          ],
          "heatmapgl": [
           {
            "colorbar": {
             "outlinewidth": 0,
             "ticks": ""
            },
            "colorscale": [
             [
              0,
              "#0d0887"
             ],
             [
              0.1111111111111111,
              "#46039f"
             ],
             [
              0.2222222222222222,
              "#7201a8"
             ],
             [
              0.3333333333333333,
              "#9c179e"
             ],
             [
              0.4444444444444444,
              "#bd3786"
             ],
             [
              0.5555555555555556,
              "#d8576b"
             ],
             [
              0.6666666666666666,
              "#ed7953"
             ],
             [
              0.7777777777777778,
              "#fb9f3a"
             ],
             [
              0.8888888888888888,
              "#fdca26"
             ],
             [
              1,
              "#f0f921"
             ]
            ],
            "type": "heatmapgl"
           }
          ],
          "histogram": [
           {
            "marker": {
             "pattern": {
              "fillmode": "overlay",
              "size": 10,
              "solidity": 0.2
             }
            },
            "type": "histogram"
           }
          ],
          "histogram2d": [
           {
            "colorbar": {
             "outlinewidth": 0,
             "ticks": ""
            },
            "colorscale": [
             [
              0,
              "#0d0887"
             ],
             [
              0.1111111111111111,
              "#46039f"
             ],
             [
              0.2222222222222222,
              "#7201a8"
             ],
             [
              0.3333333333333333,
              "#9c179e"
             ],
             [
              0.4444444444444444,
              "#bd3786"
             ],
             [
              0.5555555555555556,
              "#d8576b"
             ],
             [
              0.6666666666666666,
              "#ed7953"
             ],
             [
              0.7777777777777778,
              "#fb9f3a"
             ],
             [
              0.8888888888888888,
              "#fdca26"
             ],
             [
              1,
              "#f0f921"
             ]
            ],
            "type": "histogram2d"
           }
          ],
          "histogram2dcontour": [
           {
            "colorbar": {
             "outlinewidth": 0,
             "ticks": ""
            },
            "colorscale": [
             [
              0,
              "#0d0887"
             ],
             [
              0.1111111111111111,
              "#46039f"
             ],
             [
              0.2222222222222222,
              "#7201a8"
             ],
             [
              0.3333333333333333,
              "#9c179e"
             ],
             [
              0.4444444444444444,
              "#bd3786"
             ],
             [
              0.5555555555555556,
              "#d8576b"
             ],
             [
              0.6666666666666666,
              "#ed7953"
             ],
             [
              0.7777777777777778,
              "#fb9f3a"
             ],
             [
              0.8888888888888888,
              "#fdca26"
             ],
             [
              1,
              "#f0f921"
             ]
            ],
            "type": "histogram2dcontour"
           }
          ],
          "mesh3d": [
           {
            "colorbar": {
             "outlinewidth": 0,
             "ticks": ""
            },
            "type": "mesh3d"
           }
          ],
          "parcoords": [
           {
            "line": {
             "colorbar": {
              "outlinewidth": 0,
              "ticks": ""
             }
            },
            "type": "parcoords"
           }
          ],
          "pie": [
           {
            "automargin": true,
            "type": "pie"
           }
          ],
          "scatter": [
           {
            "fillpattern": {
             "fillmode": "overlay",
             "size": 10,
             "solidity": 0.2
            },
            "type": "scatter"
           }
          ],
          "scatter3d": [
           {
            "line": {
             "colorbar": {
              "outlinewidth": 0,
              "ticks": ""
             }
            },
            "marker": {
             "colorbar": {
              "outlinewidth": 0,
              "ticks": ""
             }
            },
            "type": "scatter3d"
           }
          ],
          "scattercarpet": [
           {
            "marker": {
             "colorbar": {
              "outlinewidth": 0,
              "ticks": ""
             }
            },
            "type": "scattercarpet"
           }
          ],
          "scattergeo": [
           {
            "marker": {
             "colorbar": {
              "outlinewidth": 0,
              "ticks": ""
             }
            },
            "type": "scattergeo"
           }
          ],
          "scattergl": [
           {
            "marker": {
             "colorbar": {
              "outlinewidth": 0,
              "ticks": ""
             }
            },
            "type": "scattergl"
           }
          ],
          "scattermapbox": [
           {
            "marker": {
             "colorbar": {
              "outlinewidth": 0,
              "ticks": ""
             }
            },
            "type": "scattermapbox"
           }
          ],
          "scatterpolar": [
           {
            "marker": {
             "colorbar": {
              "outlinewidth": 0,
              "ticks": ""
             }
            },
            "type": "scatterpolar"
           }
          ],
          "scatterpolargl": [
           {
            "marker": {
             "colorbar": {
              "outlinewidth": 0,
              "ticks": ""
             }
            },
            "type": "scatterpolargl"
           }
          ],
          "scatterternary": [
           {
            "marker": {
             "colorbar": {
              "outlinewidth": 0,
              "ticks": ""
             }
            },
            "type": "scatterternary"
           }
          ],
          "surface": [
           {
            "colorbar": {
             "outlinewidth": 0,
             "ticks": ""
            },
            "colorscale": [
             [
              0,
              "#0d0887"
             ],
             [
              0.1111111111111111,
              "#46039f"
             ],
             [
              0.2222222222222222,
              "#7201a8"
             ],
             [
              0.3333333333333333,
              "#9c179e"
             ],
             [
              0.4444444444444444,
              "#bd3786"
             ],
             [
              0.5555555555555556,
              "#d8576b"
             ],
             [
              0.6666666666666666,
              "#ed7953"
             ],
             [
              0.7777777777777778,
              "#fb9f3a"
             ],
             [
              0.8888888888888888,
              "#fdca26"
             ],
             [
              1,
              "#f0f921"
             ]
            ],
            "type": "surface"
           }
          ],
          "table": [
           {
            "cells": {
             "fill": {
              "color": "#EBF0F8"
             },
             "line": {
              "color": "white"
             }
            },
            "header": {
             "fill": {
              "color": "#C8D4E3"
             },
             "line": {
              "color": "white"
             }
            },
            "type": "table"
           }
          ]
         },
         "layout": {
          "annotationdefaults": {
           "arrowcolor": "#2a3f5f",
           "arrowhead": 0,
           "arrowwidth": 1
          },
          "autotypenumbers": "strict",
          "coloraxis": {
           "colorbar": {
            "outlinewidth": 0,
            "ticks": ""
           }
          },
          "colorscale": {
           "diverging": [
            [
             0,
             "#8e0152"
            ],
            [
             0.1,
             "#c51b7d"
            ],
            [
             0.2,
             "#de77ae"
            ],
            [
             0.3,
             "#f1b6da"
            ],
            [
             0.4,
             "#fde0ef"
            ],
            [
             0.5,
             "#f7f7f7"
            ],
            [
             0.6,
             "#e6f5d0"
            ],
            [
             0.7,
             "#b8e186"
            ],
            [
             0.8,
             "#7fbc41"
            ],
            [
             0.9,
             "#4d9221"
            ],
            [
             1,
             "#276419"
            ]
           ],
           "sequential": [
            [
             0,
             "#0d0887"
            ],
            [
             0.1111111111111111,
             "#46039f"
            ],
            [
             0.2222222222222222,
             "#7201a8"
            ],
            [
             0.3333333333333333,
             "#9c179e"
            ],
            [
             0.4444444444444444,
             "#bd3786"
            ],
            [
             0.5555555555555556,
             "#d8576b"
            ],
            [
             0.6666666666666666,
             "#ed7953"
            ],
            [
             0.7777777777777778,
             "#fb9f3a"
            ],
            [
             0.8888888888888888,
             "#fdca26"
            ],
            [
             1,
             "#f0f921"
            ]
           ],
           "sequentialminus": [
            [
             0,
             "#0d0887"
            ],
            [
             0.1111111111111111,
             "#46039f"
            ],
            [
             0.2222222222222222,
             "#7201a8"
            ],
            [
             0.3333333333333333,
             "#9c179e"
            ],
            [
             0.4444444444444444,
             "#bd3786"
            ],
            [
             0.5555555555555556,
             "#d8576b"
            ],
            [
             0.6666666666666666,
             "#ed7953"
            ],
            [
             0.7777777777777778,
             "#fb9f3a"
            ],
            [
             0.8888888888888888,
             "#fdca26"
            ],
            [
             1,
             "#f0f921"
            ]
           ]
          },
          "colorway": [
           "#636efa",
           "#EF553B",
           "#00cc96",
           "#ab63fa",
           "#FFA15A",
           "#19d3f3",
           "#FF6692",
           "#B6E880",
           "#FF97FF",
           "#FECB52"
          ],
          "font": {
           "color": "#2a3f5f"
          },
          "geo": {
           "bgcolor": "white",
           "lakecolor": "white",
           "landcolor": "#E5ECF6",
           "showlakes": true,
           "showland": true,
           "subunitcolor": "white"
          },
          "hoverlabel": {
           "align": "left"
          },
          "hovermode": "closest",
          "mapbox": {
           "style": "light"
          },
          "paper_bgcolor": "white",
          "plot_bgcolor": "#E5ECF6",
          "polar": {
           "angularaxis": {
            "gridcolor": "white",
            "linecolor": "white",
            "ticks": ""
           },
           "bgcolor": "#E5ECF6",
           "radialaxis": {
            "gridcolor": "white",
            "linecolor": "white",
            "ticks": ""
           }
          },
          "scene": {
           "xaxis": {
            "backgroundcolor": "#E5ECF6",
            "gridcolor": "white",
            "gridwidth": 2,
            "linecolor": "white",
            "showbackground": true,
            "ticks": "",
            "zerolinecolor": "white"
           },
           "yaxis": {
            "backgroundcolor": "#E5ECF6",
            "gridcolor": "white",
            "gridwidth": 2,
            "linecolor": "white",
            "showbackground": true,
            "ticks": "",
            "zerolinecolor": "white"
           },
           "zaxis": {
            "backgroundcolor": "#E5ECF6",
            "gridcolor": "white",
            "gridwidth": 2,
            "linecolor": "white",
            "showbackground": true,
            "ticks": "",
            "zerolinecolor": "white"
           }
          },
          "shapedefaults": {
           "line": {
            "color": "#2a3f5f"
           }
          },
          "ternary": {
           "aaxis": {
            "gridcolor": "white",
            "linecolor": "white",
            "ticks": ""
           },
           "baxis": {
            "gridcolor": "white",
            "linecolor": "white",
            "ticks": ""
           },
           "bgcolor": "#E5ECF6",
           "caxis": {
            "gridcolor": "white",
            "linecolor": "white",
            "ticks": ""
           }
          },
          "title": {
           "x": 0.05
          },
          "xaxis": {
           "automargin": true,
           "gridcolor": "white",
           "linecolor": "white",
           "ticks": "",
           "title": {
            "standoff": 15
           },
           "zerolinecolor": "white",
           "zerolinewidth": 2
          },
          "yaxis": {
           "automargin": true,
           "gridcolor": "white",
           "linecolor": "white",
           "ticks": "",
           "title": {
            "standoff": 15
           },
           "zerolinecolor": "white",
           "zerolinewidth": 2
          }
         }
        },
        "title": {
         "text": "Schizophrenia vs Anxiety"
        },
        "xaxis": {
         "anchor": "y",
         "domain": [
          0,
          1
         ],
         "title": {
          "text": "Schizophrenia"
         }
        },
        "yaxis": {
         "anchor": "x",
         "domain": [
          0,
          1
         ],
         "title": {
          "text": "Anxiety"
         }
        }
       }
      },
      "text/html": [
       "<div>                            <div id=\"e6f409fb-fd90-461b-b6ce-b4fbff26cd83\" class=\"plotly-graph-div\" style=\"height:600px; width:100%;\"></div>            <script type=\"text/javascript\">                require([\"plotly\"], function(Plotly) {                    window.PLOTLYENV=window.PLOTLYENV || {};                                    if (document.getElementById(\"e6f409fb-fd90-461b-b6ce-b4fbff26cd83\")) {                    Plotly.newPlot(                        \"e6f409fb-fd90-461b-b6ce-b4fbff26cd83\",                        [{\"customdata\":[[\"AFG\"],[\"AGO\"],[\"ALB\"],[\"AND\"],[\"ARE\"],[\"ARG\"],[\"ARM\"],[\"ASM\"],[\"ATG\"],[\"AUS\"],[\"AUT\"],[\"AZE\"],[\"BDI\"],[\"BEL\"],[\"BEN\"],[\"BFA\"],[\"BGD\"],[\"BGR\"],[\"BHR\"],[\"BHS\"],[\"BIH\"],[\"BLR\"],[\"BLZ\"],[\"BMU\"],[\"BOL\"],[\"BRA\"],[\"BRB\"],[\"BRN\"],[\"BTN\"],[\"BWA\"],[\"CAF\"],[\"CAN\"],[\"CHE\"],[\"CHL\"],[\"CHN\"],[\"CIV\"],[\"CMR\"],[\"COD\"],[\"COG\"],[\"COK\"],[\"COL\"],[\"COM\"],[\"CPV\"],[\"CRI\"],[\"CUB\"],[\"CYP\"],[\"CZE\"],[\"DEU\"],[\"DJI\"],[\"DMA\"],[\"DNK\"],[\"DOM\"],[\"DZA\"],[\"ECU\"],[\"EGY\"],[\"ERI\"],[\"ESP\"],[\"EST\"],[\"ETH\"],[\"FIN\"],[\"FJI\"],[\"FRA\"],[\"FSM\"],[\"GAB\"],[\"GBR\"],[\"GEO\"],[\"GHA\"],[\"GIN\"],[\"GMB\"],[\"GNB\"],[\"GNQ\"],[\"GRC\"],[\"GRD\"],[\"GRL\"],[\"GTM\"],[\"GUM\"],[\"GUY\"],[\"HND\"],[\"HRV\"],[\"HTI\"],[\"HUN\"],[\"IDN\"],[\"IND\"],[\"IRL\"],[\"IRN\"],[\"IRQ\"],[\"ISL\"],[\"ISR\"],[\"ITA\"],[\"JAM\"],[\"JOR\"],[\"JPN\"],[\"KAZ\"],[\"KEN\"],[\"KGZ\"],[\"KHM\"],[\"KIR\"],[\"KNA\"],[\"KOR\"],[\"KWT\"],[\"LAO\"],[\"LBN\"],[\"LBR\"],[\"LBY\"],[\"LCA\"],[\"LKA\"],[\"LSO\"],[\"LTU\"],[\"LUX\"],[\"LVA\"],[\"MAR\"],[\"MCO\"],[\"MDA\"],[\"MDG\"],[\"MDV\"],[\"MEX\"],[\"MHL\"],[\"MKD\"],[\"MLI\"],[\"MLT\"],[\"MMR\"],[\"MNE\"],[\"MNG\"],[\"MNP\"],[\"MOZ\"],[\"MRT\"],[\"MUS\"],[\"MWI\"],[\"MYS\"],[\"NAM\"],[\"NER\"],[\"NGA\"],[\"NIC\"],[\"NIU\"],[\"NLD\"],[\"NOR\"],[\"NPL\"],[\"NRU\"],[\"NZL\"],[\"OMN\"],[\"OWID_WRL\"],[\"PAK\"],[\"PAN\"],[\"PER\"],[\"PHL\"],[\"PLW\"],[\"PNG\"],[\"POL\"],[\"PRI\"],[\"PRK\"],[\"PRT\"],[\"PRY\"],[\"PSE\"],[\"QAT\"],[\"ROU\"],[\"RUS\"],[\"RWA\"],[\"SAU\"],[\"SDN\"],[\"SEN\"],[\"SGP\"],[\"SLB\"],[\"SLE\"],[\"SLV\"],[\"SMR\"],[\"SOM\"],[\"SRB\"],[\"SSD\"],[\"STP\"],[\"SUR\"],[\"SVK\"],[\"SVN\"],[\"SWE\"],[\"SWZ\"],[\"SYC\"],[\"SYR\"],[\"TCD\"],[\"TGO\"],[\"THA\"],[\"TJK\"],[\"TKL\"],[\"TKM\"],[\"TLS\"],[\"TON\"],[\"TTO\"],[\"TUN\"],[\"TUR\"],[\"TUV\"],[\"TWN\"],[\"TZA\"],[\"UGA\"],[\"UKR\"],[\"URY\"],[\"USA\"],[\"UZB\"],[\"VCT\"],[\"VEN\"],[\"VIR\"],[\"VNM\"],[\"VUT\"],[\"WSM\"],[\"YEM\"],[\"ZAF\"],[\"ZMB\"],[\"ZWE\"]],\"hovertemplate\":\"Schizophrenia=%{x}<br>Anxiety=%{y}<br>Code=%{customdata[0]}<br>Cluster=%{marker.color}<extra></extra>\",\"legendgroup\":\"\",\"marker\":{\"color\":[0,0,1,2,1,2,1,1,1,2,2,1,0,2,0,0,0,1,0,1,1,0,1,1,2,2,1,1,0,0,0,1,2,0,1,0,0,0,0,1,1,0,0,1,0,2,1,2,0,1,2,0,0,2,0,0,0,0,0,0,1,2,1,0,0,1,0,0,0,0,0,2,1,0,0,1,0,1,1,1,1,1,0,2,2,2,2,0,2,1,0,1,1,0,1,1,1,0,1,0,1,2,0,2,1,1,0,0,2,0,0,2,1,0,1,1,1,1,1,2,1,1,1,1,0,1,0,0,1,1,0,0,1,1,2,2,0,1,2,0,1,0,1,2,1,1,1,1,1,1,2,2,0,0,1,1,0,0,0,0,1,1,0,1,2,0,1,0,1,0,1,1,0,0,1,2,0,0,1,1,1,1,1,1,0,0,0,1,1,0,0,0,2,2,1,1,1,1,1,1,1,0,0,0,1],\"coloraxis\":\"coloraxis\",\"symbol\":\"circle\"},\"mode\":\"markers\",\"name\":\"\",\"orientation\":\"v\",\"showlegend\":false,\"x\":[0.22324695556780333,0.22052188945581738,0.28207726832768776,0.2867091715995242,0.2805658245032455,0.30661608731296025,0.27767361041384386,0.30371535202825506,0.2857131143424153,0.37502654980603284,0.27442690103178696,0.27539337641389844,0.2079030008843888,0.2728814167120766,0.2145451759812559,0.21638110385493373,0.2766272342540206,0.28198756393890795,0.2711078162962963,0.28308295552724594,0.28273450892857144,0.2717090350500191,0.26918942813798574,0.29900289345093545,0.2637104890750089,0.27497182368483064,0.2812676582657503,0.30089432610232913,0.2843863536848306,0.2220602503995734,0.20025636974723174,0.28537930165537556,0.27813267109793816,0.27104244157042,0.2976860091553756,0.22188980171207656,0.2163889630805651,0.20779626396827913,0.2180523266612158,0.30989461898527243,0.27591473801298205,0.22234901374153165,0.2271132357195876,0.2823875993768614,0.2753859570540206,0.2743616251851852,0.2933347862149088,0.2605641953270103,0.22247526582768778,0.2713664403402062,0.23042847385402063,0.2709449132676857,0.24906831296296297,0.2725659112415317,0.2505713272250267,0.21558678216732752,0.2657203846208476,0.28335343332768775,0.21631058522680413,0.26415957139809676,0.2878561667120766,0.26842275627597145,0.27078497798281786,0.23313241223320297,0.2574322863370341,0.2735432917857143,0.22058021677070744,0.21563881739051546,0.2199651912982327,0.20851015732701028,0.22700543011340207,0.2725686633921344,0.2737395347562592,0.3630942415982936,0.26213516313798574,0.3213324201764032,0.25851379562673305,0.2604973893180603,0.29063867443917524,0.24475159979857256,0.286610132028255,0.2844088749918237,0.28093616246350517,0.3391991135544919,0.2551810928277969,0.24720491522680413,0.2755286651088201,0.2974329848596352,0.29372699874153163,0.2749120364726995,0.2544913031581941,0.3022178957142857,0.2741304083175258,0.22095907539051546,0.2632020173270103,0.2634032274662085,0.2597215494745823,0.27800159387835055,0.2941971924908802,0.27592942052724595,0.26862153045431925,0.2558954252835052,0.21197442943566247,0.2582785979365583,0.2747752818336296,0.2900396655272459,0.20995926344108984,0.28169890446350515,0.27789365905402064,0.2784796635450172,0.24259936646350513,0.29121244179896905,0.26720363583029344,0.21639163900649103,0.29834826935289455,0.2829413212,0.27301390566350514,0.28436892743917525,0.21380926166058684,0.27486629358366377,0.26426056177548685,0.28473266092701033,0.2651903934509355,0.315059927613402,0.20180888505292097,0.22224530604352807,0.29515160918289424,0.20557873974723176,0.3082041536,0.2238438743021685,0.21147376858366376,0.22344642122871325,0.26899251577250854,0.2937546647562592,0.37027578846563575,0.2824926228133665,0.2710067155489691,0.2811961415990836,0.38125951943917524,0.2650266962149088,0.2874154341058419,0.28032525974723177,0.2804268097722994,0.27370958992890154,0.28448166735087094,0.2983782251851852,0.27033782870578904,0.28792807689911637,0.2869671098648339,0.2670026385317869,0.2686416890419735,0.2744454046995582,0.24861607719999998,0.281687561488802,0.28317414436131566,0.27843793524398625,0.2109467438823024,0.2630424669841396,0.2323842622810233,0.22131698710626485,0.3132778668635051,0.257818923938908,0.2116675445620466,0.2659670493768614,0.28123458980603283,0.18984313000000003,0.28146455202825504,0.23308906980603283,0.22419032304896905,0.27165588172701033,0.28697743585402063,0.2950706354391752,0.27932293605292097,0.22143042179051545,0.3021514751701031,0.24921584992363496,0.21410276878492712,0.2164186420870561,0.28988872826011103,0.2642070915227186,0.28331125878492713,0.2720888943424153,0.2583535259977909,0.28831183054677356,0.27795143870578903,0.25341688827098674,0.24894566752500957,0.2721953883853537,0.29717480319816725,0.21393362752500952,0.21161617499121801,0.27119409045431925,0.3065582809524187,0.44164188467644727,0.2661422273687549,0.27067089368483066,0.2762463494558174,0.2929431782069492,0.3105360071546392,0.2709621597562592,0.28512297582768775,0.2365758576426117,0.2280854698129602,0.22326606358103093,0.21258696061512028],\"xaxis\":\"x\",\"y\":[4.647262355815861,3.97392881965729,3.771262001829014,5.202231892369866,4.13196911484475,5.014971535714286,3.282122535772018,3.983165766696602,4.265642810772018,5.347868294489348,5.717059737533678,2.5894586574223752,3.6076249143145804,4.935498178600295,3.295265029600563,3.3753860501154653,3.18376443203233,3.5539402556453616,4.881316070400306,4.263899455371576,3.5735328803715762,3.5987429185783895,4.0863556000621735,4.250287894489348,5.5460127620968365,6.974027603629161,4.257692781511417,2.9179158648297827,3.304719537543299,3.6335291017938154,4.233236107437342,4.031355008943004,6.5518379187668385,4.133746108306716,3.38519729465729,3.2941192768290137,3.18594347037037,3.8398373115695486,3.771629432800427,3.992956289343447,4.61974333149645,3.516378503600295,3.20615496672055,4.091541477807713,4.186432358048496,6.420857611111111,3.259706430800317,5.962590032032331,3.2614496875144328,4.210468991114728,4.786280136032331,4.433592324165802,4.618660477807713,4.990363864343446,4.302461832800427,3.748183092369866,4.678324631526385,3.533660044715023,3.5011640768001473,3.890051352000794,3.9852263714863043,6.132490596184932,3.9903316375673548,3.9564352293521514,4.371210732707851,2.802765009000737,3.008682405186349,3.4485756800646605,3.3320394571717236,3.2373268920646603,3.878634571486304,5.580339624089042,4.205749491143594,4.710538550041806,4.1443011616006356,3.9787063704302414,4.308289669021259,3.9746838037336394,3.5866013333602753,4.445096344277399,3.563472009334098,3.5228576638349094,2.905314390016165,6.4688096714574375,6.617974224148912,5.0324577428860096,4.982964394489347,3.5644172673232357,5.096988837572165,3.972470224089042,4.7881316758899395,2.6639902286002948,2.198117810016165,3.3819089680000003,2.137849018016165,4.440266172267125,4.024924863807039,4.236547431680138,3.3943231346464717,4.296731000028866,4.309735898317668,5.8221543357720185,3.51272108708194,5.109241180800317,4.233295560386634,3.914134096457438,3.5262204285714285,4.3117313980484955,5.179697454048495,3.819228908400688,4.672917310016165,5.279830422967183,4.098955644308486,3.907716679704468,3.678376198123553,3.401306886016165,3.96353119203233,3.64882639170708,2.825044898123553,6.181288913477082,3.859013696296296,3.69813660003233,2.161849851881787,3.964961142886009,3.980026120026942,2.7273492518518516,3.8478221963262316,3.7681043240890415,4.529426054016165,3.5412143104005698,2.994946486585092,2.9912914796445977,4.252814358373746,3.9781048232575853,6.396156904200343,6.411812291448988,3.1504345500336774,3.9821784370969078,7.259191568346805,4.5986313057847745,3.812592586693609,3.4163592870520043,3.5651792543653973,5.340319525903876,4.469722725903875,3.935870898193051,3.955523250031087,3.183104417886009,4.324377350104774,3.667703966700344,7.367010885772018,6.031613567886009,5.415234414016165,4.265468681076289,3.340647604800393,3.2571247907856438,3.640377556300516,4.427043117323236,4.637655192622528,2.9790716654157023,2.9094199620484953,3.9580964574523105,3.6434196352001527,4.280812114844751,5.232061835260023,3.4791222276698197,3.428270164859718,4.780817677807714,3.147128604200344,4.09859857203233,3.50938918403233,3.497175663387217,4.6806974767205505,3.5527182760323304,3.753865714343447,5.26485557410401,3.31471151726925,3.56530294260756,3.433786819292943,2.6335952296895004,3.9913160052142205,2.359050748228719,3.750757971486304,3.996197981511417,3.8213522442773993,5.004328553571428,4.286480098193051,4.006550777628013,3.7349666889188247,3.7939879111709818,3.9610298426075605,3.2212562328282983,5.027458398092467,5.652665167323235,2.1031965327078512,4.211356514314581,3.8532652375432996,4.261723114874686,2.4547712519117226,3.9668748018290136,3.9451873785714286,4.684103085245056,3.8186072392857144,3.8775973980484952,3.2917869938005158],\"yaxis\":\"y\",\"type\":\"scatter\"}],                        {\"template\":{\"data\":{\"histogram2dcontour\":[{\"type\":\"histogram2dcontour\",\"colorbar\":{\"outlinewidth\":0,\"ticks\":\"\"},\"colorscale\":[[0.0,\"#0d0887\"],[0.1111111111111111,\"#46039f\"],[0.2222222222222222,\"#7201a8\"],[0.3333333333333333,\"#9c179e\"],[0.4444444444444444,\"#bd3786\"],[0.5555555555555556,\"#d8576b\"],[0.6666666666666666,\"#ed7953\"],[0.7777777777777778,\"#fb9f3a\"],[0.8888888888888888,\"#fdca26\"],[1.0,\"#f0f921\"]]}],\"choropleth\":[{\"type\":\"choropleth\",\"colorbar\":{\"outlinewidth\":0,\"ticks\":\"\"}}],\"histogram2d\":[{\"type\":\"histogram2d\",\"colorbar\":{\"outlinewidth\":0,\"ticks\":\"\"},\"colorscale\":[[0.0,\"#0d0887\"],[0.1111111111111111,\"#46039f\"],[0.2222222222222222,\"#7201a8\"],[0.3333333333333333,\"#9c179e\"],[0.4444444444444444,\"#bd3786\"],[0.5555555555555556,\"#d8576b\"],[0.6666666666666666,\"#ed7953\"],[0.7777777777777778,\"#fb9f3a\"],[0.8888888888888888,\"#fdca26\"],[1.0,\"#f0f921\"]]}],\"heatmap\":[{\"type\":\"heatmap\",\"colorbar\":{\"outlinewidth\":0,\"ticks\":\"\"},\"colorscale\":[[0.0,\"#0d0887\"],[0.1111111111111111,\"#46039f\"],[0.2222222222222222,\"#7201a8\"],[0.3333333333333333,\"#9c179e\"],[0.4444444444444444,\"#bd3786\"],[0.5555555555555556,\"#d8576b\"],[0.6666666666666666,\"#ed7953\"],[0.7777777777777778,\"#fb9f3a\"],[0.8888888888888888,\"#fdca26\"],[1.0,\"#f0f921\"]]}],\"heatmapgl\":[{\"type\":\"heatmapgl\",\"colorbar\":{\"outlinewidth\":0,\"ticks\":\"\"},\"colorscale\":[[0.0,\"#0d0887\"],[0.1111111111111111,\"#46039f\"],[0.2222222222222222,\"#7201a8\"],[0.3333333333333333,\"#9c179e\"],[0.4444444444444444,\"#bd3786\"],[0.5555555555555556,\"#d8576b\"],[0.6666666666666666,\"#ed7953\"],[0.7777777777777778,\"#fb9f3a\"],[0.8888888888888888,\"#fdca26\"],[1.0,\"#f0f921\"]]}],\"contourcarpet\":[{\"type\":\"contourcarpet\",\"colorbar\":{\"outlinewidth\":0,\"ticks\":\"\"}}],\"contour\":[{\"type\":\"contour\",\"colorbar\":{\"outlinewidth\":0,\"ticks\":\"\"},\"colorscale\":[[0.0,\"#0d0887\"],[0.1111111111111111,\"#46039f\"],[0.2222222222222222,\"#7201a8\"],[0.3333333333333333,\"#9c179e\"],[0.4444444444444444,\"#bd3786\"],[0.5555555555555556,\"#d8576b\"],[0.6666666666666666,\"#ed7953\"],[0.7777777777777778,\"#fb9f3a\"],[0.8888888888888888,\"#fdca26\"],[1.0,\"#f0f921\"]]}],\"surface\":[{\"type\":\"surface\",\"colorbar\":{\"outlinewidth\":0,\"ticks\":\"\"},\"colorscale\":[[0.0,\"#0d0887\"],[0.1111111111111111,\"#46039f\"],[0.2222222222222222,\"#7201a8\"],[0.3333333333333333,\"#9c179e\"],[0.4444444444444444,\"#bd3786\"],[0.5555555555555556,\"#d8576b\"],[0.6666666666666666,\"#ed7953\"],[0.7777777777777778,\"#fb9f3a\"],[0.8888888888888888,\"#fdca26\"],[1.0,\"#f0f921\"]]}],\"mesh3d\":[{\"type\":\"mesh3d\",\"colorbar\":{\"outlinewidth\":0,\"ticks\":\"\"}}],\"scatter\":[{\"fillpattern\":{\"fillmode\":\"overlay\",\"size\":10,\"solidity\":0.2},\"type\":\"scatter\"}],\"parcoords\":[{\"type\":\"parcoords\",\"line\":{\"colorbar\":{\"outlinewidth\":0,\"ticks\":\"\"}}}],\"scatterpolargl\":[{\"type\":\"scatterpolargl\",\"marker\":{\"colorbar\":{\"outlinewidth\":0,\"ticks\":\"\"}}}],\"bar\":[{\"error_x\":{\"color\":\"#2a3f5f\"},\"error_y\":{\"color\":\"#2a3f5f\"},\"marker\":{\"line\":{\"color\":\"#E5ECF6\",\"width\":0.5},\"pattern\":{\"fillmode\":\"overlay\",\"size\":10,\"solidity\":0.2}},\"type\":\"bar\"}],\"scattergeo\":[{\"type\":\"scattergeo\",\"marker\":{\"colorbar\":{\"outlinewidth\":0,\"ticks\":\"\"}}}],\"scatterpolar\":[{\"type\":\"scatterpolar\",\"marker\":{\"colorbar\":{\"outlinewidth\":0,\"ticks\":\"\"}}}],\"histogram\":[{\"marker\":{\"pattern\":{\"fillmode\":\"overlay\",\"size\":10,\"solidity\":0.2}},\"type\":\"histogram\"}],\"scattergl\":[{\"type\":\"scattergl\",\"marker\":{\"colorbar\":{\"outlinewidth\":0,\"ticks\":\"\"}}}],\"scatter3d\":[{\"type\":\"scatter3d\",\"line\":{\"colorbar\":{\"outlinewidth\":0,\"ticks\":\"\"}},\"marker\":{\"colorbar\":{\"outlinewidth\":0,\"ticks\":\"\"}}}],\"scattermapbox\":[{\"type\":\"scattermapbox\",\"marker\":{\"colorbar\":{\"outlinewidth\":0,\"ticks\":\"\"}}}],\"scatterternary\":[{\"type\":\"scatterternary\",\"marker\":{\"colorbar\":{\"outlinewidth\":0,\"ticks\":\"\"}}}],\"scattercarpet\":[{\"type\":\"scattercarpet\",\"marker\":{\"colorbar\":{\"outlinewidth\":0,\"ticks\":\"\"}}}],\"carpet\":[{\"aaxis\":{\"endlinecolor\":\"#2a3f5f\",\"gridcolor\":\"white\",\"linecolor\":\"white\",\"minorgridcolor\":\"white\",\"startlinecolor\":\"#2a3f5f\"},\"baxis\":{\"endlinecolor\":\"#2a3f5f\",\"gridcolor\":\"white\",\"linecolor\":\"white\",\"minorgridcolor\":\"white\",\"startlinecolor\":\"#2a3f5f\"},\"type\":\"carpet\"}],\"table\":[{\"cells\":{\"fill\":{\"color\":\"#EBF0F8\"},\"line\":{\"color\":\"white\"}},\"header\":{\"fill\":{\"color\":\"#C8D4E3\"},\"line\":{\"color\":\"white\"}},\"type\":\"table\"}],\"barpolar\":[{\"marker\":{\"line\":{\"color\":\"#E5ECF6\",\"width\":0.5},\"pattern\":{\"fillmode\":\"overlay\",\"size\":10,\"solidity\":0.2}},\"type\":\"barpolar\"}],\"pie\":[{\"automargin\":true,\"type\":\"pie\"}]},\"layout\":{\"autotypenumbers\":\"strict\",\"colorway\":[\"#636efa\",\"#EF553B\",\"#00cc96\",\"#ab63fa\",\"#FFA15A\",\"#19d3f3\",\"#FF6692\",\"#B6E880\",\"#FF97FF\",\"#FECB52\"],\"font\":{\"color\":\"#2a3f5f\"},\"hovermode\":\"closest\",\"hoverlabel\":{\"align\":\"left\"},\"paper_bgcolor\":\"white\",\"plot_bgcolor\":\"#E5ECF6\",\"polar\":{\"bgcolor\":\"#E5ECF6\",\"angularaxis\":{\"gridcolor\":\"white\",\"linecolor\":\"white\",\"ticks\":\"\"},\"radialaxis\":{\"gridcolor\":\"white\",\"linecolor\":\"white\",\"ticks\":\"\"}},\"ternary\":{\"bgcolor\":\"#E5ECF6\",\"aaxis\":{\"gridcolor\":\"white\",\"linecolor\":\"white\",\"ticks\":\"\"},\"baxis\":{\"gridcolor\":\"white\",\"linecolor\":\"white\",\"ticks\":\"\"},\"caxis\":{\"gridcolor\":\"white\",\"linecolor\":\"white\",\"ticks\":\"\"}},\"coloraxis\":{\"colorbar\":{\"outlinewidth\":0,\"ticks\":\"\"}},\"colorscale\":{\"sequential\":[[0.0,\"#0d0887\"],[0.1111111111111111,\"#46039f\"],[0.2222222222222222,\"#7201a8\"],[0.3333333333333333,\"#9c179e\"],[0.4444444444444444,\"#bd3786\"],[0.5555555555555556,\"#d8576b\"],[0.6666666666666666,\"#ed7953\"],[0.7777777777777778,\"#fb9f3a\"],[0.8888888888888888,\"#fdca26\"],[1.0,\"#f0f921\"]],\"sequentialminus\":[[0.0,\"#0d0887\"],[0.1111111111111111,\"#46039f\"],[0.2222222222222222,\"#7201a8\"],[0.3333333333333333,\"#9c179e\"],[0.4444444444444444,\"#bd3786\"],[0.5555555555555556,\"#d8576b\"],[0.6666666666666666,\"#ed7953\"],[0.7777777777777778,\"#fb9f3a\"],[0.8888888888888888,\"#fdca26\"],[1.0,\"#f0f921\"]],\"diverging\":[[0,\"#8e0152\"],[0.1,\"#c51b7d\"],[0.2,\"#de77ae\"],[0.3,\"#f1b6da\"],[0.4,\"#fde0ef\"],[0.5,\"#f7f7f7\"],[0.6,\"#e6f5d0\"],[0.7,\"#b8e186\"],[0.8,\"#7fbc41\"],[0.9,\"#4d9221\"],[1,\"#276419\"]]},\"xaxis\":{\"gridcolor\":\"white\",\"linecolor\":\"white\",\"ticks\":\"\",\"title\":{\"standoff\":15},\"zerolinecolor\":\"white\",\"automargin\":true,\"zerolinewidth\":2},\"yaxis\":{\"gridcolor\":\"white\",\"linecolor\":\"white\",\"ticks\":\"\",\"title\":{\"standoff\":15},\"zerolinecolor\":\"white\",\"automargin\":true,\"zerolinewidth\":2},\"scene\":{\"xaxis\":{\"backgroundcolor\":\"#E5ECF6\",\"gridcolor\":\"white\",\"linecolor\":\"white\",\"showbackground\":true,\"ticks\":\"\",\"zerolinecolor\":\"white\",\"gridwidth\":2},\"yaxis\":{\"backgroundcolor\":\"#E5ECF6\",\"gridcolor\":\"white\",\"linecolor\":\"white\",\"showbackground\":true,\"ticks\":\"\",\"zerolinecolor\":\"white\",\"gridwidth\":2},\"zaxis\":{\"backgroundcolor\":\"#E5ECF6\",\"gridcolor\":\"white\",\"linecolor\":\"white\",\"showbackground\":true,\"ticks\":\"\",\"zerolinecolor\":\"white\",\"gridwidth\":2}},\"shapedefaults\":{\"line\":{\"color\":\"#2a3f5f\"}},\"annotationdefaults\":{\"arrowcolor\":\"#2a3f5f\",\"arrowhead\":0,\"arrowwidth\":1},\"geo\":{\"bgcolor\":\"white\",\"landcolor\":\"#E5ECF6\",\"subunitcolor\":\"white\",\"showland\":true,\"showlakes\":true,\"lakecolor\":\"white\"},\"title\":{\"x\":0.05},\"mapbox\":{\"style\":\"light\"}}},\"xaxis\":{\"anchor\":\"y\",\"domain\":[0.0,1.0],\"title\":{\"text\":\"Schizophrenia\"}},\"yaxis\":{\"anchor\":\"x\",\"domain\":[0.0,1.0],\"title\":{\"text\":\"Anxiety\"}},\"coloraxis\":{\"colorbar\":{\"title\":{\"text\":\"Cluster\"}},\"colorscale\":[[0.0,\"#0d0887\"],[0.1111111111111111,\"#46039f\"],[0.2222222222222222,\"#7201a8\"],[0.3333333333333333,\"#9c179e\"],[0.4444444444444444,\"#bd3786\"],[0.5555555555555556,\"#d8576b\"],[0.6666666666666666,\"#ed7953\"],[0.7777777777777778,\"#fb9f3a\"],[0.8888888888888888,\"#fdca26\"],[1.0,\"#f0f921\"]]},\"legend\":{\"tracegroupgap\":0},\"title\":{\"text\":\"Schizophrenia vs Anxiety\"},\"height\":600},                        {\"responsive\": true}                    ).then(function(){\n",
       "                            \n",
       "var gd = document.getElementById('e6f409fb-fd90-461b-b6ce-b4fbff26cd83');\n",
       "var x = new MutationObserver(function (mutations, observer) {{\n",
       "        var display = window.getComputedStyle(gd).display;\n",
       "        if (!display || display === 'none') {{\n",
       "            console.log([gd, 'removed!']);\n",
       "            Plotly.purge(gd);\n",
       "            observer.disconnect();\n",
       "        }}\n",
       "}});\n",
       "\n",
       "// Listen for the removal of the full notebook cells\n",
       "var notebookContainer = gd.closest('#notebook-container');\n",
       "if (notebookContainer) {{\n",
       "    x.observe(notebookContainer, {childList: true});\n",
       "}}\n",
       "\n",
       "// Listen for the clearing of the current output cell\n",
       "var outputEl = gd.closest('.output');\n",
       "if (outputEl) {{\n",
       "    x.observe(outputEl, {childList: true});\n",
       "}}\n",
       "\n",
       "                        })                };                });            </script>        </div>"
      ]
     },
     "metadata": {},
     "output_type": "display_data"
    },
    {
     "data": {
      "application/vnd.plotly.v1+json": {
       "config": {
        "plotlyServerURL": "https://plot.ly"
       },
       "data": [
        {
         "customdata": [
          [
           "AFG"
          ],
          [
           "AGO"
          ],
          [
           "ALB"
          ],
          [
           "AND"
          ],
          [
           "ARE"
          ],
          [
           "ARG"
          ],
          [
           "ARM"
          ],
          [
           "ASM"
          ],
          [
           "ATG"
          ],
          [
           "AUS"
          ],
          [
           "AUT"
          ],
          [
           "AZE"
          ],
          [
           "BDI"
          ],
          [
           "BEL"
          ],
          [
           "BEN"
          ],
          [
           "BFA"
          ],
          [
           "BGD"
          ],
          [
           "BGR"
          ],
          [
           "BHR"
          ],
          [
           "BHS"
          ],
          [
           "BIH"
          ],
          [
           "BLR"
          ],
          [
           "BLZ"
          ],
          [
           "BMU"
          ],
          [
           "BOL"
          ],
          [
           "BRA"
          ],
          [
           "BRB"
          ],
          [
           "BRN"
          ],
          [
           "BTN"
          ],
          [
           "BWA"
          ],
          [
           "CAF"
          ],
          [
           "CAN"
          ],
          [
           "CHE"
          ],
          [
           "CHL"
          ],
          [
           "CHN"
          ],
          [
           "CIV"
          ],
          [
           "CMR"
          ],
          [
           "COD"
          ],
          [
           "COG"
          ],
          [
           "COK"
          ],
          [
           "COL"
          ],
          [
           "COM"
          ],
          [
           "CPV"
          ],
          [
           "CRI"
          ],
          [
           "CUB"
          ],
          [
           "CYP"
          ],
          [
           "CZE"
          ],
          [
           "DEU"
          ],
          [
           "DJI"
          ],
          [
           "DMA"
          ],
          [
           "DNK"
          ],
          [
           "DOM"
          ],
          [
           "DZA"
          ],
          [
           "ECU"
          ],
          [
           "EGY"
          ],
          [
           "ERI"
          ],
          [
           "ESP"
          ],
          [
           "EST"
          ],
          [
           "ETH"
          ],
          [
           "FIN"
          ],
          [
           "FJI"
          ],
          [
           "FRA"
          ],
          [
           "FSM"
          ],
          [
           "GAB"
          ],
          [
           "GBR"
          ],
          [
           "GEO"
          ],
          [
           "GHA"
          ],
          [
           "GIN"
          ],
          [
           "GMB"
          ],
          [
           "GNB"
          ],
          [
           "GNQ"
          ],
          [
           "GRC"
          ],
          [
           "GRD"
          ],
          [
           "GRL"
          ],
          [
           "GTM"
          ],
          [
           "GUM"
          ],
          [
           "GUY"
          ],
          [
           "HND"
          ],
          [
           "HRV"
          ],
          [
           "HTI"
          ],
          [
           "HUN"
          ],
          [
           "IDN"
          ],
          [
           "IND"
          ],
          [
           "IRL"
          ],
          [
           "IRN"
          ],
          [
           "IRQ"
          ],
          [
           "ISL"
          ],
          [
           "ISR"
          ],
          [
           "ITA"
          ],
          [
           "JAM"
          ],
          [
           "JOR"
          ],
          [
           "JPN"
          ],
          [
           "KAZ"
          ],
          [
           "KEN"
          ],
          [
           "KGZ"
          ],
          [
           "KHM"
          ],
          [
           "KIR"
          ],
          [
           "KNA"
          ],
          [
           "KOR"
          ],
          [
           "KWT"
          ],
          [
           "LAO"
          ],
          [
           "LBN"
          ],
          [
           "LBR"
          ],
          [
           "LBY"
          ],
          [
           "LCA"
          ],
          [
           "LKA"
          ],
          [
           "LSO"
          ],
          [
           "LTU"
          ],
          [
           "LUX"
          ],
          [
           "LVA"
          ],
          [
           "MAR"
          ],
          [
           "MCO"
          ],
          [
           "MDA"
          ],
          [
           "MDG"
          ],
          [
           "MDV"
          ],
          [
           "MEX"
          ],
          [
           "MHL"
          ],
          [
           "MKD"
          ],
          [
           "MLI"
          ],
          [
           "MLT"
          ],
          [
           "MMR"
          ],
          [
           "MNE"
          ],
          [
           "MNG"
          ],
          [
           "MNP"
          ],
          [
           "MOZ"
          ],
          [
           "MRT"
          ],
          [
           "MUS"
          ],
          [
           "MWI"
          ],
          [
           "MYS"
          ],
          [
           "NAM"
          ],
          [
           "NER"
          ],
          [
           "NGA"
          ],
          [
           "NIC"
          ],
          [
           "NIU"
          ],
          [
           "NLD"
          ],
          [
           "NOR"
          ],
          [
           "NPL"
          ],
          [
           "NRU"
          ],
          [
           "NZL"
          ],
          [
           "OMN"
          ],
          [
           "OWID_WRL"
          ],
          [
           "PAK"
          ],
          [
           "PAN"
          ],
          [
           "PER"
          ],
          [
           "PHL"
          ],
          [
           "PLW"
          ],
          [
           "PNG"
          ],
          [
           "POL"
          ],
          [
           "PRI"
          ],
          [
           "PRK"
          ],
          [
           "PRT"
          ],
          [
           "PRY"
          ],
          [
           "PSE"
          ],
          [
           "QAT"
          ],
          [
           "ROU"
          ],
          [
           "RUS"
          ],
          [
           "RWA"
          ],
          [
           "SAU"
          ],
          [
           "SDN"
          ],
          [
           "SEN"
          ],
          [
           "SGP"
          ],
          [
           "SLB"
          ],
          [
           "SLE"
          ],
          [
           "SLV"
          ],
          [
           "SMR"
          ],
          [
           "SOM"
          ],
          [
           "SRB"
          ],
          [
           "SSD"
          ],
          [
           "STP"
          ],
          [
           "SUR"
          ],
          [
           "SVK"
          ],
          [
           "SVN"
          ],
          [
           "SWE"
          ],
          [
           "SWZ"
          ],
          [
           "SYC"
          ],
          [
           "SYR"
          ],
          [
           "TCD"
          ],
          [
           "TGO"
          ],
          [
           "THA"
          ],
          [
           "TJK"
          ],
          [
           "TKL"
          ],
          [
           "TKM"
          ],
          [
           "TLS"
          ],
          [
           "TON"
          ],
          [
           "TTO"
          ],
          [
           "TUN"
          ],
          [
           "TUR"
          ],
          [
           "TUV"
          ],
          [
           "TWN"
          ],
          [
           "TZA"
          ],
          [
           "UGA"
          ],
          [
           "UKR"
          ],
          [
           "URY"
          ],
          [
           "USA"
          ],
          [
           "UZB"
          ],
          [
           "VCT"
          ],
          [
           "VEN"
          ],
          [
           "VIR"
          ],
          [
           "VNM"
          ],
          [
           "VUT"
          ],
          [
           "WSM"
          ],
          [
           "YEM"
          ],
          [
           "ZAF"
          ],
          [
           "ZMB"
          ],
          [
           "ZWE"
          ]
         ],
         "hovertemplate": "Schizophrenia=%{x}<br>Bipolar=%{y}<br>Code=%{customdata[0]}<br>Cluster=%{marker.color}<extra></extra>",
         "legendgroup": "",
         "marker": {
          "color": [
           0,
           0,
           1,
           2,
           1,
           2,
           1,
           1,
           1,
           2,
           2,
           1,
           0,
           2,
           0,
           0,
           0,
           1,
           0,
           1,
           1,
           0,
           1,
           1,
           2,
           2,
           1,
           1,
           0,
           0,
           0,
           1,
           2,
           0,
           1,
           0,
           0,
           0,
           0,
           1,
           1,
           0,
           0,
           1,
           0,
           2,
           1,
           2,
           0,
           1,
           2,
           0,
           0,
           2,
           0,
           0,
           0,
           0,
           0,
           0,
           1,
           2,
           1,
           0,
           0,
           1,
           0,
           0,
           0,
           0,
           0,
           2,
           1,
           0,
           0,
           1,
           0,
           1,
           1,
           1,
           1,
           1,
           0,
           2,
           2,
           2,
           2,
           0,
           2,
           1,
           0,
           1,
           1,
           0,
           1,
           1,
           1,
           0,
           1,
           0,
           1,
           2,
           0,
           2,
           1,
           1,
           0,
           0,
           2,
           0,
           0,
           2,
           1,
           0,
           1,
           1,
           1,
           1,
           1,
           2,
           1,
           1,
           1,
           1,
           0,
           1,
           0,
           0,
           1,
           1,
           0,
           0,
           1,
           1,
           2,
           2,
           0,
           1,
           2,
           0,
           1,
           0,
           1,
           2,
           1,
           1,
           1,
           1,
           1,
           1,
           2,
           2,
           0,
           0,
           1,
           1,
           0,
           0,
           0,
           0,
           1,
           1,
           0,
           1,
           2,
           0,
           1,
           0,
           1,
           0,
           1,
           1,
           0,
           0,
           1,
           2,
           0,
           0,
           1,
           1,
           1,
           1,
           1,
           1,
           0,
           0,
           0,
           1,
           1,
           0,
           0,
           0,
           2,
           2,
           1,
           1,
           1,
           1,
           1,
           1,
           1,
           0,
           0,
           0,
           1
          ],
          "coloraxis": "coloraxis",
          "symbol": "circle"
         },
         "mode": "markers",
         "name": "",
         "orientation": "v",
         "showlegend": false,
         "type": "scatter",
         "x": [
          0.22324695556780333,
          0.22052188945581738,
          0.28207726832768776,
          0.2867091715995242,
          0.2805658245032455,
          0.30661608731296025,
          0.27767361041384386,
          0.30371535202825506,
          0.2857131143424153,
          0.37502654980603284,
          0.27442690103178696,
          0.27539337641389844,
          0.2079030008843888,
          0.2728814167120766,
          0.2145451759812559,
          0.21638110385493373,
          0.2766272342540206,
          0.28198756393890795,
          0.2711078162962963,
          0.28308295552724594,
          0.28273450892857144,
          0.2717090350500191,
          0.26918942813798574,
          0.29900289345093545,
          0.2637104890750089,
          0.27497182368483064,
          0.2812676582657503,
          0.30089432610232913,
          0.2843863536848306,
          0.2220602503995734,
          0.20025636974723174,
          0.28537930165537556,
          0.27813267109793816,
          0.27104244157042,
          0.2976860091553756,
          0.22188980171207656,
          0.2163889630805651,
          0.20779626396827913,
          0.2180523266612158,
          0.30989461898527243,
          0.27591473801298205,
          0.22234901374153165,
          0.2271132357195876,
          0.2823875993768614,
          0.2753859570540206,
          0.2743616251851852,
          0.2933347862149088,
          0.2605641953270103,
          0.22247526582768778,
          0.2713664403402062,
          0.23042847385402063,
          0.2709449132676857,
          0.24906831296296297,
          0.2725659112415317,
          0.2505713272250267,
          0.21558678216732752,
          0.2657203846208476,
          0.28335343332768775,
          0.21631058522680413,
          0.26415957139809676,
          0.2878561667120766,
          0.26842275627597145,
          0.27078497798281786,
          0.23313241223320297,
          0.2574322863370341,
          0.2735432917857143,
          0.22058021677070744,
          0.21563881739051546,
          0.2199651912982327,
          0.20851015732701028,
          0.22700543011340207,
          0.2725686633921344,
          0.2737395347562592,
          0.3630942415982936,
          0.26213516313798574,
          0.3213324201764032,
          0.25851379562673305,
          0.2604973893180603,
          0.29063867443917524,
          0.24475159979857256,
          0.286610132028255,
          0.2844088749918237,
          0.28093616246350517,
          0.3391991135544919,
          0.2551810928277969,
          0.24720491522680413,
          0.2755286651088201,
          0.2974329848596352,
          0.29372699874153163,
          0.2749120364726995,
          0.2544913031581941,
          0.3022178957142857,
          0.2741304083175258,
          0.22095907539051546,
          0.2632020173270103,
          0.2634032274662085,
          0.2597215494745823,
          0.27800159387835055,
          0.2941971924908802,
          0.27592942052724595,
          0.26862153045431925,
          0.2558954252835052,
          0.21197442943566247,
          0.2582785979365583,
          0.2747752818336296,
          0.2900396655272459,
          0.20995926344108984,
          0.28169890446350515,
          0.27789365905402064,
          0.2784796635450172,
          0.24259936646350513,
          0.29121244179896905,
          0.26720363583029344,
          0.21639163900649103,
          0.29834826935289455,
          0.2829413212,
          0.27301390566350514,
          0.28436892743917525,
          0.21380926166058684,
          0.27486629358366377,
          0.26426056177548685,
          0.28473266092701033,
          0.2651903934509355,
          0.315059927613402,
          0.20180888505292097,
          0.22224530604352807,
          0.29515160918289424,
          0.20557873974723176,
          0.3082041536,
          0.2238438743021685,
          0.21147376858366376,
          0.22344642122871325,
          0.26899251577250854,
          0.2937546647562592,
          0.37027578846563575,
          0.2824926228133665,
          0.2710067155489691,
          0.2811961415990836,
          0.38125951943917524,
          0.2650266962149088,
          0.2874154341058419,
          0.28032525974723177,
          0.2804268097722994,
          0.27370958992890154,
          0.28448166735087094,
          0.2983782251851852,
          0.27033782870578904,
          0.28792807689911637,
          0.2869671098648339,
          0.2670026385317869,
          0.2686416890419735,
          0.2744454046995582,
          0.24861607719999998,
          0.281687561488802,
          0.28317414436131566,
          0.27843793524398625,
          0.2109467438823024,
          0.2630424669841396,
          0.2323842622810233,
          0.22131698710626485,
          0.3132778668635051,
          0.257818923938908,
          0.2116675445620466,
          0.2659670493768614,
          0.28123458980603283,
          0.18984313000000003,
          0.28146455202825504,
          0.23308906980603283,
          0.22419032304896905,
          0.27165588172701033,
          0.28697743585402063,
          0.2950706354391752,
          0.27932293605292097,
          0.22143042179051545,
          0.3021514751701031,
          0.24921584992363496,
          0.21410276878492712,
          0.2164186420870561,
          0.28988872826011103,
          0.2642070915227186,
          0.28331125878492713,
          0.2720888943424153,
          0.2583535259977909,
          0.28831183054677356,
          0.27795143870578903,
          0.25341688827098674,
          0.24894566752500957,
          0.2721953883853537,
          0.29717480319816725,
          0.21393362752500952,
          0.21161617499121801,
          0.27119409045431925,
          0.3065582809524187,
          0.44164188467644727,
          0.2661422273687549,
          0.27067089368483066,
          0.2762463494558174,
          0.2929431782069492,
          0.3105360071546392,
          0.2709621597562592,
          0.28512297582768775,
          0.2365758576426117,
          0.2280854698129602,
          0.22326606358103093,
          0.21258696061512028
         ],
         "xaxis": "x",
         "y": [
          0.6878244440927876,
          0.5627169589231246,
          0.5556803858260708,
          0.920273273203173,
          0.7470505255555556,
          0.9639534658260709,
          0.5554098536832137,
          0.3193536599943514,
          0.9244450163058925,
          1.0136410007294434,
          0.868490245410312,
          0.5268695149363888,
          0.5855148889231245,
          0.8806385880916068,
          0.5539765007529541,
          0.5353514489285714,
          0.41971260359389945,
          0.4856339192536106,
          0.7798242459259259,
          0.871143267851696,
          0.5551908570201782,
          0.5383267482640735,
          0.8755715661479803,
          0.9527946732061108,
          0.8618026586154306,
          1.0784119716630354,
          0.9111431139468515,
          0.6036967944387959,
          0.40998111702017825,
          0.5409191227586208,
          0.5378561113542589,
          0.7706415365403565,
          0.8891743142970826,
          0.6383113102791699,
          0.23064701963741024,
          0.5541388885605347,
          0.5382607949363888,
          0.556530415,
          0.5484934825269826,
          0.3196046371374103,
          0.7332826235764812,
          0.6098201315458034,
          0.5848034099949163,
          0.8628177067882405,
          0.9232017026625996,
          0.8981958571586109,
          0.5511418658954806,
          0.7363432171938995,
          0.6136570671319633,
          0.8731263353516959,
          0.9202770966625997,
          0.8735992514872408,
          0.7519043956771294,
          0.8695105008260707,
          0.7154146813740513,
          0.5881915771755766,
          0.8905020633276848,
          0.5236702564285715,
          0.618445640229017,
          0.8868542628185575,
          0.326464730468928,
          0.8625904339665378,
          0.2956102327735413,
          0.5673316922953446,
          0.9874075507574991,
          0.529372187617232,
          0.5503235643643101,
          0.5492649971938995,
          0.5579029510659816,
          0.5486930570564992,
          0.5563159636886605,
          0.8560440276449066,
          0.8792651736832137,
          0.6345969353987928,
          0.7819475423018265,
          0.3371380390048142,
          0.8375657845906891,
          0.7921773818462033,
          0.5484479011094164,
          0.8283703079448073,
          0.5562954113486103,
          0.34134781632008604,
          0.3882953539938995,
          0.6925059328516959,
          0.8036196739468515,
          0.6734853848773211,
          0.8695622329573143,
          0.9544395238344221,
          0.8481038072546422,
          0.8646891260362026,
          0.7686875979257753,
          0.6496484144029463,
          0.5231423255938995,
          0.6076243165251993,
          0.5351923989251993,
          0.3420388880209256,
          0.2702924908028447,
          0.8916950845521664,
          0.5066532864063459,
          0.7837704660659817,
          0.34633463608844794,
          0.8872080491575886,
          0.5537236892536106,
          0.76972382,
          0.9056130829849998,
          0.3570841188058926,
          0.5433589060659817,
          0.5355181551938994,
          0.8763487770625997,
          0.5362979637709995,
          0.7372761870625996,
          0.8447941569338533,
          0.5323388734556725,
          0.5988826967882406,
          0.36301675256019195,
          0.8821042687938995,
          0.3251213225251993,
          0.5486210648854998,
          0.5565635739665378,
          0.893455967560192,
          0.34040381357648114,
          0.5526388459938995,
          0.520117890856666,
          0.2804711385714286,
          0.5804791584427498,
          0.5620822861690737,
          0.4151235108510174,
          0.5862255538196289,
          0.3514729977312998,
          0.556050914595948,
          0.5464758455108651,
          0.5636504199943514,
          0.816849078880416,
          0.3138116099945531,
          0.7681494995769786,
          0.8186802771229307,
          0.41626854249364525,
          0.30327189517953657,
          1.4678646801094166,
          0.6869115571755766,
          0.5080136351043327,
          0.4066024706135182,
          0.8220660565151081,
          0.8907584041326719,
          0.38874867780732686,
          0.31114090888324025,
          0.33533871063124915,
          0.5602920514231245,
          0.9358660478993518,
          0.22007527527354132,
          0.8496214324945531,
          1.0578780930916067,
          0.7847338621312998,
          0.7393778641326719,
          0.6377162684078568,
          0.5368458257930547,
          0.5948064324936453,
          0.7536821690986535,
          0.7148241520893511,
          0.5560598239724037,
          0.7110278545312998,
          0.3257033957930548,
          0.5566219869041659,
          0.8257630988888889,
          0.885241629623981,
          0.5869389586154306,
          0.5477565839468516,
          0.6122531702431478,
          0.5709700602735414,
          0.8963683804,
          0.5504258490625997,
          0.5564031233282496,
          0.9385163279949162,
          0.5632351393190987,
          0.3777932951117851,
          0.7589444113542589,
          0.5446047950539652,
          0.5540074712270364,
          0.32982182653846154,
          0.5295179766610181,
          0.34958466343775774,
          0.5297442484433028,
          0.3275387379743749,
          0.2950829678993517,
          0.8881408375601919,
          0.7767038745201783,
          0.7786961136980551,
          0.30609576275336164,
          0.24309978110546246,
          0.5944809057987034,
          0.5879807829573144,
          0.5334508337878444,
          0.9200783192249034,
          0.6048192739724036,
          0.5113570211538462,
          0.8994731411886605,
          0.8155751030916069,
          0.8680068135708325,
          0.38101131233814756,
          0.30621422392312453,
          0.3135470507088388,
          0.7223676049363887,
          0.5711422395147314,
          0.5794623766625997,
          0.538524355
         ],
         "yaxis": "y"
        }
       ],
       "layout": {
        "coloraxis": {
         "colorbar": {
          "title": {
           "text": "Cluster"
          }
         },
         "colorscale": [
          [
           0,
           "#0d0887"
          ],
          [
           0.1111111111111111,
           "#46039f"
          ],
          [
           0.2222222222222222,
           "#7201a8"
          ],
          [
           0.3333333333333333,
           "#9c179e"
          ],
          [
           0.4444444444444444,
           "#bd3786"
          ],
          [
           0.5555555555555556,
           "#d8576b"
          ],
          [
           0.6666666666666666,
           "#ed7953"
          ],
          [
           0.7777777777777778,
           "#fb9f3a"
          ],
          [
           0.8888888888888888,
           "#fdca26"
          ],
          [
           1,
           "#f0f921"
          ]
         ]
        },
        "height": 600,
        "legend": {
         "tracegroupgap": 0
        },
        "template": {
         "data": {
          "bar": [
           {
            "error_x": {
             "color": "#2a3f5f"
            },
            "error_y": {
             "color": "#2a3f5f"
            },
            "marker": {
             "line": {
              "color": "#E5ECF6",
              "width": 0.5
             },
             "pattern": {
              "fillmode": "overlay",
              "size": 10,
              "solidity": 0.2
             }
            },
            "type": "bar"
           }
          ],
          "barpolar": [
           {
            "marker": {
             "line": {
              "color": "#E5ECF6",
              "width": 0.5
             },
             "pattern": {
              "fillmode": "overlay",
              "size": 10,
              "solidity": 0.2
             }
            },
            "type": "barpolar"
           }
          ],
          "carpet": [
           {
            "aaxis": {
             "endlinecolor": "#2a3f5f",
             "gridcolor": "white",
             "linecolor": "white",
             "minorgridcolor": "white",
             "startlinecolor": "#2a3f5f"
            },
            "baxis": {
             "endlinecolor": "#2a3f5f",
             "gridcolor": "white",
             "linecolor": "white",
             "minorgridcolor": "white",
             "startlinecolor": "#2a3f5f"
            },
            "type": "carpet"
           }
          ],
          "choropleth": [
           {
            "colorbar": {
             "outlinewidth": 0,
             "ticks": ""
            },
            "type": "choropleth"
           }
          ],
          "contour": [
           {
            "colorbar": {
             "outlinewidth": 0,
             "ticks": ""
            },
            "colorscale": [
             [
              0,
              "#0d0887"
             ],
             [
              0.1111111111111111,
              "#46039f"
             ],
             [
              0.2222222222222222,
              "#7201a8"
             ],
             [
              0.3333333333333333,
              "#9c179e"
             ],
             [
              0.4444444444444444,
              "#bd3786"
             ],
             [
              0.5555555555555556,
              "#d8576b"
             ],
             [
              0.6666666666666666,
              "#ed7953"
             ],
             [
              0.7777777777777778,
              "#fb9f3a"
             ],
             [
              0.8888888888888888,
              "#fdca26"
             ],
             [
              1,
              "#f0f921"
             ]
            ],
            "type": "contour"
           }
          ],
          "contourcarpet": [
           {
            "colorbar": {
             "outlinewidth": 0,
             "ticks": ""
            },
            "type": "contourcarpet"
           }
          ],
          "heatmap": [
           {
            "colorbar": {
             "outlinewidth": 0,
             "ticks": ""
            },
            "colorscale": [
             [
              0,
              "#0d0887"
             ],
             [
              0.1111111111111111,
              "#46039f"
             ],
             [
              0.2222222222222222,
              "#7201a8"
             ],
             [
              0.3333333333333333,
              "#9c179e"
             ],
             [
              0.4444444444444444,
              "#bd3786"
             ],
             [
              0.5555555555555556,
              "#d8576b"
             ],
             [
              0.6666666666666666,
              "#ed7953"
             ],
             [
              0.7777777777777778,
              "#fb9f3a"
             ],
             [
              0.8888888888888888,
              "#fdca26"
             ],
             [
              1,
              "#f0f921"
             ]
            ],
            "type": "heatmap"
           }
          ],
          "heatmapgl": [
           {
            "colorbar": {
             "outlinewidth": 0,
             "ticks": ""
            },
            "colorscale": [
             [
              0,
              "#0d0887"
             ],
             [
              0.1111111111111111,
              "#46039f"
             ],
             [
              0.2222222222222222,
              "#7201a8"
             ],
             [
              0.3333333333333333,
              "#9c179e"
             ],
             [
              0.4444444444444444,
              "#bd3786"
             ],
             [
              0.5555555555555556,
              "#d8576b"
             ],
             [
              0.6666666666666666,
              "#ed7953"
             ],
             [
              0.7777777777777778,
              "#fb9f3a"
             ],
             [
              0.8888888888888888,
              "#fdca26"
             ],
             [
              1,
              "#f0f921"
             ]
            ],
            "type": "heatmapgl"
           }
          ],
          "histogram": [
           {
            "marker": {
             "pattern": {
              "fillmode": "overlay",
              "size": 10,
              "solidity": 0.2
             }
            },
            "type": "histogram"
           }
          ],
          "histogram2d": [
           {
            "colorbar": {
             "outlinewidth": 0,
             "ticks": ""
            },
            "colorscale": [
             [
              0,
              "#0d0887"
             ],
             [
              0.1111111111111111,
              "#46039f"
             ],
             [
              0.2222222222222222,
              "#7201a8"
             ],
             [
              0.3333333333333333,
              "#9c179e"
             ],
             [
              0.4444444444444444,
              "#bd3786"
             ],
             [
              0.5555555555555556,
              "#d8576b"
             ],
             [
              0.6666666666666666,
              "#ed7953"
             ],
             [
              0.7777777777777778,
              "#fb9f3a"
             ],
             [
              0.8888888888888888,
              "#fdca26"
             ],
             [
              1,
              "#f0f921"
             ]
            ],
            "type": "histogram2d"
           }
          ],
          "histogram2dcontour": [
           {
            "colorbar": {
             "outlinewidth": 0,
             "ticks": ""
            },
            "colorscale": [
             [
              0,
              "#0d0887"
             ],
             [
              0.1111111111111111,
              "#46039f"
             ],
             [
              0.2222222222222222,
              "#7201a8"
             ],
             [
              0.3333333333333333,
              "#9c179e"
             ],
             [
              0.4444444444444444,
              "#bd3786"
             ],
             [
              0.5555555555555556,
              "#d8576b"
             ],
             [
              0.6666666666666666,
              "#ed7953"
             ],
             [
              0.7777777777777778,
              "#fb9f3a"
             ],
             [
              0.8888888888888888,
              "#fdca26"
             ],
             [
              1,
              "#f0f921"
             ]
            ],
            "type": "histogram2dcontour"
           }
          ],
          "mesh3d": [
           {
            "colorbar": {
             "outlinewidth": 0,
             "ticks": ""
            },
            "type": "mesh3d"
           }
          ],
          "parcoords": [
           {
            "line": {
             "colorbar": {
              "outlinewidth": 0,
              "ticks": ""
             }
            },
            "type": "parcoords"
           }
          ],
          "pie": [
           {
            "automargin": true,
            "type": "pie"
           }
          ],
          "scatter": [
           {
            "fillpattern": {
             "fillmode": "overlay",
             "size": 10,
             "solidity": 0.2
            },
            "type": "scatter"
           }
          ],
          "scatter3d": [
           {
            "line": {
             "colorbar": {
              "outlinewidth": 0,
              "ticks": ""
             }
            },
            "marker": {
             "colorbar": {
              "outlinewidth": 0,
              "ticks": ""
             }
            },
            "type": "scatter3d"
           }
          ],
          "scattercarpet": [
           {
            "marker": {
             "colorbar": {
              "outlinewidth": 0,
              "ticks": ""
             }
            },
            "type": "scattercarpet"
           }
          ],
          "scattergeo": [
           {
            "marker": {
             "colorbar": {
              "outlinewidth": 0,
              "ticks": ""
             }
            },
            "type": "scattergeo"
           }
          ],
          "scattergl": [
           {
            "marker": {
             "colorbar": {
              "outlinewidth": 0,
              "ticks": ""
             }
            },
            "type": "scattergl"
           }
          ],
          "scattermapbox": [
           {
            "marker": {
             "colorbar": {
              "outlinewidth": 0,
              "ticks": ""
             }
            },
            "type": "scattermapbox"
           }
          ],
          "scatterpolar": [
           {
            "marker": {
             "colorbar": {
              "outlinewidth": 0,
              "ticks": ""
             }
            },
            "type": "scatterpolar"
           }
          ],
          "scatterpolargl": [
           {
            "marker": {
             "colorbar": {
              "outlinewidth": 0,
              "ticks": ""
             }
            },
            "type": "scatterpolargl"
           }
          ],
          "scatterternary": [
           {
            "marker": {
             "colorbar": {
              "outlinewidth": 0,
              "ticks": ""
             }
            },
            "type": "scatterternary"
           }
          ],
          "surface": [
           {
            "colorbar": {
             "outlinewidth": 0,
             "ticks": ""
            },
            "colorscale": [
             [
              0,
              "#0d0887"
             ],
             [
              0.1111111111111111,
              "#46039f"
             ],
             [
              0.2222222222222222,
              "#7201a8"
             ],
             [
              0.3333333333333333,
              "#9c179e"
             ],
             [
              0.4444444444444444,
              "#bd3786"
             ],
             [
              0.5555555555555556,
              "#d8576b"
             ],
             [
              0.6666666666666666,
              "#ed7953"
             ],
             [
              0.7777777777777778,
              "#fb9f3a"
             ],
             [
              0.8888888888888888,
              "#fdca26"
             ],
             [
              1,
              "#f0f921"
             ]
            ],
            "type": "surface"
           }
          ],
          "table": [
           {
            "cells": {
             "fill": {
              "color": "#EBF0F8"
             },
             "line": {
              "color": "white"
             }
            },
            "header": {
             "fill": {
              "color": "#C8D4E3"
             },
             "line": {
              "color": "white"
             }
            },
            "type": "table"
           }
          ]
         },
         "layout": {
          "annotationdefaults": {
           "arrowcolor": "#2a3f5f",
           "arrowhead": 0,
           "arrowwidth": 1
          },
          "autotypenumbers": "strict",
          "coloraxis": {
           "colorbar": {
            "outlinewidth": 0,
            "ticks": ""
           }
          },
          "colorscale": {
           "diverging": [
            [
             0,
             "#8e0152"
            ],
            [
             0.1,
             "#c51b7d"
            ],
            [
             0.2,
             "#de77ae"
            ],
            [
             0.3,
             "#f1b6da"
            ],
            [
             0.4,
             "#fde0ef"
            ],
            [
             0.5,
             "#f7f7f7"
            ],
            [
             0.6,
             "#e6f5d0"
            ],
            [
             0.7,
             "#b8e186"
            ],
            [
             0.8,
             "#7fbc41"
            ],
            [
             0.9,
             "#4d9221"
            ],
            [
             1,
             "#276419"
            ]
           ],
           "sequential": [
            [
             0,
             "#0d0887"
            ],
            [
             0.1111111111111111,
             "#46039f"
            ],
            [
             0.2222222222222222,
             "#7201a8"
            ],
            [
             0.3333333333333333,
             "#9c179e"
            ],
            [
             0.4444444444444444,
             "#bd3786"
            ],
            [
             0.5555555555555556,
             "#d8576b"
            ],
            [
             0.6666666666666666,
             "#ed7953"
            ],
            [
             0.7777777777777778,
             "#fb9f3a"
            ],
            [
             0.8888888888888888,
             "#fdca26"
            ],
            [
             1,
             "#f0f921"
            ]
           ],
           "sequentialminus": [
            [
             0,
             "#0d0887"
            ],
            [
             0.1111111111111111,
             "#46039f"
            ],
            [
             0.2222222222222222,
             "#7201a8"
            ],
            [
             0.3333333333333333,
             "#9c179e"
            ],
            [
             0.4444444444444444,
             "#bd3786"
            ],
            [
             0.5555555555555556,
             "#d8576b"
            ],
            [
             0.6666666666666666,
             "#ed7953"
            ],
            [
             0.7777777777777778,
             "#fb9f3a"
            ],
            [
             0.8888888888888888,
             "#fdca26"
            ],
            [
             1,
             "#f0f921"
            ]
           ]
          },
          "colorway": [
           "#636efa",
           "#EF553B",
           "#00cc96",
           "#ab63fa",
           "#FFA15A",
           "#19d3f3",
           "#FF6692",
           "#B6E880",
           "#FF97FF",
           "#FECB52"
          ],
          "font": {
           "color": "#2a3f5f"
          },
          "geo": {
           "bgcolor": "white",
           "lakecolor": "white",
           "landcolor": "#E5ECF6",
           "showlakes": true,
           "showland": true,
           "subunitcolor": "white"
          },
          "hoverlabel": {
           "align": "left"
          },
          "hovermode": "closest",
          "mapbox": {
           "style": "light"
          },
          "paper_bgcolor": "white",
          "plot_bgcolor": "#E5ECF6",
          "polar": {
           "angularaxis": {
            "gridcolor": "white",
            "linecolor": "white",
            "ticks": ""
           },
           "bgcolor": "#E5ECF6",
           "radialaxis": {
            "gridcolor": "white",
            "linecolor": "white",
            "ticks": ""
           }
          },
          "scene": {
           "xaxis": {
            "backgroundcolor": "#E5ECF6",
            "gridcolor": "white",
            "gridwidth": 2,
            "linecolor": "white",
            "showbackground": true,
            "ticks": "",
            "zerolinecolor": "white"
           },
           "yaxis": {
            "backgroundcolor": "#E5ECF6",
            "gridcolor": "white",
            "gridwidth": 2,
            "linecolor": "white",
            "showbackground": true,
            "ticks": "",
            "zerolinecolor": "white"
           },
           "zaxis": {
            "backgroundcolor": "#E5ECF6",
            "gridcolor": "white",
            "gridwidth": 2,
            "linecolor": "white",
            "showbackground": true,
            "ticks": "",
            "zerolinecolor": "white"
           }
          },
          "shapedefaults": {
           "line": {
            "color": "#2a3f5f"
           }
          },
          "ternary": {
           "aaxis": {
            "gridcolor": "white",
            "linecolor": "white",
            "ticks": ""
           },
           "baxis": {
            "gridcolor": "white",
            "linecolor": "white",
            "ticks": ""
           },
           "bgcolor": "#E5ECF6",
           "caxis": {
            "gridcolor": "white",
            "linecolor": "white",
            "ticks": ""
           }
          },
          "title": {
           "x": 0.05
          },
          "xaxis": {
           "automargin": true,
           "gridcolor": "white",
           "linecolor": "white",
           "ticks": "",
           "title": {
            "standoff": 15
           },
           "zerolinecolor": "white",
           "zerolinewidth": 2
          },
          "yaxis": {
           "automargin": true,
           "gridcolor": "white",
           "linecolor": "white",
           "ticks": "",
           "title": {
            "standoff": 15
           },
           "zerolinecolor": "white",
           "zerolinewidth": 2
          }
         }
        },
        "title": {
         "text": "Schizophrenia vs Bipolar"
        },
        "xaxis": {
         "anchor": "y",
         "domain": [
          0,
          1
         ],
         "title": {
          "text": "Schizophrenia"
         }
        },
        "yaxis": {
         "anchor": "x",
         "domain": [
          0,
          1
         ],
         "title": {
          "text": "Bipolar"
         }
        }
       }
      },
      "text/html": [
       "<div>                            <div id=\"76d22dfc-e4ad-4069-b850-019148e50fb6\" class=\"plotly-graph-div\" style=\"height:600px; width:100%;\"></div>            <script type=\"text/javascript\">                require([\"plotly\"], function(Plotly) {                    window.PLOTLYENV=window.PLOTLYENV || {};                                    if (document.getElementById(\"76d22dfc-e4ad-4069-b850-019148e50fb6\")) {                    Plotly.newPlot(                        \"76d22dfc-e4ad-4069-b850-019148e50fb6\",                        [{\"customdata\":[[\"AFG\"],[\"AGO\"],[\"ALB\"],[\"AND\"],[\"ARE\"],[\"ARG\"],[\"ARM\"],[\"ASM\"],[\"ATG\"],[\"AUS\"],[\"AUT\"],[\"AZE\"],[\"BDI\"],[\"BEL\"],[\"BEN\"],[\"BFA\"],[\"BGD\"],[\"BGR\"],[\"BHR\"],[\"BHS\"],[\"BIH\"],[\"BLR\"],[\"BLZ\"],[\"BMU\"],[\"BOL\"],[\"BRA\"],[\"BRB\"],[\"BRN\"],[\"BTN\"],[\"BWA\"],[\"CAF\"],[\"CAN\"],[\"CHE\"],[\"CHL\"],[\"CHN\"],[\"CIV\"],[\"CMR\"],[\"COD\"],[\"COG\"],[\"COK\"],[\"COL\"],[\"COM\"],[\"CPV\"],[\"CRI\"],[\"CUB\"],[\"CYP\"],[\"CZE\"],[\"DEU\"],[\"DJI\"],[\"DMA\"],[\"DNK\"],[\"DOM\"],[\"DZA\"],[\"ECU\"],[\"EGY\"],[\"ERI\"],[\"ESP\"],[\"EST\"],[\"ETH\"],[\"FIN\"],[\"FJI\"],[\"FRA\"],[\"FSM\"],[\"GAB\"],[\"GBR\"],[\"GEO\"],[\"GHA\"],[\"GIN\"],[\"GMB\"],[\"GNB\"],[\"GNQ\"],[\"GRC\"],[\"GRD\"],[\"GRL\"],[\"GTM\"],[\"GUM\"],[\"GUY\"],[\"HND\"],[\"HRV\"],[\"HTI\"],[\"HUN\"],[\"IDN\"],[\"IND\"],[\"IRL\"],[\"IRN\"],[\"IRQ\"],[\"ISL\"],[\"ISR\"],[\"ITA\"],[\"JAM\"],[\"JOR\"],[\"JPN\"],[\"KAZ\"],[\"KEN\"],[\"KGZ\"],[\"KHM\"],[\"KIR\"],[\"KNA\"],[\"KOR\"],[\"KWT\"],[\"LAO\"],[\"LBN\"],[\"LBR\"],[\"LBY\"],[\"LCA\"],[\"LKA\"],[\"LSO\"],[\"LTU\"],[\"LUX\"],[\"LVA\"],[\"MAR\"],[\"MCO\"],[\"MDA\"],[\"MDG\"],[\"MDV\"],[\"MEX\"],[\"MHL\"],[\"MKD\"],[\"MLI\"],[\"MLT\"],[\"MMR\"],[\"MNE\"],[\"MNG\"],[\"MNP\"],[\"MOZ\"],[\"MRT\"],[\"MUS\"],[\"MWI\"],[\"MYS\"],[\"NAM\"],[\"NER\"],[\"NGA\"],[\"NIC\"],[\"NIU\"],[\"NLD\"],[\"NOR\"],[\"NPL\"],[\"NRU\"],[\"NZL\"],[\"OMN\"],[\"OWID_WRL\"],[\"PAK\"],[\"PAN\"],[\"PER\"],[\"PHL\"],[\"PLW\"],[\"PNG\"],[\"POL\"],[\"PRI\"],[\"PRK\"],[\"PRT\"],[\"PRY\"],[\"PSE\"],[\"QAT\"],[\"ROU\"],[\"RUS\"],[\"RWA\"],[\"SAU\"],[\"SDN\"],[\"SEN\"],[\"SGP\"],[\"SLB\"],[\"SLE\"],[\"SLV\"],[\"SMR\"],[\"SOM\"],[\"SRB\"],[\"SSD\"],[\"STP\"],[\"SUR\"],[\"SVK\"],[\"SVN\"],[\"SWE\"],[\"SWZ\"],[\"SYC\"],[\"SYR\"],[\"TCD\"],[\"TGO\"],[\"THA\"],[\"TJK\"],[\"TKL\"],[\"TKM\"],[\"TLS\"],[\"TON\"],[\"TTO\"],[\"TUN\"],[\"TUR\"],[\"TUV\"],[\"TWN\"],[\"TZA\"],[\"UGA\"],[\"UKR\"],[\"URY\"],[\"USA\"],[\"UZB\"],[\"VCT\"],[\"VEN\"],[\"VIR\"],[\"VNM\"],[\"VUT\"],[\"WSM\"],[\"YEM\"],[\"ZAF\"],[\"ZMB\"],[\"ZWE\"]],\"hovertemplate\":\"Schizophrenia=%{x}<br>Bipolar=%{y}<br>Code=%{customdata[0]}<br>Cluster=%{marker.color}<extra></extra>\",\"legendgroup\":\"\",\"marker\":{\"color\":[0,0,1,2,1,2,1,1,1,2,2,1,0,2,0,0,0,1,0,1,1,0,1,1,2,2,1,1,0,0,0,1,2,0,1,0,0,0,0,1,1,0,0,1,0,2,1,2,0,1,2,0,0,2,0,0,0,0,0,0,1,2,1,0,0,1,0,0,0,0,0,2,1,0,0,1,0,1,1,1,1,1,0,2,2,2,2,0,2,1,0,1,1,0,1,1,1,0,1,0,1,2,0,2,1,1,0,0,2,0,0,2,1,0,1,1,1,1,1,2,1,1,1,1,0,1,0,0,1,1,0,0,1,1,2,2,0,1,2,0,1,0,1,2,1,1,1,1,1,1,2,2,0,0,1,1,0,0,0,0,1,1,0,1,2,0,1,0,1,0,1,1,0,0,1,2,0,0,1,1,1,1,1,1,0,0,0,1,1,0,0,0,2,2,1,1,1,1,1,1,1,0,0,0,1],\"coloraxis\":\"coloraxis\",\"symbol\":\"circle\"},\"mode\":\"markers\",\"name\":\"\",\"orientation\":\"v\",\"showlegend\":false,\"x\":[0.22324695556780333,0.22052188945581738,0.28207726832768776,0.2867091715995242,0.2805658245032455,0.30661608731296025,0.27767361041384386,0.30371535202825506,0.2857131143424153,0.37502654980603284,0.27442690103178696,0.27539337641389844,0.2079030008843888,0.2728814167120766,0.2145451759812559,0.21638110385493373,0.2766272342540206,0.28198756393890795,0.2711078162962963,0.28308295552724594,0.28273450892857144,0.2717090350500191,0.26918942813798574,0.29900289345093545,0.2637104890750089,0.27497182368483064,0.2812676582657503,0.30089432610232913,0.2843863536848306,0.2220602503995734,0.20025636974723174,0.28537930165537556,0.27813267109793816,0.27104244157042,0.2976860091553756,0.22188980171207656,0.2163889630805651,0.20779626396827913,0.2180523266612158,0.30989461898527243,0.27591473801298205,0.22234901374153165,0.2271132357195876,0.2823875993768614,0.2753859570540206,0.2743616251851852,0.2933347862149088,0.2605641953270103,0.22247526582768778,0.2713664403402062,0.23042847385402063,0.2709449132676857,0.24906831296296297,0.2725659112415317,0.2505713272250267,0.21558678216732752,0.2657203846208476,0.28335343332768775,0.21631058522680413,0.26415957139809676,0.2878561667120766,0.26842275627597145,0.27078497798281786,0.23313241223320297,0.2574322863370341,0.2735432917857143,0.22058021677070744,0.21563881739051546,0.2199651912982327,0.20851015732701028,0.22700543011340207,0.2725686633921344,0.2737395347562592,0.3630942415982936,0.26213516313798574,0.3213324201764032,0.25851379562673305,0.2604973893180603,0.29063867443917524,0.24475159979857256,0.286610132028255,0.2844088749918237,0.28093616246350517,0.3391991135544919,0.2551810928277969,0.24720491522680413,0.2755286651088201,0.2974329848596352,0.29372699874153163,0.2749120364726995,0.2544913031581941,0.3022178957142857,0.2741304083175258,0.22095907539051546,0.2632020173270103,0.2634032274662085,0.2597215494745823,0.27800159387835055,0.2941971924908802,0.27592942052724595,0.26862153045431925,0.2558954252835052,0.21197442943566247,0.2582785979365583,0.2747752818336296,0.2900396655272459,0.20995926344108984,0.28169890446350515,0.27789365905402064,0.2784796635450172,0.24259936646350513,0.29121244179896905,0.26720363583029344,0.21639163900649103,0.29834826935289455,0.2829413212,0.27301390566350514,0.28436892743917525,0.21380926166058684,0.27486629358366377,0.26426056177548685,0.28473266092701033,0.2651903934509355,0.315059927613402,0.20180888505292097,0.22224530604352807,0.29515160918289424,0.20557873974723176,0.3082041536,0.2238438743021685,0.21147376858366376,0.22344642122871325,0.26899251577250854,0.2937546647562592,0.37027578846563575,0.2824926228133665,0.2710067155489691,0.2811961415990836,0.38125951943917524,0.2650266962149088,0.2874154341058419,0.28032525974723177,0.2804268097722994,0.27370958992890154,0.28448166735087094,0.2983782251851852,0.27033782870578904,0.28792807689911637,0.2869671098648339,0.2670026385317869,0.2686416890419735,0.2744454046995582,0.24861607719999998,0.281687561488802,0.28317414436131566,0.27843793524398625,0.2109467438823024,0.2630424669841396,0.2323842622810233,0.22131698710626485,0.3132778668635051,0.257818923938908,0.2116675445620466,0.2659670493768614,0.28123458980603283,0.18984313000000003,0.28146455202825504,0.23308906980603283,0.22419032304896905,0.27165588172701033,0.28697743585402063,0.2950706354391752,0.27932293605292097,0.22143042179051545,0.3021514751701031,0.24921584992363496,0.21410276878492712,0.2164186420870561,0.28988872826011103,0.2642070915227186,0.28331125878492713,0.2720888943424153,0.2583535259977909,0.28831183054677356,0.27795143870578903,0.25341688827098674,0.24894566752500957,0.2721953883853537,0.29717480319816725,0.21393362752500952,0.21161617499121801,0.27119409045431925,0.3065582809524187,0.44164188467644727,0.2661422273687549,0.27067089368483066,0.2762463494558174,0.2929431782069492,0.3105360071546392,0.2709621597562592,0.28512297582768775,0.2365758576426117,0.2280854698129602,0.22326606358103093,0.21258696061512028],\"xaxis\":\"x\",\"y\":[0.6878244440927876,0.5627169589231246,0.5556803858260708,0.920273273203173,0.7470505255555556,0.9639534658260709,0.5554098536832137,0.3193536599943514,0.9244450163058925,1.0136410007294434,0.868490245410312,0.5268695149363888,0.5855148889231245,0.8806385880916068,0.5539765007529541,0.5353514489285714,0.41971260359389945,0.4856339192536106,0.7798242459259259,0.871143267851696,0.5551908570201782,0.5383267482640735,0.8755715661479803,0.9527946732061108,0.8618026586154306,1.0784119716630354,0.9111431139468515,0.6036967944387959,0.40998111702017825,0.5409191227586208,0.5378561113542589,0.7706415365403565,0.8891743142970826,0.6383113102791699,0.23064701963741024,0.5541388885605347,0.5382607949363888,0.556530415,0.5484934825269826,0.3196046371374103,0.7332826235764812,0.6098201315458034,0.5848034099949163,0.8628177067882405,0.9232017026625996,0.8981958571586109,0.5511418658954806,0.7363432171938995,0.6136570671319633,0.8731263353516959,0.9202770966625997,0.8735992514872408,0.7519043956771294,0.8695105008260707,0.7154146813740513,0.5881915771755766,0.8905020633276848,0.5236702564285715,0.618445640229017,0.8868542628185575,0.326464730468928,0.8625904339665378,0.2956102327735413,0.5673316922953446,0.9874075507574991,0.529372187617232,0.5503235643643101,0.5492649971938995,0.5579029510659816,0.5486930570564992,0.5563159636886605,0.8560440276449066,0.8792651736832137,0.6345969353987928,0.7819475423018265,0.3371380390048142,0.8375657845906891,0.7921773818462033,0.5484479011094164,0.8283703079448073,0.5562954113486103,0.34134781632008604,0.3882953539938995,0.6925059328516959,0.8036196739468515,0.6734853848773211,0.8695622329573143,0.9544395238344221,0.8481038072546422,0.8646891260362026,0.7686875979257753,0.6496484144029463,0.5231423255938995,0.6076243165251993,0.5351923989251993,0.3420388880209256,0.2702924908028447,0.8916950845521664,0.5066532864063459,0.7837704660659817,0.34633463608844794,0.8872080491575886,0.5537236892536106,0.76972382,0.9056130829849998,0.3570841188058926,0.5433589060659817,0.5355181551938994,0.8763487770625997,0.5362979637709995,0.7372761870625996,0.8447941569338533,0.5323388734556725,0.5988826967882406,0.36301675256019195,0.8821042687938995,0.3251213225251993,0.5486210648854998,0.5565635739665378,0.893455967560192,0.34040381357648114,0.5526388459938995,0.520117890856666,0.2804711385714286,0.5804791584427498,0.5620822861690737,0.4151235108510174,0.5862255538196289,0.3514729977312998,0.556050914595948,0.5464758455108651,0.5636504199943514,0.816849078880416,0.3138116099945531,0.7681494995769786,0.8186802771229307,0.41626854249364525,0.30327189517953657,1.4678646801094166,0.6869115571755766,0.5080136351043327,0.4066024706135182,0.8220660565151081,0.8907584041326719,0.38874867780732686,0.31114090888324025,0.33533871063124915,0.5602920514231245,0.9358660478993518,0.22007527527354132,0.8496214324945531,1.0578780930916067,0.7847338621312998,0.7393778641326719,0.6377162684078568,0.5368458257930547,0.5948064324936453,0.7536821690986535,0.7148241520893511,0.5560598239724037,0.7110278545312998,0.3257033957930548,0.5566219869041659,0.8257630988888889,0.885241629623981,0.5869389586154306,0.5477565839468516,0.6122531702431478,0.5709700602735414,0.8963683804,0.5504258490625997,0.5564031233282496,0.9385163279949162,0.5632351393190987,0.3777932951117851,0.7589444113542589,0.5446047950539652,0.5540074712270364,0.32982182653846154,0.5295179766610181,0.34958466343775774,0.5297442484433028,0.3275387379743749,0.2950829678993517,0.8881408375601919,0.7767038745201783,0.7786961136980551,0.30609576275336164,0.24309978110546246,0.5944809057987034,0.5879807829573144,0.5334508337878444,0.9200783192249034,0.6048192739724036,0.5113570211538462,0.8994731411886605,0.8155751030916069,0.8680068135708325,0.38101131233814756,0.30621422392312453,0.3135470507088388,0.7223676049363887,0.5711422395147314,0.5794623766625997,0.538524355],\"yaxis\":\"y\",\"type\":\"scatter\"}],                        {\"template\":{\"data\":{\"histogram2dcontour\":[{\"type\":\"histogram2dcontour\",\"colorbar\":{\"outlinewidth\":0,\"ticks\":\"\"},\"colorscale\":[[0.0,\"#0d0887\"],[0.1111111111111111,\"#46039f\"],[0.2222222222222222,\"#7201a8\"],[0.3333333333333333,\"#9c179e\"],[0.4444444444444444,\"#bd3786\"],[0.5555555555555556,\"#d8576b\"],[0.6666666666666666,\"#ed7953\"],[0.7777777777777778,\"#fb9f3a\"],[0.8888888888888888,\"#fdca26\"],[1.0,\"#f0f921\"]]}],\"choropleth\":[{\"type\":\"choropleth\",\"colorbar\":{\"outlinewidth\":0,\"ticks\":\"\"}}],\"histogram2d\":[{\"type\":\"histogram2d\",\"colorbar\":{\"outlinewidth\":0,\"ticks\":\"\"},\"colorscale\":[[0.0,\"#0d0887\"],[0.1111111111111111,\"#46039f\"],[0.2222222222222222,\"#7201a8\"],[0.3333333333333333,\"#9c179e\"],[0.4444444444444444,\"#bd3786\"],[0.5555555555555556,\"#d8576b\"],[0.6666666666666666,\"#ed7953\"],[0.7777777777777778,\"#fb9f3a\"],[0.8888888888888888,\"#fdca26\"],[1.0,\"#f0f921\"]]}],\"heatmap\":[{\"type\":\"heatmap\",\"colorbar\":{\"outlinewidth\":0,\"ticks\":\"\"},\"colorscale\":[[0.0,\"#0d0887\"],[0.1111111111111111,\"#46039f\"],[0.2222222222222222,\"#7201a8\"],[0.3333333333333333,\"#9c179e\"],[0.4444444444444444,\"#bd3786\"],[0.5555555555555556,\"#d8576b\"],[0.6666666666666666,\"#ed7953\"],[0.7777777777777778,\"#fb9f3a\"],[0.8888888888888888,\"#fdca26\"],[1.0,\"#f0f921\"]]}],\"heatmapgl\":[{\"type\":\"heatmapgl\",\"colorbar\":{\"outlinewidth\":0,\"ticks\":\"\"},\"colorscale\":[[0.0,\"#0d0887\"],[0.1111111111111111,\"#46039f\"],[0.2222222222222222,\"#7201a8\"],[0.3333333333333333,\"#9c179e\"],[0.4444444444444444,\"#bd3786\"],[0.5555555555555556,\"#d8576b\"],[0.6666666666666666,\"#ed7953\"],[0.7777777777777778,\"#fb9f3a\"],[0.8888888888888888,\"#fdca26\"],[1.0,\"#f0f921\"]]}],\"contourcarpet\":[{\"type\":\"contourcarpet\",\"colorbar\":{\"outlinewidth\":0,\"ticks\":\"\"}}],\"contour\":[{\"type\":\"contour\",\"colorbar\":{\"outlinewidth\":0,\"ticks\":\"\"},\"colorscale\":[[0.0,\"#0d0887\"],[0.1111111111111111,\"#46039f\"],[0.2222222222222222,\"#7201a8\"],[0.3333333333333333,\"#9c179e\"],[0.4444444444444444,\"#bd3786\"],[0.5555555555555556,\"#d8576b\"],[0.6666666666666666,\"#ed7953\"],[0.7777777777777778,\"#fb9f3a\"],[0.8888888888888888,\"#fdca26\"],[1.0,\"#f0f921\"]]}],\"surface\":[{\"type\":\"surface\",\"colorbar\":{\"outlinewidth\":0,\"ticks\":\"\"},\"colorscale\":[[0.0,\"#0d0887\"],[0.1111111111111111,\"#46039f\"],[0.2222222222222222,\"#7201a8\"],[0.3333333333333333,\"#9c179e\"],[0.4444444444444444,\"#bd3786\"],[0.5555555555555556,\"#d8576b\"],[0.6666666666666666,\"#ed7953\"],[0.7777777777777778,\"#fb9f3a\"],[0.8888888888888888,\"#fdca26\"],[1.0,\"#f0f921\"]]}],\"mesh3d\":[{\"type\":\"mesh3d\",\"colorbar\":{\"outlinewidth\":0,\"ticks\":\"\"}}],\"scatter\":[{\"fillpattern\":{\"fillmode\":\"overlay\",\"size\":10,\"solidity\":0.2},\"type\":\"scatter\"}],\"parcoords\":[{\"type\":\"parcoords\",\"line\":{\"colorbar\":{\"outlinewidth\":0,\"ticks\":\"\"}}}],\"scatterpolargl\":[{\"type\":\"scatterpolargl\",\"marker\":{\"colorbar\":{\"outlinewidth\":0,\"ticks\":\"\"}}}],\"bar\":[{\"error_x\":{\"color\":\"#2a3f5f\"},\"error_y\":{\"color\":\"#2a3f5f\"},\"marker\":{\"line\":{\"color\":\"#E5ECF6\",\"width\":0.5},\"pattern\":{\"fillmode\":\"overlay\",\"size\":10,\"solidity\":0.2}},\"type\":\"bar\"}],\"scattergeo\":[{\"type\":\"scattergeo\",\"marker\":{\"colorbar\":{\"outlinewidth\":0,\"ticks\":\"\"}}}],\"scatterpolar\":[{\"type\":\"scatterpolar\",\"marker\":{\"colorbar\":{\"outlinewidth\":0,\"ticks\":\"\"}}}],\"histogram\":[{\"marker\":{\"pattern\":{\"fillmode\":\"overlay\",\"size\":10,\"solidity\":0.2}},\"type\":\"histogram\"}],\"scattergl\":[{\"type\":\"scattergl\",\"marker\":{\"colorbar\":{\"outlinewidth\":0,\"ticks\":\"\"}}}],\"scatter3d\":[{\"type\":\"scatter3d\",\"line\":{\"colorbar\":{\"outlinewidth\":0,\"ticks\":\"\"}},\"marker\":{\"colorbar\":{\"outlinewidth\":0,\"ticks\":\"\"}}}],\"scattermapbox\":[{\"type\":\"scattermapbox\",\"marker\":{\"colorbar\":{\"outlinewidth\":0,\"ticks\":\"\"}}}],\"scatterternary\":[{\"type\":\"scatterternary\",\"marker\":{\"colorbar\":{\"outlinewidth\":0,\"ticks\":\"\"}}}],\"scattercarpet\":[{\"type\":\"scattercarpet\",\"marker\":{\"colorbar\":{\"outlinewidth\":0,\"ticks\":\"\"}}}],\"carpet\":[{\"aaxis\":{\"endlinecolor\":\"#2a3f5f\",\"gridcolor\":\"white\",\"linecolor\":\"white\",\"minorgridcolor\":\"white\",\"startlinecolor\":\"#2a3f5f\"},\"baxis\":{\"endlinecolor\":\"#2a3f5f\",\"gridcolor\":\"white\",\"linecolor\":\"white\",\"minorgridcolor\":\"white\",\"startlinecolor\":\"#2a3f5f\"},\"type\":\"carpet\"}],\"table\":[{\"cells\":{\"fill\":{\"color\":\"#EBF0F8\"},\"line\":{\"color\":\"white\"}},\"header\":{\"fill\":{\"color\":\"#C8D4E3\"},\"line\":{\"color\":\"white\"}},\"type\":\"table\"}],\"barpolar\":[{\"marker\":{\"line\":{\"color\":\"#E5ECF6\",\"width\":0.5},\"pattern\":{\"fillmode\":\"overlay\",\"size\":10,\"solidity\":0.2}},\"type\":\"barpolar\"}],\"pie\":[{\"automargin\":true,\"type\":\"pie\"}]},\"layout\":{\"autotypenumbers\":\"strict\",\"colorway\":[\"#636efa\",\"#EF553B\",\"#00cc96\",\"#ab63fa\",\"#FFA15A\",\"#19d3f3\",\"#FF6692\",\"#B6E880\",\"#FF97FF\",\"#FECB52\"],\"font\":{\"color\":\"#2a3f5f\"},\"hovermode\":\"closest\",\"hoverlabel\":{\"align\":\"left\"},\"paper_bgcolor\":\"white\",\"plot_bgcolor\":\"#E5ECF6\",\"polar\":{\"bgcolor\":\"#E5ECF6\",\"angularaxis\":{\"gridcolor\":\"white\",\"linecolor\":\"white\",\"ticks\":\"\"},\"radialaxis\":{\"gridcolor\":\"white\",\"linecolor\":\"white\",\"ticks\":\"\"}},\"ternary\":{\"bgcolor\":\"#E5ECF6\",\"aaxis\":{\"gridcolor\":\"white\",\"linecolor\":\"white\",\"ticks\":\"\"},\"baxis\":{\"gridcolor\":\"white\",\"linecolor\":\"white\",\"ticks\":\"\"},\"caxis\":{\"gridcolor\":\"white\",\"linecolor\":\"white\",\"ticks\":\"\"}},\"coloraxis\":{\"colorbar\":{\"outlinewidth\":0,\"ticks\":\"\"}},\"colorscale\":{\"sequential\":[[0.0,\"#0d0887\"],[0.1111111111111111,\"#46039f\"],[0.2222222222222222,\"#7201a8\"],[0.3333333333333333,\"#9c179e\"],[0.4444444444444444,\"#bd3786\"],[0.5555555555555556,\"#d8576b\"],[0.6666666666666666,\"#ed7953\"],[0.7777777777777778,\"#fb9f3a\"],[0.8888888888888888,\"#fdca26\"],[1.0,\"#f0f921\"]],\"sequentialminus\":[[0.0,\"#0d0887\"],[0.1111111111111111,\"#46039f\"],[0.2222222222222222,\"#7201a8\"],[0.3333333333333333,\"#9c179e\"],[0.4444444444444444,\"#bd3786\"],[0.5555555555555556,\"#d8576b\"],[0.6666666666666666,\"#ed7953\"],[0.7777777777777778,\"#fb9f3a\"],[0.8888888888888888,\"#fdca26\"],[1.0,\"#f0f921\"]],\"diverging\":[[0,\"#8e0152\"],[0.1,\"#c51b7d\"],[0.2,\"#de77ae\"],[0.3,\"#f1b6da\"],[0.4,\"#fde0ef\"],[0.5,\"#f7f7f7\"],[0.6,\"#e6f5d0\"],[0.7,\"#b8e186\"],[0.8,\"#7fbc41\"],[0.9,\"#4d9221\"],[1,\"#276419\"]]},\"xaxis\":{\"gridcolor\":\"white\",\"linecolor\":\"white\",\"ticks\":\"\",\"title\":{\"standoff\":15},\"zerolinecolor\":\"white\",\"automargin\":true,\"zerolinewidth\":2},\"yaxis\":{\"gridcolor\":\"white\",\"linecolor\":\"white\",\"ticks\":\"\",\"title\":{\"standoff\":15},\"zerolinecolor\":\"white\",\"automargin\":true,\"zerolinewidth\":2},\"scene\":{\"xaxis\":{\"backgroundcolor\":\"#E5ECF6\",\"gridcolor\":\"white\",\"linecolor\":\"white\",\"showbackground\":true,\"ticks\":\"\",\"zerolinecolor\":\"white\",\"gridwidth\":2},\"yaxis\":{\"backgroundcolor\":\"#E5ECF6\",\"gridcolor\":\"white\",\"linecolor\":\"white\",\"showbackground\":true,\"ticks\":\"\",\"zerolinecolor\":\"white\",\"gridwidth\":2},\"zaxis\":{\"backgroundcolor\":\"#E5ECF6\",\"gridcolor\":\"white\",\"linecolor\":\"white\",\"showbackground\":true,\"ticks\":\"\",\"zerolinecolor\":\"white\",\"gridwidth\":2}},\"shapedefaults\":{\"line\":{\"color\":\"#2a3f5f\"}},\"annotationdefaults\":{\"arrowcolor\":\"#2a3f5f\",\"arrowhead\":0,\"arrowwidth\":1},\"geo\":{\"bgcolor\":\"white\",\"landcolor\":\"#E5ECF6\",\"subunitcolor\":\"white\",\"showland\":true,\"showlakes\":true,\"lakecolor\":\"white\"},\"title\":{\"x\":0.05},\"mapbox\":{\"style\":\"light\"}}},\"xaxis\":{\"anchor\":\"y\",\"domain\":[0.0,1.0],\"title\":{\"text\":\"Schizophrenia\"}},\"yaxis\":{\"anchor\":\"x\",\"domain\":[0.0,1.0],\"title\":{\"text\":\"Bipolar\"}},\"coloraxis\":{\"colorbar\":{\"title\":{\"text\":\"Cluster\"}},\"colorscale\":[[0.0,\"#0d0887\"],[0.1111111111111111,\"#46039f\"],[0.2222222222222222,\"#7201a8\"],[0.3333333333333333,\"#9c179e\"],[0.4444444444444444,\"#bd3786\"],[0.5555555555555556,\"#d8576b\"],[0.6666666666666666,\"#ed7953\"],[0.7777777777777778,\"#fb9f3a\"],[0.8888888888888888,\"#fdca26\"],[1.0,\"#f0f921\"]]},\"legend\":{\"tracegroupgap\":0},\"title\":{\"text\":\"Schizophrenia vs Bipolar\"},\"height\":600},                        {\"responsive\": true}                    ).then(function(){\n",
       "                            \n",
       "var gd = document.getElementById('76d22dfc-e4ad-4069-b850-019148e50fb6');\n",
       "var x = new MutationObserver(function (mutations, observer) {{\n",
       "        var display = window.getComputedStyle(gd).display;\n",
       "        if (!display || display === 'none') {{\n",
       "            console.log([gd, 'removed!']);\n",
       "            Plotly.purge(gd);\n",
       "            observer.disconnect();\n",
       "        }}\n",
       "}});\n",
       "\n",
       "// Listen for the removal of the full notebook cells\n",
       "var notebookContainer = gd.closest('#notebook-container');\n",
       "if (notebookContainer) {{\n",
       "    x.observe(notebookContainer, {childList: true});\n",
       "}}\n",
       "\n",
       "// Listen for the clearing of the current output cell\n",
       "var outputEl = gd.closest('.output');\n",
       "if (outputEl) {{\n",
       "    x.observe(outputEl, {childList: true});\n",
       "}}\n",
       "\n",
       "                        })                };                });            </script>        </div>"
      ]
     },
     "metadata": {},
     "output_type": "display_data"
    },
    {
     "data": {
      "application/vnd.plotly.v1+json": {
       "config": {
        "plotlyServerURL": "https://plot.ly"
       },
       "data": [
        {
         "customdata": [
          [
           "AFG"
          ],
          [
           "AGO"
          ],
          [
           "ALB"
          ],
          [
           "AND"
          ],
          [
           "ARE"
          ],
          [
           "ARG"
          ],
          [
           "ARM"
          ],
          [
           "ASM"
          ],
          [
           "ATG"
          ],
          [
           "AUS"
          ],
          [
           "AUT"
          ],
          [
           "AZE"
          ],
          [
           "BDI"
          ],
          [
           "BEL"
          ],
          [
           "BEN"
          ],
          [
           "BFA"
          ],
          [
           "BGD"
          ],
          [
           "BGR"
          ],
          [
           "BHR"
          ],
          [
           "BHS"
          ],
          [
           "BIH"
          ],
          [
           "BLR"
          ],
          [
           "BLZ"
          ],
          [
           "BMU"
          ],
          [
           "BOL"
          ],
          [
           "BRA"
          ],
          [
           "BRB"
          ],
          [
           "BRN"
          ],
          [
           "BTN"
          ],
          [
           "BWA"
          ],
          [
           "CAF"
          ],
          [
           "CAN"
          ],
          [
           "CHE"
          ],
          [
           "CHL"
          ],
          [
           "CHN"
          ],
          [
           "CIV"
          ],
          [
           "CMR"
          ],
          [
           "COD"
          ],
          [
           "COG"
          ],
          [
           "COK"
          ],
          [
           "COL"
          ],
          [
           "COM"
          ],
          [
           "CPV"
          ],
          [
           "CRI"
          ],
          [
           "CUB"
          ],
          [
           "CYP"
          ],
          [
           "CZE"
          ],
          [
           "DEU"
          ],
          [
           "DJI"
          ],
          [
           "DMA"
          ],
          [
           "DNK"
          ],
          [
           "DOM"
          ],
          [
           "DZA"
          ],
          [
           "ECU"
          ],
          [
           "EGY"
          ],
          [
           "ERI"
          ],
          [
           "ESP"
          ],
          [
           "EST"
          ],
          [
           "ETH"
          ],
          [
           "FIN"
          ],
          [
           "FJI"
          ],
          [
           "FRA"
          ],
          [
           "FSM"
          ],
          [
           "GAB"
          ],
          [
           "GBR"
          ],
          [
           "GEO"
          ],
          [
           "GHA"
          ],
          [
           "GIN"
          ],
          [
           "GMB"
          ],
          [
           "GNB"
          ],
          [
           "GNQ"
          ],
          [
           "GRC"
          ],
          [
           "GRD"
          ],
          [
           "GRL"
          ],
          [
           "GTM"
          ],
          [
           "GUM"
          ],
          [
           "GUY"
          ],
          [
           "HND"
          ],
          [
           "HRV"
          ],
          [
           "HTI"
          ],
          [
           "HUN"
          ],
          [
           "IDN"
          ],
          [
           "IND"
          ],
          [
           "IRL"
          ],
          [
           "IRN"
          ],
          [
           "IRQ"
          ],
          [
           "ISL"
          ],
          [
           "ISR"
          ],
          [
           "ITA"
          ],
          [
           "JAM"
          ],
          [
           "JOR"
          ],
          [
           "JPN"
          ],
          [
           "KAZ"
          ],
          [
           "KEN"
          ],
          [
           "KGZ"
          ],
          [
           "KHM"
          ],
          [
           "KIR"
          ],
          [
           "KNA"
          ],
          [
           "KOR"
          ],
          [
           "KWT"
          ],
          [
           "LAO"
          ],
          [
           "LBN"
          ],
          [
           "LBR"
          ],
          [
           "LBY"
          ],
          [
           "LCA"
          ],
          [
           "LKA"
          ],
          [
           "LSO"
          ],
          [
           "LTU"
          ],
          [
           "LUX"
          ],
          [
           "LVA"
          ],
          [
           "MAR"
          ],
          [
           "MCO"
          ],
          [
           "MDA"
          ],
          [
           "MDG"
          ],
          [
           "MDV"
          ],
          [
           "MEX"
          ],
          [
           "MHL"
          ],
          [
           "MKD"
          ],
          [
           "MLI"
          ],
          [
           "MLT"
          ],
          [
           "MMR"
          ],
          [
           "MNE"
          ],
          [
           "MNG"
          ],
          [
           "MNP"
          ],
          [
           "MOZ"
          ],
          [
           "MRT"
          ],
          [
           "MUS"
          ],
          [
           "MWI"
          ],
          [
           "MYS"
          ],
          [
           "NAM"
          ],
          [
           "NER"
          ],
          [
           "NGA"
          ],
          [
           "NIC"
          ],
          [
           "NIU"
          ],
          [
           "NLD"
          ],
          [
           "NOR"
          ],
          [
           "NPL"
          ],
          [
           "NRU"
          ],
          [
           "NZL"
          ],
          [
           "OMN"
          ],
          [
           "OWID_WRL"
          ],
          [
           "PAK"
          ],
          [
           "PAN"
          ],
          [
           "PER"
          ],
          [
           "PHL"
          ],
          [
           "PLW"
          ],
          [
           "PNG"
          ],
          [
           "POL"
          ],
          [
           "PRI"
          ],
          [
           "PRK"
          ],
          [
           "PRT"
          ],
          [
           "PRY"
          ],
          [
           "PSE"
          ],
          [
           "QAT"
          ],
          [
           "ROU"
          ],
          [
           "RUS"
          ],
          [
           "RWA"
          ],
          [
           "SAU"
          ],
          [
           "SDN"
          ],
          [
           "SEN"
          ],
          [
           "SGP"
          ],
          [
           "SLB"
          ],
          [
           "SLE"
          ],
          [
           "SLV"
          ],
          [
           "SMR"
          ],
          [
           "SOM"
          ],
          [
           "SRB"
          ],
          [
           "SSD"
          ],
          [
           "STP"
          ],
          [
           "SUR"
          ],
          [
           "SVK"
          ],
          [
           "SVN"
          ],
          [
           "SWE"
          ],
          [
           "SWZ"
          ],
          [
           "SYC"
          ],
          [
           "SYR"
          ],
          [
           "TCD"
          ],
          [
           "TGO"
          ],
          [
           "THA"
          ],
          [
           "TJK"
          ],
          [
           "TKL"
          ],
          [
           "TKM"
          ],
          [
           "TLS"
          ],
          [
           "TON"
          ],
          [
           "TTO"
          ],
          [
           "TUN"
          ],
          [
           "TUR"
          ],
          [
           "TUV"
          ],
          [
           "TWN"
          ],
          [
           "TZA"
          ],
          [
           "UGA"
          ],
          [
           "UKR"
          ],
          [
           "URY"
          ],
          [
           "USA"
          ],
          [
           "UZB"
          ],
          [
           "VCT"
          ],
          [
           "VEN"
          ],
          [
           "VIR"
          ],
          [
           "VNM"
          ],
          [
           "VUT"
          ],
          [
           "WSM"
          ],
          [
           "YEM"
          ],
          [
           "ZAF"
          ],
          [
           "ZMB"
          ],
          [
           "ZWE"
          ]
         ],
         "hovertemplate": "Schizophrenia=%{x}<br>Eating=%{y}<br>Code=%{customdata[0]}<br>Cluster=%{marker.color}<extra></extra>",
         "legendgroup": "",
         "marker": {
          "color": [
           0,
           0,
           1,
           2,
           1,
           2,
           1,
           1,
           1,
           2,
           2,
           1,
           0,
           2,
           0,
           0,
           0,
           1,
           0,
           1,
           1,
           0,
           1,
           1,
           2,
           2,
           1,
           1,
           0,
           0,
           0,
           1,
           2,
           0,
           1,
           0,
           0,
           0,
           0,
           1,
           1,
           0,
           0,
           1,
           0,
           2,
           1,
           2,
           0,
           1,
           2,
           0,
           0,
           2,
           0,
           0,
           0,
           0,
           0,
           0,
           1,
           2,
           1,
           0,
           0,
           1,
           0,
           0,
           0,
           0,
           0,
           2,
           1,
           0,
           0,
           1,
           0,
           1,
           1,
           1,
           1,
           1,
           0,
           2,
           2,
           2,
           2,
           0,
           2,
           1,
           0,
           1,
           1,
           0,
           1,
           1,
           1,
           0,
           1,
           0,
           1,
           2,
           0,
           2,
           1,
           1,
           0,
           0,
           2,
           0,
           0,
           2,
           1,
           0,
           1,
           1,
           1,
           1,
           1,
           2,
           1,
           1,
           1,
           1,
           0,
           1,
           0,
           0,
           1,
           1,
           0,
           0,
           1,
           1,
           2,
           2,
           0,
           1,
           2,
           0,
           1,
           0,
           1,
           2,
           1,
           1,
           1,
           1,
           1,
           1,
           2,
           2,
           0,
           0,
           1,
           1,
           0,
           0,
           0,
           0,
           1,
           1,
           0,
           1,
           2,
           0,
           1,
           0,
           1,
           0,
           1,
           1,
           0,
           0,
           1,
           2,
           0,
           0,
           1,
           1,
           1,
           1,
           1,
           1,
           0,
           0,
           0,
           1,
           1,
           0,
           0,
           0,
           2,
           2,
           1,
           1,
           1,
           1,
           1,
           1,
           1,
           0,
           0,
           0,
           1
          ],
          "coloraxis": "coloraxis",
          "symbol": "circle"
         },
         "mode": "markers",
         "name": "",
         "orientation": "v",
         "showlegend": false,
         "type": "scatter",
         "x": [
          0.22324695556780333,
          0.22052188945581738,
          0.28207726832768776,
          0.2867091715995242,
          0.2805658245032455,
          0.30661608731296025,
          0.27767361041384386,
          0.30371535202825506,
          0.2857131143424153,
          0.37502654980603284,
          0.27442690103178696,
          0.27539337641389844,
          0.2079030008843888,
          0.2728814167120766,
          0.2145451759812559,
          0.21638110385493373,
          0.2766272342540206,
          0.28198756393890795,
          0.2711078162962963,
          0.28308295552724594,
          0.28273450892857144,
          0.2717090350500191,
          0.26918942813798574,
          0.29900289345093545,
          0.2637104890750089,
          0.27497182368483064,
          0.2812676582657503,
          0.30089432610232913,
          0.2843863536848306,
          0.2220602503995734,
          0.20025636974723174,
          0.28537930165537556,
          0.27813267109793816,
          0.27104244157042,
          0.2976860091553756,
          0.22188980171207656,
          0.2163889630805651,
          0.20779626396827913,
          0.2180523266612158,
          0.30989461898527243,
          0.27591473801298205,
          0.22234901374153165,
          0.2271132357195876,
          0.2823875993768614,
          0.2753859570540206,
          0.2743616251851852,
          0.2933347862149088,
          0.2605641953270103,
          0.22247526582768778,
          0.2713664403402062,
          0.23042847385402063,
          0.2709449132676857,
          0.24906831296296297,
          0.2725659112415317,
          0.2505713272250267,
          0.21558678216732752,
          0.2657203846208476,
          0.28335343332768775,
          0.21631058522680413,
          0.26415957139809676,
          0.2878561667120766,
          0.26842275627597145,
          0.27078497798281786,
          0.23313241223320297,
          0.2574322863370341,
          0.2735432917857143,
          0.22058021677070744,
          0.21563881739051546,
          0.2199651912982327,
          0.20851015732701028,
          0.22700543011340207,
          0.2725686633921344,
          0.2737395347562592,
          0.3630942415982936,
          0.26213516313798574,
          0.3213324201764032,
          0.25851379562673305,
          0.2604973893180603,
          0.29063867443917524,
          0.24475159979857256,
          0.286610132028255,
          0.2844088749918237,
          0.28093616246350517,
          0.3391991135544919,
          0.2551810928277969,
          0.24720491522680413,
          0.2755286651088201,
          0.2974329848596352,
          0.29372699874153163,
          0.2749120364726995,
          0.2544913031581941,
          0.3022178957142857,
          0.2741304083175258,
          0.22095907539051546,
          0.2632020173270103,
          0.2634032274662085,
          0.2597215494745823,
          0.27800159387835055,
          0.2941971924908802,
          0.27592942052724595,
          0.26862153045431925,
          0.2558954252835052,
          0.21197442943566247,
          0.2582785979365583,
          0.2747752818336296,
          0.2900396655272459,
          0.20995926344108984,
          0.28169890446350515,
          0.27789365905402064,
          0.2784796635450172,
          0.24259936646350513,
          0.29121244179896905,
          0.26720363583029344,
          0.21639163900649103,
          0.29834826935289455,
          0.2829413212,
          0.27301390566350514,
          0.28436892743917525,
          0.21380926166058684,
          0.27486629358366377,
          0.26426056177548685,
          0.28473266092701033,
          0.2651903934509355,
          0.315059927613402,
          0.20180888505292097,
          0.22224530604352807,
          0.29515160918289424,
          0.20557873974723176,
          0.3082041536,
          0.2238438743021685,
          0.21147376858366376,
          0.22344642122871325,
          0.26899251577250854,
          0.2937546647562592,
          0.37027578846563575,
          0.2824926228133665,
          0.2710067155489691,
          0.2811961415990836,
          0.38125951943917524,
          0.2650266962149088,
          0.2874154341058419,
          0.28032525974723177,
          0.2804268097722994,
          0.27370958992890154,
          0.28448166735087094,
          0.2983782251851852,
          0.27033782870578904,
          0.28792807689911637,
          0.2869671098648339,
          0.2670026385317869,
          0.2686416890419735,
          0.2744454046995582,
          0.24861607719999998,
          0.281687561488802,
          0.28317414436131566,
          0.27843793524398625,
          0.2109467438823024,
          0.2630424669841396,
          0.2323842622810233,
          0.22131698710626485,
          0.3132778668635051,
          0.257818923938908,
          0.2116675445620466,
          0.2659670493768614,
          0.28123458980603283,
          0.18984313000000003,
          0.28146455202825504,
          0.23308906980603283,
          0.22419032304896905,
          0.27165588172701033,
          0.28697743585402063,
          0.2950706354391752,
          0.27932293605292097,
          0.22143042179051545,
          0.3021514751701031,
          0.24921584992363496,
          0.21410276878492712,
          0.2164186420870561,
          0.28988872826011103,
          0.2642070915227186,
          0.28331125878492713,
          0.2720888943424153,
          0.2583535259977909,
          0.28831183054677356,
          0.27795143870578903,
          0.25341688827098674,
          0.24894566752500957,
          0.2721953883853537,
          0.29717480319816725,
          0.21393362752500952,
          0.21161617499121801,
          0.27119409045431925,
          0.3065582809524187,
          0.44164188467644727,
          0.2661422273687549,
          0.27067089368483066,
          0.2762463494558174,
          0.2929431782069492,
          0.3105360071546392,
          0.2709621597562592,
          0.28512297582768775,
          0.2365758576426117,
          0.2280854698129602,
          0.22326606358103093,
          0.21258696061512028
         ],
         "xaxis": "x",
         "y": [
          0.12070402017530106,
          0.1197453720099612,
          0.11581277430855204,
          0.47416518151072745,
          0.2974054692058455,
          0.3008960317599612,
          0.10570859110714285,
          0.1305997748148148,
          0.2529710399742469,
          0.7577623264147143,
          0.4922531643599774,
          0.12492699329327299,
          0.08513920446137038,
          0.3831896879970847,
          0.10712508072356232,
          0.09411878799708466,
          0.10737334819673483,
          0.14288544162660632,
          0.27070682017183173,
          0.27910707851992245,
          0.12827071049416933,
          0.12424558535399362,
          0.18445296189534283,
          0.31763215550214174,
          0.20732362291860196,
          0.21291552247424692,
          0.23509339701033016,
          0.40446675792290265,
          0.12384167193853264,
          0.16086202135444533,
          0.08969499236734706,
          0.39269714442565606,
          0.44438223849659875,
          0.20541683081890127,
          0.09153887350996122,
          0.11044634098712346,
          0.1098885261347947,
          0.07620813294767143,
          0.13326053508820096,
          0.14135818123712346,
          0.19483065681179149,
          0.09711907636710407,
          0.12667516243061236,
          0.20815073755253224,
          0.1760216141567348,
          0.3727692705422021,
          0.17701970145525928,
          0.3952164745855783,
          0.10533597802283776,
          0.1947478753313898,
          0.40944256495673487,
          0.19555075565235763,
          0.19359553236734706,
          0.25630344516569487,
          0.17741029843584333,
          0.08414943457692307,
          0.5277304642459059,
          0.15498843533138978,
          0.06820028414285714,
          0.4312972228430143,
          0.11166330544849386,
          0.4043248153291472,
          0.09238889074659878,
          0.17975725549237634,
          0.3684945509199373,
          0.11795506299708468,
          0.1012194162413793,
          0.09207028430557827,
          0.10590849166277956,
          0.08564769511999999,
          0.16950637741277957,
          0.4155398372088688,
          0.19916507159426633,
          0.43664386825099705,
          0.17775507994453182,
          0.17582236775107088,
          0.16794112427304725,
          0.15744579182514495,
          0.15642254464263047,
          0.12636099139534285,
          0.16595632128294285,
          0.10340323937649554,
          0.10342457570557828,
          0.3559302299484938,
          0.2270790331347947,
          0.18079746623712345,
          0.38915464273771744,
          0.3393183767169022,
          0.48438431566277956,
          0.1902955842459058,
          0.1809663304550788,
          0.35737724549708466,
          0.14469003131673483,
          0.10555298709115656,
          0.10493325990231311,
          0.08679579976140103,
          0.07740181169927289,
          0.25789823982131527,
          0.28404834227995823,
          0.31463550978279897,
          0.09732049331714775,
          0.2038757787113704,
          0.08425659625623595,
          0.22979735938147577,
          0.20577656374337336,
          0.11111176998420813,
          0.10899542144849385,
          0.14806872978557828,
          0.5178168772,
          0.1455556199759638,
          0.1716530783423131,
          0.6793290366065762,
          0.11141352622762965,
          0.08463020937037037,
          0.12076523382914722,
          0.23034363855673484,
          0.08758332785115655,
          0.13494638706394568,
          0.09404674674149668,
          0.3485587003568813,
          0.08424760007105077,
          0.1472627115423131,
          0.10996644598664655,
          0.16457190923420814,
          0.09558482169455805,
          0.12808722672134068,
          0.1251686036769968,
          0.08862511258956929,
          0.13815980655673482,
          0.1467872258372039,
          0.10231384914756697,
          0.13938220847241156,
          0.15809750310657614,
          0.11347594518853264,
          0.32883069144331073,
          0.43714273689655175,
          0.0981677133866214,
          0.11200676436734706,
          0.5165222706185942,
          0.2581842042030351,
          0.16106533564263045,
          0.1100065399496095,
          0.2295968693321503,
          0.2612726716744078,
          0.09810892642341083,
          0.1254959734043841,
          0.08522401493380438,
          0.15748661478279896,
          0.2883002825658857,
          0.07691175263662141,
          0.37070324390281834,
          0.19767276464285713,
          0.15029640695673482,
          0.32656253774618815,
          0.13704254752380954,
          0.14531485794960952,
          0.10366702259155353,
          0.24866725802145492,
          0.13862022716880842,
          0.10422414093380437,
          0.3726920139711566,
          0.0802074251080878,
          0.08237003540740741,
          0.17455692703703704,
          0.473863211256236,
          0.05684520242341082,
          0.13448020129327298,
          0.14657723296296296,
          0.10884282696995475,
          0.20209823757115652,
          0.15853812677115656,
          0.16980871679727902,
          0.4281977614639457,
          0.14430719338557826,
          0.13810624852283776,
          0.15766104182514495,
          0.09117878153929161,
          0.08679864229629629,
          0.11552098798613296,
          0.08968278771403385,
          0.09670213473375565,
          0.1241622782599612,
          0.09164128518853264,
          0.11107272477173116,
          0.2473763090245945,
          0.18574898247424693,
          0.23015092994658623,
          0.09393133719164923,
          0.15107956906072065,
          0.10266128681179151,
          0.09609209466364337,
          0.12539049657095958,
          0.2960868670737835,
          0.39289272973835715,
          0.10581012931841977,
          0.1929836740942663,
          0.21526485785714286,
          0.3158279545628624,
          0.09498553245175127,
          0.08766240996137038,
          0.09453744854567549,
          0.1478786699198793,
          0.15869395335422753,
          0.10927497785115654,
          0.11110131955328807
         ],
         "yaxis": "y"
        }
       ],
       "layout": {
        "coloraxis": {
         "colorbar": {
          "title": {
           "text": "Cluster"
          }
         },
         "colorscale": [
          [
           0,
           "#0d0887"
          ],
          [
           0.1111111111111111,
           "#46039f"
          ],
          [
           0.2222222222222222,
           "#7201a8"
          ],
          [
           0.3333333333333333,
           "#9c179e"
          ],
          [
           0.4444444444444444,
           "#bd3786"
          ],
          [
           0.5555555555555556,
           "#d8576b"
          ],
          [
           0.6666666666666666,
           "#ed7953"
          ],
          [
           0.7777777777777778,
           "#fb9f3a"
          ],
          [
           0.8888888888888888,
           "#fdca26"
          ],
          [
           1,
           "#f0f921"
          ]
         ]
        },
        "height": 600,
        "legend": {
         "tracegroupgap": 0
        },
        "template": {
         "data": {
          "bar": [
           {
            "error_x": {
             "color": "#2a3f5f"
            },
            "error_y": {
             "color": "#2a3f5f"
            },
            "marker": {
             "line": {
              "color": "#E5ECF6",
              "width": 0.5
             },
             "pattern": {
              "fillmode": "overlay",
              "size": 10,
              "solidity": 0.2
             }
            },
            "type": "bar"
           }
          ],
          "barpolar": [
           {
            "marker": {
             "line": {
              "color": "#E5ECF6",
              "width": 0.5
             },
             "pattern": {
              "fillmode": "overlay",
              "size": 10,
              "solidity": 0.2
             }
            },
            "type": "barpolar"
           }
          ],
          "carpet": [
           {
            "aaxis": {
             "endlinecolor": "#2a3f5f",
             "gridcolor": "white",
             "linecolor": "white",
             "minorgridcolor": "white",
             "startlinecolor": "#2a3f5f"
            },
            "baxis": {
             "endlinecolor": "#2a3f5f",
             "gridcolor": "white",
             "linecolor": "white",
             "minorgridcolor": "white",
             "startlinecolor": "#2a3f5f"
            },
            "type": "carpet"
           }
          ],
          "choropleth": [
           {
            "colorbar": {
             "outlinewidth": 0,
             "ticks": ""
            },
            "type": "choropleth"
           }
          ],
          "contour": [
           {
            "colorbar": {
             "outlinewidth": 0,
             "ticks": ""
            },
            "colorscale": [
             [
              0,
              "#0d0887"
             ],
             [
              0.1111111111111111,
              "#46039f"
             ],
             [
              0.2222222222222222,
              "#7201a8"
             ],
             [
              0.3333333333333333,
              "#9c179e"
             ],
             [
              0.4444444444444444,
              "#bd3786"
             ],
             [
              0.5555555555555556,
              "#d8576b"
             ],
             [
              0.6666666666666666,
              "#ed7953"
             ],
             [
              0.7777777777777778,
              "#fb9f3a"
             ],
             [
              0.8888888888888888,
              "#fdca26"
             ],
             [
              1,
              "#f0f921"
             ]
            ],
            "type": "contour"
           }
          ],
          "contourcarpet": [
           {
            "colorbar": {
             "outlinewidth": 0,
             "ticks": ""
            },
            "type": "contourcarpet"
           }
          ],
          "heatmap": [
           {
            "colorbar": {
             "outlinewidth": 0,
             "ticks": ""
            },
            "colorscale": [
             [
              0,
              "#0d0887"
             ],
             [
              0.1111111111111111,
              "#46039f"
             ],
             [
              0.2222222222222222,
              "#7201a8"
             ],
             [
              0.3333333333333333,
              "#9c179e"
             ],
             [
              0.4444444444444444,
              "#bd3786"
             ],
             [
              0.5555555555555556,
              "#d8576b"
             ],
             [
              0.6666666666666666,
              "#ed7953"
             ],
             [
              0.7777777777777778,
              "#fb9f3a"
             ],
             [
              0.8888888888888888,
              "#fdca26"
             ],
             [
              1,
              "#f0f921"
             ]
            ],
            "type": "heatmap"
           }
          ],
          "heatmapgl": [
           {
            "colorbar": {
             "outlinewidth": 0,
             "ticks": ""
            },
            "colorscale": [
             [
              0,
              "#0d0887"
             ],
             [
              0.1111111111111111,
              "#46039f"
             ],
             [
              0.2222222222222222,
              "#7201a8"
             ],
             [
              0.3333333333333333,
              "#9c179e"
             ],
             [
              0.4444444444444444,
              "#bd3786"
             ],
             [
              0.5555555555555556,
              "#d8576b"
             ],
             [
              0.6666666666666666,
              "#ed7953"
             ],
             [
              0.7777777777777778,
              "#fb9f3a"
             ],
             [
              0.8888888888888888,
              "#fdca26"
             ],
             [
              1,
              "#f0f921"
             ]
            ],
            "type": "heatmapgl"
           }
          ],
          "histogram": [
           {
            "marker": {
             "pattern": {
              "fillmode": "overlay",
              "size": 10,
              "solidity": 0.2
             }
            },
            "type": "histogram"
           }
          ],
          "histogram2d": [
           {
            "colorbar": {
             "outlinewidth": 0,
             "ticks": ""
            },
            "colorscale": [
             [
              0,
              "#0d0887"
             ],
             [
              0.1111111111111111,
              "#46039f"
             ],
             [
              0.2222222222222222,
              "#7201a8"
             ],
             [
              0.3333333333333333,
              "#9c179e"
             ],
             [
              0.4444444444444444,
              "#bd3786"
             ],
             [
              0.5555555555555556,
              "#d8576b"
             ],
             [
              0.6666666666666666,
              "#ed7953"
             ],
             [
              0.7777777777777778,
              "#fb9f3a"
             ],
             [
              0.8888888888888888,
              "#fdca26"
             ],
             [
              1,
              "#f0f921"
             ]
            ],
            "type": "histogram2d"
           }
          ],
          "histogram2dcontour": [
           {
            "colorbar": {
             "outlinewidth": 0,
             "ticks": ""
            },
            "colorscale": [
             [
              0,
              "#0d0887"
             ],
             [
              0.1111111111111111,
              "#46039f"
             ],
             [
              0.2222222222222222,
              "#7201a8"
             ],
             [
              0.3333333333333333,
              "#9c179e"
             ],
             [
              0.4444444444444444,
              "#bd3786"
             ],
             [
              0.5555555555555556,
              "#d8576b"
             ],
             [
              0.6666666666666666,
              "#ed7953"
             ],
             [
              0.7777777777777778,
              "#fb9f3a"
             ],
             [
              0.8888888888888888,
              "#fdca26"
             ],
             [
              1,
              "#f0f921"
             ]
            ],
            "type": "histogram2dcontour"
           }
          ],
          "mesh3d": [
           {
            "colorbar": {
             "outlinewidth": 0,
             "ticks": ""
            },
            "type": "mesh3d"
           }
          ],
          "parcoords": [
           {
            "line": {
             "colorbar": {
              "outlinewidth": 0,
              "ticks": ""
             }
            },
            "type": "parcoords"
           }
          ],
          "pie": [
           {
            "automargin": true,
            "type": "pie"
           }
          ],
          "scatter": [
           {
            "fillpattern": {
             "fillmode": "overlay",
             "size": 10,
             "solidity": 0.2
            },
            "type": "scatter"
           }
          ],
          "scatter3d": [
           {
            "line": {
             "colorbar": {
              "outlinewidth": 0,
              "ticks": ""
             }
            },
            "marker": {
             "colorbar": {
              "outlinewidth": 0,
              "ticks": ""
             }
            },
            "type": "scatter3d"
           }
          ],
          "scattercarpet": [
           {
            "marker": {
             "colorbar": {
              "outlinewidth": 0,
              "ticks": ""
             }
            },
            "type": "scattercarpet"
           }
          ],
          "scattergeo": [
           {
            "marker": {
             "colorbar": {
              "outlinewidth": 0,
              "ticks": ""
             }
            },
            "type": "scattergeo"
           }
          ],
          "scattergl": [
           {
            "marker": {
             "colorbar": {
              "outlinewidth": 0,
              "ticks": ""
             }
            },
            "type": "scattergl"
           }
          ],
          "scattermapbox": [
           {
            "marker": {
             "colorbar": {
              "outlinewidth": 0,
              "ticks": ""
             }
            },
            "type": "scattermapbox"
           }
          ],
          "scatterpolar": [
           {
            "marker": {
             "colorbar": {
              "outlinewidth": 0,
              "ticks": ""
             }
            },
            "type": "scatterpolar"
           }
          ],
          "scatterpolargl": [
           {
            "marker": {
             "colorbar": {
              "outlinewidth": 0,
              "ticks": ""
             }
            },
            "type": "scatterpolargl"
           }
          ],
          "scatterternary": [
           {
            "marker": {
             "colorbar": {
              "outlinewidth": 0,
              "ticks": ""
             }
            },
            "type": "scatterternary"
           }
          ],
          "surface": [
           {
            "colorbar": {
             "outlinewidth": 0,
             "ticks": ""
            },
            "colorscale": [
             [
              0,
              "#0d0887"
             ],
             [
              0.1111111111111111,
              "#46039f"
             ],
             [
              0.2222222222222222,
              "#7201a8"
             ],
             [
              0.3333333333333333,
              "#9c179e"
             ],
             [
              0.4444444444444444,
              "#bd3786"
             ],
             [
              0.5555555555555556,
              "#d8576b"
             ],
             [
              0.6666666666666666,
              "#ed7953"
             ],
             [
              0.7777777777777778,
              "#fb9f3a"
             ],
             [
              0.8888888888888888,
              "#fdca26"
             ],
             [
              1,
              "#f0f921"
             ]
            ],
            "type": "surface"
           }
          ],
          "table": [
           {
            "cells": {
             "fill": {
              "color": "#EBF0F8"
             },
             "line": {
              "color": "white"
             }
            },
            "header": {
             "fill": {
              "color": "#C8D4E3"
             },
             "line": {
              "color": "white"
             }
            },
            "type": "table"
           }
          ]
         },
         "layout": {
          "annotationdefaults": {
           "arrowcolor": "#2a3f5f",
           "arrowhead": 0,
           "arrowwidth": 1
          },
          "autotypenumbers": "strict",
          "coloraxis": {
           "colorbar": {
            "outlinewidth": 0,
            "ticks": ""
           }
          },
          "colorscale": {
           "diverging": [
            [
             0,
             "#8e0152"
            ],
            [
             0.1,
             "#c51b7d"
            ],
            [
             0.2,
             "#de77ae"
            ],
            [
             0.3,
             "#f1b6da"
            ],
            [
             0.4,
             "#fde0ef"
            ],
            [
             0.5,
             "#f7f7f7"
            ],
            [
             0.6,
             "#e6f5d0"
            ],
            [
             0.7,
             "#b8e186"
            ],
            [
             0.8,
             "#7fbc41"
            ],
            [
             0.9,
             "#4d9221"
            ],
            [
             1,
             "#276419"
            ]
           ],
           "sequential": [
            [
             0,
             "#0d0887"
            ],
            [
             0.1111111111111111,
             "#46039f"
            ],
            [
             0.2222222222222222,
             "#7201a8"
            ],
            [
             0.3333333333333333,
             "#9c179e"
            ],
            [
             0.4444444444444444,
             "#bd3786"
            ],
            [
             0.5555555555555556,
             "#d8576b"
            ],
            [
             0.6666666666666666,
             "#ed7953"
            ],
            [
             0.7777777777777778,
             "#fb9f3a"
            ],
            [
             0.8888888888888888,
             "#fdca26"
            ],
            [
             1,
             "#f0f921"
            ]
           ],
           "sequentialminus": [
            [
             0,
             "#0d0887"
            ],
            [
             0.1111111111111111,
             "#46039f"
            ],
            [
             0.2222222222222222,
             "#7201a8"
            ],
            [
             0.3333333333333333,
             "#9c179e"
            ],
            [
             0.4444444444444444,
             "#bd3786"
            ],
            [
             0.5555555555555556,
             "#d8576b"
            ],
            [
             0.6666666666666666,
             "#ed7953"
            ],
            [
             0.7777777777777778,
             "#fb9f3a"
            ],
            [
             0.8888888888888888,
             "#fdca26"
            ],
            [
             1,
             "#f0f921"
            ]
           ]
          },
          "colorway": [
           "#636efa",
           "#EF553B",
           "#00cc96",
           "#ab63fa",
           "#FFA15A",
           "#19d3f3",
           "#FF6692",
           "#B6E880",
           "#FF97FF",
           "#FECB52"
          ],
          "font": {
           "color": "#2a3f5f"
          },
          "geo": {
           "bgcolor": "white",
           "lakecolor": "white",
           "landcolor": "#E5ECF6",
           "showlakes": true,
           "showland": true,
           "subunitcolor": "white"
          },
          "hoverlabel": {
           "align": "left"
          },
          "hovermode": "closest",
          "mapbox": {
           "style": "light"
          },
          "paper_bgcolor": "white",
          "plot_bgcolor": "#E5ECF6",
          "polar": {
           "angularaxis": {
            "gridcolor": "white",
            "linecolor": "white",
            "ticks": ""
           },
           "bgcolor": "#E5ECF6",
           "radialaxis": {
            "gridcolor": "white",
            "linecolor": "white",
            "ticks": ""
           }
          },
          "scene": {
           "xaxis": {
            "backgroundcolor": "#E5ECF6",
            "gridcolor": "white",
            "gridwidth": 2,
            "linecolor": "white",
            "showbackground": true,
            "ticks": "",
            "zerolinecolor": "white"
           },
           "yaxis": {
            "backgroundcolor": "#E5ECF6",
            "gridcolor": "white",
            "gridwidth": 2,
            "linecolor": "white",
            "showbackground": true,
            "ticks": "",
            "zerolinecolor": "white"
           },
           "zaxis": {
            "backgroundcolor": "#E5ECF6",
            "gridcolor": "white",
            "gridwidth": 2,
            "linecolor": "white",
            "showbackground": true,
            "ticks": "",
            "zerolinecolor": "white"
           }
          },
          "shapedefaults": {
           "line": {
            "color": "#2a3f5f"
           }
          },
          "ternary": {
           "aaxis": {
            "gridcolor": "white",
            "linecolor": "white",
            "ticks": ""
           },
           "baxis": {
            "gridcolor": "white",
            "linecolor": "white",
            "ticks": ""
           },
           "bgcolor": "#E5ECF6",
           "caxis": {
            "gridcolor": "white",
            "linecolor": "white",
            "ticks": ""
           }
          },
          "title": {
           "x": 0.05
          },
          "xaxis": {
           "automargin": true,
           "gridcolor": "white",
           "linecolor": "white",
           "ticks": "",
           "title": {
            "standoff": 15
           },
           "zerolinecolor": "white",
           "zerolinewidth": 2
          },
          "yaxis": {
           "automargin": true,
           "gridcolor": "white",
           "linecolor": "white",
           "ticks": "",
           "title": {
            "standoff": 15
           },
           "zerolinecolor": "white",
           "zerolinewidth": 2
          }
         }
        },
        "title": {
         "text": "Schizophrenia vs Eating"
        },
        "xaxis": {
         "anchor": "y",
         "domain": [
          0,
          1
         ],
         "title": {
          "text": "Schizophrenia"
         }
        },
        "yaxis": {
         "anchor": "x",
         "domain": [
          0,
          1
         ],
         "title": {
          "text": "Eating"
         }
        }
       }
      },
      "text/html": [
       "<div>                            <div id=\"f926955c-3a5b-41cb-be0d-291131c97eb5\" class=\"plotly-graph-div\" style=\"height:600px; width:100%;\"></div>            <script type=\"text/javascript\">                require([\"plotly\"], function(Plotly) {                    window.PLOTLYENV=window.PLOTLYENV || {};                                    if (document.getElementById(\"f926955c-3a5b-41cb-be0d-291131c97eb5\")) {                    Plotly.newPlot(                        \"f926955c-3a5b-41cb-be0d-291131c97eb5\",                        [{\"customdata\":[[\"AFG\"],[\"AGO\"],[\"ALB\"],[\"AND\"],[\"ARE\"],[\"ARG\"],[\"ARM\"],[\"ASM\"],[\"ATG\"],[\"AUS\"],[\"AUT\"],[\"AZE\"],[\"BDI\"],[\"BEL\"],[\"BEN\"],[\"BFA\"],[\"BGD\"],[\"BGR\"],[\"BHR\"],[\"BHS\"],[\"BIH\"],[\"BLR\"],[\"BLZ\"],[\"BMU\"],[\"BOL\"],[\"BRA\"],[\"BRB\"],[\"BRN\"],[\"BTN\"],[\"BWA\"],[\"CAF\"],[\"CAN\"],[\"CHE\"],[\"CHL\"],[\"CHN\"],[\"CIV\"],[\"CMR\"],[\"COD\"],[\"COG\"],[\"COK\"],[\"COL\"],[\"COM\"],[\"CPV\"],[\"CRI\"],[\"CUB\"],[\"CYP\"],[\"CZE\"],[\"DEU\"],[\"DJI\"],[\"DMA\"],[\"DNK\"],[\"DOM\"],[\"DZA\"],[\"ECU\"],[\"EGY\"],[\"ERI\"],[\"ESP\"],[\"EST\"],[\"ETH\"],[\"FIN\"],[\"FJI\"],[\"FRA\"],[\"FSM\"],[\"GAB\"],[\"GBR\"],[\"GEO\"],[\"GHA\"],[\"GIN\"],[\"GMB\"],[\"GNB\"],[\"GNQ\"],[\"GRC\"],[\"GRD\"],[\"GRL\"],[\"GTM\"],[\"GUM\"],[\"GUY\"],[\"HND\"],[\"HRV\"],[\"HTI\"],[\"HUN\"],[\"IDN\"],[\"IND\"],[\"IRL\"],[\"IRN\"],[\"IRQ\"],[\"ISL\"],[\"ISR\"],[\"ITA\"],[\"JAM\"],[\"JOR\"],[\"JPN\"],[\"KAZ\"],[\"KEN\"],[\"KGZ\"],[\"KHM\"],[\"KIR\"],[\"KNA\"],[\"KOR\"],[\"KWT\"],[\"LAO\"],[\"LBN\"],[\"LBR\"],[\"LBY\"],[\"LCA\"],[\"LKA\"],[\"LSO\"],[\"LTU\"],[\"LUX\"],[\"LVA\"],[\"MAR\"],[\"MCO\"],[\"MDA\"],[\"MDG\"],[\"MDV\"],[\"MEX\"],[\"MHL\"],[\"MKD\"],[\"MLI\"],[\"MLT\"],[\"MMR\"],[\"MNE\"],[\"MNG\"],[\"MNP\"],[\"MOZ\"],[\"MRT\"],[\"MUS\"],[\"MWI\"],[\"MYS\"],[\"NAM\"],[\"NER\"],[\"NGA\"],[\"NIC\"],[\"NIU\"],[\"NLD\"],[\"NOR\"],[\"NPL\"],[\"NRU\"],[\"NZL\"],[\"OMN\"],[\"OWID_WRL\"],[\"PAK\"],[\"PAN\"],[\"PER\"],[\"PHL\"],[\"PLW\"],[\"PNG\"],[\"POL\"],[\"PRI\"],[\"PRK\"],[\"PRT\"],[\"PRY\"],[\"PSE\"],[\"QAT\"],[\"ROU\"],[\"RUS\"],[\"RWA\"],[\"SAU\"],[\"SDN\"],[\"SEN\"],[\"SGP\"],[\"SLB\"],[\"SLE\"],[\"SLV\"],[\"SMR\"],[\"SOM\"],[\"SRB\"],[\"SSD\"],[\"STP\"],[\"SUR\"],[\"SVK\"],[\"SVN\"],[\"SWE\"],[\"SWZ\"],[\"SYC\"],[\"SYR\"],[\"TCD\"],[\"TGO\"],[\"THA\"],[\"TJK\"],[\"TKL\"],[\"TKM\"],[\"TLS\"],[\"TON\"],[\"TTO\"],[\"TUN\"],[\"TUR\"],[\"TUV\"],[\"TWN\"],[\"TZA\"],[\"UGA\"],[\"UKR\"],[\"URY\"],[\"USA\"],[\"UZB\"],[\"VCT\"],[\"VEN\"],[\"VIR\"],[\"VNM\"],[\"VUT\"],[\"WSM\"],[\"YEM\"],[\"ZAF\"],[\"ZMB\"],[\"ZWE\"]],\"hovertemplate\":\"Schizophrenia=%{x}<br>Eating=%{y}<br>Code=%{customdata[0]}<br>Cluster=%{marker.color}<extra></extra>\",\"legendgroup\":\"\",\"marker\":{\"color\":[0,0,1,2,1,2,1,1,1,2,2,1,0,2,0,0,0,1,0,1,1,0,1,1,2,2,1,1,0,0,0,1,2,0,1,0,0,0,0,1,1,0,0,1,0,2,1,2,0,1,2,0,0,2,0,0,0,0,0,0,1,2,1,0,0,1,0,0,0,0,0,2,1,0,0,1,0,1,1,1,1,1,0,2,2,2,2,0,2,1,0,1,1,0,1,1,1,0,1,0,1,2,0,2,1,1,0,0,2,0,0,2,1,0,1,1,1,1,1,2,1,1,1,1,0,1,0,0,1,1,0,0,1,1,2,2,0,1,2,0,1,0,1,2,1,1,1,1,1,1,2,2,0,0,1,1,0,0,0,0,1,1,0,1,2,0,1,0,1,0,1,1,0,0,1,2,0,0,1,1,1,1,1,1,0,0,0,1,1,0,0,0,2,2,1,1,1,1,1,1,1,0,0,0,1],\"coloraxis\":\"coloraxis\",\"symbol\":\"circle\"},\"mode\":\"markers\",\"name\":\"\",\"orientation\":\"v\",\"showlegend\":false,\"x\":[0.22324695556780333,0.22052188945581738,0.28207726832768776,0.2867091715995242,0.2805658245032455,0.30661608731296025,0.27767361041384386,0.30371535202825506,0.2857131143424153,0.37502654980603284,0.27442690103178696,0.27539337641389844,0.2079030008843888,0.2728814167120766,0.2145451759812559,0.21638110385493373,0.2766272342540206,0.28198756393890795,0.2711078162962963,0.28308295552724594,0.28273450892857144,0.2717090350500191,0.26918942813798574,0.29900289345093545,0.2637104890750089,0.27497182368483064,0.2812676582657503,0.30089432610232913,0.2843863536848306,0.2220602503995734,0.20025636974723174,0.28537930165537556,0.27813267109793816,0.27104244157042,0.2976860091553756,0.22188980171207656,0.2163889630805651,0.20779626396827913,0.2180523266612158,0.30989461898527243,0.27591473801298205,0.22234901374153165,0.2271132357195876,0.2823875993768614,0.2753859570540206,0.2743616251851852,0.2933347862149088,0.2605641953270103,0.22247526582768778,0.2713664403402062,0.23042847385402063,0.2709449132676857,0.24906831296296297,0.2725659112415317,0.2505713272250267,0.21558678216732752,0.2657203846208476,0.28335343332768775,0.21631058522680413,0.26415957139809676,0.2878561667120766,0.26842275627597145,0.27078497798281786,0.23313241223320297,0.2574322863370341,0.2735432917857143,0.22058021677070744,0.21563881739051546,0.2199651912982327,0.20851015732701028,0.22700543011340207,0.2725686633921344,0.2737395347562592,0.3630942415982936,0.26213516313798574,0.3213324201764032,0.25851379562673305,0.2604973893180603,0.29063867443917524,0.24475159979857256,0.286610132028255,0.2844088749918237,0.28093616246350517,0.3391991135544919,0.2551810928277969,0.24720491522680413,0.2755286651088201,0.2974329848596352,0.29372699874153163,0.2749120364726995,0.2544913031581941,0.3022178957142857,0.2741304083175258,0.22095907539051546,0.2632020173270103,0.2634032274662085,0.2597215494745823,0.27800159387835055,0.2941971924908802,0.27592942052724595,0.26862153045431925,0.2558954252835052,0.21197442943566247,0.2582785979365583,0.2747752818336296,0.2900396655272459,0.20995926344108984,0.28169890446350515,0.27789365905402064,0.2784796635450172,0.24259936646350513,0.29121244179896905,0.26720363583029344,0.21639163900649103,0.29834826935289455,0.2829413212,0.27301390566350514,0.28436892743917525,0.21380926166058684,0.27486629358366377,0.26426056177548685,0.28473266092701033,0.2651903934509355,0.315059927613402,0.20180888505292097,0.22224530604352807,0.29515160918289424,0.20557873974723176,0.3082041536,0.2238438743021685,0.21147376858366376,0.22344642122871325,0.26899251577250854,0.2937546647562592,0.37027578846563575,0.2824926228133665,0.2710067155489691,0.2811961415990836,0.38125951943917524,0.2650266962149088,0.2874154341058419,0.28032525974723177,0.2804268097722994,0.27370958992890154,0.28448166735087094,0.2983782251851852,0.27033782870578904,0.28792807689911637,0.2869671098648339,0.2670026385317869,0.2686416890419735,0.2744454046995582,0.24861607719999998,0.281687561488802,0.28317414436131566,0.27843793524398625,0.2109467438823024,0.2630424669841396,0.2323842622810233,0.22131698710626485,0.3132778668635051,0.257818923938908,0.2116675445620466,0.2659670493768614,0.28123458980603283,0.18984313000000003,0.28146455202825504,0.23308906980603283,0.22419032304896905,0.27165588172701033,0.28697743585402063,0.2950706354391752,0.27932293605292097,0.22143042179051545,0.3021514751701031,0.24921584992363496,0.21410276878492712,0.2164186420870561,0.28988872826011103,0.2642070915227186,0.28331125878492713,0.2720888943424153,0.2583535259977909,0.28831183054677356,0.27795143870578903,0.25341688827098674,0.24894566752500957,0.2721953883853537,0.29717480319816725,0.21393362752500952,0.21161617499121801,0.27119409045431925,0.3065582809524187,0.44164188467644727,0.2661422273687549,0.27067089368483066,0.2762463494558174,0.2929431782069492,0.3105360071546392,0.2709621597562592,0.28512297582768775,0.2365758576426117,0.2280854698129602,0.22326606358103093,0.21258696061512028],\"xaxis\":\"x\",\"y\":[0.12070402017530106,0.1197453720099612,0.11581277430855204,0.47416518151072745,0.2974054692058455,0.3008960317599612,0.10570859110714285,0.1305997748148148,0.2529710399742469,0.7577623264147143,0.4922531643599774,0.12492699329327299,0.08513920446137038,0.3831896879970847,0.10712508072356232,0.09411878799708466,0.10737334819673483,0.14288544162660632,0.27070682017183173,0.27910707851992245,0.12827071049416933,0.12424558535399362,0.18445296189534283,0.31763215550214174,0.20732362291860196,0.21291552247424692,0.23509339701033016,0.40446675792290265,0.12384167193853264,0.16086202135444533,0.08969499236734706,0.39269714442565606,0.44438223849659875,0.20541683081890127,0.09153887350996122,0.11044634098712346,0.1098885261347947,0.07620813294767143,0.13326053508820096,0.14135818123712346,0.19483065681179149,0.09711907636710407,0.12667516243061236,0.20815073755253224,0.1760216141567348,0.3727692705422021,0.17701970145525928,0.3952164745855783,0.10533597802283776,0.1947478753313898,0.40944256495673487,0.19555075565235763,0.19359553236734706,0.25630344516569487,0.17741029843584333,0.08414943457692307,0.5277304642459059,0.15498843533138978,0.06820028414285714,0.4312972228430143,0.11166330544849386,0.4043248153291472,0.09238889074659878,0.17975725549237634,0.3684945509199373,0.11795506299708468,0.1012194162413793,0.09207028430557827,0.10590849166277956,0.08564769511999999,0.16950637741277957,0.4155398372088688,0.19916507159426633,0.43664386825099705,0.17775507994453182,0.17582236775107088,0.16794112427304725,0.15744579182514495,0.15642254464263047,0.12636099139534285,0.16595632128294285,0.10340323937649554,0.10342457570557828,0.3559302299484938,0.2270790331347947,0.18079746623712345,0.38915464273771744,0.3393183767169022,0.48438431566277956,0.1902955842459058,0.1809663304550788,0.35737724549708466,0.14469003131673483,0.10555298709115656,0.10493325990231311,0.08679579976140103,0.07740181169927289,0.25789823982131527,0.28404834227995823,0.31463550978279897,0.09732049331714775,0.2038757787113704,0.08425659625623595,0.22979735938147577,0.20577656374337336,0.11111176998420813,0.10899542144849385,0.14806872978557828,0.5178168772,0.1455556199759638,0.1716530783423131,0.6793290366065762,0.11141352622762965,0.08463020937037037,0.12076523382914722,0.23034363855673484,0.08758332785115655,0.13494638706394568,0.09404674674149668,0.3485587003568813,0.08424760007105077,0.1472627115423131,0.10996644598664655,0.16457190923420814,0.09558482169455805,0.12808722672134068,0.1251686036769968,0.08862511258956929,0.13815980655673482,0.1467872258372039,0.10231384914756697,0.13938220847241156,0.15809750310657614,0.11347594518853264,0.32883069144331073,0.43714273689655175,0.0981677133866214,0.11200676436734706,0.5165222706185942,0.2581842042030351,0.16106533564263045,0.1100065399496095,0.2295968693321503,0.2612726716744078,0.09810892642341083,0.1254959734043841,0.08522401493380438,0.15748661478279896,0.2883002825658857,0.07691175263662141,0.37070324390281834,0.19767276464285713,0.15029640695673482,0.32656253774618815,0.13704254752380954,0.14531485794960952,0.10366702259155353,0.24866725802145492,0.13862022716880842,0.10422414093380437,0.3726920139711566,0.0802074251080878,0.08237003540740741,0.17455692703703704,0.473863211256236,0.05684520242341082,0.13448020129327298,0.14657723296296296,0.10884282696995475,0.20209823757115652,0.15853812677115656,0.16980871679727902,0.4281977614639457,0.14430719338557826,0.13810624852283776,0.15766104182514495,0.09117878153929161,0.08679864229629629,0.11552098798613296,0.08968278771403385,0.09670213473375565,0.1241622782599612,0.09164128518853264,0.11107272477173116,0.2473763090245945,0.18574898247424693,0.23015092994658623,0.09393133719164923,0.15107956906072065,0.10266128681179151,0.09609209466364337,0.12539049657095958,0.2960868670737835,0.39289272973835715,0.10581012931841977,0.1929836740942663,0.21526485785714286,0.3158279545628624,0.09498553245175127,0.08766240996137038,0.09453744854567549,0.1478786699198793,0.15869395335422753,0.10927497785115654,0.11110131955328807],\"yaxis\":\"y\",\"type\":\"scatter\"}],                        {\"template\":{\"data\":{\"histogram2dcontour\":[{\"type\":\"histogram2dcontour\",\"colorbar\":{\"outlinewidth\":0,\"ticks\":\"\"},\"colorscale\":[[0.0,\"#0d0887\"],[0.1111111111111111,\"#46039f\"],[0.2222222222222222,\"#7201a8\"],[0.3333333333333333,\"#9c179e\"],[0.4444444444444444,\"#bd3786\"],[0.5555555555555556,\"#d8576b\"],[0.6666666666666666,\"#ed7953\"],[0.7777777777777778,\"#fb9f3a\"],[0.8888888888888888,\"#fdca26\"],[1.0,\"#f0f921\"]]}],\"choropleth\":[{\"type\":\"choropleth\",\"colorbar\":{\"outlinewidth\":0,\"ticks\":\"\"}}],\"histogram2d\":[{\"type\":\"histogram2d\",\"colorbar\":{\"outlinewidth\":0,\"ticks\":\"\"},\"colorscale\":[[0.0,\"#0d0887\"],[0.1111111111111111,\"#46039f\"],[0.2222222222222222,\"#7201a8\"],[0.3333333333333333,\"#9c179e\"],[0.4444444444444444,\"#bd3786\"],[0.5555555555555556,\"#d8576b\"],[0.6666666666666666,\"#ed7953\"],[0.7777777777777778,\"#fb9f3a\"],[0.8888888888888888,\"#fdca26\"],[1.0,\"#f0f921\"]]}],\"heatmap\":[{\"type\":\"heatmap\",\"colorbar\":{\"outlinewidth\":0,\"ticks\":\"\"},\"colorscale\":[[0.0,\"#0d0887\"],[0.1111111111111111,\"#46039f\"],[0.2222222222222222,\"#7201a8\"],[0.3333333333333333,\"#9c179e\"],[0.4444444444444444,\"#bd3786\"],[0.5555555555555556,\"#d8576b\"],[0.6666666666666666,\"#ed7953\"],[0.7777777777777778,\"#fb9f3a\"],[0.8888888888888888,\"#fdca26\"],[1.0,\"#f0f921\"]]}],\"heatmapgl\":[{\"type\":\"heatmapgl\",\"colorbar\":{\"outlinewidth\":0,\"ticks\":\"\"},\"colorscale\":[[0.0,\"#0d0887\"],[0.1111111111111111,\"#46039f\"],[0.2222222222222222,\"#7201a8\"],[0.3333333333333333,\"#9c179e\"],[0.4444444444444444,\"#bd3786\"],[0.5555555555555556,\"#d8576b\"],[0.6666666666666666,\"#ed7953\"],[0.7777777777777778,\"#fb9f3a\"],[0.8888888888888888,\"#fdca26\"],[1.0,\"#f0f921\"]]}],\"contourcarpet\":[{\"type\":\"contourcarpet\",\"colorbar\":{\"outlinewidth\":0,\"ticks\":\"\"}}],\"contour\":[{\"type\":\"contour\",\"colorbar\":{\"outlinewidth\":0,\"ticks\":\"\"},\"colorscale\":[[0.0,\"#0d0887\"],[0.1111111111111111,\"#46039f\"],[0.2222222222222222,\"#7201a8\"],[0.3333333333333333,\"#9c179e\"],[0.4444444444444444,\"#bd3786\"],[0.5555555555555556,\"#d8576b\"],[0.6666666666666666,\"#ed7953\"],[0.7777777777777778,\"#fb9f3a\"],[0.8888888888888888,\"#fdca26\"],[1.0,\"#f0f921\"]]}],\"surface\":[{\"type\":\"surface\",\"colorbar\":{\"outlinewidth\":0,\"ticks\":\"\"},\"colorscale\":[[0.0,\"#0d0887\"],[0.1111111111111111,\"#46039f\"],[0.2222222222222222,\"#7201a8\"],[0.3333333333333333,\"#9c179e\"],[0.4444444444444444,\"#bd3786\"],[0.5555555555555556,\"#d8576b\"],[0.6666666666666666,\"#ed7953\"],[0.7777777777777778,\"#fb9f3a\"],[0.8888888888888888,\"#fdca26\"],[1.0,\"#f0f921\"]]}],\"mesh3d\":[{\"type\":\"mesh3d\",\"colorbar\":{\"outlinewidth\":0,\"ticks\":\"\"}}],\"scatter\":[{\"fillpattern\":{\"fillmode\":\"overlay\",\"size\":10,\"solidity\":0.2},\"type\":\"scatter\"}],\"parcoords\":[{\"type\":\"parcoords\",\"line\":{\"colorbar\":{\"outlinewidth\":0,\"ticks\":\"\"}}}],\"scatterpolargl\":[{\"type\":\"scatterpolargl\",\"marker\":{\"colorbar\":{\"outlinewidth\":0,\"ticks\":\"\"}}}],\"bar\":[{\"error_x\":{\"color\":\"#2a3f5f\"},\"error_y\":{\"color\":\"#2a3f5f\"},\"marker\":{\"line\":{\"color\":\"#E5ECF6\",\"width\":0.5},\"pattern\":{\"fillmode\":\"overlay\",\"size\":10,\"solidity\":0.2}},\"type\":\"bar\"}],\"scattergeo\":[{\"type\":\"scattergeo\",\"marker\":{\"colorbar\":{\"outlinewidth\":0,\"ticks\":\"\"}}}],\"scatterpolar\":[{\"type\":\"scatterpolar\",\"marker\":{\"colorbar\":{\"outlinewidth\":0,\"ticks\":\"\"}}}],\"histogram\":[{\"marker\":{\"pattern\":{\"fillmode\":\"overlay\",\"size\":10,\"solidity\":0.2}},\"type\":\"histogram\"}],\"scattergl\":[{\"type\":\"scattergl\",\"marker\":{\"colorbar\":{\"outlinewidth\":0,\"ticks\":\"\"}}}],\"scatter3d\":[{\"type\":\"scatter3d\",\"line\":{\"colorbar\":{\"outlinewidth\":0,\"ticks\":\"\"}},\"marker\":{\"colorbar\":{\"outlinewidth\":0,\"ticks\":\"\"}}}],\"scattermapbox\":[{\"type\":\"scattermapbox\",\"marker\":{\"colorbar\":{\"outlinewidth\":0,\"ticks\":\"\"}}}],\"scatterternary\":[{\"type\":\"scatterternary\",\"marker\":{\"colorbar\":{\"outlinewidth\":0,\"ticks\":\"\"}}}],\"scattercarpet\":[{\"type\":\"scattercarpet\",\"marker\":{\"colorbar\":{\"outlinewidth\":0,\"ticks\":\"\"}}}],\"carpet\":[{\"aaxis\":{\"endlinecolor\":\"#2a3f5f\",\"gridcolor\":\"white\",\"linecolor\":\"white\",\"minorgridcolor\":\"white\",\"startlinecolor\":\"#2a3f5f\"},\"baxis\":{\"endlinecolor\":\"#2a3f5f\",\"gridcolor\":\"white\",\"linecolor\":\"white\",\"minorgridcolor\":\"white\",\"startlinecolor\":\"#2a3f5f\"},\"type\":\"carpet\"}],\"table\":[{\"cells\":{\"fill\":{\"color\":\"#EBF0F8\"},\"line\":{\"color\":\"white\"}},\"header\":{\"fill\":{\"color\":\"#C8D4E3\"},\"line\":{\"color\":\"white\"}},\"type\":\"table\"}],\"barpolar\":[{\"marker\":{\"line\":{\"color\":\"#E5ECF6\",\"width\":0.5},\"pattern\":{\"fillmode\":\"overlay\",\"size\":10,\"solidity\":0.2}},\"type\":\"barpolar\"}],\"pie\":[{\"automargin\":true,\"type\":\"pie\"}]},\"layout\":{\"autotypenumbers\":\"strict\",\"colorway\":[\"#636efa\",\"#EF553B\",\"#00cc96\",\"#ab63fa\",\"#FFA15A\",\"#19d3f3\",\"#FF6692\",\"#B6E880\",\"#FF97FF\",\"#FECB52\"],\"font\":{\"color\":\"#2a3f5f\"},\"hovermode\":\"closest\",\"hoverlabel\":{\"align\":\"left\"},\"paper_bgcolor\":\"white\",\"plot_bgcolor\":\"#E5ECF6\",\"polar\":{\"bgcolor\":\"#E5ECF6\",\"angularaxis\":{\"gridcolor\":\"white\",\"linecolor\":\"white\",\"ticks\":\"\"},\"radialaxis\":{\"gridcolor\":\"white\",\"linecolor\":\"white\",\"ticks\":\"\"}},\"ternary\":{\"bgcolor\":\"#E5ECF6\",\"aaxis\":{\"gridcolor\":\"white\",\"linecolor\":\"white\",\"ticks\":\"\"},\"baxis\":{\"gridcolor\":\"white\",\"linecolor\":\"white\",\"ticks\":\"\"},\"caxis\":{\"gridcolor\":\"white\",\"linecolor\":\"white\",\"ticks\":\"\"}},\"coloraxis\":{\"colorbar\":{\"outlinewidth\":0,\"ticks\":\"\"}},\"colorscale\":{\"sequential\":[[0.0,\"#0d0887\"],[0.1111111111111111,\"#46039f\"],[0.2222222222222222,\"#7201a8\"],[0.3333333333333333,\"#9c179e\"],[0.4444444444444444,\"#bd3786\"],[0.5555555555555556,\"#d8576b\"],[0.6666666666666666,\"#ed7953\"],[0.7777777777777778,\"#fb9f3a\"],[0.8888888888888888,\"#fdca26\"],[1.0,\"#f0f921\"]],\"sequentialminus\":[[0.0,\"#0d0887\"],[0.1111111111111111,\"#46039f\"],[0.2222222222222222,\"#7201a8\"],[0.3333333333333333,\"#9c179e\"],[0.4444444444444444,\"#bd3786\"],[0.5555555555555556,\"#d8576b\"],[0.6666666666666666,\"#ed7953\"],[0.7777777777777778,\"#fb9f3a\"],[0.8888888888888888,\"#fdca26\"],[1.0,\"#f0f921\"]],\"diverging\":[[0,\"#8e0152\"],[0.1,\"#c51b7d\"],[0.2,\"#de77ae\"],[0.3,\"#f1b6da\"],[0.4,\"#fde0ef\"],[0.5,\"#f7f7f7\"],[0.6,\"#e6f5d0\"],[0.7,\"#b8e186\"],[0.8,\"#7fbc41\"],[0.9,\"#4d9221\"],[1,\"#276419\"]]},\"xaxis\":{\"gridcolor\":\"white\",\"linecolor\":\"white\",\"ticks\":\"\",\"title\":{\"standoff\":15},\"zerolinecolor\":\"white\",\"automargin\":true,\"zerolinewidth\":2},\"yaxis\":{\"gridcolor\":\"white\",\"linecolor\":\"white\",\"ticks\":\"\",\"title\":{\"standoff\":15},\"zerolinecolor\":\"white\",\"automargin\":true,\"zerolinewidth\":2},\"scene\":{\"xaxis\":{\"backgroundcolor\":\"#E5ECF6\",\"gridcolor\":\"white\",\"linecolor\":\"white\",\"showbackground\":true,\"ticks\":\"\",\"zerolinecolor\":\"white\",\"gridwidth\":2},\"yaxis\":{\"backgroundcolor\":\"#E5ECF6\",\"gridcolor\":\"white\",\"linecolor\":\"white\",\"showbackground\":true,\"ticks\":\"\",\"zerolinecolor\":\"white\",\"gridwidth\":2},\"zaxis\":{\"backgroundcolor\":\"#E5ECF6\",\"gridcolor\":\"white\",\"linecolor\":\"white\",\"showbackground\":true,\"ticks\":\"\",\"zerolinecolor\":\"white\",\"gridwidth\":2}},\"shapedefaults\":{\"line\":{\"color\":\"#2a3f5f\"}},\"annotationdefaults\":{\"arrowcolor\":\"#2a3f5f\",\"arrowhead\":0,\"arrowwidth\":1},\"geo\":{\"bgcolor\":\"white\",\"landcolor\":\"#E5ECF6\",\"subunitcolor\":\"white\",\"showland\":true,\"showlakes\":true,\"lakecolor\":\"white\"},\"title\":{\"x\":0.05},\"mapbox\":{\"style\":\"light\"}}},\"xaxis\":{\"anchor\":\"y\",\"domain\":[0.0,1.0],\"title\":{\"text\":\"Schizophrenia\"}},\"yaxis\":{\"anchor\":\"x\",\"domain\":[0.0,1.0],\"title\":{\"text\":\"Eating\"}},\"coloraxis\":{\"colorbar\":{\"title\":{\"text\":\"Cluster\"}},\"colorscale\":[[0.0,\"#0d0887\"],[0.1111111111111111,\"#46039f\"],[0.2222222222222222,\"#7201a8\"],[0.3333333333333333,\"#9c179e\"],[0.4444444444444444,\"#bd3786\"],[0.5555555555555556,\"#d8576b\"],[0.6666666666666666,\"#ed7953\"],[0.7777777777777778,\"#fb9f3a\"],[0.8888888888888888,\"#fdca26\"],[1.0,\"#f0f921\"]]},\"legend\":{\"tracegroupgap\":0},\"title\":{\"text\":\"Schizophrenia vs Eating\"},\"height\":600},                        {\"responsive\": true}                    ).then(function(){\n",
       "                            \n",
       "var gd = document.getElementById('f926955c-3a5b-41cb-be0d-291131c97eb5');\n",
       "var x = new MutationObserver(function (mutations, observer) {{\n",
       "        var display = window.getComputedStyle(gd).display;\n",
       "        if (!display || display === 'none') {{\n",
       "            console.log([gd, 'removed!']);\n",
       "            Plotly.purge(gd);\n",
       "            observer.disconnect();\n",
       "        }}\n",
       "}});\n",
       "\n",
       "// Listen for the removal of the full notebook cells\n",
       "var notebookContainer = gd.closest('#notebook-container');\n",
       "if (notebookContainer) {{\n",
       "    x.observe(notebookContainer, {childList: true});\n",
       "}}\n",
       "\n",
       "// Listen for the clearing of the current output cell\n",
       "var outputEl = gd.closest('.output');\n",
       "if (outputEl) {{\n",
       "    x.observe(outputEl, {childList: true});\n",
       "}}\n",
       "\n",
       "                        })                };                });            </script>        </div>"
      ]
     },
     "metadata": {},
     "output_type": "display_data"
    }
   ],
   "source": [
    "from sklearn.cluster import KMeans\n",
    "import plotly.express as px\n",
    "import numpy as np\n",
    "\n",
    "kmeans = KMeans(n_clusters=3, random_state=0)\n",
    "df['Cluster'] = kmeans.fit_predict(df)\n",
    "\n",
    "df1 = df.reset_index()\n",
    "# Displaying the clustered data interactively using Plotly Express\n",
    "fig1 = px.scatter(df1, x='Schizophrenia', y='Depressive', color='Cluster', title='Schizophrenia vs Depressive', height=600, hover_data=['Code'])\n",
    "fig2 = px.scatter(df1, x='Schizophrenia', y='Anxiety', color='Cluster', title='Schizophrenia vs Anxiety', height=600, hover_data=['Code'])\n",
    "fig3 = px.scatter(df1, x='Schizophrenia', y='Bipolar', color='Cluster', title='Schizophrenia vs Bipolar', height=600, hover_data=['Code'])\n",
    "fig4 = px.scatter(df1, x='Schizophrenia', y='Eating', color='Cluster', title='Schizophrenia vs Eating', height=600, hover_data=['Code'])\n",
    "\n",
    "# Show the figures\n",
    "fig1.show()\n",
    "fig2.show()\n",
    "fig3.show()\n",
    "fig4.show()"
   ]
  },
  {
   "cell_type": "code",
   "execution_count": 28,
   "id": "a62992b2",
   "metadata": {},
   "outputs": [
    {
     "name": "stdout",
     "output_type": "stream",
     "text": [
      "       Bipolar    Eating  Cluster\n",
      "Code                             \n",
      "AFG   0.687824  0.120704        0\n",
      "AGO   0.562717  0.119745        0\n",
      "ALB   0.555680  0.115813        1\n",
      "AND   0.920273  0.474165        2\n",
      "ARE   0.747051  0.297405        1\n"
     ]
    },
    {
     "data": {
      "application/vnd.plotly.v1+json": {
       "config": {
        "plotlyServerURL": "https://plot.ly"
       },
       "data": [
        {
         "hovertemplate": "Number of Clusters=%{x}<br>Inertia=%{y}<extra></extra>",
         "legendgroup": "",
         "line": {
          "color": "#636efa",
          "dash": "solid"
         },
         "marker": {
          "symbol": "circle"
         },
         "mode": "lines",
         "name": "",
         "orientation": "v",
         "showlegend": false,
         "type": "scatter",
         "x": [
          1,
          2,
          3,
          4,
          5,
          6,
          7,
          8,
          9,
          10
         ],
         "xaxis": "x",
         "y": [
          116.36361918123156,
          36.668291108011935,
          8.166065030243168,
          4.8786029574109815,
          3.297100873117159,
          2.4844534278295853,
          2.052259641021991,
          1.7502718700728452,
          1.4868381700232618,
          1.3064392659838588
         ],
         "yaxis": "y"
        }
       ],
       "layout": {
        "legend": {
         "tracegroupgap": 0
        },
        "template": {
         "data": {
          "bar": [
           {
            "error_x": {
             "color": "#2a3f5f"
            },
            "error_y": {
             "color": "#2a3f5f"
            },
            "marker": {
             "line": {
              "color": "#E5ECF6",
              "width": 0.5
             },
             "pattern": {
              "fillmode": "overlay",
              "size": 10,
              "solidity": 0.2
             }
            },
            "type": "bar"
           }
          ],
          "barpolar": [
           {
            "marker": {
             "line": {
              "color": "#E5ECF6",
              "width": 0.5
             },
             "pattern": {
              "fillmode": "overlay",
              "size": 10,
              "solidity": 0.2
             }
            },
            "type": "barpolar"
           }
          ],
          "carpet": [
           {
            "aaxis": {
             "endlinecolor": "#2a3f5f",
             "gridcolor": "white",
             "linecolor": "white",
             "minorgridcolor": "white",
             "startlinecolor": "#2a3f5f"
            },
            "baxis": {
             "endlinecolor": "#2a3f5f",
             "gridcolor": "white",
             "linecolor": "white",
             "minorgridcolor": "white",
             "startlinecolor": "#2a3f5f"
            },
            "type": "carpet"
           }
          ],
          "choropleth": [
           {
            "colorbar": {
             "outlinewidth": 0,
             "ticks": ""
            },
            "type": "choropleth"
           }
          ],
          "contour": [
           {
            "colorbar": {
             "outlinewidth": 0,
             "ticks": ""
            },
            "colorscale": [
             [
              0,
              "#0d0887"
             ],
             [
              0.1111111111111111,
              "#46039f"
             ],
             [
              0.2222222222222222,
              "#7201a8"
             ],
             [
              0.3333333333333333,
              "#9c179e"
             ],
             [
              0.4444444444444444,
              "#bd3786"
             ],
             [
              0.5555555555555556,
              "#d8576b"
             ],
             [
              0.6666666666666666,
              "#ed7953"
             ],
             [
              0.7777777777777778,
              "#fb9f3a"
             ],
             [
              0.8888888888888888,
              "#fdca26"
             ],
             [
              1,
              "#f0f921"
             ]
            ],
            "type": "contour"
           }
          ],
          "contourcarpet": [
           {
            "colorbar": {
             "outlinewidth": 0,
             "ticks": ""
            },
            "type": "contourcarpet"
           }
          ],
          "heatmap": [
           {
            "colorbar": {
             "outlinewidth": 0,
             "ticks": ""
            },
            "colorscale": [
             [
              0,
              "#0d0887"
             ],
             [
              0.1111111111111111,
              "#46039f"
             ],
             [
              0.2222222222222222,
              "#7201a8"
             ],
             [
              0.3333333333333333,
              "#9c179e"
             ],
             [
              0.4444444444444444,
              "#bd3786"
             ],
             [
              0.5555555555555556,
              "#d8576b"
             ],
             [
              0.6666666666666666,
              "#ed7953"
             ],
             [
              0.7777777777777778,
              "#fb9f3a"
             ],
             [
              0.8888888888888888,
              "#fdca26"
             ],
             [
              1,
              "#f0f921"
             ]
            ],
            "type": "heatmap"
           }
          ],
          "heatmapgl": [
           {
            "colorbar": {
             "outlinewidth": 0,
             "ticks": ""
            },
            "colorscale": [
             [
              0,
              "#0d0887"
             ],
             [
              0.1111111111111111,
              "#46039f"
             ],
             [
              0.2222222222222222,
              "#7201a8"
             ],
             [
              0.3333333333333333,
              "#9c179e"
             ],
             [
              0.4444444444444444,
              "#bd3786"
             ],
             [
              0.5555555555555556,
              "#d8576b"
             ],
             [
              0.6666666666666666,
              "#ed7953"
             ],
             [
              0.7777777777777778,
              "#fb9f3a"
             ],
             [
              0.8888888888888888,
              "#fdca26"
             ],
             [
              1,
              "#f0f921"
             ]
            ],
            "type": "heatmapgl"
           }
          ],
          "histogram": [
           {
            "marker": {
             "pattern": {
              "fillmode": "overlay",
              "size": 10,
              "solidity": 0.2
             }
            },
            "type": "histogram"
           }
          ],
          "histogram2d": [
           {
            "colorbar": {
             "outlinewidth": 0,
             "ticks": ""
            },
            "colorscale": [
             [
              0,
              "#0d0887"
             ],
             [
              0.1111111111111111,
              "#46039f"
             ],
             [
              0.2222222222222222,
              "#7201a8"
             ],
             [
              0.3333333333333333,
              "#9c179e"
             ],
             [
              0.4444444444444444,
              "#bd3786"
             ],
             [
              0.5555555555555556,
              "#d8576b"
             ],
             [
              0.6666666666666666,
              "#ed7953"
             ],
             [
              0.7777777777777778,
              "#fb9f3a"
             ],
             [
              0.8888888888888888,
              "#fdca26"
             ],
             [
              1,
              "#f0f921"
             ]
            ],
            "type": "histogram2d"
           }
          ],
          "histogram2dcontour": [
           {
            "colorbar": {
             "outlinewidth": 0,
             "ticks": ""
            },
            "colorscale": [
             [
              0,
              "#0d0887"
             ],
             [
              0.1111111111111111,
              "#46039f"
             ],
             [
              0.2222222222222222,
              "#7201a8"
             ],
             [
              0.3333333333333333,
              "#9c179e"
             ],
             [
              0.4444444444444444,
              "#bd3786"
             ],
             [
              0.5555555555555556,
              "#d8576b"
             ],
             [
              0.6666666666666666,
              "#ed7953"
             ],
             [
              0.7777777777777778,
              "#fb9f3a"
             ],
             [
              0.8888888888888888,
              "#fdca26"
             ],
             [
              1,
              "#f0f921"
             ]
            ],
            "type": "histogram2dcontour"
           }
          ],
          "mesh3d": [
           {
            "colorbar": {
             "outlinewidth": 0,
             "ticks": ""
            },
            "type": "mesh3d"
           }
          ],
          "parcoords": [
           {
            "line": {
             "colorbar": {
              "outlinewidth": 0,
              "ticks": ""
             }
            },
            "type": "parcoords"
           }
          ],
          "pie": [
           {
            "automargin": true,
            "type": "pie"
           }
          ],
          "scatter": [
           {
            "fillpattern": {
             "fillmode": "overlay",
             "size": 10,
             "solidity": 0.2
            },
            "type": "scatter"
           }
          ],
          "scatter3d": [
           {
            "line": {
             "colorbar": {
              "outlinewidth": 0,
              "ticks": ""
             }
            },
            "marker": {
             "colorbar": {
              "outlinewidth": 0,
              "ticks": ""
             }
            },
            "type": "scatter3d"
           }
          ],
          "scattercarpet": [
           {
            "marker": {
             "colorbar": {
              "outlinewidth": 0,
              "ticks": ""
             }
            },
            "type": "scattercarpet"
           }
          ],
          "scattergeo": [
           {
            "marker": {
             "colorbar": {
              "outlinewidth": 0,
              "ticks": ""
             }
            },
            "type": "scattergeo"
           }
          ],
          "scattergl": [
           {
            "marker": {
             "colorbar": {
              "outlinewidth": 0,
              "ticks": ""
             }
            },
            "type": "scattergl"
           }
          ],
          "scattermapbox": [
           {
            "marker": {
             "colorbar": {
              "outlinewidth": 0,
              "ticks": ""
             }
            },
            "type": "scattermapbox"
           }
          ],
          "scatterpolar": [
           {
            "marker": {
             "colorbar": {
              "outlinewidth": 0,
              "ticks": ""
             }
            },
            "type": "scatterpolar"
           }
          ],
          "scatterpolargl": [
           {
            "marker": {
             "colorbar": {
              "outlinewidth": 0,
              "ticks": ""
             }
            },
            "type": "scatterpolargl"
           }
          ],
          "scatterternary": [
           {
            "marker": {
             "colorbar": {
              "outlinewidth": 0,
              "ticks": ""
             }
            },
            "type": "scatterternary"
           }
          ],
          "surface": [
           {
            "colorbar": {
             "outlinewidth": 0,
             "ticks": ""
            },
            "colorscale": [
             [
              0,
              "#0d0887"
             ],
             [
              0.1111111111111111,
              "#46039f"
             ],
             [
              0.2222222222222222,
              "#7201a8"
             ],
             [
              0.3333333333333333,
              "#9c179e"
             ],
             [
              0.4444444444444444,
              "#bd3786"
             ],
             [
              0.5555555555555556,
              "#d8576b"
             ],
             [
              0.6666666666666666,
              "#ed7953"
             ],
             [
              0.7777777777777778,
              "#fb9f3a"
             ],
             [
              0.8888888888888888,
              "#fdca26"
             ],
             [
              1,
              "#f0f921"
             ]
            ],
            "type": "surface"
           }
          ],
          "table": [
           {
            "cells": {
             "fill": {
              "color": "#EBF0F8"
             },
             "line": {
              "color": "white"
             }
            },
            "header": {
             "fill": {
              "color": "#C8D4E3"
             },
             "line": {
              "color": "white"
             }
            },
            "type": "table"
           }
          ]
         },
         "layout": {
          "annotationdefaults": {
           "arrowcolor": "#2a3f5f",
           "arrowhead": 0,
           "arrowwidth": 1
          },
          "autotypenumbers": "strict",
          "coloraxis": {
           "colorbar": {
            "outlinewidth": 0,
            "ticks": ""
           }
          },
          "colorscale": {
           "diverging": [
            [
             0,
             "#8e0152"
            ],
            [
             0.1,
             "#c51b7d"
            ],
            [
             0.2,
             "#de77ae"
            ],
            [
             0.3,
             "#f1b6da"
            ],
            [
             0.4,
             "#fde0ef"
            ],
            [
             0.5,
             "#f7f7f7"
            ],
            [
             0.6,
             "#e6f5d0"
            ],
            [
             0.7,
             "#b8e186"
            ],
            [
             0.8,
             "#7fbc41"
            ],
            [
             0.9,
             "#4d9221"
            ],
            [
             1,
             "#276419"
            ]
           ],
           "sequential": [
            [
             0,
             "#0d0887"
            ],
            [
             0.1111111111111111,
             "#46039f"
            ],
            [
             0.2222222222222222,
             "#7201a8"
            ],
            [
             0.3333333333333333,
             "#9c179e"
            ],
            [
             0.4444444444444444,
             "#bd3786"
            ],
            [
             0.5555555555555556,
             "#d8576b"
            ],
            [
             0.6666666666666666,
             "#ed7953"
            ],
            [
             0.7777777777777778,
             "#fb9f3a"
            ],
            [
             0.8888888888888888,
             "#fdca26"
            ],
            [
             1,
             "#f0f921"
            ]
           ],
           "sequentialminus": [
            [
             0,
             "#0d0887"
            ],
            [
             0.1111111111111111,
             "#46039f"
            ],
            [
             0.2222222222222222,
             "#7201a8"
            ],
            [
             0.3333333333333333,
             "#9c179e"
            ],
            [
             0.4444444444444444,
             "#bd3786"
            ],
            [
             0.5555555555555556,
             "#d8576b"
            ],
            [
             0.6666666666666666,
             "#ed7953"
            ],
            [
             0.7777777777777778,
             "#fb9f3a"
            ],
            [
             0.8888888888888888,
             "#fdca26"
            ],
            [
             1,
             "#f0f921"
            ]
           ]
          },
          "colorway": [
           "#636efa",
           "#EF553B",
           "#00cc96",
           "#ab63fa",
           "#FFA15A",
           "#19d3f3",
           "#FF6692",
           "#B6E880",
           "#FF97FF",
           "#FECB52"
          ],
          "font": {
           "color": "#2a3f5f"
          },
          "geo": {
           "bgcolor": "white",
           "lakecolor": "white",
           "landcolor": "#E5ECF6",
           "showlakes": true,
           "showland": true,
           "subunitcolor": "white"
          },
          "hoverlabel": {
           "align": "left"
          },
          "hovermode": "closest",
          "mapbox": {
           "style": "light"
          },
          "paper_bgcolor": "white",
          "plot_bgcolor": "#E5ECF6",
          "polar": {
           "angularaxis": {
            "gridcolor": "white",
            "linecolor": "white",
            "ticks": ""
           },
           "bgcolor": "#E5ECF6",
           "radialaxis": {
            "gridcolor": "white",
            "linecolor": "white",
            "ticks": ""
           }
          },
          "scene": {
           "xaxis": {
            "backgroundcolor": "#E5ECF6",
            "gridcolor": "white",
            "gridwidth": 2,
            "linecolor": "white",
            "showbackground": true,
            "ticks": "",
            "zerolinecolor": "white"
           },
           "yaxis": {
            "backgroundcolor": "#E5ECF6",
            "gridcolor": "white",
            "gridwidth": 2,
            "linecolor": "white",
            "showbackground": true,
            "ticks": "",
            "zerolinecolor": "white"
           },
           "zaxis": {
            "backgroundcolor": "#E5ECF6",
            "gridcolor": "white",
            "gridwidth": 2,
            "linecolor": "white",
            "showbackground": true,
            "ticks": "",
            "zerolinecolor": "white"
           }
          },
          "shapedefaults": {
           "line": {
            "color": "#2a3f5f"
           }
          },
          "ternary": {
           "aaxis": {
            "gridcolor": "white",
            "linecolor": "white",
            "ticks": ""
           },
           "baxis": {
            "gridcolor": "white",
            "linecolor": "white",
            "ticks": ""
           },
           "bgcolor": "#E5ECF6",
           "caxis": {
            "gridcolor": "white",
            "linecolor": "white",
            "ticks": ""
           }
          },
          "title": {
           "x": 0.05
          },
          "xaxis": {
           "automargin": true,
           "gridcolor": "white",
           "linecolor": "white",
           "ticks": "",
           "title": {
            "standoff": 15
           },
           "zerolinecolor": "white",
           "zerolinewidth": 2
          },
          "yaxis": {
           "automargin": true,
           "gridcolor": "white",
           "linecolor": "white",
           "ticks": "",
           "title": {
            "standoff": 15
           },
           "zerolinecolor": "white",
           "zerolinewidth": 2
          }
         }
        },
        "title": {
         "text": "Elbow Plot"
        },
        "xaxis": {
         "anchor": "y",
         "domain": [
          0,
          1
         ],
         "title": {
          "text": "Number of Clusters"
         }
        },
        "yaxis": {
         "anchor": "x",
         "domain": [
          0,
          1
         ],
         "title": {
          "text": "Inertia"
         }
        }
       }
      },
      "text/html": [
       "<div>                            <div id=\"feb1141d-2c8b-4c3b-b931-c81fe737a77c\" class=\"plotly-graph-div\" style=\"height:525px; width:100%;\"></div>            <script type=\"text/javascript\">                require([\"plotly\"], function(Plotly) {                    window.PLOTLYENV=window.PLOTLYENV || {};                                    if (document.getElementById(\"feb1141d-2c8b-4c3b-b931-c81fe737a77c\")) {                    Plotly.newPlot(                        \"feb1141d-2c8b-4c3b-b931-c81fe737a77c\",                        [{\"hovertemplate\":\"Number of Clusters=%{x}<br>Inertia=%{y}<extra></extra>\",\"legendgroup\":\"\",\"line\":{\"color\":\"#636efa\",\"dash\":\"solid\"},\"marker\":{\"symbol\":\"circle\"},\"mode\":\"lines\",\"name\":\"\",\"orientation\":\"v\",\"showlegend\":false,\"x\":[1,2,3,4,5,6,7,8,9,10],\"xaxis\":\"x\",\"y\":[116.36361918123156,36.668291108011935,8.166065030243168,4.8786029574109815,3.297100873117159,2.4844534278295853,2.052259641021991,1.7502718700728452,1.4868381700232618,1.3064392659838588],\"yaxis\":\"y\",\"type\":\"scatter\"}],                        {\"template\":{\"data\":{\"histogram2dcontour\":[{\"type\":\"histogram2dcontour\",\"colorbar\":{\"outlinewidth\":0,\"ticks\":\"\"},\"colorscale\":[[0.0,\"#0d0887\"],[0.1111111111111111,\"#46039f\"],[0.2222222222222222,\"#7201a8\"],[0.3333333333333333,\"#9c179e\"],[0.4444444444444444,\"#bd3786\"],[0.5555555555555556,\"#d8576b\"],[0.6666666666666666,\"#ed7953\"],[0.7777777777777778,\"#fb9f3a\"],[0.8888888888888888,\"#fdca26\"],[1.0,\"#f0f921\"]]}],\"choropleth\":[{\"type\":\"choropleth\",\"colorbar\":{\"outlinewidth\":0,\"ticks\":\"\"}}],\"histogram2d\":[{\"type\":\"histogram2d\",\"colorbar\":{\"outlinewidth\":0,\"ticks\":\"\"},\"colorscale\":[[0.0,\"#0d0887\"],[0.1111111111111111,\"#46039f\"],[0.2222222222222222,\"#7201a8\"],[0.3333333333333333,\"#9c179e\"],[0.4444444444444444,\"#bd3786\"],[0.5555555555555556,\"#d8576b\"],[0.6666666666666666,\"#ed7953\"],[0.7777777777777778,\"#fb9f3a\"],[0.8888888888888888,\"#fdca26\"],[1.0,\"#f0f921\"]]}],\"heatmap\":[{\"type\":\"heatmap\",\"colorbar\":{\"outlinewidth\":0,\"ticks\":\"\"},\"colorscale\":[[0.0,\"#0d0887\"],[0.1111111111111111,\"#46039f\"],[0.2222222222222222,\"#7201a8\"],[0.3333333333333333,\"#9c179e\"],[0.4444444444444444,\"#bd3786\"],[0.5555555555555556,\"#d8576b\"],[0.6666666666666666,\"#ed7953\"],[0.7777777777777778,\"#fb9f3a\"],[0.8888888888888888,\"#fdca26\"],[1.0,\"#f0f921\"]]}],\"heatmapgl\":[{\"type\":\"heatmapgl\",\"colorbar\":{\"outlinewidth\":0,\"ticks\":\"\"},\"colorscale\":[[0.0,\"#0d0887\"],[0.1111111111111111,\"#46039f\"],[0.2222222222222222,\"#7201a8\"],[0.3333333333333333,\"#9c179e\"],[0.4444444444444444,\"#bd3786\"],[0.5555555555555556,\"#d8576b\"],[0.6666666666666666,\"#ed7953\"],[0.7777777777777778,\"#fb9f3a\"],[0.8888888888888888,\"#fdca26\"],[1.0,\"#f0f921\"]]}],\"contourcarpet\":[{\"type\":\"contourcarpet\",\"colorbar\":{\"outlinewidth\":0,\"ticks\":\"\"}}],\"contour\":[{\"type\":\"contour\",\"colorbar\":{\"outlinewidth\":0,\"ticks\":\"\"},\"colorscale\":[[0.0,\"#0d0887\"],[0.1111111111111111,\"#46039f\"],[0.2222222222222222,\"#7201a8\"],[0.3333333333333333,\"#9c179e\"],[0.4444444444444444,\"#bd3786\"],[0.5555555555555556,\"#d8576b\"],[0.6666666666666666,\"#ed7953\"],[0.7777777777777778,\"#fb9f3a\"],[0.8888888888888888,\"#fdca26\"],[1.0,\"#f0f921\"]]}],\"surface\":[{\"type\":\"surface\",\"colorbar\":{\"outlinewidth\":0,\"ticks\":\"\"},\"colorscale\":[[0.0,\"#0d0887\"],[0.1111111111111111,\"#46039f\"],[0.2222222222222222,\"#7201a8\"],[0.3333333333333333,\"#9c179e\"],[0.4444444444444444,\"#bd3786\"],[0.5555555555555556,\"#d8576b\"],[0.6666666666666666,\"#ed7953\"],[0.7777777777777778,\"#fb9f3a\"],[0.8888888888888888,\"#fdca26\"],[1.0,\"#f0f921\"]]}],\"mesh3d\":[{\"type\":\"mesh3d\",\"colorbar\":{\"outlinewidth\":0,\"ticks\":\"\"}}],\"scatter\":[{\"fillpattern\":{\"fillmode\":\"overlay\",\"size\":10,\"solidity\":0.2},\"type\":\"scatter\"}],\"parcoords\":[{\"type\":\"parcoords\",\"line\":{\"colorbar\":{\"outlinewidth\":0,\"ticks\":\"\"}}}],\"scatterpolargl\":[{\"type\":\"scatterpolargl\",\"marker\":{\"colorbar\":{\"outlinewidth\":0,\"ticks\":\"\"}}}],\"bar\":[{\"error_x\":{\"color\":\"#2a3f5f\"},\"error_y\":{\"color\":\"#2a3f5f\"},\"marker\":{\"line\":{\"color\":\"#E5ECF6\",\"width\":0.5},\"pattern\":{\"fillmode\":\"overlay\",\"size\":10,\"solidity\":0.2}},\"type\":\"bar\"}],\"scattergeo\":[{\"type\":\"scattergeo\",\"marker\":{\"colorbar\":{\"outlinewidth\":0,\"ticks\":\"\"}}}],\"scatterpolar\":[{\"type\":\"scatterpolar\",\"marker\":{\"colorbar\":{\"outlinewidth\":0,\"ticks\":\"\"}}}],\"histogram\":[{\"marker\":{\"pattern\":{\"fillmode\":\"overlay\",\"size\":10,\"solidity\":0.2}},\"type\":\"histogram\"}],\"scattergl\":[{\"type\":\"scattergl\",\"marker\":{\"colorbar\":{\"outlinewidth\":0,\"ticks\":\"\"}}}],\"scatter3d\":[{\"type\":\"scatter3d\",\"line\":{\"colorbar\":{\"outlinewidth\":0,\"ticks\":\"\"}},\"marker\":{\"colorbar\":{\"outlinewidth\":0,\"ticks\":\"\"}}}],\"scattermapbox\":[{\"type\":\"scattermapbox\",\"marker\":{\"colorbar\":{\"outlinewidth\":0,\"ticks\":\"\"}}}],\"scatterternary\":[{\"type\":\"scatterternary\",\"marker\":{\"colorbar\":{\"outlinewidth\":0,\"ticks\":\"\"}}}],\"scattercarpet\":[{\"type\":\"scattercarpet\",\"marker\":{\"colorbar\":{\"outlinewidth\":0,\"ticks\":\"\"}}}],\"carpet\":[{\"aaxis\":{\"endlinecolor\":\"#2a3f5f\",\"gridcolor\":\"white\",\"linecolor\":\"white\",\"minorgridcolor\":\"white\",\"startlinecolor\":\"#2a3f5f\"},\"baxis\":{\"endlinecolor\":\"#2a3f5f\",\"gridcolor\":\"white\",\"linecolor\":\"white\",\"minorgridcolor\":\"white\",\"startlinecolor\":\"#2a3f5f\"},\"type\":\"carpet\"}],\"table\":[{\"cells\":{\"fill\":{\"color\":\"#EBF0F8\"},\"line\":{\"color\":\"white\"}},\"header\":{\"fill\":{\"color\":\"#C8D4E3\"},\"line\":{\"color\":\"white\"}},\"type\":\"table\"}],\"barpolar\":[{\"marker\":{\"line\":{\"color\":\"#E5ECF6\",\"width\":0.5},\"pattern\":{\"fillmode\":\"overlay\",\"size\":10,\"solidity\":0.2}},\"type\":\"barpolar\"}],\"pie\":[{\"automargin\":true,\"type\":\"pie\"}]},\"layout\":{\"autotypenumbers\":\"strict\",\"colorway\":[\"#636efa\",\"#EF553B\",\"#00cc96\",\"#ab63fa\",\"#FFA15A\",\"#19d3f3\",\"#FF6692\",\"#B6E880\",\"#FF97FF\",\"#FECB52\"],\"font\":{\"color\":\"#2a3f5f\"},\"hovermode\":\"closest\",\"hoverlabel\":{\"align\":\"left\"},\"paper_bgcolor\":\"white\",\"plot_bgcolor\":\"#E5ECF6\",\"polar\":{\"bgcolor\":\"#E5ECF6\",\"angularaxis\":{\"gridcolor\":\"white\",\"linecolor\":\"white\",\"ticks\":\"\"},\"radialaxis\":{\"gridcolor\":\"white\",\"linecolor\":\"white\",\"ticks\":\"\"}},\"ternary\":{\"bgcolor\":\"#E5ECF6\",\"aaxis\":{\"gridcolor\":\"white\",\"linecolor\":\"white\",\"ticks\":\"\"},\"baxis\":{\"gridcolor\":\"white\",\"linecolor\":\"white\",\"ticks\":\"\"},\"caxis\":{\"gridcolor\":\"white\",\"linecolor\":\"white\",\"ticks\":\"\"}},\"coloraxis\":{\"colorbar\":{\"outlinewidth\":0,\"ticks\":\"\"}},\"colorscale\":{\"sequential\":[[0.0,\"#0d0887\"],[0.1111111111111111,\"#46039f\"],[0.2222222222222222,\"#7201a8\"],[0.3333333333333333,\"#9c179e\"],[0.4444444444444444,\"#bd3786\"],[0.5555555555555556,\"#d8576b\"],[0.6666666666666666,\"#ed7953\"],[0.7777777777777778,\"#fb9f3a\"],[0.8888888888888888,\"#fdca26\"],[1.0,\"#f0f921\"]],\"sequentialminus\":[[0.0,\"#0d0887\"],[0.1111111111111111,\"#46039f\"],[0.2222222222222222,\"#7201a8\"],[0.3333333333333333,\"#9c179e\"],[0.4444444444444444,\"#bd3786\"],[0.5555555555555556,\"#d8576b\"],[0.6666666666666666,\"#ed7953\"],[0.7777777777777778,\"#fb9f3a\"],[0.8888888888888888,\"#fdca26\"],[1.0,\"#f0f921\"]],\"diverging\":[[0,\"#8e0152\"],[0.1,\"#c51b7d\"],[0.2,\"#de77ae\"],[0.3,\"#f1b6da\"],[0.4,\"#fde0ef\"],[0.5,\"#f7f7f7\"],[0.6,\"#e6f5d0\"],[0.7,\"#b8e186\"],[0.8,\"#7fbc41\"],[0.9,\"#4d9221\"],[1,\"#276419\"]]},\"xaxis\":{\"gridcolor\":\"white\",\"linecolor\":\"white\",\"ticks\":\"\",\"title\":{\"standoff\":15},\"zerolinecolor\":\"white\",\"automargin\":true,\"zerolinewidth\":2},\"yaxis\":{\"gridcolor\":\"white\",\"linecolor\":\"white\",\"ticks\":\"\",\"title\":{\"standoff\":15},\"zerolinecolor\":\"white\",\"automargin\":true,\"zerolinewidth\":2},\"scene\":{\"xaxis\":{\"backgroundcolor\":\"#E5ECF6\",\"gridcolor\":\"white\",\"linecolor\":\"white\",\"showbackground\":true,\"ticks\":\"\",\"zerolinecolor\":\"white\",\"gridwidth\":2},\"yaxis\":{\"backgroundcolor\":\"#E5ECF6\",\"gridcolor\":\"white\",\"linecolor\":\"white\",\"showbackground\":true,\"ticks\":\"\",\"zerolinecolor\":\"white\",\"gridwidth\":2},\"zaxis\":{\"backgroundcolor\":\"#E5ECF6\",\"gridcolor\":\"white\",\"linecolor\":\"white\",\"showbackground\":true,\"ticks\":\"\",\"zerolinecolor\":\"white\",\"gridwidth\":2}},\"shapedefaults\":{\"line\":{\"color\":\"#2a3f5f\"}},\"annotationdefaults\":{\"arrowcolor\":\"#2a3f5f\",\"arrowhead\":0,\"arrowwidth\":1},\"geo\":{\"bgcolor\":\"white\",\"landcolor\":\"#E5ECF6\",\"subunitcolor\":\"white\",\"showland\":true,\"showlakes\":true,\"lakecolor\":\"white\"},\"title\":{\"x\":0.05},\"mapbox\":{\"style\":\"light\"}}},\"xaxis\":{\"anchor\":\"y\",\"domain\":[0.0,1.0],\"title\":{\"text\":\"Number of Clusters\"}},\"yaxis\":{\"anchor\":\"x\",\"domain\":[0.0,1.0],\"title\":{\"text\":\"Inertia\"}},\"legend\":{\"tracegroupgap\":0},\"title\":{\"text\":\"Elbow Plot\"}},                        {\"responsive\": true}                    ).then(function(){\n",
       "                            \n",
       "var gd = document.getElementById('feb1141d-2c8b-4c3b-b931-c81fe737a77c');\n",
       "var x = new MutationObserver(function (mutations, observer) {{\n",
       "        var display = window.getComputedStyle(gd).display;\n",
       "        if (!display || display === 'none') {{\n",
       "            console.log([gd, 'removed!']);\n",
       "            Plotly.purge(gd);\n",
       "            observer.disconnect();\n",
       "        }}\n",
       "}});\n",
       "\n",
       "// Listen for the removal of the full notebook cells\n",
       "var notebookContainer = gd.closest('#notebook-container');\n",
       "if (notebookContainer) {{\n",
       "    x.observe(notebookContainer, {childList: true});\n",
       "}}\n",
       "\n",
       "// Listen for the clearing of the current output cell\n",
       "var outputEl = gd.closest('.output');\n",
       "if (outputEl) {{\n",
       "    x.observe(outputEl, {childList: true});\n",
       "}}\n",
       "\n",
       "                        })                };                });            </script>        </div>"
      ]
     },
     "metadata": {},
     "output_type": "display_data"
    }
   ],
   "source": [
    "# Selecting only the numerical columns related to mental disorders\n",
    "X= df.iloc[:, 3:]\n",
    "print(X.head())\n",
    "\n",
    "# elbow plot\n",
    "inertia = []\n",
    "for i in range(1, 11):\n",
    "    kmeans = KMeans(n_clusters=i, random_state=42)\n",
    "    kmeans.fit(X)\n",
    "    inertia.append(kmeans.inertia_)\n",
    "\n",
    "# Plotting the elbow plot with plotly\n",
    "fig = px.line(x=range(1, 11), y=inertia, title='Elbow Plot', labels={'x': 'Number of Clusters', 'y': 'Inertia'})\n",
    "fig.show()"
   ]
  },
  {
   "cell_type": "code",
   "execution_count": 35,
   "id": "1db52c18",
   "metadata": {},
   "outputs": [
    {
     "data": {
      "image/png": "[encoded data removed]",
      "text/plain": [
       "<Figure size 1000x600 with 1 Axes>"
      ]
     },
     "metadata": {},
     "output_type": "display_data"
    }
   ],
   "source": [
    "from scipy.cluster.hierarchy import linkage ,dendrogram \n",
    "from sklearn.preprocessing import StandardScaler\n",
    "\n",
    "# Standardize the data\n",
    "x = pd.DataFrame(df)\n",
    "x.drop([\"Cluster\"],axis=1,inplace=True)\n",
    "scaler = StandardScaler()\n",
    "scaled_data = scaler.fit_transform(x.iloc[:10,:])\n",
    "scaled_data1 = scaler.fit_transform(x)\n",
    "\n",
    "\n",
    "# Perform hierarchical clustering\n",
    "linked = linkage(scaled_data, method='ward')\n",
    "\n",
    "# Plot the dendrogram\n",
    "plt.figure(figsize=(10, 6))\n",
    "dendrogram(linked, orientation='top', distance_sort='descending', show_leaf_counts=False)\n",
    "plt.title('Hierarchical Clustering Dendrogram')\n",
    "plt.xlabel('Sample Index')\n",
    "plt.ylabel('Distance')\n",
    "plt.show()"
   ]
  },
  {
   "cell_type": "code",
   "execution_count": 40,
   "id": "9928c667",
   "metadata": {},
   "outputs": [
    {
     "data": {
      "image/png": "[encoded data removed]",
      "text/plain": [
       "<Figure size 1000x600 with 1 Axes>"
      ]
     },
     "metadata": {},
     "output_type": "display_data"
    }
   ],
   "source": [
    "from scipy.cluster.hierarchy import linkage ,dendrogram \n",
    "from sklearn.preprocessing import StandardScaler\n",
    "\n",
    "# Standardize the data\n",
    "x = pd.DataFrame(df)\n",
    "x.drop([\"Cluster\"],axis=1,inplace=True)\n",
    "scaler = StandardScaler()\n",
    "scaled_data = scaler.fit_transform(x.iloc[:10,:])\n",
    "scaled_data1 = scaler.fit_transform(x)\n",
    "\n",
    "\n",
    "# Perform hierarchical clustering\n",
    "linked = linkage(scaled_data1, method='ward')\n",
    "\n",
    "# Plot the dendrogram\n",
    "plt.figure(figsize=(10, 6))\n",
    "dendrogram(linked, orientation='top', distance_sort='descending', show_leaf_counts=False)\n",
    "plt.title('Hierarchical Clustering Dendrogram')\n",
    "plt.xlabel('Sample Index')\n",
    "plt.ylabel('Distance')\n",
    "plt.show()"
   ]
  },
  {
   "cell_type": "code",
   "execution_count": 42,
   "id": "a4ed1797",
   "metadata": {},
   "outputs": [
    {
     "name": "stdout",
     "output_type": "stream",
     "text": [
      "      Schizophrenia  Depressive   Anxiety   Bipolar    Eating  Cluster\n",
      "Code                                                                  \n",
      "AFG        0.223247    4.828664  4.647262  0.687824  0.120704        0\n",
      "AGO        0.220522    5.846069  3.973929  0.562717  0.119745        2\n",
      "ALB        0.282077    2.481458  3.771262  0.555680  0.115813        1\n",
      "AND        0.286709    3.608395  5.202232  0.920273  0.474165        0\n",
      "ARE        0.280566    3.678485  4.131969  0.747051  0.297405        0\n"
     ]
    }
   ],
   "source": [
    "from sklearn.cluster import AgglomerativeClustering\n",
    "# Perform agglomerative clustering\n",
    "num_clusters = 3  \n",
    "agg_clustering = AgglomerativeClustering(n_clusters=num_clusters, linkage='ward')\n",
    "x['Cluster'] = agg_clustering.fit_predict(scaled_data1)\n",
    "print(x.head())"
   ]
  },
  {
   "cell_type": "code",
   "execution_count": 39,
   "id": "a306b4b7",
   "metadata": {},
   "outputs": [
    {
     "data": {
      "text/plain": [
       "{-1, 0}"
      ]
     },
     "execution_count": 39,
     "metadata": {},
     "output_type": "execute_result"
    }
   ],
   "source": [
    "from sklearn.cluster import DBSCAN\n",
    "cluster_DB = DBSCAN(eps = 0.55, min_samples = 4).fit(x)\n",
    "labels_dB = cluster_DB.labels_\n",
    "set(cluster_DB.labels_)"
   ]
  },
  {
   "cell_type": "code",
   "execution_count": null,
   "id": "c494b36b",
   "metadata": {},
   "outputs": [],
   "source": []
  }
 ],
 "metadata": {
  "kernelspec": {
   "display_name": "Python 3 (ipykernel)",
   "language": "python",
   "name": "python3"
  },
  "language_info": {
   "codemirror_mode": {
    "name": "ipython",
    "version": 3
   },
   "file_extension": ".py",
   "mimetype": "text/x-python",
   "name": "python",
   "nbconvert_exporter": "python",
   "pygments_lexer": "ipython3",
   "version": "3.11.5"
  }
 },
 "nbformat": 4,
 "nbformat_minor": 5
}

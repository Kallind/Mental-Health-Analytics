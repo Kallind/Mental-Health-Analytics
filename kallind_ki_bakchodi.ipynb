{
 "cells": [
  {
   "cell_type": "code",
   "execution_count": 1,
   "id": "1726a829",
   "metadata": {},
   "outputs": [],
   "source": [
    "import numpy as np\n",
    "import pandas as pd\n",
    "import matplotlib.pyplot as plt\n",
    "import seaborn as sns\n",
    "from sklearn import preprocessing\n",
    "from sklearn import metrics\n",
    "import plotly.graph_objects as go\n",
    "import plotly.express as px\n",
    "from plotly.subplots import make_subplots\n",
    "import warnings\n",
    "warnings.filterwarnings(\"ignore\")"
   ]
  },
  {
   "cell_type": "code",
   "execution_count": 2,
   "id": "34801cfa",
   "metadata": {},
   "outputs": [],
   "source": [
    "df1 = pd.read_csv(\"mental.csv\")\n",
    "df22 = pd.read_csv(\"data/4- adult-population-covered-in-primary-data-on-the-prevalence-of-mental-illnesses.csv\")\n",
    "df3 = pd.read_csv(\"data/6- depressive-symptoms-across-us-population.csv\")\n",
    "df44 = pd.read_csv(\"data/7- number-of-countries-with-primary-data-on-prevalence-of-mental-illnesses-in-the-global-burden-of-disease-study.csv\")"
   ]
  },
  {
   "cell_type": "code",
   "execution_count": 3,
   "id": "fc5134f8",
   "metadata": {},
   "outputs": [
    {
     "data": {
      "text/html": [
       "<div>\n",
       "<style scoped>\n",
       "    .dataframe tbody tr th:only-of-type {\n",
       "        vertical-align: middle;\n",
       "    }\n",
       "\n",
       "    .dataframe tbody tr th {\n",
       "        vertical-align: top;\n",
       "    }\n",
       "\n",
       "    .dataframe thead th {\n",
       "        text-align: right;\n",
       "    }\n",
       "</style>\n",
       "<table border=\"1\" class=\"dataframe\">\n",
       "  <thead>\n",
       "    <tr style=\"text-align: right;\">\n",
       "      <th></th>\n",
       "      <th>Entity</th>\n",
       "      <th>Code</th>\n",
       "      <th>Year</th>\n",
       "      <th>Schizophrenia disorders (share of population) - Sex: Both - Age: Age-standardized</th>\n",
       "      <th>Depressive disorders (share of population) - Sex: Both - Age: Age-standardized</th>\n",
       "      <th>Anxiety disorders (share of population) - Sex: Both - Age: Age-standardized</th>\n",
       "      <th>Bipolar disorders (share of population) - Sex: Both - Age: Age-standardized</th>\n",
       "      <th>Eating disorders (share of population) - Sex: Both - Age: Age-standardized</th>\n",
       "    </tr>\n",
       "  </thead>\n",
       "  <tbody>\n",
       "    <tr>\n",
       "      <th>0</th>\n",
       "      <td>Afghanistan</td>\n",
       "      <td>AFG</td>\n",
       "      <td>1990</td>\n",
       "      <td>0.223206</td>\n",
       "      <td>4.996118</td>\n",
       "      <td>4.713314</td>\n",
       "      <td>0.703023</td>\n",
       "      <td>0.127700</td>\n",
       "    </tr>\n",
       "    <tr>\n",
       "      <th>1</th>\n",
       "      <td>Afghanistan</td>\n",
       "      <td>AFG</td>\n",
       "      <td>1991</td>\n",
       "      <td>0.222454</td>\n",
       "      <td>4.989290</td>\n",
       "      <td>4.702100</td>\n",
       "      <td>0.702069</td>\n",
       "      <td>0.123256</td>\n",
       "    </tr>\n",
       "    <tr>\n",
       "      <th>2</th>\n",
       "      <td>Afghanistan</td>\n",
       "      <td>AFG</td>\n",
       "      <td>1992</td>\n",
       "      <td>0.221751</td>\n",
       "      <td>4.981346</td>\n",
       "      <td>4.683743</td>\n",
       "      <td>0.700792</td>\n",
       "      <td>0.118844</td>\n",
       "    </tr>\n",
       "    <tr>\n",
       "      <th>3</th>\n",
       "      <td>Afghanistan</td>\n",
       "      <td>AFG</td>\n",
       "      <td>1993</td>\n",
       "      <td>0.220987</td>\n",
       "      <td>4.976958</td>\n",
       "      <td>4.673549</td>\n",
       "      <td>0.700087</td>\n",
       "      <td>0.115089</td>\n",
       "    </tr>\n",
       "    <tr>\n",
       "      <th>4</th>\n",
       "      <td>Afghanistan</td>\n",
       "      <td>AFG</td>\n",
       "      <td>1994</td>\n",
       "      <td>0.220183</td>\n",
       "      <td>4.977782</td>\n",
       "      <td>4.670810</td>\n",
       "      <td>0.699898</td>\n",
       "      <td>0.111815</td>\n",
       "    </tr>\n",
       "    <tr>\n",
       "      <th>...</th>\n",
       "      <td>...</td>\n",
       "      <td>...</td>\n",
       "      <td>...</td>\n",
       "      <td>...</td>\n",
       "      <td>...</td>\n",
       "      <td>...</td>\n",
       "      <td>...</td>\n",
       "      <td>...</td>\n",
       "    </tr>\n",
       "    <tr>\n",
       "      <th>6415</th>\n",
       "      <td>Zimbabwe</td>\n",
       "      <td>ZWE</td>\n",
       "      <td>2015</td>\n",
       "      <td>0.201042</td>\n",
       "      <td>3.407624</td>\n",
       "      <td>3.184012</td>\n",
       "      <td>0.538596</td>\n",
       "      <td>0.095652</td>\n",
       "    </tr>\n",
       "    <tr>\n",
       "      <th>6416</th>\n",
       "      <td>Zimbabwe</td>\n",
       "      <td>ZWE</td>\n",
       "      <td>2016</td>\n",
       "      <td>0.201319</td>\n",
       "      <td>3.410755</td>\n",
       "      <td>3.187148</td>\n",
       "      <td>0.538593</td>\n",
       "      <td>0.096662</td>\n",
       "    </tr>\n",
       "    <tr>\n",
       "      <th>6417</th>\n",
       "      <td>Zimbabwe</td>\n",
       "      <td>ZWE</td>\n",
       "      <td>2017</td>\n",
       "      <td>0.201639</td>\n",
       "      <td>3.411965</td>\n",
       "      <td>3.188418</td>\n",
       "      <td>0.538589</td>\n",
       "      <td>0.097330</td>\n",
       "    </tr>\n",
       "    <tr>\n",
       "      <th>6418</th>\n",
       "      <td>Zimbabwe</td>\n",
       "      <td>ZWE</td>\n",
       "      <td>2018</td>\n",
       "      <td>0.201976</td>\n",
       "      <td>3.406929</td>\n",
       "      <td>3.172111</td>\n",
       "      <td>0.538585</td>\n",
       "      <td>0.097909</td>\n",
       "    </tr>\n",
       "    <tr>\n",
       "      <th>6419</th>\n",
       "      <td>Zimbabwe</td>\n",
       "      <td>ZWE</td>\n",
       "      <td>2019</td>\n",
       "      <td>0.202482</td>\n",
       "      <td>3.395476</td>\n",
       "      <td>3.137017</td>\n",
       "      <td>0.538580</td>\n",
       "      <td>0.098295</td>\n",
       "    </tr>\n",
       "  </tbody>\n",
       "</table>\n",
       "<p>6420 rows × 8 columns</p>\n",
       "</div>"
      ],
      "text/plain": [
       "           Entity Code  Year  \\\n",
       "0     Afghanistan  AFG  1990   \n",
       "1     Afghanistan  AFG  1991   \n",
       "2     Afghanistan  AFG  1992   \n",
       "3     Afghanistan  AFG  1993   \n",
       "4     Afghanistan  AFG  1994   \n",
       "...           ...  ...   ...   \n",
       "6415     Zimbabwe  ZWE  2015   \n",
       "6416     Zimbabwe  ZWE  2016   \n",
       "6417     Zimbabwe  ZWE  2017   \n",
       "6418     Zimbabwe  ZWE  2018   \n",
       "6419     Zimbabwe  ZWE  2019   \n",
       "\n",
       "      Schizophrenia disorders (share of population) - Sex: Both - Age: Age-standardized  \\\n",
       "0                                              0.223206                                   \n",
       "1                                              0.222454                                   \n",
       "2                                              0.221751                                   \n",
       "3                                              0.220987                                   \n",
       "4                                              0.220183                                   \n",
       "...                                                 ...                                   \n",
       "6415                                           0.201042                                   \n",
       "6416                                           0.201319                                   \n",
       "6417                                           0.201639                                   \n",
       "6418                                           0.201976                                   \n",
       "6419                                           0.202482                                   \n",
       "\n",
       "      Depressive disorders (share of population) - Sex: Both - Age: Age-standardized  \\\n",
       "0                                              4.996118                                \n",
       "1                                              4.989290                                \n",
       "2                                              4.981346                                \n",
       "3                                              4.976958                                \n",
       "4                                              4.977782                                \n",
       "...                                                 ...                                \n",
       "6415                                           3.407624                                \n",
       "6416                                           3.410755                                \n",
       "6417                                           3.411965                                \n",
       "6418                                           3.406929                                \n",
       "6419                                           3.395476                                \n",
       "\n",
       "      Anxiety disorders (share of population) - Sex: Both - Age: Age-standardized  \\\n",
       "0                                              4.713314                             \n",
       "1                                              4.702100                             \n",
       "2                                              4.683743                             \n",
       "3                                              4.673549                             \n",
       "4                                              4.670810                             \n",
       "...                                                 ...                             \n",
       "6415                                           3.184012                             \n",
       "6416                                           3.187148                             \n",
       "6417                                           3.188418                             \n",
       "6418                                           3.172111                             \n",
       "6419                                           3.137017                             \n",
       "\n",
       "      Bipolar disorders (share of population) - Sex: Both - Age: Age-standardized  \\\n",
       "0                                              0.703023                             \n",
       "1                                              0.702069                             \n",
       "2                                              0.700792                             \n",
       "3                                              0.700087                             \n",
       "4                                              0.699898                             \n",
       "...                                                 ...                             \n",
       "6415                                           0.538596                             \n",
       "6416                                           0.538593                             \n",
       "6417                                           0.538589                             \n",
       "6418                                           0.538585                             \n",
       "6419                                           0.538580                             \n",
       "\n",
       "      Eating disorders (share of population) - Sex: Both - Age: Age-standardized  \n",
       "0                                              0.127700                           \n",
       "1                                              0.123256                           \n",
       "2                                              0.118844                           \n",
       "3                                              0.115089                           \n",
       "4                                              0.111815                           \n",
       "...                                                 ...                           \n",
       "6415                                           0.095652                           \n",
       "6416                                           0.096662                           \n",
       "6417                                           0.097330                           \n",
       "6418                                           0.097909                           \n",
       "6419                                           0.098295                           \n",
       "\n",
       "[6420 rows x 8 columns]"
      ]
     },
     "execution_count": 3,
     "metadata": {},
     "output_type": "execute_result"
    }
   ],
   "source": [
    "df1"
   ]
  },
  {
   "cell_type": "code",
   "execution_count": 4,
   "id": "8cf2bf68",
   "metadata": {},
   "outputs": [],
   "source": [
    "df1_ent=df1.drop([\"Entity\",\"Year\"],axis=1)\n",
    "df=df1_ent.groupby('Code').mean()"
   ]
  },
  {
   "cell_type": "code",
   "execution_count": 5,
   "id": "0b932c41",
   "metadata": {},
   "outputs": [
    {
     "name": "stdout",
     "output_type": "stream",
     "text": [
      "      Schizophrenia  Depressive   Anxiety   Bipolar    Eating\n",
      "Code                                                         \n",
      "AFG        0.217139    4.968072  4.713665  0.699886  0.106869\n",
      "AGO        0.215018    5.844577  3.970343  0.553821  0.115009\n",
      "ALB        0.283351    2.434626  3.734468  0.542134  0.113957\n",
      "AND        0.287515    3.588144  5.404067  0.931506  0.497991\n",
      "ARE        0.281002    3.668199  4.134772  0.746775  0.314520\n",
      "...             ...         ...       ...       ...       ...\n",
      "WSM        0.286768    2.860273  3.949078  0.274745  0.086854\n",
      "YEM        0.230986    4.897088  4.784083  0.725641  0.134467\n",
      "ZAF        0.223499    4.137063  3.817768  0.556845  0.154442\n",
      "ZMB        0.209079    4.191195  3.830621  0.574470  0.100371\n",
      "ZWE        0.204477    3.345768  3.181042  0.538530  0.102474\n",
      "\n",
      "[205 rows x 5 columns]\n"
     ]
    }
   ],
   "source": [
    "# Assuming your data is stored in a DataFrame called df\n",
    "\n",
    "# New column names\n",
    "new_column_names = {\n",
    "    'Schizophrenia disorders (share of population) - Sex: Both - Age: Age-standardized': 'Schizophrenia',\n",
    "    'Depressive disorders (share of population) - Sex: Both - Age: Age-standardized': 'Depressive',\n",
    "    'Anxiety disorders (share of population) - Sex: Both - Age: Age-standardized': 'Anxiety',\n",
    "    'Bipolar disorders (share of population) - Sex: Both - Age: Age-standardized': 'Bipolar',\n",
    "    'Eating disorders (share of population) - Sex: Both - Age: Age-standardized': 'Eating'\n",
    "}\n",
    "\n",
    "# Rename columns\n",
    "df.rename(columns=new_column_names, inplace=True)\n",
    "\n",
    "# Display the DataFrame with renamed columns\n",
    "print(df)\n"
   ]
  },
  {
   "cell_type": "code",
   "execution_count": 6,
   "id": "013de5fb",
   "metadata": {},
   "outputs": [
    {
     "data": {
      "image/png": "[encoded data removed]",
      "text/plain": [
       "<Figure size 1000x600 with 1 Axes>"
      ]
     },
     "metadata": {},
     "output_type": "display_data"
    }
   ],
   "source": [
    "import matplotlib.pyplot as plt\n",
    "import seaborn as sns\n",
    "\n",
    "# Bar Chart of Average Disorder Prevalence by Country\n",
    "plt.figure(figsize=(10, 6))\n",
    "sns.barplot(data=df.reset_index(), x='Code', y='Schizophrenia')\n",
    "plt.title('Average Schizophrenia Prevalence by Country')\n",
    "plt.xlabel('Country Code')\n",
    "plt.ylabel('Average Prevalence')\n",
    "plt.xticks(rotation=45)\n",
    "plt.show()\n",
    "\n",
    "# # Line Plot of Disorder Trends Over Time\n",
    "# plt.figure(figsize=(10, 6))\n",
    "# for country_code in df.index:\n",
    "#     plt.plot(df.loc[df.index == country_code].drop(columns='Year').values.flatten(), label=country_code)\n",
    "# plt.title('Disorder Trends Over Time')\n",
    "# plt.xlabel('Disorder Type')\n",
    "# plt.ylabel('Average Prevalence')\n",
    "# plt.legend(title='Country Code')\n",
    "# plt.xticks(range(len(df.columns) - 1), df.columns[1:], rotation=45)\n",
    "# plt.show()\n",
    "\n",
    "# # Stacked Bar Chart of Disorder Prevalence Across Countries\n",
    "# plt.figure(figsize=(10, 6))\n",
    "# df.plot(kind='bar', stacked=True, colormap='viridis')\n",
    "# plt.title('Disorder Prevalence Across Countries')\n",
    "# plt.xlabel('Country Code')\n",
    "# plt.ylabel('Average Prevalence')\n",
    "# plt.xticks(rotation=45)\n",
    "# plt.legend(title='Disorder Type', loc='upper right')\n",
    "# plt.show()\n"
   ]
  },
  {
   "cell_type": "code",
   "execution_count": 7,
   "id": "63af1acf",
   "metadata": {},
   "outputs": [
    {
     "name": "stdout",
     "output_type": "stream",
     "text": [
      "206\n"
     ]
    }
   ],
   "source": [
    "unique_codes = df1['Code'].unique()\n",
    "\n",
    "# Print the unique values\n",
    "print(len(unique_codes))"
   ]
  },
  {
   "cell_type": "code",
   "execution_count": 10,
   "id": "509aa03e",
   "metadata": {},
   "outputs": [
    {
     "data": {
      "application/vnd.plotly.v1+json": {
       "config": {
        "plotlyServerURL": "https://plot.ly"
       },
       "data": [
        {
         "customdata": [
          [
           "AFG"
          ],
          [
           "AGO"
          ],
          [
           "ALB"
          ],
          [
           "AND"
          ],
          [
           "ARE"
          ],
          [
           "ARG"
          ],
          [
           "ARM"
          ],
          [
           "ASM"
          ],
          [
           "ATG"
          ],
          [
           "AUS"
          ],
          [
           "AUT"
          ],
          [
           "AZE"
          ],
          [
           "BDI"
          ],
          [
           "BEL"
          ],
          [
           "BEN"
          ],
          [
           "BFA"
          ],
          [
           "BGD"
          ],
          [
           "BGR"
          ],
          [
           "BHR"
          ],
          [
           "BHS"
          ],
          [
           "BIH"
          ],
          [
           "BLR"
          ],
          [
           "BLZ"
          ],
          [
           "BMU"
          ],
          [
           "BOL"
          ],
          [
           "BRA"
          ],
          [
           "BRB"
          ],
          [
           "BRN"
          ],
          [
           "BTN"
          ],
          [
           "BWA"
          ],
          [
           "CAF"
          ],
          [
           "CAN"
          ],
          [
           "CHE"
          ],
          [
           "CHL"
          ],
          [
           "CHN"
          ],
          [
           "CIV"
          ],
          [
           "CMR"
          ],
          [
           "COD"
          ],
          [
           "COG"
          ],
          [
           "COK"
          ],
          [
           "COL"
          ],
          [
           "COM"
          ],
          [
           "CPV"
          ],
          [
           "CRI"
          ],
          [
           "CUB"
          ],
          [
           "CYP"
          ],
          [
           "CZE"
          ],
          [
           "DEU"
          ],
          [
           "DJI"
          ],
          [
           "DMA"
          ],
          [
           "DNK"
          ],
          [
           "DOM"
          ],
          [
           "DZA"
          ],
          [
           "ECU"
          ],
          [
           "EGY"
          ],
          [
           "ERI"
          ],
          [
           "ESP"
          ],
          [
           "EST"
          ],
          [
           "ETH"
          ],
          [
           "FIN"
          ],
          [
           "FJI"
          ],
          [
           "FRA"
          ],
          [
           "FSM"
          ],
          [
           "GAB"
          ],
          [
           "GBR"
          ],
          [
           "GEO"
          ],
          [
           "GHA"
          ],
          [
           "GIN"
          ],
          [
           "GMB"
          ],
          [
           "GNB"
          ],
          [
           "GNQ"
          ],
          [
           "GRC"
          ],
          [
           "GRD"
          ],
          [
           "GRL"
          ],
          [
           "GTM"
          ],
          [
           "GUM"
          ],
          [
           "GUY"
          ],
          [
           "HND"
          ],
          [
           "HRV"
          ],
          [
           "HTI"
          ],
          [
           "HUN"
          ],
          [
           "IDN"
          ],
          [
           "IND"
          ],
          [
           "IRL"
          ],
          [
           "IRN"
          ],
          [
           "IRQ"
          ],
          [
           "ISL"
          ],
          [
           "ISR"
          ],
          [
           "ITA"
          ],
          [
           "JAM"
          ],
          [
           "JOR"
          ],
          [
           "JPN"
          ],
          [
           "KAZ"
          ],
          [
           "KEN"
          ],
          [
           "KGZ"
          ],
          [
           "KHM"
          ],
          [
           "KIR"
          ],
          [
           "KNA"
          ],
          [
           "KOR"
          ],
          [
           "KWT"
          ],
          [
           "LAO"
          ],
          [
           "LBN"
          ],
          [
           "LBR"
          ],
          [
           "LBY"
          ],
          [
           "LCA"
          ],
          [
           "LKA"
          ],
          [
           "LSO"
          ],
          [
           "LTU"
          ],
          [
           "LUX"
          ],
          [
           "LVA"
          ],
          [
           "MAR"
          ],
          [
           "MCO"
          ],
          [
           "MDA"
          ],
          [
           "MDG"
          ],
          [
           "MDV"
          ],
          [
           "MEX"
          ],
          [
           "MHL"
          ],
          [
           "MKD"
          ],
          [
           "MLI"
          ],
          [
           "MLT"
          ],
          [
           "MMR"
          ],
          [
           "MNE"
          ],
          [
           "MNG"
          ],
          [
           "MNP"
          ],
          [
           "MOZ"
          ],
          [
           "MRT"
          ],
          [
           "MUS"
          ],
          [
           "MWI"
          ],
          [
           "MYS"
          ],
          [
           "NAM"
          ],
          [
           "NER"
          ],
          [
           "NGA"
          ],
          [
           "NIC"
          ],
          [
           "NIU"
          ],
          [
           "NLD"
          ],
          [
           "NOR"
          ],
          [
           "NPL"
          ],
          [
           "NRU"
          ],
          [
           "NZL"
          ],
          [
           "OMN"
          ],
          [
           "OWID_WRL"
          ],
          [
           "PAK"
          ],
          [
           "PAN"
          ],
          [
           "PER"
          ],
          [
           "PHL"
          ],
          [
           "PLW"
          ],
          [
           "PNG"
          ],
          [
           "POL"
          ],
          [
           "PRI"
          ],
          [
           "PRK"
          ],
          [
           "PRT"
          ],
          [
           "PRY"
          ],
          [
           "PSE"
          ],
          [
           "QAT"
          ],
          [
           "ROU"
          ],
          [
           "RUS"
          ],
          [
           "RWA"
          ],
          [
           "SAU"
          ],
          [
           "SDN"
          ],
          [
           "SEN"
          ],
          [
           "SGP"
          ],
          [
           "SLB"
          ],
          [
           "SLE"
          ],
          [
           "SLV"
          ],
          [
           "SMR"
          ],
          [
           "SOM"
          ],
          [
           "SRB"
          ],
          [
           "SSD"
          ],
          [
           "STP"
          ],
          [
           "SUR"
          ],
          [
           "SVK"
          ],
          [
           "SVN"
          ],
          [
           "SWE"
          ],
          [
           "SWZ"
          ],
          [
           "SYC"
          ],
          [
           "SYR"
          ],
          [
           "TCD"
          ],
          [
           "TGO"
          ],
          [
           "THA"
          ],
          [
           "TJK"
          ],
          [
           "TKL"
          ],
          [
           "TKM"
          ],
          [
           "TLS"
          ],
          [
           "TON"
          ],
          [
           "TTO"
          ],
          [
           "TUN"
          ],
          [
           "TUR"
          ],
          [
           "TUV"
          ],
          [
           "TWN"
          ],
          [
           "TZA"
          ],
          [
           "UGA"
          ],
          [
           "UKR"
          ],
          [
           "URY"
          ],
          [
           "USA"
          ],
          [
           "UZB"
          ],
          [
           "VCT"
          ],
          [
           "VEN"
          ],
          [
           "VIR"
          ],
          [
           "VNM"
          ],
          [
           "VUT"
          ],
          [
           "WSM"
          ],
          [
           "YEM"
          ],
          [
           "ZAF"
          ],
          [
           "ZMB"
          ],
          [
           "ZWE"
          ]
         ],
         "hovertemplate": "Schizophrenia=%{x}<br>Depressive=%{y}<br>Code=%{customdata[0]}<br>Cluster=%{marker.color}<extra></extra>",
         "legendgroup": "",
         "marker": {
          "color": [
           1,
           1,
           0,
           2,
           0,
           2,
           0,
           0,
           0,
           2,
           2,
           0,
           1,
           2,
           1,
           1,
           1,
           0,
           1,
           0,
           0,
           1,
           0,
           0,
           2,
           2,
           0,
           0,
           1,
           1,
           1,
           0,
           2,
           2,
           0,
           1,
           1,
           1,
           1,
           0,
           0,
           1,
           1,
           0,
           1,
           2,
           0,
           2,
           1,
           0,
           2,
           1,
           1,
           2,
           1,
           1,
           2,
           1,
           1,
           1,
           0,
           2,
           0,
           1,
           1,
           0,
           1,
           1,
           1,
           1,
           1,
           2,
           0,
           1,
           1,
           0,
           1,
           0,
           0,
           0,
           0,
           0,
           1,
           2,
           2,
           2,
           2,
           1,
           2,
           0,
           1,
           0,
           0,
           1,
           0,
           0,
           0,
           1,
           0,
           1,
           0,
           2,
           1,
           2,
           0,
           0,
           1,
           1,
           2,
           1,
           1,
           2,
           0,
           1,
           0,
           0,
           0,
           0,
           0,
           2,
           0,
           0,
           1,
           0,
           1,
           0,
           1,
           1,
           0,
           0,
           1,
           1,
           0,
           0,
           2,
           2,
           1,
           0,
           2,
           1,
           0,
           1,
           0,
           2,
           0,
           0,
           0,
           0,
           0,
           0,
           2,
           2,
           1,
           1,
           0,
           0,
           1,
           1,
           1,
           1,
           0,
           0,
           1,
           0,
           2,
           1,
           0,
           1,
           0,
           1,
           0,
           0,
           2,
           1,
           0,
           2,
           1,
           1,
           0,
           0,
           0,
           0,
           0,
           0,
           1,
           1,
           1,
           0,
           0,
           1,
           1,
           1,
           2,
           2,
           0,
           0,
           0,
           0,
           0,
           0,
           0,
           1,
           1,
           1,
           0
          ],
          "coloraxis": "coloraxis",
          "symbol": "circle"
         },
         "mode": "markers",
         "name": "",
         "orientation": "v",
         "showlegend": false,
         "type": "scatter",
         "x": [
          0.21713928233333332,
          0.21501837733333332,
          0.2833509243333333,
          0.2875150026666667,
          0.28100229433333335,
          0.31123931666666665,
          0.2778581686666667,
          0.30863134633333333,
          0.286526879,
          0.38855307299999997,
          0.27556981266666664,
          0.27614362033333334,
          0.20088872466666666,
          0.27423265599999996,
          0.21193578500000002,
          0.20543430599999998,
          0.2786147206666667,
          0.2844358193333333,
          0.2711379783333333,
          0.28502673866666667,
          0.2826658736666667,
          0.27267890866666666,
          0.2692648436666667,
          0.30190666033333335,
          0.26345031999999996,
          0.275675355,
          0.282434899,
          0.30505227933333334,
          0.28560024766666664,
          0.22041105733333335,
          0.19482022499999999,
          0.28848229599999997,
          0.2802294806666667,
          0.31548577666666666,
          0.3028644773333333,
          0.21235484566666668,
          0.212359167,
          0.20282228633333332,
          0.214368294,
          0.311440612,
          0.2775458373333333,
          0.21702505533333336,
          0.22584445466666667,
          0.28374720833333333,
          0.27725792033333335,
          0.27437675433333336,
          0.29469943633333334,
          0.2601667306666667,
          0.21910747066666666,
          0.2724766966666667,
          0.225505864,
          0.27164549433333335,
          0.24905719233333334,
          0.2732963393333333,
          0.24639395066666667,
          0.20647713166666665,
          0.265590325,
          0.28447934566666666,
          0.20795982500000001,
          0.263713991,
          0.29244190866666664,
          0.26861672733333336,
          0.27078995833333336,
          0.22925495366666665,
          0.2558146573333333,
          0.2736103386666667,
          0.21319143633333332,
          0.20858159633333334,
          0.2121028003333333,
          0.20347244466666667,
          0.22366345733333332,
          0.2727419466666667,
          0.2745169746666667,
          0.3786357226666667,
          0.2619045566666667,
          0.32810851533333335,
          0.25783652533333334,
          0.26013903666666666,
          0.29245852266666666,
          0.24206864733333333,
          0.28905868733333334,
          0.28625694,
          0.2817600066666667,
          0.35935977133333336,
          0.25313631666666664,
          0.24403212999999999,
          0.277494858,
          0.30329442900000003,
          0.296646902,
          0.27588185133333337,
          0.254053072,
          0.302280187,
          0.27614281733333335,
          0.21462071000000002,
          0.262605518,
          0.26380592533333336,
          0.25877416766666667,
          0.27962409466666666,
          0.297708408,
          0.2771153136666667,
          0.26940072333333337,
          0.2535111723333333,
          0.20520076499999998,
          0.25693884466666667,
          0.275449095,
          0.29230539699999997,
          0.20026494066666667,
          0.28187760666666667,
          0.28003050999999995,
          0.280560007,
          0.24165551133333332,
          0.29336013966666663,
          0.26705117733333333,
          0.212348209,
          0.30161808633333337,
          0.282790518,
          0.27329803766666666,
          0.2856487793333333,
          0.20923469833333333,
          0.2756702956666667,
          0.26431916266666666,
          0.2861639733333333,
          0.265454146,
          0.318439496,
          0.19943205300000003,
          0.21873483900000001,
          0.3018485263333333,
          0.20055590966666664,
          0.30775145433333334,
          0.21880628333333335,
          0.206904555,
          0.21988878966666667,
          0.26920634633333335,
          0.2959881623333333,
          0.37937442666666665,
          0.2830702796666667,
          0.271269895,
          0.28259147433333337,
          0.38949470966666666,
          0.26494458266666665,
          0.28887678766666663,
          0.281476296,
          0.28224271766666664,
          0.27507421066666665,
          0.285908677,
          0.29829653666666667,
          0.27102160599999997,
          0.2896661476666667,
          0.29061893066666666,
          0.266878532,
          0.26879137566666667,
          0.27464241833333336,
          0.248456562,
          0.28274684533333333,
          0.28377900333333334,
          0.27887184400000004,
          0.20538178666666665,
          0.2628221966666667,
          0.23104516633333333,
          0.21542986133333333,
          0.3146629146666667,
          0.25631550799999997,
          0.20746201433333333,
          0.26609598133333334,
          0.2830158703333333,
          0.18979669566666668,
          0.28343388166666666,
          0.22888002233333332,
          0.22037973533333333,
          0.272355387,
          0.2912527933333333,
          0.2971159073333334,
          0.27975169033333336,
          0.21533192033333334,
          0.30677423633333334,
          0.24530640799999998,
          0.20797962866666667,
          0.207619485,
          0.2937844236666667,
          0.263192437,
          0.28520108499999997,
          0.2723940453333334,
          0.2570117613333333,
          0.29114503633333333,
          0.28031485933333333,
          0.252928822,
          0.24759015433333334,
          0.272706941,
          0.302190317,
          0.20944665633333331,
          0.20446832233333334,
          0.27148857266666665,
          0.31180767299999995,
          0.44947948866666665,
          0.26603073633333335,
          0.2711097823333333,
          0.27737713766666666,
          0.29353587099999995,
          0.31457823566666665,
          0.271230105,
          0.2867680286666667,
          0.230985601,
          0.22349925466666667,
          0.20907906866666667,
          0.20447687199999998
         ],
         "xaxis": "x",
         "y": [
          4.968071706666667,
          5.84457741,
          2.43462631,
          3.58814365,
          3.66819898,
          2.535886333333333,
          2.8727788033333335,
          2.6398679233333335,
          2.929626943333333,
          4.575426486666667,
          3.2966260066666666,
          2.7002896866666664,
          5.075459053333334,
          3.4134894033333336,
          4.410542666666667,
          4.36942148,
          4.618067126666667,
          2.8288014900000005,
          4.868266873333334,
          2.9931675866666665,
          2.996732973333333,
          3.984772626666667,
          3.26294616,
          3.32724887,
          3.532390663333333,
          4.110291353333333,
          3.081273723333333,
          1.5552025733333332,
          4.064584733333334,
          4.28322159,
          5.979900223333333,
          3.30702592,
          3.8713590533333337,
          3.9814926833333333,
          2.87961292,
          3.9041649866666663,
          4.583411666666667,
          5.47811835,
          5.81650209,
          3.138508293333333,
          2.403445683333333,
          4.286648663333334,
          4.87820029,
          3.1525790933333337,
          4.17791404,
          3.0280166066666667,
          3.054083853333333,
          3.3376544966666666,
          4.441226863333333,
          2.9790249033333334,
          3.775860676666667,
          3.8642538933333332,
          4.132249043333333,
          3.3306349699999998,
          3.81092976,
          4.9049118300000005,
          4.096358753333333,
          4.220680023333333,
          4.8583599,
          4.57825118,
          2.9132200166666666,
          4.070868753333333,
          2.94900095,
          5.6724113833333325,
          4.172419856666667,
          3.2703816100000003,
          4.36063737,
          4.3180409299999996,
          5.616541003333333,
          4.43938215,
          5.834175360000001,
          5.285475123333333,
          3.2169489866666665,
          6.28722487,
          3.9599233766666666,
          3.1675601700000002,
          4.906575916666666,
          3.1224572133333335,
          3.1984804299999996,
          3.6532177266666666,
          3.0439201566666667,
          2.3859336133333335,
          4.112906836666666,
          4.154150406666667,
          4.684949406666666,
          3.7213056033333336,
          3.0107888733333334,
          4.48048785,
          3.6867555633333335,
          2.9402578700000004,
          4.335669393333333,
          2.1135508433333334,
          3.4835175400000002,
          4.949576183333334,
          3.513582153333333,
          3.1025173566666666,
          3.02019258,
          3.9283671333333334,
          2.0051735533333335,
          3.9552833633333333,
          2.806830396666667,
          4.89358062,
          4.706267303333333,
          4.322260383333333,
          3.2372097566666667,
          3.0375137600000004,
          5.335037696666666,
          4.201264563333334,
          3.4699540866666667,
          3.99646638,
          5.140464446666667,
          4.050056733333333,
          3.396446236666667,
          4.775247753333333,
          3.23528715,
          3.2945880866666664,
          2.9179759733333333,
          2.6166719566666665,
          3.509912986666667,
          3.0632632633333334,
          2.14845231,
          2.8427223533333335,
          4.0403764933333335,
          2.7091368066666663,
          4.919477753333334,
          3.643527226666667,
          4.110416816666667,
          4.1749277000000005,
          3.3778324833333335,
          3.634853403333333,
          4.179140243333333,
          4.280644216666667,
          3.3070252366666666,
          3.14055002,
          3.5389895599999996,
          3.090733246666667,
          4.917826743333333,
          3.1173379366666665,
          3.65143697,
          3.9357362366666666,
          3.5118441766666666,
          3.9242121466666666,
          2.95670544,
          2.29016246,
          2.8353103899999996,
          3.1035986533333335,
          3.1260317233333335,
          2.2065583799999997,
          2.8805059633333334,
          2.77065953,
          4.812643899999999,
          3.572438516666667,
          6.663174929999999,
          4.102406576666667,
          2.6730284699999998,
          3.18454295,
          5.458190926666666,
          4.090732946666667,
          4.456718446666667,
          3.9690871999999997,
          2.3202254633333337,
          3.0350170266666665,
          4.349714523333334,
          3.54298913,
          4.074813786666667,
          4.862027483333334,
          2.9378507933333333,
          4.659823956666667,
          3.6593300099999997,
          4.645061856666667,
          2.8144562166666662,
          3.4491138333333335,
          4.20284194,
          4.345661453333333,
          2.6869443133333335,
          4.010069096666666,
          5.211960533333333,
          4.463894466666667,
          2.885318396666667,
          2.849581456666667,
          3.14498711,
          3.1433065433333334,
          2.8972166400000003,
          2.6802779233333336,
          3.85110398,
          5.024760816666667,
          4.073236183333333,
          3.1525606300000004,
          2.539799136666667,
          4.70202376,
          7.14299117,
          4.2388055399999995,
          2.684386353333333,
          4.368207836666667,
          3.2337224433333334,
          3.25444976,
          3.203902986666667,
          3.25197088,
          2.5376792166666666,
          3.0198505966666667,
          2.8602725766666666,
          4.897087923333333,
          4.137063246666667,
          4.191194516666666,
          3.3457675933333335
         ],
         "yaxis": "y"
        }
       ],
       "layout": {
        "coloraxis": {
         "colorbar": {
          "title": {
           "text": "Cluster"
          }
         },
         "colorscale": [
          [
           0,
           "#0d0887"
          ],
          [
           0.1111111111111111,
           "#46039f"
          ],
          [
           0.2222222222222222,
           "#7201a8"
          ],
          [
           0.3333333333333333,
           "#9c179e"
          ],
          [
           0.4444444444444444,
           "#bd3786"
          ],
          [
           0.5555555555555556,
           "#d8576b"
          ],
          [
           0.6666666666666666,
           "#ed7953"
          ],
          [
           0.7777777777777778,
           "#fb9f3a"
          ],
          [
           0.8888888888888888,
           "#fdca26"
          ],
          [
           1,
           "#f0f921"
          ]
         ]
        },
        "height": 600,
        "legend": {
         "tracegroupgap": 0
        },
        "template": {
         "data": {
          "bar": [
           {
            "error_x": {
             "color": "#2a3f5f"
            },
            "error_y": {
             "color": "#2a3f5f"
            },
            "marker": {
             "line": {
              "color": "#E5ECF6",
              "width": 0.5
             },
             "pattern": {
              "fillmode": "overlay",
              "size": 10,
              "solidity": 0.2
             }
            },
            "type": "bar"
           }
          ],
          "barpolar": [
           {
            "marker": {
             "line": {
              "color": "#E5ECF6",
              "width": 0.5
             },
             "pattern": {
              "fillmode": "overlay",
              "size": 10,
              "solidity": 0.2
             }
            },
            "type": "barpolar"
           }
          ],
          "carpet": [
           {
            "aaxis": {
             "endlinecolor": "#2a3f5f",
             "gridcolor": "white",
             "linecolor": "white",
             "minorgridcolor": "white",
             "startlinecolor": "#2a3f5f"
            },
            "baxis": {
             "endlinecolor": "#2a3f5f",
             "gridcolor": "white",
             "linecolor": "white",
             "minorgridcolor": "white",
             "startlinecolor": "#2a3f5f"
            },
            "type": "carpet"
           }
          ],
          "choropleth": [
           {
            "colorbar": {
             "outlinewidth": 0,
             "ticks": ""
            },
            "type": "choropleth"
           }
          ],
          "contour": [
           {
            "colorbar": {
             "outlinewidth": 0,
             "ticks": ""
            },
            "colorscale": [
             [
              0,
              "#0d0887"
             ],
             [
              0.1111111111111111,
              "#46039f"
             ],
             [
              0.2222222222222222,
              "#7201a8"
             ],
             [
              0.3333333333333333,
              "#9c179e"
             ],
             [
              0.4444444444444444,
              "#bd3786"
             ],
             [
              0.5555555555555556,
              "#d8576b"
             ],
             [
              0.6666666666666666,
              "#ed7953"
             ],
             [
              0.7777777777777778,
              "#fb9f3a"
             ],
             [
              0.8888888888888888,
              "#fdca26"
             ],
             [
              1,
              "#f0f921"
             ]
            ],
            "type": "contour"
           }
          ],
          "contourcarpet": [
           {
            "colorbar": {
             "outlinewidth": 0,
             "ticks": ""
            },
            "type": "contourcarpet"
           }
          ],
          "heatmap": [
           {
            "colorbar": {
             "outlinewidth": 0,
             "ticks": ""
            },
            "colorscale": [
             [
              0,
              "#0d0887"
             ],
             [
              0.1111111111111111,
              "#46039f"
             ],
             [
              0.2222222222222222,
              "#7201a8"
             ],
             [
              0.3333333333333333,
              "#9c179e"
             ],
             [
              0.4444444444444444,
              "#bd3786"
             ],
             [
              0.5555555555555556,
              "#d8576b"
             ],
             [
              0.6666666666666666,
              "#ed7953"
             ],
             [
              0.7777777777777778,
              "#fb9f3a"
             ],
             [
              0.8888888888888888,
              "#fdca26"
             ],
             [
              1,
              "#f0f921"
             ]
            ],
            "type": "heatmap"
           }
          ],
          "heatmapgl": [
           {
            "colorbar": {
             "outlinewidth": 0,
             "ticks": ""
            },
            "colorscale": [
             [
              0,
              "#0d0887"
             ],
             [
              0.1111111111111111,
              "#46039f"
             ],
             [
              0.2222222222222222,
              "#7201a8"
             ],
             [
              0.3333333333333333,
              "#9c179e"
             ],
             [
              0.4444444444444444,
              "#bd3786"
             ],
             [
              0.5555555555555556,
              "#d8576b"
             ],
             [
              0.6666666666666666,
              "#ed7953"
             ],
             [
              0.7777777777777778,
              "#fb9f3a"
             ],
             [
              0.8888888888888888,
              "#fdca26"
             ],
             [
              1,
              "#f0f921"
             ]
            ],
            "type": "heatmapgl"
           }
          ],
          "histogram": [
           {
            "marker": {
             "pattern": {
              "fillmode": "overlay",
              "size": 10,
              "solidity": 0.2
             }
            },
            "type": "histogram"
           }
          ],
          "histogram2d": [
           {
            "colorbar": {
             "outlinewidth": 0,
             "ticks": ""
            },
            "colorscale": [
             [
              0,
              "#0d0887"
             ],
             [
              0.1111111111111111,
              "#46039f"
             ],
             [
              0.2222222222222222,
              "#7201a8"
             ],
             [
              0.3333333333333333,
              "#9c179e"
             ],
             [
              0.4444444444444444,
              "#bd3786"
             ],
             [
              0.5555555555555556,
              "#d8576b"
             ],
             [
              0.6666666666666666,
              "#ed7953"
             ],
             [
              0.7777777777777778,
              "#fb9f3a"
             ],
             [
              0.8888888888888888,
              "#fdca26"
             ],
             [
              1,
              "#f0f921"
             ]
            ],
            "type": "histogram2d"
           }
          ],
          "histogram2dcontour": [
           {
            "colorbar": {
             "outlinewidth": 0,
             "ticks": ""
            },
            "colorscale": [
             [
              0,
              "#0d0887"
             ],
             [
              0.1111111111111111,
              "#46039f"
             ],
             [
              0.2222222222222222,
              "#7201a8"
             ],
             [
              0.3333333333333333,
              "#9c179e"
             ],
             [
              0.4444444444444444,
              "#bd3786"
             ],
             [
              0.5555555555555556,
              "#d8576b"
             ],
             [
              0.6666666666666666,
              "#ed7953"
             ],
             [
              0.7777777777777778,
              "#fb9f3a"
             ],
             [
              0.8888888888888888,
              "#fdca26"
             ],
             [
              1,
              "#f0f921"
             ]
            ],
            "type": "histogram2dcontour"
           }
          ],
          "mesh3d": [
           {
            "colorbar": {
             "outlinewidth": 0,
             "ticks": ""
            },
            "type": "mesh3d"
           }
          ],
          "parcoords": [
           {
            "line": {
             "colorbar": {
              "outlinewidth": 0,
              "ticks": ""
             }
            },
            "type": "parcoords"
           }
          ],
          "pie": [
           {
            "automargin": true,
            "type": "pie"
           }
          ],
          "scatter": [
           {
            "fillpattern": {
             "fillmode": "overlay",
             "size": 10,
             "solidity": 0.2
            },
            "type": "scatter"
           }
          ],
          "scatter3d": [
           {
            "line": {
             "colorbar": {
              "outlinewidth": 0,
              "ticks": ""
             }
            },
            "marker": {
             "colorbar": {
              "outlinewidth": 0,
              "ticks": ""
             }
            },
            "type": "scatter3d"
           }
          ],
          "scattercarpet": [
           {
            "marker": {
             "colorbar": {
              "outlinewidth": 0,
              "ticks": ""
             }
            },
            "type": "scattercarpet"
           }
          ],
          "scattergeo": [
           {
            "marker": {
             "colorbar": {
              "outlinewidth": 0,
              "ticks": ""
             }
            },
            "type": "scattergeo"
           }
          ],
          "scattergl": [
           {
            "marker": {
             "colorbar": {
              "outlinewidth": 0,
              "ticks": ""
             }
            },
            "type": "scattergl"
           }
          ],
          "scattermapbox": [
           {
            "marker": {
             "colorbar": {
              "outlinewidth": 0,
              "ticks": ""
             }
            },
            "type": "scattermapbox"
           }
          ],
          "scatterpolar": [
           {
            "marker": {
             "colorbar": {
              "outlinewidth": 0,
              "ticks": ""
             }
            },
            "type": "scatterpolar"
           }
          ],
          "scatterpolargl": [
           {
            "marker": {
             "colorbar": {
              "outlinewidth": 0,
              "ticks": ""
             }
            },
            "type": "scatterpolargl"
           }
          ],
          "scatterternary": [
           {
            "marker": {
             "colorbar": {
              "outlinewidth": 0,
              "ticks": ""
             }
            },
            "type": "scatterternary"
           }
          ],
          "surface": [
           {
            "colorbar": {
             "outlinewidth": 0,
             "ticks": ""
            },
            "colorscale": [
             [
              0,
              "#0d0887"
             ],
             [
              0.1111111111111111,
              "#46039f"
             ],
             [
              0.2222222222222222,
              "#7201a8"
             ],
             [
              0.3333333333333333,
              "#9c179e"
             ],
             [
              0.4444444444444444,
              "#bd3786"
             ],
             [
              0.5555555555555556,
              "#d8576b"
             ],
             [
              0.6666666666666666,
              "#ed7953"
             ],
             [
              0.7777777777777778,
              "#fb9f3a"
             ],
             [
              0.8888888888888888,
              "#fdca26"
             ],
             [
              1,
              "#f0f921"
             ]
            ],
            "type": "surface"
           }
          ],
          "table": [
           {
            "cells": {
             "fill": {
              "color": "#EBF0F8"
             },
             "line": {
              "color": "white"
             }
            },
            "header": {
             "fill": {
              "color": "#C8D4E3"
             },
             "line": {
              "color": "white"
             }
            },
            "type": "table"
           }
          ]
         },
         "layout": {
          "annotationdefaults": {
           "arrowcolor": "#2a3f5f",
           "arrowhead": 0,
           "arrowwidth": 1
          },
          "autotypenumbers": "strict",
          "coloraxis": {
           "colorbar": {
            "outlinewidth": 0,
            "ticks": ""
           }
          },
          "colorscale": {
           "diverging": [
            [
             0,
             "#8e0152"
            ],
            [
             0.1,
             "#c51b7d"
            ],
            [
             0.2,
             "#de77ae"
            ],
            [
             0.3,
             "#f1b6da"
            ],
            [
             0.4,
             "#fde0ef"
            ],
            [
             0.5,
             "#f7f7f7"
            ],
            [
             0.6,
             "#e6f5d0"
            ],
            [
             0.7,
             "#b8e186"
            ],
            [
             0.8,
             "#7fbc41"
            ],
            [
             0.9,
             "#4d9221"
            ],
            [
             1,
             "#276419"
            ]
           ],
           "sequential": [
            [
             0,
             "#0d0887"
            ],
            [
             0.1111111111111111,
             "#46039f"
            ],
            [
             0.2222222222222222,
             "#7201a8"
            ],
            [
             0.3333333333333333,
             "#9c179e"
            ],
            [
             0.4444444444444444,
             "#bd3786"
            ],
            [
             0.5555555555555556,
             "#d8576b"
            ],
            [
             0.6666666666666666,
             "#ed7953"
            ],
            [
             0.7777777777777778,
             "#fb9f3a"
            ],
            [
             0.8888888888888888,
             "#fdca26"
            ],
            [
             1,
             "#f0f921"
            ]
           ],
           "sequentialminus": [
            [
             0,
             "#0d0887"
            ],
            [
             0.1111111111111111,
             "#46039f"
            ],
            [
             0.2222222222222222,
             "#7201a8"
            ],
            [
             0.3333333333333333,
             "#9c179e"
            ],
            [
             0.4444444444444444,
             "#bd3786"
            ],
            [
             0.5555555555555556,
             "#d8576b"
            ],
            [
             0.6666666666666666,
             "#ed7953"
            ],
            [
             0.7777777777777778,
             "#fb9f3a"
            ],
            [
             0.8888888888888888,
             "#fdca26"
            ],
            [
             1,
             "#f0f921"
            ]
           ]
          },
          "colorway": [
           "#636efa",
           "#EF553B",
           "#00cc96",
           "#ab63fa",
           "#FFA15A",
           "#19d3f3",
           "#FF6692",
           "#B6E880",
           "#FF97FF",
           "#FECB52"
          ],
          "font": {
           "color": "#2a3f5f"
          },
          "geo": {
           "bgcolor": "white",
           "lakecolor": "white",
           "landcolor": "#E5ECF6",
           "showlakes": true,
           "showland": true,
           "subunitcolor": "white"
          },
          "hoverlabel": {
           "align": "left"
          },
          "hovermode": "closest",
          "mapbox": {
           "style": "light"
          },
          "paper_bgcolor": "white",
          "plot_bgcolor": "#E5ECF6",
          "polar": {
           "angularaxis": {
            "gridcolor": "white",
            "linecolor": "white",
            "ticks": ""
           },
           "bgcolor": "#E5ECF6",
           "radialaxis": {
            "gridcolor": "white",
            "linecolor": "white",
            "ticks": ""
           }
          },
          "scene": {
           "xaxis": {
            "backgroundcolor": "#E5ECF6",
            "gridcolor": "white",
            "gridwidth": 2,
            "linecolor": "white",
            "showbackground": true,
            "ticks": "",
            "zerolinecolor": "white"
           },
           "yaxis": {
            "backgroundcolor": "#E5ECF6",
            "gridcolor": "white",
            "gridwidth": 2,
            "linecolor": "white",
            "showbackground": true,
            "ticks": "",
            "zerolinecolor": "white"
           },
           "zaxis": {
            "backgroundcolor": "#E5ECF6",
            "gridcolor": "white",
            "gridwidth": 2,
            "linecolor": "white",
            "showbackground": true,
            "ticks": "",
            "zerolinecolor": "white"
           }
          },
          "shapedefaults": {
           "line": {
            "color": "#2a3f5f"
           }
          },
          "ternary": {
           "aaxis": {
            "gridcolor": "white",
            "linecolor": "white",
            "ticks": ""
           },
           "baxis": {
            "gridcolor": "white",
            "linecolor": "white",
            "ticks": ""
           },
           "bgcolor": "#E5ECF6",
           "caxis": {
            "gridcolor": "white",
            "linecolor": "white",
            "ticks": ""
           }
          },
          "title": {
           "x": 0.05
          },
          "xaxis": {
           "automargin": true,
           "gridcolor": "white",
           "linecolor": "white",
           "ticks": "",
           "title": {
            "standoff": 15
           },
           "zerolinecolor": "white",
           "zerolinewidth": 2
          },
          "yaxis": {
           "automargin": true,
           "gridcolor": "white",
           "linecolor": "white",
           "ticks": "",
           "title": {
            "standoff": 15
           },
           "zerolinecolor": "white",
           "zerolinewidth": 2
          }
         }
        },
        "title": {
         "text": "Schizophrenia vs Depressive"
        },
        "xaxis": {
         "anchor": "y",
         "domain": [
          0,
          1
         ],
         "title": {
          "text": "Schizophrenia"
         }
        },
        "yaxis": {
         "anchor": "x",
         "domain": [
          0,
          1
         ],
         "title": {
          "text": "Depressive"
         }
        }
       }
      },
      "text/html": [
       "<div>                            <div id=\"2de23696-c527-40f9-be57-544af14d0df0\" class=\"plotly-graph-div\" style=\"height:600px; width:100%;\"></div>            <script type=\"text/javascript\">                require([\"plotly\"], function(Plotly) {                    window.PLOTLYENV=window.PLOTLYENV || {};                                    if (document.getElementById(\"2de23696-c527-40f9-be57-544af14d0df0\")) {                    Plotly.newPlot(                        \"2de23696-c527-40f9-be57-544af14d0df0\",                        [{\"customdata\":[[\"AFG\"],[\"AGO\"],[\"ALB\"],[\"AND\"],[\"ARE\"],[\"ARG\"],[\"ARM\"],[\"ASM\"],[\"ATG\"],[\"AUS\"],[\"AUT\"],[\"AZE\"],[\"BDI\"],[\"BEL\"],[\"BEN\"],[\"BFA\"],[\"BGD\"],[\"BGR\"],[\"BHR\"],[\"BHS\"],[\"BIH\"],[\"BLR\"],[\"BLZ\"],[\"BMU\"],[\"BOL\"],[\"BRA\"],[\"BRB\"],[\"BRN\"],[\"BTN\"],[\"BWA\"],[\"CAF\"],[\"CAN\"],[\"CHE\"],[\"CHL\"],[\"CHN\"],[\"CIV\"],[\"CMR\"],[\"COD\"],[\"COG\"],[\"COK\"],[\"COL\"],[\"COM\"],[\"CPV\"],[\"CRI\"],[\"CUB\"],[\"CYP\"],[\"CZE\"],[\"DEU\"],[\"DJI\"],[\"DMA\"],[\"DNK\"],[\"DOM\"],[\"DZA\"],[\"ECU\"],[\"EGY\"],[\"ERI\"],[\"ESP\"],[\"EST\"],[\"ETH\"],[\"FIN\"],[\"FJI\"],[\"FRA\"],[\"FSM\"],[\"GAB\"],[\"GBR\"],[\"GEO\"],[\"GHA\"],[\"GIN\"],[\"GMB\"],[\"GNB\"],[\"GNQ\"],[\"GRC\"],[\"GRD\"],[\"GRL\"],[\"GTM\"],[\"GUM\"],[\"GUY\"],[\"HND\"],[\"HRV\"],[\"HTI\"],[\"HUN\"],[\"IDN\"],[\"IND\"],[\"IRL\"],[\"IRN\"],[\"IRQ\"],[\"ISL\"],[\"ISR\"],[\"ITA\"],[\"JAM\"],[\"JOR\"],[\"JPN\"],[\"KAZ\"],[\"KEN\"],[\"KGZ\"],[\"KHM\"],[\"KIR\"],[\"KNA\"],[\"KOR\"],[\"KWT\"],[\"LAO\"],[\"LBN\"],[\"LBR\"],[\"LBY\"],[\"LCA\"],[\"LKA\"],[\"LSO\"],[\"LTU\"],[\"LUX\"],[\"LVA\"],[\"MAR\"],[\"MCO\"],[\"MDA\"],[\"MDG\"],[\"MDV\"],[\"MEX\"],[\"MHL\"],[\"MKD\"],[\"MLI\"],[\"MLT\"],[\"MMR\"],[\"MNE\"],[\"MNG\"],[\"MNP\"],[\"MOZ\"],[\"MRT\"],[\"MUS\"],[\"MWI\"],[\"MYS\"],[\"NAM\"],[\"NER\"],[\"NGA\"],[\"NIC\"],[\"NIU\"],[\"NLD\"],[\"NOR\"],[\"NPL\"],[\"NRU\"],[\"NZL\"],[\"OMN\"],[\"OWID_WRL\"],[\"PAK\"],[\"PAN\"],[\"PER\"],[\"PHL\"],[\"PLW\"],[\"PNG\"],[\"POL\"],[\"PRI\"],[\"PRK\"],[\"PRT\"],[\"PRY\"],[\"PSE\"],[\"QAT\"],[\"ROU\"],[\"RUS\"],[\"RWA\"],[\"SAU\"],[\"SDN\"],[\"SEN\"],[\"SGP\"],[\"SLB\"],[\"SLE\"],[\"SLV\"],[\"SMR\"],[\"SOM\"],[\"SRB\"],[\"SSD\"],[\"STP\"],[\"SUR\"],[\"SVK\"],[\"SVN\"],[\"SWE\"],[\"SWZ\"],[\"SYC\"],[\"SYR\"],[\"TCD\"],[\"TGO\"],[\"THA\"],[\"TJK\"],[\"TKL\"],[\"TKM\"],[\"TLS\"],[\"TON\"],[\"TTO\"],[\"TUN\"],[\"TUR\"],[\"TUV\"],[\"TWN\"],[\"TZA\"],[\"UGA\"],[\"UKR\"],[\"URY\"],[\"USA\"],[\"UZB\"],[\"VCT\"],[\"VEN\"],[\"VIR\"],[\"VNM\"],[\"VUT\"],[\"WSM\"],[\"YEM\"],[\"ZAF\"],[\"ZMB\"],[\"ZWE\"]],\"hovertemplate\":\"Schizophrenia=%{x}<br>Depressive=%{y}<br>Code=%{customdata[0]}<br>Cluster=%{marker.color}<extra></extra>\",\"legendgroup\":\"\",\"marker\":{\"color\":[1,1,0,2,0,2,0,0,0,2,2,0,1,2,1,1,1,0,1,0,0,1,0,0,2,2,0,0,1,1,1,0,2,2,0,1,1,1,1,0,0,1,1,0,1,2,0,2,1,0,2,1,1,2,1,1,2,1,1,1,0,2,0,1,1,0,1,1,1,1,1,2,0,1,1,0,1,0,0,0,0,0,1,2,2,2,2,1,2,0,1,0,0,1,0,0,0,1,0,1,0,2,1,2,0,0,1,1,2,1,1,2,0,1,0,0,0,0,0,2,0,0,1,0,1,0,1,1,0,0,1,1,0,0,2,2,1,0,2,1,0,1,0,2,0,0,0,0,0,0,2,2,1,1,0,0,1,1,1,1,0,0,1,0,2,1,0,1,0,1,0,0,2,1,0,2,1,1,0,0,0,0,0,0,1,1,1,0,0,1,1,1,2,2,0,0,0,0,0,0,0,1,1,1,0],\"coloraxis\":\"coloraxis\",\"symbol\":\"circle\"},\"mode\":\"markers\",\"name\":\"\",\"orientation\":\"v\",\"showlegend\":false,\"x\":[0.21713928233333332,0.21501837733333332,0.2833509243333333,0.2875150026666667,0.28100229433333335,0.31123931666666665,0.2778581686666667,0.30863134633333333,0.286526879,0.38855307299999997,0.27556981266666664,0.27614362033333334,0.20088872466666666,0.27423265599999996,0.21193578500000002,0.20543430599999998,0.2786147206666667,0.2844358193333333,0.2711379783333333,0.28502673866666667,0.2826658736666667,0.27267890866666666,0.2692648436666667,0.30190666033333335,0.26345031999999996,0.275675355,0.282434899,0.30505227933333334,0.28560024766666664,0.22041105733333335,0.19482022499999999,0.28848229599999997,0.2802294806666667,0.31548577666666666,0.3028644773333333,0.21235484566666668,0.212359167,0.20282228633333332,0.214368294,0.311440612,0.2775458373333333,0.21702505533333336,0.22584445466666667,0.28374720833333333,0.27725792033333335,0.27437675433333336,0.29469943633333334,0.2601667306666667,0.21910747066666666,0.2724766966666667,0.225505864,0.27164549433333335,0.24905719233333334,0.2732963393333333,0.24639395066666667,0.20647713166666665,0.265590325,0.28447934566666666,0.20795982500000001,0.263713991,0.29244190866666664,0.26861672733333336,0.27078995833333336,0.22925495366666665,0.2558146573333333,0.2736103386666667,0.21319143633333332,0.20858159633333334,0.2121028003333333,0.20347244466666667,0.22366345733333332,0.2727419466666667,0.2745169746666667,0.3786357226666667,0.2619045566666667,0.32810851533333335,0.25783652533333334,0.26013903666666666,0.29245852266666666,0.24206864733333333,0.28905868733333334,0.28625694,0.2817600066666667,0.35935977133333336,0.25313631666666664,0.24403212999999999,0.277494858,0.30329442900000003,0.296646902,0.27588185133333337,0.254053072,0.302280187,0.27614281733333335,0.21462071000000002,0.262605518,0.26380592533333336,0.25877416766666667,0.27962409466666666,0.297708408,0.2771153136666667,0.26940072333333337,0.2535111723333333,0.20520076499999998,0.25693884466666667,0.275449095,0.29230539699999997,0.20026494066666667,0.28187760666666667,0.28003050999999995,0.280560007,0.24165551133333332,0.29336013966666663,0.26705117733333333,0.212348209,0.30161808633333337,0.282790518,0.27329803766666666,0.2856487793333333,0.20923469833333333,0.2756702956666667,0.26431916266666666,0.2861639733333333,0.265454146,0.318439496,0.19943205300000003,0.21873483900000001,0.3018485263333333,0.20055590966666664,0.30775145433333334,0.21880628333333335,0.206904555,0.21988878966666667,0.26920634633333335,0.2959881623333333,0.37937442666666665,0.2830702796666667,0.271269895,0.28259147433333337,0.38949470966666666,0.26494458266666665,0.28887678766666663,0.281476296,0.28224271766666664,0.27507421066666665,0.285908677,0.29829653666666667,0.27102160599999997,0.2896661476666667,0.29061893066666666,0.266878532,0.26879137566666667,0.27464241833333336,0.248456562,0.28274684533333333,0.28377900333333334,0.27887184400000004,0.20538178666666665,0.2628221966666667,0.23104516633333333,0.21542986133333333,0.3146629146666667,0.25631550799999997,0.20746201433333333,0.26609598133333334,0.2830158703333333,0.18979669566666668,0.28343388166666666,0.22888002233333332,0.22037973533333333,0.272355387,0.2912527933333333,0.2971159073333334,0.27975169033333336,0.21533192033333334,0.30677423633333334,0.24530640799999998,0.20797962866666667,0.207619485,0.2937844236666667,0.263192437,0.28520108499999997,0.2723940453333334,0.2570117613333333,0.29114503633333333,0.28031485933333333,0.252928822,0.24759015433333334,0.272706941,0.302190317,0.20944665633333331,0.20446832233333334,0.27148857266666665,0.31180767299999995,0.44947948866666665,0.26603073633333335,0.2711097823333333,0.27737713766666666,0.29353587099999995,0.31457823566666665,0.271230105,0.2867680286666667,0.230985601,0.22349925466666667,0.20907906866666667,0.20447687199999998],\"xaxis\":\"x\",\"y\":[4.968071706666667,5.84457741,2.43462631,3.58814365,3.66819898,2.535886333333333,2.8727788033333335,2.6398679233333335,2.929626943333333,4.575426486666667,3.2966260066666666,2.7002896866666664,5.075459053333334,3.4134894033333336,4.410542666666667,4.36942148,4.618067126666667,2.8288014900000005,4.868266873333334,2.9931675866666665,2.996732973333333,3.984772626666667,3.26294616,3.32724887,3.532390663333333,4.110291353333333,3.081273723333333,1.5552025733333332,4.064584733333334,4.28322159,5.979900223333333,3.30702592,3.8713590533333337,3.9814926833333333,2.87961292,3.9041649866666663,4.583411666666667,5.47811835,5.81650209,3.138508293333333,2.403445683333333,4.286648663333334,4.87820029,3.1525790933333337,4.17791404,3.0280166066666667,3.054083853333333,3.3376544966666666,4.441226863333333,2.9790249033333334,3.775860676666667,3.8642538933333332,4.132249043333333,3.3306349699999998,3.81092976,4.9049118300000005,4.096358753333333,4.220680023333333,4.8583599,4.57825118,2.9132200166666666,4.070868753333333,2.94900095,5.6724113833333325,4.172419856666667,3.2703816100000003,4.36063737,4.3180409299999996,5.616541003333333,4.43938215,5.834175360000001,5.285475123333333,3.2169489866666665,6.28722487,3.9599233766666666,3.1675601700000002,4.906575916666666,3.1224572133333335,3.1984804299999996,3.6532177266666666,3.0439201566666667,2.3859336133333335,4.112906836666666,4.154150406666667,4.684949406666666,3.7213056033333336,3.0107888733333334,4.48048785,3.6867555633333335,2.9402578700000004,4.335669393333333,2.1135508433333334,3.4835175400000002,4.949576183333334,3.513582153333333,3.1025173566666666,3.02019258,3.9283671333333334,2.0051735533333335,3.9552833633333333,2.806830396666667,4.89358062,4.706267303333333,4.322260383333333,3.2372097566666667,3.0375137600000004,5.335037696666666,4.201264563333334,3.4699540866666667,3.99646638,5.140464446666667,4.050056733333333,3.396446236666667,4.775247753333333,3.23528715,3.2945880866666664,2.9179759733333333,2.6166719566666665,3.509912986666667,3.0632632633333334,2.14845231,2.8427223533333335,4.0403764933333335,2.7091368066666663,4.919477753333334,3.643527226666667,4.110416816666667,4.1749277000000005,3.3778324833333335,3.634853403333333,4.179140243333333,4.280644216666667,3.3070252366666666,3.14055002,3.5389895599999996,3.090733246666667,4.917826743333333,3.1173379366666665,3.65143697,3.9357362366666666,3.5118441766666666,3.9242121466666666,2.95670544,2.29016246,2.8353103899999996,3.1035986533333335,3.1260317233333335,2.2065583799999997,2.8805059633333334,2.77065953,4.812643899999999,3.572438516666667,6.663174929999999,4.102406576666667,2.6730284699999998,3.18454295,5.458190926666666,4.090732946666667,4.456718446666667,3.9690871999999997,2.3202254633333337,3.0350170266666665,4.349714523333334,3.54298913,4.074813786666667,4.862027483333334,2.9378507933333333,4.659823956666667,3.6593300099999997,4.645061856666667,2.8144562166666662,3.4491138333333335,4.20284194,4.345661453333333,2.6869443133333335,4.010069096666666,5.211960533333333,4.463894466666667,2.885318396666667,2.849581456666667,3.14498711,3.1433065433333334,2.8972166400000003,2.6802779233333336,3.85110398,5.024760816666667,4.073236183333333,3.1525606300000004,2.539799136666667,4.70202376,7.14299117,4.2388055399999995,2.684386353333333,4.368207836666667,3.2337224433333334,3.25444976,3.203902986666667,3.25197088,2.5376792166666666,3.0198505966666667,2.8602725766666666,4.897087923333333,4.137063246666667,4.191194516666666,3.3457675933333335],\"yaxis\":\"y\",\"type\":\"scatter\"}],                        {\"template\":{\"data\":{\"histogram2dcontour\":[{\"type\":\"histogram2dcontour\",\"colorbar\":{\"outlinewidth\":0,\"ticks\":\"\"},\"colorscale\":[[0.0,\"#0d0887\"],[0.1111111111111111,\"#46039f\"],[0.2222222222222222,\"#7201a8\"],[0.3333333333333333,\"#9c179e\"],[0.4444444444444444,\"#bd3786\"],[0.5555555555555556,\"#d8576b\"],[0.6666666666666666,\"#ed7953\"],[0.7777777777777778,\"#fb9f3a\"],[0.8888888888888888,\"#fdca26\"],[1.0,\"#f0f921\"]]}],\"choropleth\":[{\"type\":\"choropleth\",\"colorbar\":{\"outlinewidth\":0,\"ticks\":\"\"}}],\"histogram2d\":[{\"type\":\"histogram2d\",\"colorbar\":{\"outlinewidth\":0,\"ticks\":\"\"},\"colorscale\":[[0.0,\"#0d0887\"],[0.1111111111111111,\"#46039f\"],[0.2222222222222222,\"#7201a8\"],[0.3333333333333333,\"#9c179e\"],[0.4444444444444444,\"#bd3786\"],[0.5555555555555556,\"#d8576b\"],[0.6666666666666666,\"#ed7953\"],[0.7777777777777778,\"#fb9f3a\"],[0.8888888888888888,\"#fdca26\"],[1.0,\"#f0f921\"]]}],\"heatmap\":[{\"type\":\"heatmap\",\"colorbar\":{\"outlinewidth\":0,\"ticks\":\"\"},\"colorscale\":[[0.0,\"#0d0887\"],[0.1111111111111111,\"#46039f\"],[0.2222222222222222,\"#7201a8\"],[0.3333333333333333,\"#9c179e\"],[0.4444444444444444,\"#bd3786\"],[0.5555555555555556,\"#d8576b\"],[0.6666666666666666,\"#ed7953\"],[0.7777777777777778,\"#fb9f3a\"],[0.8888888888888888,\"#fdca26\"],[1.0,\"#f0f921\"]]}],\"heatmapgl\":[{\"type\":\"heatmapgl\",\"colorbar\":{\"outlinewidth\":0,\"ticks\":\"\"},\"colorscale\":[[0.0,\"#0d0887\"],[0.1111111111111111,\"#46039f\"],[0.2222222222222222,\"#7201a8\"],[0.3333333333333333,\"#9c179e\"],[0.4444444444444444,\"#bd3786\"],[0.5555555555555556,\"#d8576b\"],[0.6666666666666666,\"#ed7953\"],[0.7777777777777778,\"#fb9f3a\"],[0.8888888888888888,\"#fdca26\"],[1.0,\"#f0f921\"]]}],\"contourcarpet\":[{\"type\":\"contourcarpet\",\"colorbar\":{\"outlinewidth\":0,\"ticks\":\"\"}}],\"contour\":[{\"type\":\"contour\",\"colorbar\":{\"outlinewidth\":0,\"ticks\":\"\"},\"colorscale\":[[0.0,\"#0d0887\"],[0.1111111111111111,\"#46039f\"],[0.2222222222222222,\"#7201a8\"],[0.3333333333333333,\"#9c179e\"],[0.4444444444444444,\"#bd3786\"],[0.5555555555555556,\"#d8576b\"],[0.6666666666666666,\"#ed7953\"],[0.7777777777777778,\"#fb9f3a\"],[0.8888888888888888,\"#fdca26\"],[1.0,\"#f0f921\"]]}],\"surface\":[{\"type\":\"surface\",\"colorbar\":{\"outlinewidth\":0,\"ticks\":\"\"},\"colorscale\":[[0.0,\"#0d0887\"],[0.1111111111111111,\"#46039f\"],[0.2222222222222222,\"#7201a8\"],[0.3333333333333333,\"#9c179e\"],[0.4444444444444444,\"#bd3786\"],[0.5555555555555556,\"#d8576b\"],[0.6666666666666666,\"#ed7953\"],[0.7777777777777778,\"#fb9f3a\"],[0.8888888888888888,\"#fdca26\"],[1.0,\"#f0f921\"]]}],\"mesh3d\":[{\"type\":\"mesh3d\",\"colorbar\":{\"outlinewidth\":0,\"ticks\":\"\"}}],\"scatter\":[{\"fillpattern\":{\"fillmode\":\"overlay\",\"size\":10,\"solidity\":0.2},\"type\":\"scatter\"}],\"parcoords\":[{\"type\":\"parcoords\",\"line\":{\"colorbar\":{\"outlinewidth\":0,\"ticks\":\"\"}}}],\"scatterpolargl\":[{\"type\":\"scatterpolargl\",\"marker\":{\"colorbar\":{\"outlinewidth\":0,\"ticks\":\"\"}}}],\"bar\":[{\"error_x\":{\"color\":\"#2a3f5f\"},\"error_y\":{\"color\":\"#2a3f5f\"},\"marker\":{\"line\":{\"color\":\"#E5ECF6\",\"width\":0.5},\"pattern\":{\"fillmode\":\"overlay\",\"size\":10,\"solidity\":0.2}},\"type\":\"bar\"}],\"scattergeo\":[{\"type\":\"scattergeo\",\"marker\":{\"colorbar\":{\"outlinewidth\":0,\"ticks\":\"\"}}}],\"scatterpolar\":[{\"type\":\"scatterpolar\",\"marker\":{\"colorbar\":{\"outlinewidth\":0,\"ticks\":\"\"}}}],\"histogram\":[{\"marker\":{\"pattern\":{\"fillmode\":\"overlay\",\"size\":10,\"solidity\":0.2}},\"type\":\"histogram\"}],\"scattergl\":[{\"type\":\"scattergl\",\"marker\":{\"colorbar\":{\"outlinewidth\":0,\"ticks\":\"\"}}}],\"scatter3d\":[{\"type\":\"scatter3d\",\"line\":{\"colorbar\":{\"outlinewidth\":0,\"ticks\":\"\"}},\"marker\":{\"colorbar\":{\"outlinewidth\":0,\"ticks\":\"\"}}}],\"scattermapbox\":[{\"type\":\"scattermapbox\",\"marker\":{\"colorbar\":{\"outlinewidth\":0,\"ticks\":\"\"}}}],\"scatterternary\":[{\"type\":\"scatterternary\",\"marker\":{\"colorbar\":{\"outlinewidth\":0,\"ticks\":\"\"}}}],\"scattercarpet\":[{\"type\":\"scattercarpet\",\"marker\":{\"colorbar\":{\"outlinewidth\":0,\"ticks\":\"\"}}}],\"carpet\":[{\"aaxis\":{\"endlinecolor\":\"#2a3f5f\",\"gridcolor\":\"white\",\"linecolor\":\"white\",\"minorgridcolor\":\"white\",\"startlinecolor\":\"#2a3f5f\"},\"baxis\":{\"endlinecolor\":\"#2a3f5f\",\"gridcolor\":\"white\",\"linecolor\":\"white\",\"minorgridcolor\":\"white\",\"startlinecolor\":\"#2a3f5f\"},\"type\":\"carpet\"}],\"table\":[{\"cells\":{\"fill\":{\"color\":\"#EBF0F8\"},\"line\":{\"color\":\"white\"}},\"header\":{\"fill\":{\"color\":\"#C8D4E3\"},\"line\":{\"color\":\"white\"}},\"type\":\"table\"}],\"barpolar\":[{\"marker\":{\"line\":{\"color\":\"#E5ECF6\",\"width\":0.5},\"pattern\":{\"fillmode\":\"overlay\",\"size\":10,\"solidity\":0.2}},\"type\":\"barpolar\"}],\"pie\":[{\"automargin\":true,\"type\":\"pie\"}]},\"layout\":{\"autotypenumbers\":\"strict\",\"colorway\":[\"#636efa\",\"#EF553B\",\"#00cc96\",\"#ab63fa\",\"#FFA15A\",\"#19d3f3\",\"#FF6692\",\"#B6E880\",\"#FF97FF\",\"#FECB52\"],\"font\":{\"color\":\"#2a3f5f\"},\"hovermode\":\"closest\",\"hoverlabel\":{\"align\":\"left\"},\"paper_bgcolor\":\"white\",\"plot_bgcolor\":\"#E5ECF6\",\"polar\":{\"bgcolor\":\"#E5ECF6\",\"angularaxis\":{\"gridcolor\":\"white\",\"linecolor\":\"white\",\"ticks\":\"\"},\"radialaxis\":{\"gridcolor\":\"white\",\"linecolor\":\"white\",\"ticks\":\"\"}},\"ternary\":{\"bgcolor\":\"#E5ECF6\",\"aaxis\":{\"gridcolor\":\"white\",\"linecolor\":\"white\",\"ticks\":\"\"},\"baxis\":{\"gridcolor\":\"white\",\"linecolor\":\"white\",\"ticks\":\"\"},\"caxis\":{\"gridcolor\":\"white\",\"linecolor\":\"white\",\"ticks\":\"\"}},\"coloraxis\":{\"colorbar\":{\"outlinewidth\":0,\"ticks\":\"\"}},\"colorscale\":{\"sequential\":[[0.0,\"#0d0887\"],[0.1111111111111111,\"#46039f\"],[0.2222222222222222,\"#7201a8\"],[0.3333333333333333,\"#9c179e\"],[0.4444444444444444,\"#bd3786\"],[0.5555555555555556,\"#d8576b\"],[0.6666666666666666,\"#ed7953\"],[0.7777777777777778,\"#fb9f3a\"],[0.8888888888888888,\"#fdca26\"],[1.0,\"#f0f921\"]],\"sequentialminus\":[[0.0,\"#0d0887\"],[0.1111111111111111,\"#46039f\"],[0.2222222222222222,\"#7201a8\"],[0.3333333333333333,\"#9c179e\"],[0.4444444444444444,\"#bd3786\"],[0.5555555555555556,\"#d8576b\"],[0.6666666666666666,\"#ed7953\"],[0.7777777777777778,\"#fb9f3a\"],[0.8888888888888888,\"#fdca26\"],[1.0,\"#f0f921\"]],\"diverging\":[[0,\"#8e0152\"],[0.1,\"#c51b7d\"],[0.2,\"#de77ae\"],[0.3,\"#f1b6da\"],[0.4,\"#fde0ef\"],[0.5,\"#f7f7f7\"],[0.6,\"#e6f5d0\"],[0.7,\"#b8e186\"],[0.8,\"#7fbc41\"],[0.9,\"#4d9221\"],[1,\"#276419\"]]},\"xaxis\":{\"gridcolor\":\"white\",\"linecolor\":\"white\",\"ticks\":\"\",\"title\":{\"standoff\":15},\"zerolinecolor\":\"white\",\"automargin\":true,\"zerolinewidth\":2},\"yaxis\":{\"gridcolor\":\"white\",\"linecolor\":\"white\",\"ticks\":\"\",\"title\":{\"standoff\":15},\"zerolinecolor\":\"white\",\"automargin\":true,\"zerolinewidth\":2},\"scene\":{\"xaxis\":{\"backgroundcolor\":\"#E5ECF6\",\"gridcolor\":\"white\",\"linecolor\":\"white\",\"showbackground\":true,\"ticks\":\"\",\"zerolinecolor\":\"white\",\"gridwidth\":2},\"yaxis\":{\"backgroundcolor\":\"#E5ECF6\",\"gridcolor\":\"white\",\"linecolor\":\"white\",\"showbackground\":true,\"ticks\":\"\",\"zerolinecolor\":\"white\",\"gridwidth\":2},\"zaxis\":{\"backgroundcolor\":\"#E5ECF6\",\"gridcolor\":\"white\",\"linecolor\":\"white\",\"showbackground\":true,\"ticks\":\"\",\"zerolinecolor\":\"white\",\"gridwidth\":2}},\"shapedefaults\":{\"line\":{\"color\":\"#2a3f5f\"}},\"annotationdefaults\":{\"arrowcolor\":\"#2a3f5f\",\"arrowhead\":0,\"arrowwidth\":1},\"geo\":{\"bgcolor\":\"white\",\"landcolor\":\"#E5ECF6\",\"subunitcolor\":\"white\",\"showland\":true,\"showlakes\":true,\"lakecolor\":\"white\"},\"title\":{\"x\":0.05},\"mapbox\":{\"style\":\"light\"}}},\"xaxis\":{\"anchor\":\"y\",\"domain\":[0.0,1.0],\"title\":{\"text\":\"Schizophrenia\"}},\"yaxis\":{\"anchor\":\"x\",\"domain\":[0.0,1.0],\"title\":{\"text\":\"Depressive\"}},\"coloraxis\":{\"colorbar\":{\"title\":{\"text\":\"Cluster\"}},\"colorscale\":[[0.0,\"#0d0887\"],[0.1111111111111111,\"#46039f\"],[0.2222222222222222,\"#7201a8\"],[0.3333333333333333,\"#9c179e\"],[0.4444444444444444,\"#bd3786\"],[0.5555555555555556,\"#d8576b\"],[0.6666666666666666,\"#ed7953\"],[0.7777777777777778,\"#fb9f3a\"],[0.8888888888888888,\"#fdca26\"],[1.0,\"#f0f921\"]]},\"legend\":{\"tracegroupgap\":0},\"title\":{\"text\":\"Schizophrenia vs Depressive\"},\"height\":600},                        {\"responsive\": true}                    ).then(function(){\n",
       "                            \n",
       "var gd = document.getElementById('2de23696-c527-40f9-be57-544af14d0df0');\n",
       "var x = new MutationObserver(function (mutations, observer) {{\n",
       "        var display = window.getComputedStyle(gd).display;\n",
       "        if (!display || display === 'none') {{\n",
       "            console.log([gd, 'removed!']);\n",
       "            Plotly.purge(gd);\n",
       "            observer.disconnect();\n",
       "        }}\n",
       "}});\n",
       "\n",
       "// Listen for the removal of the full notebook cells\n",
       "var notebookContainer = gd.closest('#notebook-container');\n",
       "if (notebookContainer) {{\n",
       "    x.observe(notebookContainer, {childList: true});\n",
       "}}\n",
       "\n",
       "// Listen for the clearing of the current output cell\n",
       "var outputEl = gd.closest('.output');\n",
       "if (outputEl) {{\n",
       "    x.observe(outputEl, {childList: true});\n",
       "}}\n",
       "\n",
       "                        })                };                });            </script>        </div>"
      ]
     },
     "metadata": {},
     "output_type": "display_data"
    },
    {
     "data": {
      "application/vnd.plotly.v1+json": {
       "config": {
        "plotlyServerURL": "https://plot.ly"
       },
       "data": [
        {
         "customdata": [
          [
           "AFG"
          ],
          [
           "AGO"
          ],
          [
           "ALB"
          ],
          [
           "AND"
          ],
          [
           "ARE"
          ],
          [
           "ARG"
          ],
          [
           "ARM"
          ],
          [
           "ASM"
          ],
          [
           "ATG"
          ],
          [
           "AUS"
          ],
          [
           "AUT"
          ],
          [
           "AZE"
          ],
          [
           "BDI"
          ],
          [
           "BEL"
          ],
          [
           "BEN"
          ],
          [
           "BFA"
          ],
          [
           "BGD"
          ],
          [
           "BGR"
          ],
          [
           "BHR"
          ],
          [
           "BHS"
          ],
          [
           "BIH"
          ],
          [
           "BLR"
          ],
          [
           "BLZ"
          ],
          [
           "BMU"
          ],
          [
           "BOL"
          ],
          [
           "BRA"
          ],
          [
           "BRB"
          ],
          [
           "BRN"
          ],
          [
           "BTN"
          ],
          [
           "BWA"
          ],
          [
           "CAF"
          ],
          [
           "CAN"
          ],
          [
           "CHE"
          ],
          [
           "CHL"
          ],
          [
           "CHN"
          ],
          [
           "CIV"
          ],
          [
           "CMR"
          ],
          [
           "COD"
          ],
          [
           "COG"
          ],
          [
           "COK"
          ],
          [
           "COL"
          ],
          [
           "COM"
          ],
          [
           "CPV"
          ],
          [
           "CRI"
          ],
          [
           "CUB"
          ],
          [
           "CYP"
          ],
          [
           "CZE"
          ],
          [
           "DEU"
          ],
          [
           "DJI"
          ],
          [
           "DMA"
          ],
          [
           "DNK"
          ],
          [
           "DOM"
          ],
          [
           "DZA"
          ],
          [
           "ECU"
          ],
          [
           "EGY"
          ],
          [
           "ERI"
          ],
          [
           "ESP"
          ],
          [
           "EST"
          ],
          [
           "ETH"
          ],
          [
           "FIN"
          ],
          [
           "FJI"
          ],
          [
           "FRA"
          ],
          [
           "FSM"
          ],
          [
           "GAB"
          ],
          [
           "GBR"
          ],
          [
           "GEO"
          ],
          [
           "GHA"
          ],
          [
           "GIN"
          ],
          [
           "GMB"
          ],
          [
           "GNB"
          ],
          [
           "GNQ"
          ],
          [
           "GRC"
          ],
          [
           "GRD"
          ],
          [
           "GRL"
          ],
          [
           "GTM"
          ],
          [
           "GUM"
          ],
          [
           "GUY"
          ],
          [
           "HND"
          ],
          [
           "HRV"
          ],
          [
           "HTI"
          ],
          [
           "HUN"
          ],
          [
           "IDN"
          ],
          [
           "IND"
          ],
          [
           "IRL"
          ],
          [
           "IRN"
          ],
          [
           "IRQ"
          ],
          [
           "ISL"
          ],
          [
           "ISR"
          ],
          [
           "ITA"
          ],
          [
           "JAM"
          ],
          [
           "JOR"
          ],
          [
           "JPN"
          ],
          [
           "KAZ"
          ],
          [
           "KEN"
          ],
          [
           "KGZ"
          ],
          [
           "KHM"
          ],
          [
           "KIR"
          ],
          [
           "KNA"
          ],
          [
           "KOR"
          ],
          [
           "KWT"
          ],
          [
           "LAO"
          ],
          [
           "LBN"
          ],
          [
           "LBR"
          ],
          [
           "LBY"
          ],
          [
           "LCA"
          ],
          [
           "LKA"
          ],
          [
           "LSO"
          ],
          [
           "LTU"
          ],
          [
           "LUX"
          ],
          [
           "LVA"
          ],
          [
           "MAR"
          ],
          [
           "MCO"
          ],
          [
           "MDA"
          ],
          [
           "MDG"
          ],
          [
           "MDV"
          ],
          [
           "MEX"
          ],
          [
           "MHL"
          ],
          [
           "MKD"
          ],
          [
           "MLI"
          ],
          [
           "MLT"
          ],
          [
           "MMR"
          ],
          [
           "MNE"
          ],
          [
           "MNG"
          ],
          [
           "MNP"
          ],
          [
           "MOZ"
          ],
          [
           "MRT"
          ],
          [
           "MUS"
          ],
          [
           "MWI"
          ],
          [
           "MYS"
          ],
          [
           "NAM"
          ],
          [
           "NER"
          ],
          [
           "NGA"
          ],
          [
           "NIC"
          ],
          [
           "NIU"
          ],
          [
           "NLD"
          ],
          [
           "NOR"
          ],
          [
           "NPL"
          ],
          [
           "NRU"
          ],
          [
           "NZL"
          ],
          [
           "OMN"
          ],
          [
           "OWID_WRL"
          ],
          [
           "PAK"
          ],
          [
           "PAN"
          ],
          [
           "PER"
          ],
          [
           "PHL"
          ],
          [
           "PLW"
          ],
          [
           "PNG"
          ],
          [
           "POL"
          ],
          [
           "PRI"
          ],
          [
           "PRK"
          ],
          [
           "PRT"
          ],
          [
           "PRY"
          ],
          [
           "PSE"
          ],
          [
           "QAT"
          ],
          [
           "ROU"
          ],
          [
           "RUS"
          ],
          [
           "RWA"
          ],
          [
           "SAU"
          ],
          [
           "SDN"
          ],
          [
           "SEN"
          ],
          [
           "SGP"
          ],
          [
           "SLB"
          ],
          [
           "SLE"
          ],
          [
           "SLV"
          ],
          [
           "SMR"
          ],
          [
           "SOM"
          ],
          [
           "SRB"
          ],
          [
           "SSD"
          ],
          [
           "STP"
          ],
          [
           "SUR"
          ],
          [
           "SVK"
          ],
          [
           "SVN"
          ],
          [
           "SWE"
          ],
          [
           "SWZ"
          ],
          [
           "SYC"
          ],
          [
           "SYR"
          ],
          [
           "TCD"
          ],
          [
           "TGO"
          ],
          [
           "THA"
          ],
          [
           "TJK"
          ],
          [
           "TKL"
          ],
          [
           "TKM"
          ],
          [
           "TLS"
          ],
          [
           "TON"
          ],
          [
           "TTO"
          ],
          [
           "TUN"
          ],
          [
           "TUR"
          ],
          [
           "TUV"
          ],
          [
           "TWN"
          ],
          [
           "TZA"
          ],
          [
           "UGA"
          ],
          [
           "UKR"
          ],
          [
           "URY"
          ],
          [
           "USA"
          ],
          [
           "UZB"
          ],
          [
           "VCT"
          ],
          [
           "VEN"
          ],
          [
           "VIR"
          ],
          [
           "VNM"
          ],
          [
           "VUT"
          ],
          [
           "WSM"
          ],
          [
           "YEM"
          ],
          [
           "ZAF"
          ],
          [
           "ZMB"
          ],
          [
           "ZWE"
          ]
         ],
         "hovertemplate": "Schizophrenia=%{x}<br>Anxiety=%{y}<br>Code=%{customdata[0]}<br>Cluster=%{marker.color}<extra></extra>",
         "legendgroup": "",
         "marker": {
          "color": [
           1,
           1,
           0,
           2,
           0,
           2,
           0,
           0,
           0,
           2,
           2,
           0,
           1,
           2,
           1,
           1,
           1,
           0,
           1,
           0,
           0,
           1,
           0,
           0,
           2,
           2,
           0,
           0,
           1,
           1,
           1,
           0,
           2,
           2,
           0,
           1,
           1,
           1,
           1,
           0,
           0,
           1,
           1,
           0,
           1,
           2,
           0,
           2,
           1,
           0,
           2,
           1,
           1,
           2,
           1,
           1,
           2,
           1,
           1,
           1,
           0,
           2,
           0,
           1,
           1,
           0,
           1,
           1,
           1,
           1,
           1,
           2,
           0,
           1,
           1,
           0,
           1,
           0,
           0,
           0,
           0,
           0,
           1,
           2,
           2,
           2,
           2,
           1,
           2,
           0,
           1,
           0,
           0,
           1,
           0,
           0,
           0,
           1,
           0,
           1,
           0,
           2,
           1,
           2,
           0,
           0,
           1,
           1,
           2,
           1,
           1,
           2,
           0,
           1,
           0,
           0,
           0,
           0,
           0,
           2,
           0,
           0,
           1,
           0,
           1,
           0,
           1,
           1,
           0,
           0,
           1,
           1,
           0,
           0,
           2,
           2,
           1,
           0,
           2,
           1,
           0,
           1,
           0,
           2,
           0,
           0,
           0,
           0,
           0,
           0,
           2,
           2,
           1,
           1,
           0,
           0,
           1,
           1,
           1,
           1,
           0,
           0,
           1,
           0,
           2,
           1,
           0,
           1,
           0,
           1,
           0,
           0,
           2,
           1,
           0,
           2,
           1,
           1,
           0,
           0,
           0,
           0,
           0,
           0,
           1,
           1,
           1,
           0,
           0,
           1,
           1,
           1,
           2,
           2,
           0,
           0,
           0,
           0,
           0,
           0,
           0,
           1,
           1,
           1,
           0
          ],
          "coloraxis": "coloraxis",
          "symbol": "circle"
         },
         "mode": "markers",
         "name": "",
         "orientation": "v",
         "showlegend": false,
         "type": "scatter",
         "x": [
          0.21713928233333332,
          0.21501837733333332,
          0.2833509243333333,
          0.2875150026666667,
          0.28100229433333335,
          0.31123931666666665,
          0.2778581686666667,
          0.30863134633333333,
          0.286526879,
          0.38855307299999997,
          0.27556981266666664,
          0.27614362033333334,
          0.20088872466666666,
          0.27423265599999996,
          0.21193578500000002,
          0.20543430599999998,
          0.2786147206666667,
          0.2844358193333333,
          0.2711379783333333,
          0.28502673866666667,
          0.2826658736666667,
          0.27267890866666666,
          0.2692648436666667,
          0.30190666033333335,
          0.26345031999999996,
          0.275675355,
          0.282434899,
          0.30505227933333334,
          0.28560024766666664,
          0.22041105733333335,
          0.19482022499999999,
          0.28848229599999997,
          0.2802294806666667,
          0.31548577666666666,
          0.3028644773333333,
          0.21235484566666668,
          0.212359167,
          0.20282228633333332,
          0.214368294,
          0.311440612,
          0.2775458373333333,
          0.21702505533333336,
          0.22584445466666667,
          0.28374720833333333,
          0.27725792033333335,
          0.27437675433333336,
          0.29469943633333334,
          0.2601667306666667,
          0.21910747066666666,
          0.2724766966666667,
          0.225505864,
          0.27164549433333335,
          0.24905719233333334,
          0.2732963393333333,
          0.24639395066666667,
          0.20647713166666665,
          0.265590325,
          0.28447934566666666,
          0.20795982500000001,
          0.263713991,
          0.29244190866666664,
          0.26861672733333336,
          0.27078995833333336,
          0.22925495366666665,
          0.2558146573333333,
          0.2736103386666667,
          0.21319143633333332,
          0.20858159633333334,
          0.2121028003333333,
          0.20347244466666667,
          0.22366345733333332,
          0.2727419466666667,
          0.2745169746666667,
          0.3786357226666667,
          0.2619045566666667,
          0.32810851533333335,
          0.25783652533333334,
          0.26013903666666666,
          0.29245852266666666,
          0.24206864733333333,
          0.28905868733333334,
          0.28625694,
          0.2817600066666667,
          0.35935977133333336,
          0.25313631666666664,
          0.24403212999999999,
          0.277494858,
          0.30329442900000003,
          0.296646902,
          0.27588185133333337,
          0.254053072,
          0.302280187,
          0.27614281733333335,
          0.21462071000000002,
          0.262605518,
          0.26380592533333336,
          0.25877416766666667,
          0.27962409466666666,
          0.297708408,
          0.2771153136666667,
          0.26940072333333337,
          0.2535111723333333,
          0.20520076499999998,
          0.25693884466666667,
          0.275449095,
          0.29230539699999997,
          0.20026494066666667,
          0.28187760666666667,
          0.28003050999999995,
          0.280560007,
          0.24165551133333332,
          0.29336013966666663,
          0.26705117733333333,
          0.212348209,
          0.30161808633333337,
          0.282790518,
          0.27329803766666666,
          0.2856487793333333,
          0.20923469833333333,
          0.2756702956666667,
          0.26431916266666666,
          0.2861639733333333,
          0.265454146,
          0.318439496,
          0.19943205300000003,
          0.21873483900000001,
          0.3018485263333333,
          0.20055590966666664,
          0.30775145433333334,
          0.21880628333333335,
          0.206904555,
          0.21988878966666667,
          0.26920634633333335,
          0.2959881623333333,
          0.37937442666666665,
          0.2830702796666667,
          0.271269895,
          0.28259147433333337,
          0.38949470966666666,
          0.26494458266666665,
          0.28887678766666663,
          0.281476296,
          0.28224271766666664,
          0.27507421066666665,
          0.285908677,
          0.29829653666666667,
          0.27102160599999997,
          0.2896661476666667,
          0.29061893066666666,
          0.266878532,
          0.26879137566666667,
          0.27464241833333336,
          0.248456562,
          0.28274684533333333,
          0.28377900333333334,
          0.27887184400000004,
          0.20538178666666665,
          0.2628221966666667,
          0.23104516633333333,
          0.21542986133333333,
          0.3146629146666667,
          0.25631550799999997,
          0.20746201433333333,
          0.26609598133333334,
          0.2830158703333333,
          0.18979669566666668,
          0.28343388166666666,
          0.22888002233333332,
          0.22037973533333333,
          0.272355387,
          0.2912527933333333,
          0.2971159073333334,
          0.27975169033333336,
          0.21533192033333334,
          0.30677423633333334,
          0.24530640799999998,
          0.20797962866666667,
          0.207619485,
          0.2937844236666667,
          0.263192437,
          0.28520108499999997,
          0.2723940453333334,
          0.2570117613333333,
          0.29114503633333333,
          0.28031485933333333,
          0.252928822,
          0.24759015433333334,
          0.272706941,
          0.302190317,
          0.20944665633333331,
          0.20446832233333334,
          0.27148857266666665,
          0.31180767299999995,
          0.44947948866666665,
          0.26603073633333335,
          0.2711097823333333,
          0.27737713766666666,
          0.29353587099999995,
          0.31457823566666665,
          0.271230105,
          0.2867680286666667,
          0.230985601,
          0.22349925466666667,
          0.20907906866666667,
          0.20447687199999998
         ],
         "xaxis": "x",
         "y": [
          4.713664896666667,
          3.970343063333333,
          3.7344681833333335,
          5.404066546666667,
          4.134771843333334,
          5.018959143333333,
          3.1438165799999997,
          3.971686453333333,
          4.292472633333333,
          5.51321173,
          5.852257523333334,
          2.5304678099999998,
          3.5729016733333334,
          4.994399623333334,
          3.1738201333333333,
          3.083276853333333,
          3.1053023666666664,
          3.3965247233333336,
          4.9466680033333335,
          4.269834096666667,
          3.5531129433333333,
          3.51112956,
          4.084705166666667,
          4.26689759,
          5.654752436666667,
          7.432757966666667,
          4.267525303333333,
          2.87291485,
          3.206718016666667,
          3.53343253,
          4.257796446666666,
          4.034142243333333,
          6.633833693333333,
          5.467285743333334,
          3.36611632,
          3.1956524400000004,
          3.186535913333333,
          3.817651773333333,
          3.733718736666667,
          3.9704184566666667,
          4.66042078,
          3.4729941833333333,
          3.06865203,
          4.083784343333333,
          4.199329816666666,
          6.42349733,
          3.186573076666667,
          6.117966616666666,
          3.2302264766666666,
          4.221061336666667,
          4.843143456666667,
          4.46027817,
          4.664658516666666,
          5.1328979766666665,
          4.298455956666667,
          3.6831709900000003,
          4.77079755,
          3.40906948,
          3.4776826233333336,
          3.8483274933333336,
          3.972813926666667,
          6.333420503333333,
          3.96920533,
          3.942196336666667,
          4.379163449999999,
          2.5218310799999997,
          2.9697299366666665,
          3.3261691966666667,
          3.2715955733333337,
          3.07050108,
          3.8405336666666665,
          5.627342643333334,
          4.230942186666667,
          4.785209266666667,
          4.14903772,
          3.953536133333333,
          4.3386201600000005,
          3.9548705666666666,
          3.5494551800000003,
          4.48845619,
          3.4432879200000004,
          3.451824033333333,
          2.869132546666667,
          6.64844018,
          7.1908392800000005,
          5.104804290000001,
          5.093999566666667,
          3.5422007566666665,
          5.3122688600000005,
          3.96318164,
          4.842814386666666,
          2.5441383566666667,
          2.1195399,
          3.3823433633333333,
          2.0561706566666667,
          4.4840215966666666,
          4.020844366666667,
          4.241158073333334,
          3.3368557266666667,
          4.321207810000001,
          4.337061289999999,
          6.13226347,
          3.442177076666667,
          5.1878681166666665,
          4.24879904,
          3.8927227933333333,
          3.5257074066666667,
          4.34147548,
          5.329732333333333,
          3.76310555,
          4.695803743333333,
          5.450497986666666,
          4.097258063333333,
          3.869010273333333,
          3.6241335699999997,
          3.3570753633333337,
          3.955683366666667,
          3.59820348,
          2.65417973,
          6.263409050000001,
          3.85795834,
          3.66395991,
          2.01114957,
          3.9570206933333334,
          3.9740171933333333,
          2.727863253333333,
          3.82668357,
          3.7497763933333332,
          4.537624930000001,
          3.4512759433333335,
          2.859605623333333,
          2.95061477,
          4.266198843333333,
          3.9648757399999996,
          6.641262333333333,
          6.8892984833333335,
          3.055931643333333,
          3.9586109066666664,
          7.369994123333333,
          4.617972243333333,
          3.7905257633333336,
          3.38890841,
          3.543173056666667,
          5.484117783333333,
          4.512433733333333,
          3.9198808366666666,
          3.9396137733333334,
          3.112575456666667,
          4.41081267,
          3.62733397,
          7.9085405799999995,
          6.175804706666667,
          5.47277206,
          4.2855476433333335,
          3.25614332,
          3.15214533,
          3.576606363333333,
          4.43847366,
          4.67920552,
          2.88568555,
          2.75002974,
          3.9475626700000004,
          3.6254153766666666,
          4.30176213,
          5.495142606666667,
          3.3171958966666666,
          3.3446335966666667,
          4.83568559,
          3.059853253333333,
          4.099251876666667,
          3.45688689,
          3.40562397,
          4.7671575399999995,
          3.505617436666667,
          3.6940761099999997,
          5.36797034,
          3.25861014,
          3.5467272066666666,
          3.31269182,
          2.3779054766666667,
          3.9807247,
          2.2952878266666668,
          3.69054801,
          3.98761416,
          3.7761158933333334,
          5.000541966666666,
          4.3256239333333335,
          3.996254706666667,
          3.709170383333333,
          3.7415406466666665,
          3.9538814666666666,
          3.0247169233333335,
          5.065870743333333,
          5.730277326666666,
          2.02389518,
          4.218775166666666,
          3.8306939633333332,
          4.288892633333333,
          2.18267074,
          3.9536180633333333,
          3.9490783366666666,
          4.784083253333334,
          3.8177680233333335,
          3.8306213733333334,
          3.1810418533333333
         ],
         "yaxis": "y"
        }
       ],
       "layout": {
        "coloraxis": {
         "colorbar": {
          "title": {
           "text": "Cluster"
          }
         },
         "colorscale": [
          [
           0,
           "#0d0887"
          ],
          [
           0.1111111111111111,
           "#46039f"
          ],
          [
           0.2222222222222222,
           "#7201a8"
          ],
          [
           0.3333333333333333,
           "#9c179e"
          ],
          [
           0.4444444444444444,
           "#bd3786"
          ],
          [
           0.5555555555555556,
           "#d8576b"
          ],
          [
           0.6666666666666666,
           "#ed7953"
          ],
          [
           0.7777777777777778,
           "#fb9f3a"
          ],
          [
           0.8888888888888888,
           "#fdca26"
          ],
          [
           1,
           "#f0f921"
          ]
         ]
        },
        "height": 600,
        "legend": {
         "tracegroupgap": 0
        },
        "template": {
         "data": {
          "bar": [
           {
            "error_x": {
             "color": "#2a3f5f"
            },
            "error_y": {
             "color": "#2a3f5f"
            },
            "marker": {
             "line": {
              "color": "#E5ECF6",
              "width": 0.5
             },
             "pattern": {
              "fillmode": "overlay",
              "size": 10,
              "solidity": 0.2
             }
            },
            "type": "bar"
           }
          ],
          "barpolar": [
           {
            "marker": {
             "line": {
              "color": "#E5ECF6",
              "width": 0.5
             },
             "pattern": {
              "fillmode": "overlay",
              "size": 10,
              "solidity": 0.2
             }
            },
            "type": "barpolar"
           }
          ],
          "carpet": [
           {
            "aaxis": {
             "endlinecolor": "#2a3f5f",
             "gridcolor": "white",
             "linecolor": "white",
             "minorgridcolor": "white",
             "startlinecolor": "#2a3f5f"
            },
            "baxis": {
             "endlinecolor": "#2a3f5f",
             "gridcolor": "white",
             "linecolor": "white",
             "minorgridcolor": "white",
             "startlinecolor": "#2a3f5f"
            },
            "type": "carpet"
           }
          ],
          "choropleth": [
           {
            "colorbar": {
             "outlinewidth": 0,
             "ticks": ""
            },
            "type": "choropleth"
           }
          ],
          "contour": [
           {
            "colorbar": {
             "outlinewidth": 0,
             "ticks": ""
            },
            "colorscale": [
             [
              0,
              "#0d0887"
             ],
             [
              0.1111111111111111,
              "#46039f"
             ],
             [
              0.2222222222222222,
              "#7201a8"
             ],
             [
              0.3333333333333333,
              "#9c179e"
             ],
             [
              0.4444444444444444,
              "#bd3786"
             ],
             [
              0.5555555555555556,
              "#d8576b"
             ],
             [
              0.6666666666666666,
              "#ed7953"
             ],
             [
              0.7777777777777778,
              "#fb9f3a"
             ],
             [
              0.8888888888888888,
              "#fdca26"
             ],
             [
              1,
              "#f0f921"
             ]
            ],
            "type": "contour"
           }
          ],
          "contourcarpet": [
           {
            "colorbar": {
             "outlinewidth": 0,
             "ticks": ""
            },
            "type": "contourcarpet"
           }
          ],
          "heatmap": [
           {
            "colorbar": {
             "outlinewidth": 0,
             "ticks": ""
            },
            "colorscale": [
             [
              0,
              "#0d0887"
             ],
             [
              0.1111111111111111,
              "#46039f"
             ],
             [
              0.2222222222222222,
              "#7201a8"
             ],
             [
              0.3333333333333333,
              "#9c179e"
             ],
             [
              0.4444444444444444,
              "#bd3786"
             ],
             [
              0.5555555555555556,
              "#d8576b"
             ],
             [
              0.6666666666666666,
              "#ed7953"
             ],
             [
              0.7777777777777778,
              "#fb9f3a"
             ],
             [
              0.8888888888888888,
              "#fdca26"
             ],
             [
              1,
              "#f0f921"
             ]
            ],
            "type": "heatmap"
           }
          ],
          "heatmapgl": [
           {
            "colorbar": {
             "outlinewidth": 0,
             "ticks": ""
            },
            "colorscale": [
             [
              0,
              "#0d0887"
             ],
             [
              0.1111111111111111,
              "#46039f"
             ],
             [
              0.2222222222222222,
              "#7201a8"
             ],
             [
              0.3333333333333333,
              "#9c179e"
             ],
             [
              0.4444444444444444,
              "#bd3786"
             ],
             [
              0.5555555555555556,
              "#d8576b"
             ],
             [
              0.6666666666666666,
              "#ed7953"
             ],
             [
              0.7777777777777778,
              "#fb9f3a"
             ],
             [
              0.8888888888888888,
              "#fdca26"
             ],
             [
              1,
              "#f0f921"
             ]
            ],
            "type": "heatmapgl"
           }
          ],
          "histogram": [
           {
            "marker": {
             "pattern": {
              "fillmode": "overlay",
              "size": 10,
              "solidity": 0.2
             }
            },
            "type": "histogram"
           }
          ],
          "histogram2d": [
           {
            "colorbar": {
             "outlinewidth": 0,
             "ticks": ""
            },
            "colorscale": [
             [
              0,
              "#0d0887"
             ],
             [
              0.1111111111111111,
              "#46039f"
             ],
             [
              0.2222222222222222,
              "#7201a8"
             ],
             [
              0.3333333333333333,
              "#9c179e"
             ],
             [
              0.4444444444444444,
              "#bd3786"
             ],
             [
              0.5555555555555556,
              "#d8576b"
             ],
             [
              0.6666666666666666,
              "#ed7953"
             ],
             [
              0.7777777777777778,
              "#fb9f3a"
             ],
             [
              0.8888888888888888,
              "#fdca26"
             ],
             [
              1,
              "#f0f921"
             ]
            ],
            "type": "histogram2d"
           }
          ],
          "histogram2dcontour": [
           {
            "colorbar": {
             "outlinewidth": 0,
             "ticks": ""
            },
            "colorscale": [
             [
              0,
              "#0d0887"
             ],
             [
              0.1111111111111111,
              "#46039f"
             ],
             [
              0.2222222222222222,
              "#7201a8"
             ],
             [
              0.3333333333333333,
              "#9c179e"
             ],
             [
              0.4444444444444444,
              "#bd3786"
             ],
             [
              0.5555555555555556,
              "#d8576b"
             ],
             [
              0.6666666666666666,
              "#ed7953"
             ],
             [
              0.7777777777777778,
              "#fb9f3a"
             ],
             [
              0.8888888888888888,
              "#fdca26"
             ],
             [
              1,
              "#f0f921"
             ]
            ],
            "type": "histogram2dcontour"
           }
          ],
          "mesh3d": [
           {
            "colorbar": {
             "outlinewidth": 0,
             "ticks": ""
            },
            "type": "mesh3d"
           }
          ],
          "parcoords": [
           {
            "line": {
             "colorbar": {
              "outlinewidth": 0,
              "ticks": ""
             }
            },
            "type": "parcoords"
           }
          ],
          "pie": [
           {
            "automargin": true,
            "type": "pie"
           }
          ],
          "scatter": [
           {
            "fillpattern": {
             "fillmode": "overlay",
             "size": 10,
             "solidity": 0.2
            },
            "type": "scatter"
           }
          ],
          "scatter3d": [
           {
            "line": {
             "colorbar": {
              "outlinewidth": 0,
              "ticks": ""
             }
            },
            "marker": {
             "colorbar": {
              "outlinewidth": 0,
              "ticks": ""
             }
            },
            "type": "scatter3d"
           }
          ],
          "scattercarpet": [
           {
            "marker": {
             "colorbar": {
              "outlinewidth": 0,
              "ticks": ""
             }
            },
            "type": "scattercarpet"
           }
          ],
          "scattergeo": [
           {
            "marker": {
             "colorbar": {
              "outlinewidth": 0,
              "ticks": ""
             }
            },
            "type": "scattergeo"
           }
          ],
          "scattergl": [
           {
            "marker": {
             "colorbar": {
              "outlinewidth": 0,
              "ticks": ""
             }
            },
            "type": "scattergl"
           }
          ],
          "scattermapbox": [
           {
            "marker": {
             "colorbar": {
              "outlinewidth": 0,
              "ticks": ""
             }
            },
            "type": "scattermapbox"
           }
          ],
          "scatterpolar": [
           {
            "marker": {
             "colorbar": {
              "outlinewidth": 0,
              "ticks": ""
             }
            },
            "type": "scatterpolar"
           }
          ],
          "scatterpolargl": [
           {
            "marker": {
             "colorbar": {
              "outlinewidth": 0,
              "ticks": ""
             }
            },
            "type": "scatterpolargl"
           }
          ],
          "scatterternary": [
           {
            "marker": {
             "colorbar": {
              "outlinewidth": 0,
              "ticks": ""
             }
            },
            "type": "scatterternary"
           }
          ],
          "surface": [
           {
            "colorbar": {
             "outlinewidth": 0,
             "ticks": ""
            },
            "colorscale": [
             [
              0,
              "#0d0887"
             ],
             [
              0.1111111111111111,
              "#46039f"
             ],
             [
              0.2222222222222222,
              "#7201a8"
             ],
             [
              0.3333333333333333,
              "#9c179e"
             ],
             [
              0.4444444444444444,
              "#bd3786"
             ],
             [
              0.5555555555555556,
              "#d8576b"
             ],
             [
              0.6666666666666666,
              "#ed7953"
             ],
             [
              0.7777777777777778,
              "#fb9f3a"
             ],
             [
              0.8888888888888888,
              "#fdca26"
             ],
             [
              1,
              "#f0f921"
             ]
            ],
            "type": "surface"
           }
          ],
          "table": [
           {
            "cells": {
             "fill": {
              "color": "#EBF0F8"
             },
             "line": {
              "color": "white"
             }
            },
            "header": {
             "fill": {
              "color": "#C8D4E3"
             },
             "line": {
              "color": "white"
             }
            },
            "type": "table"
           }
          ]
         },
         "layout": {
          "annotationdefaults": {
           "arrowcolor": "#2a3f5f",
           "arrowhead": 0,
           "arrowwidth": 1
          },
          "autotypenumbers": "strict",
          "coloraxis": {
           "colorbar": {
            "outlinewidth": 0,
            "ticks": ""
           }
          },
          "colorscale": {
           "diverging": [
            [
             0,
             "#8e0152"
            ],
            [
             0.1,
             "#c51b7d"
            ],
            [
             0.2,
             "#de77ae"
            ],
            [
             0.3,
             "#f1b6da"
            ],
            [
             0.4,
             "#fde0ef"
            ],
            [
             0.5,
             "#f7f7f7"
            ],
            [
             0.6,
             "#e6f5d0"
            ],
            [
             0.7,
             "#b8e186"
            ],
            [
             0.8,
             "#7fbc41"
            ],
            [
             0.9,
             "#4d9221"
            ],
            [
             1,
             "#276419"
            ]
           ],
           "sequential": [
            [
             0,
             "#0d0887"
            ],
            [
             0.1111111111111111,
             "#46039f"
            ],
            [
             0.2222222222222222,
             "#7201a8"
            ],
            [
             0.3333333333333333,
             "#9c179e"
            ],
            [
             0.4444444444444444,
             "#bd3786"
            ],
            [
             0.5555555555555556,
             "#d8576b"
            ],
            [
             0.6666666666666666,
             "#ed7953"
            ],
            [
             0.7777777777777778,
             "#fb9f3a"
            ],
            [
             0.8888888888888888,
             "#fdca26"
            ],
            [
             1,
             "#f0f921"
            ]
           ],
           "sequentialminus": [
            [
             0,
             "#0d0887"
            ],
            [
             0.1111111111111111,
             "#46039f"
            ],
            [
             0.2222222222222222,
             "#7201a8"
            ],
            [
             0.3333333333333333,
             "#9c179e"
            ],
            [
             0.4444444444444444,
             "#bd3786"
            ],
            [
             0.5555555555555556,
             "#d8576b"
            ],
            [
             0.6666666666666666,
             "#ed7953"
            ],
            [
             0.7777777777777778,
             "#fb9f3a"
            ],
            [
             0.8888888888888888,
             "#fdca26"
            ],
            [
             1,
             "#f0f921"
            ]
           ]
          },
          "colorway": [
           "#636efa",
           "#EF553B",
           "#00cc96",
           "#ab63fa",
           "#FFA15A",
           "#19d3f3",
           "#FF6692",
           "#B6E880",
           "#FF97FF",
           "#FECB52"
          ],
          "font": {
           "color": "#2a3f5f"
          },
          "geo": {
           "bgcolor": "white",
           "lakecolor": "white",
           "landcolor": "#E5ECF6",
           "showlakes": true,
           "showland": true,
           "subunitcolor": "white"
          },
          "hoverlabel": {
           "align": "left"
          },
          "hovermode": "closest",
          "mapbox": {
           "style": "light"
          },
          "paper_bgcolor": "white",
          "plot_bgcolor": "#E5ECF6",
          "polar": {
           "angularaxis": {
            "gridcolor": "white",
            "linecolor": "white",
            "ticks": ""
           },
           "bgcolor": "#E5ECF6",
           "radialaxis": {
            "gridcolor": "white",
            "linecolor": "white",
            "ticks": ""
           }
          },
          "scene": {
           "xaxis": {
            "backgroundcolor": "#E5ECF6",
            "gridcolor": "white",
            "gridwidth": 2,
            "linecolor": "white",
            "showbackground": true,
            "ticks": "",
            "zerolinecolor": "white"
           },
           "yaxis": {
            "backgroundcolor": "#E5ECF6",
            "gridcolor": "white",
            "gridwidth": 2,
            "linecolor": "white",
            "showbackground": true,
            "ticks": "",
            "zerolinecolor": "white"
           },
           "zaxis": {
            "backgroundcolor": "#E5ECF6",
            "gridcolor": "white",
            "gridwidth": 2,
            "linecolor": "white",
            "showbackground": true,
            "ticks": "",
            "zerolinecolor": "white"
           }
          },
          "shapedefaults": {
           "line": {
            "color": "#2a3f5f"
           }
          },
          "ternary": {
           "aaxis": {
            "gridcolor": "white",
            "linecolor": "white",
            "ticks": ""
           },
           "baxis": {
            "gridcolor": "white",
            "linecolor": "white",
            "ticks": ""
           },
           "bgcolor": "#E5ECF6",
           "caxis": {
            "gridcolor": "white",
            "linecolor": "white",
            "ticks": ""
           }
          },
          "title": {
           "x": 0.05
          },
          "xaxis": {
           "automargin": true,
           "gridcolor": "white",
           "linecolor": "white",
           "ticks": "",
           "title": {
            "standoff": 15
           },
           "zerolinecolor": "white",
           "zerolinewidth": 2
          },
          "yaxis": {
           "automargin": true,
           "gridcolor": "white",
           "linecolor": "white",
           "ticks": "",
           "title": {
            "standoff": 15
           },
           "zerolinecolor": "white",
           "zerolinewidth": 2
          }
         }
        },
        "title": {
         "text": "Schizophrenia vs Anxiety"
        },
        "xaxis": {
         "anchor": "y",
         "domain": [
          0,
          1
         ],
         "title": {
          "text": "Schizophrenia"
         }
        },
        "yaxis": {
         "anchor": "x",
         "domain": [
          0,
          1
         ],
         "title": {
          "text": "Anxiety"
         }
        }
       }
      },
      "text/html": [
       "<div>                            <div id=\"35f63275-6345-4c6a-9d78-ec1ff6b08a8a\" class=\"plotly-graph-div\" style=\"height:600px; width:100%;\"></div>            <script type=\"text/javascript\">                require([\"plotly\"], function(Plotly) {                    window.PLOTLYENV=window.PLOTLYENV || {};                                    if (document.getElementById(\"35f63275-6345-4c6a-9d78-ec1ff6b08a8a\")) {                    Plotly.newPlot(                        \"35f63275-6345-4c6a-9d78-ec1ff6b08a8a\",                        [{\"customdata\":[[\"AFG\"],[\"AGO\"],[\"ALB\"],[\"AND\"],[\"ARE\"],[\"ARG\"],[\"ARM\"],[\"ASM\"],[\"ATG\"],[\"AUS\"],[\"AUT\"],[\"AZE\"],[\"BDI\"],[\"BEL\"],[\"BEN\"],[\"BFA\"],[\"BGD\"],[\"BGR\"],[\"BHR\"],[\"BHS\"],[\"BIH\"],[\"BLR\"],[\"BLZ\"],[\"BMU\"],[\"BOL\"],[\"BRA\"],[\"BRB\"],[\"BRN\"],[\"BTN\"],[\"BWA\"],[\"CAF\"],[\"CAN\"],[\"CHE\"],[\"CHL\"],[\"CHN\"],[\"CIV\"],[\"CMR\"],[\"COD\"],[\"COG\"],[\"COK\"],[\"COL\"],[\"COM\"],[\"CPV\"],[\"CRI\"],[\"CUB\"],[\"CYP\"],[\"CZE\"],[\"DEU\"],[\"DJI\"],[\"DMA\"],[\"DNK\"],[\"DOM\"],[\"DZA\"],[\"ECU\"],[\"EGY\"],[\"ERI\"],[\"ESP\"],[\"EST\"],[\"ETH\"],[\"FIN\"],[\"FJI\"],[\"FRA\"],[\"FSM\"],[\"GAB\"],[\"GBR\"],[\"GEO\"],[\"GHA\"],[\"GIN\"],[\"GMB\"],[\"GNB\"],[\"GNQ\"],[\"GRC\"],[\"GRD\"],[\"GRL\"],[\"GTM\"],[\"GUM\"],[\"GUY\"],[\"HND\"],[\"HRV\"],[\"HTI\"],[\"HUN\"],[\"IDN\"],[\"IND\"],[\"IRL\"],[\"IRN\"],[\"IRQ\"],[\"ISL\"],[\"ISR\"],[\"ITA\"],[\"JAM\"],[\"JOR\"],[\"JPN\"],[\"KAZ\"],[\"KEN\"],[\"KGZ\"],[\"KHM\"],[\"KIR\"],[\"KNA\"],[\"KOR\"],[\"KWT\"],[\"LAO\"],[\"LBN\"],[\"LBR\"],[\"LBY\"],[\"LCA\"],[\"LKA\"],[\"LSO\"],[\"LTU\"],[\"LUX\"],[\"LVA\"],[\"MAR\"],[\"MCO\"],[\"MDA\"],[\"MDG\"],[\"MDV\"],[\"MEX\"],[\"MHL\"],[\"MKD\"],[\"MLI\"],[\"MLT\"],[\"MMR\"],[\"MNE\"],[\"MNG\"],[\"MNP\"],[\"MOZ\"],[\"MRT\"],[\"MUS\"],[\"MWI\"],[\"MYS\"],[\"NAM\"],[\"NER\"],[\"NGA\"],[\"NIC\"],[\"NIU\"],[\"NLD\"],[\"NOR\"],[\"NPL\"],[\"NRU\"],[\"NZL\"],[\"OMN\"],[\"OWID_WRL\"],[\"PAK\"],[\"PAN\"],[\"PER\"],[\"PHL\"],[\"PLW\"],[\"PNG\"],[\"POL\"],[\"PRI\"],[\"PRK\"],[\"PRT\"],[\"PRY\"],[\"PSE\"],[\"QAT\"],[\"ROU\"],[\"RUS\"],[\"RWA\"],[\"SAU\"],[\"SDN\"],[\"SEN\"],[\"SGP\"],[\"SLB\"],[\"SLE\"],[\"SLV\"],[\"SMR\"],[\"SOM\"],[\"SRB\"],[\"SSD\"],[\"STP\"],[\"SUR\"],[\"SVK\"],[\"SVN\"],[\"SWE\"],[\"SWZ\"],[\"SYC\"],[\"SYR\"],[\"TCD\"],[\"TGO\"],[\"THA\"],[\"TJK\"],[\"TKL\"],[\"TKM\"],[\"TLS\"],[\"TON\"],[\"TTO\"],[\"TUN\"],[\"TUR\"],[\"TUV\"],[\"TWN\"],[\"TZA\"],[\"UGA\"],[\"UKR\"],[\"URY\"],[\"USA\"],[\"UZB\"],[\"VCT\"],[\"VEN\"],[\"VIR\"],[\"VNM\"],[\"VUT\"],[\"WSM\"],[\"YEM\"],[\"ZAF\"],[\"ZMB\"],[\"ZWE\"]],\"hovertemplate\":\"Schizophrenia=%{x}<br>Anxiety=%{y}<br>Code=%{customdata[0]}<br>Cluster=%{marker.color}<extra></extra>\",\"legendgroup\":\"\",\"marker\":{\"color\":[1,1,0,2,0,2,0,0,0,2,2,0,1,2,1,1,1,0,1,0,0,1,0,0,2,2,0,0,1,1,1,0,2,2,0,1,1,1,1,0,0,1,1,0,1,2,0,2,1,0,2,1,1,2,1,1,2,1,1,1,0,2,0,1,1,0,1,1,1,1,1,2,0,1,1,0,1,0,0,0,0,0,1,2,2,2,2,1,2,0,1,0,0,1,0,0,0,1,0,1,0,2,1,2,0,0,1,1,2,1,1,2,0,1,0,0,0,0,0,2,0,0,1,0,1,0,1,1,0,0,1,1,0,0,2,2,1,0,2,1,0,1,0,2,0,0,0,0,0,0,2,2,1,1,0,0,1,1,1,1,0,0,1,0,2,1,0,1,0,1,0,0,2,1,0,2,1,1,0,0,0,0,0,0,1,1,1,0,0,1,1,1,2,2,0,0,0,0,0,0,0,1,1,1,0],\"coloraxis\":\"coloraxis\",\"symbol\":\"circle\"},\"mode\":\"markers\",\"name\":\"\",\"orientation\":\"v\",\"showlegend\":false,\"x\":[0.21713928233333332,0.21501837733333332,0.2833509243333333,0.2875150026666667,0.28100229433333335,0.31123931666666665,0.2778581686666667,0.30863134633333333,0.286526879,0.38855307299999997,0.27556981266666664,0.27614362033333334,0.20088872466666666,0.27423265599999996,0.21193578500000002,0.20543430599999998,0.2786147206666667,0.2844358193333333,0.2711379783333333,0.28502673866666667,0.2826658736666667,0.27267890866666666,0.2692648436666667,0.30190666033333335,0.26345031999999996,0.275675355,0.282434899,0.30505227933333334,0.28560024766666664,0.22041105733333335,0.19482022499999999,0.28848229599999997,0.2802294806666667,0.31548577666666666,0.3028644773333333,0.21235484566666668,0.212359167,0.20282228633333332,0.214368294,0.311440612,0.2775458373333333,0.21702505533333336,0.22584445466666667,0.28374720833333333,0.27725792033333335,0.27437675433333336,0.29469943633333334,0.2601667306666667,0.21910747066666666,0.2724766966666667,0.225505864,0.27164549433333335,0.24905719233333334,0.2732963393333333,0.24639395066666667,0.20647713166666665,0.265590325,0.28447934566666666,0.20795982500000001,0.263713991,0.29244190866666664,0.26861672733333336,0.27078995833333336,0.22925495366666665,0.2558146573333333,0.2736103386666667,0.21319143633333332,0.20858159633333334,0.2121028003333333,0.20347244466666667,0.22366345733333332,0.2727419466666667,0.2745169746666667,0.3786357226666667,0.2619045566666667,0.32810851533333335,0.25783652533333334,0.26013903666666666,0.29245852266666666,0.24206864733333333,0.28905868733333334,0.28625694,0.2817600066666667,0.35935977133333336,0.25313631666666664,0.24403212999999999,0.277494858,0.30329442900000003,0.296646902,0.27588185133333337,0.254053072,0.302280187,0.27614281733333335,0.21462071000000002,0.262605518,0.26380592533333336,0.25877416766666667,0.27962409466666666,0.297708408,0.2771153136666667,0.26940072333333337,0.2535111723333333,0.20520076499999998,0.25693884466666667,0.275449095,0.29230539699999997,0.20026494066666667,0.28187760666666667,0.28003050999999995,0.280560007,0.24165551133333332,0.29336013966666663,0.26705117733333333,0.212348209,0.30161808633333337,0.282790518,0.27329803766666666,0.2856487793333333,0.20923469833333333,0.2756702956666667,0.26431916266666666,0.2861639733333333,0.265454146,0.318439496,0.19943205300000003,0.21873483900000001,0.3018485263333333,0.20055590966666664,0.30775145433333334,0.21880628333333335,0.206904555,0.21988878966666667,0.26920634633333335,0.2959881623333333,0.37937442666666665,0.2830702796666667,0.271269895,0.28259147433333337,0.38949470966666666,0.26494458266666665,0.28887678766666663,0.281476296,0.28224271766666664,0.27507421066666665,0.285908677,0.29829653666666667,0.27102160599999997,0.2896661476666667,0.29061893066666666,0.266878532,0.26879137566666667,0.27464241833333336,0.248456562,0.28274684533333333,0.28377900333333334,0.27887184400000004,0.20538178666666665,0.2628221966666667,0.23104516633333333,0.21542986133333333,0.3146629146666667,0.25631550799999997,0.20746201433333333,0.26609598133333334,0.2830158703333333,0.18979669566666668,0.28343388166666666,0.22888002233333332,0.22037973533333333,0.272355387,0.2912527933333333,0.2971159073333334,0.27975169033333336,0.21533192033333334,0.30677423633333334,0.24530640799999998,0.20797962866666667,0.207619485,0.2937844236666667,0.263192437,0.28520108499999997,0.2723940453333334,0.2570117613333333,0.29114503633333333,0.28031485933333333,0.252928822,0.24759015433333334,0.272706941,0.302190317,0.20944665633333331,0.20446832233333334,0.27148857266666665,0.31180767299999995,0.44947948866666665,0.26603073633333335,0.2711097823333333,0.27737713766666666,0.29353587099999995,0.31457823566666665,0.271230105,0.2867680286666667,0.230985601,0.22349925466666667,0.20907906866666667,0.20447687199999998],\"xaxis\":\"x\",\"y\":[4.713664896666667,3.970343063333333,3.7344681833333335,5.404066546666667,4.134771843333334,5.018959143333333,3.1438165799999997,3.971686453333333,4.292472633333333,5.51321173,5.852257523333334,2.5304678099999998,3.5729016733333334,4.994399623333334,3.1738201333333333,3.083276853333333,3.1053023666666664,3.3965247233333336,4.9466680033333335,4.269834096666667,3.5531129433333333,3.51112956,4.084705166666667,4.26689759,5.654752436666667,7.432757966666667,4.267525303333333,2.87291485,3.206718016666667,3.53343253,4.257796446666666,4.034142243333333,6.633833693333333,5.467285743333334,3.36611632,3.1956524400000004,3.186535913333333,3.817651773333333,3.733718736666667,3.9704184566666667,4.66042078,3.4729941833333333,3.06865203,4.083784343333333,4.199329816666666,6.42349733,3.186573076666667,6.117966616666666,3.2302264766666666,4.221061336666667,4.843143456666667,4.46027817,4.664658516666666,5.1328979766666665,4.298455956666667,3.6831709900000003,4.77079755,3.40906948,3.4776826233333336,3.8483274933333336,3.972813926666667,6.333420503333333,3.96920533,3.942196336666667,4.379163449999999,2.5218310799999997,2.9697299366666665,3.3261691966666667,3.2715955733333337,3.07050108,3.8405336666666665,5.627342643333334,4.230942186666667,4.785209266666667,4.14903772,3.953536133333333,4.3386201600000005,3.9548705666666666,3.5494551800000003,4.48845619,3.4432879200000004,3.451824033333333,2.869132546666667,6.64844018,7.1908392800000005,5.104804290000001,5.093999566666667,3.5422007566666665,5.3122688600000005,3.96318164,4.842814386666666,2.5441383566666667,2.1195399,3.3823433633333333,2.0561706566666667,4.4840215966666666,4.020844366666667,4.241158073333334,3.3368557266666667,4.321207810000001,4.337061289999999,6.13226347,3.442177076666667,5.1878681166666665,4.24879904,3.8927227933333333,3.5257074066666667,4.34147548,5.329732333333333,3.76310555,4.695803743333333,5.450497986666666,4.097258063333333,3.869010273333333,3.6241335699999997,3.3570753633333337,3.955683366666667,3.59820348,2.65417973,6.263409050000001,3.85795834,3.66395991,2.01114957,3.9570206933333334,3.9740171933333333,2.727863253333333,3.82668357,3.7497763933333332,4.537624930000001,3.4512759433333335,2.859605623333333,2.95061477,4.266198843333333,3.9648757399999996,6.641262333333333,6.8892984833333335,3.055931643333333,3.9586109066666664,7.369994123333333,4.617972243333333,3.7905257633333336,3.38890841,3.543173056666667,5.484117783333333,4.512433733333333,3.9198808366666666,3.9396137733333334,3.112575456666667,4.41081267,3.62733397,7.9085405799999995,6.175804706666667,5.47277206,4.2855476433333335,3.25614332,3.15214533,3.576606363333333,4.43847366,4.67920552,2.88568555,2.75002974,3.9475626700000004,3.6254153766666666,4.30176213,5.495142606666667,3.3171958966666666,3.3446335966666667,4.83568559,3.059853253333333,4.099251876666667,3.45688689,3.40562397,4.7671575399999995,3.505617436666667,3.6940761099999997,5.36797034,3.25861014,3.5467272066666666,3.31269182,2.3779054766666667,3.9807247,2.2952878266666668,3.69054801,3.98761416,3.7761158933333334,5.000541966666666,4.3256239333333335,3.996254706666667,3.709170383333333,3.7415406466666665,3.9538814666666666,3.0247169233333335,5.065870743333333,5.730277326666666,2.02389518,4.218775166666666,3.8306939633333332,4.288892633333333,2.18267074,3.9536180633333333,3.9490783366666666,4.784083253333334,3.8177680233333335,3.8306213733333334,3.1810418533333333],\"yaxis\":\"y\",\"type\":\"scatter\"}],                        {\"template\":{\"data\":{\"histogram2dcontour\":[{\"type\":\"histogram2dcontour\",\"colorbar\":{\"outlinewidth\":0,\"ticks\":\"\"},\"colorscale\":[[0.0,\"#0d0887\"],[0.1111111111111111,\"#46039f\"],[0.2222222222222222,\"#7201a8\"],[0.3333333333333333,\"#9c179e\"],[0.4444444444444444,\"#bd3786\"],[0.5555555555555556,\"#d8576b\"],[0.6666666666666666,\"#ed7953\"],[0.7777777777777778,\"#fb9f3a\"],[0.8888888888888888,\"#fdca26\"],[1.0,\"#f0f921\"]]}],\"choropleth\":[{\"type\":\"choropleth\",\"colorbar\":{\"outlinewidth\":0,\"ticks\":\"\"}}],\"histogram2d\":[{\"type\":\"histogram2d\",\"colorbar\":{\"outlinewidth\":0,\"ticks\":\"\"},\"colorscale\":[[0.0,\"#0d0887\"],[0.1111111111111111,\"#46039f\"],[0.2222222222222222,\"#7201a8\"],[0.3333333333333333,\"#9c179e\"],[0.4444444444444444,\"#bd3786\"],[0.5555555555555556,\"#d8576b\"],[0.6666666666666666,\"#ed7953\"],[0.7777777777777778,\"#fb9f3a\"],[0.8888888888888888,\"#fdca26\"],[1.0,\"#f0f921\"]]}],\"heatmap\":[{\"type\":\"heatmap\",\"colorbar\":{\"outlinewidth\":0,\"ticks\":\"\"},\"colorscale\":[[0.0,\"#0d0887\"],[0.1111111111111111,\"#46039f\"],[0.2222222222222222,\"#7201a8\"],[0.3333333333333333,\"#9c179e\"],[0.4444444444444444,\"#bd3786\"],[0.5555555555555556,\"#d8576b\"],[0.6666666666666666,\"#ed7953\"],[0.7777777777777778,\"#fb9f3a\"],[0.8888888888888888,\"#fdca26\"],[1.0,\"#f0f921\"]]}],\"heatmapgl\":[{\"type\":\"heatmapgl\",\"colorbar\":{\"outlinewidth\":0,\"ticks\":\"\"},\"colorscale\":[[0.0,\"#0d0887\"],[0.1111111111111111,\"#46039f\"],[0.2222222222222222,\"#7201a8\"],[0.3333333333333333,\"#9c179e\"],[0.4444444444444444,\"#bd3786\"],[0.5555555555555556,\"#d8576b\"],[0.6666666666666666,\"#ed7953\"],[0.7777777777777778,\"#fb9f3a\"],[0.8888888888888888,\"#fdca26\"],[1.0,\"#f0f921\"]]}],\"contourcarpet\":[{\"type\":\"contourcarpet\",\"colorbar\":{\"outlinewidth\":0,\"ticks\":\"\"}}],\"contour\":[{\"type\":\"contour\",\"colorbar\":{\"outlinewidth\":0,\"ticks\":\"\"},\"colorscale\":[[0.0,\"#0d0887\"],[0.1111111111111111,\"#46039f\"],[0.2222222222222222,\"#7201a8\"],[0.3333333333333333,\"#9c179e\"],[0.4444444444444444,\"#bd3786\"],[0.5555555555555556,\"#d8576b\"],[0.6666666666666666,\"#ed7953\"],[0.7777777777777778,\"#fb9f3a\"],[0.8888888888888888,\"#fdca26\"],[1.0,\"#f0f921\"]]}],\"surface\":[{\"type\":\"surface\",\"colorbar\":{\"outlinewidth\":0,\"ticks\":\"\"},\"colorscale\":[[0.0,\"#0d0887\"],[0.1111111111111111,\"#46039f\"],[0.2222222222222222,\"#7201a8\"],[0.3333333333333333,\"#9c179e\"],[0.4444444444444444,\"#bd3786\"],[0.5555555555555556,\"#d8576b\"],[0.6666666666666666,\"#ed7953\"],[0.7777777777777778,\"#fb9f3a\"],[0.8888888888888888,\"#fdca26\"],[1.0,\"#f0f921\"]]}],\"mesh3d\":[{\"type\":\"mesh3d\",\"colorbar\":{\"outlinewidth\":0,\"ticks\":\"\"}}],\"scatter\":[{\"fillpattern\":{\"fillmode\":\"overlay\",\"size\":10,\"solidity\":0.2},\"type\":\"scatter\"}],\"parcoords\":[{\"type\":\"parcoords\",\"line\":{\"colorbar\":{\"outlinewidth\":0,\"ticks\":\"\"}}}],\"scatterpolargl\":[{\"type\":\"scatterpolargl\",\"marker\":{\"colorbar\":{\"outlinewidth\":0,\"ticks\":\"\"}}}],\"bar\":[{\"error_x\":{\"color\":\"#2a3f5f\"},\"error_y\":{\"color\":\"#2a3f5f\"},\"marker\":{\"line\":{\"color\":\"#E5ECF6\",\"width\":0.5},\"pattern\":{\"fillmode\":\"overlay\",\"size\":10,\"solidity\":0.2}},\"type\":\"bar\"}],\"scattergeo\":[{\"type\":\"scattergeo\",\"marker\":{\"colorbar\":{\"outlinewidth\":0,\"ticks\":\"\"}}}],\"scatterpolar\":[{\"type\":\"scatterpolar\",\"marker\":{\"colorbar\":{\"outlinewidth\":0,\"ticks\":\"\"}}}],\"histogram\":[{\"marker\":{\"pattern\":{\"fillmode\":\"overlay\",\"size\":10,\"solidity\":0.2}},\"type\":\"histogram\"}],\"scattergl\":[{\"type\":\"scattergl\",\"marker\":{\"colorbar\":{\"outlinewidth\":0,\"ticks\":\"\"}}}],\"scatter3d\":[{\"type\":\"scatter3d\",\"line\":{\"colorbar\":{\"outlinewidth\":0,\"ticks\":\"\"}},\"marker\":{\"colorbar\":{\"outlinewidth\":0,\"ticks\":\"\"}}}],\"scattermapbox\":[{\"type\":\"scattermapbox\",\"marker\":{\"colorbar\":{\"outlinewidth\":0,\"ticks\":\"\"}}}],\"scatterternary\":[{\"type\":\"scatterternary\",\"marker\":{\"colorbar\":{\"outlinewidth\":0,\"ticks\":\"\"}}}],\"scattercarpet\":[{\"type\":\"scattercarpet\",\"marker\":{\"colorbar\":{\"outlinewidth\":0,\"ticks\":\"\"}}}],\"carpet\":[{\"aaxis\":{\"endlinecolor\":\"#2a3f5f\",\"gridcolor\":\"white\",\"linecolor\":\"white\",\"minorgridcolor\":\"white\",\"startlinecolor\":\"#2a3f5f\"},\"baxis\":{\"endlinecolor\":\"#2a3f5f\",\"gridcolor\":\"white\",\"linecolor\":\"white\",\"minorgridcolor\":\"white\",\"startlinecolor\":\"#2a3f5f\"},\"type\":\"carpet\"}],\"table\":[{\"cells\":{\"fill\":{\"color\":\"#EBF0F8\"},\"line\":{\"color\":\"white\"}},\"header\":{\"fill\":{\"color\":\"#C8D4E3\"},\"line\":{\"color\":\"white\"}},\"type\":\"table\"}],\"barpolar\":[{\"marker\":{\"line\":{\"color\":\"#E5ECF6\",\"width\":0.5},\"pattern\":{\"fillmode\":\"overlay\",\"size\":10,\"solidity\":0.2}},\"type\":\"barpolar\"}],\"pie\":[{\"automargin\":true,\"type\":\"pie\"}]},\"layout\":{\"autotypenumbers\":\"strict\",\"colorway\":[\"#636efa\",\"#EF553B\",\"#00cc96\",\"#ab63fa\",\"#FFA15A\",\"#19d3f3\",\"#FF6692\",\"#B6E880\",\"#FF97FF\",\"#FECB52\"],\"font\":{\"color\":\"#2a3f5f\"},\"hovermode\":\"closest\",\"hoverlabel\":{\"align\":\"left\"},\"paper_bgcolor\":\"white\",\"plot_bgcolor\":\"#E5ECF6\",\"polar\":{\"bgcolor\":\"#E5ECF6\",\"angularaxis\":{\"gridcolor\":\"white\",\"linecolor\":\"white\",\"ticks\":\"\"},\"radialaxis\":{\"gridcolor\":\"white\",\"linecolor\":\"white\",\"ticks\":\"\"}},\"ternary\":{\"bgcolor\":\"#E5ECF6\",\"aaxis\":{\"gridcolor\":\"white\",\"linecolor\":\"white\",\"ticks\":\"\"},\"baxis\":{\"gridcolor\":\"white\",\"linecolor\":\"white\",\"ticks\":\"\"},\"caxis\":{\"gridcolor\":\"white\",\"linecolor\":\"white\",\"ticks\":\"\"}},\"coloraxis\":{\"colorbar\":{\"outlinewidth\":0,\"ticks\":\"\"}},\"colorscale\":{\"sequential\":[[0.0,\"#0d0887\"],[0.1111111111111111,\"#46039f\"],[0.2222222222222222,\"#7201a8\"],[0.3333333333333333,\"#9c179e\"],[0.4444444444444444,\"#bd3786\"],[0.5555555555555556,\"#d8576b\"],[0.6666666666666666,\"#ed7953\"],[0.7777777777777778,\"#fb9f3a\"],[0.8888888888888888,\"#fdca26\"],[1.0,\"#f0f921\"]],\"sequentialminus\":[[0.0,\"#0d0887\"],[0.1111111111111111,\"#46039f\"],[0.2222222222222222,\"#7201a8\"],[0.3333333333333333,\"#9c179e\"],[0.4444444444444444,\"#bd3786\"],[0.5555555555555556,\"#d8576b\"],[0.6666666666666666,\"#ed7953\"],[0.7777777777777778,\"#fb9f3a\"],[0.8888888888888888,\"#fdca26\"],[1.0,\"#f0f921\"]],\"diverging\":[[0,\"#8e0152\"],[0.1,\"#c51b7d\"],[0.2,\"#de77ae\"],[0.3,\"#f1b6da\"],[0.4,\"#fde0ef\"],[0.5,\"#f7f7f7\"],[0.6,\"#e6f5d0\"],[0.7,\"#b8e186\"],[0.8,\"#7fbc41\"],[0.9,\"#4d9221\"],[1,\"#276419\"]]},\"xaxis\":{\"gridcolor\":\"white\",\"linecolor\":\"white\",\"ticks\":\"\",\"title\":{\"standoff\":15},\"zerolinecolor\":\"white\",\"automargin\":true,\"zerolinewidth\":2},\"yaxis\":{\"gridcolor\":\"white\",\"linecolor\":\"white\",\"ticks\":\"\",\"title\":{\"standoff\":15},\"zerolinecolor\":\"white\",\"automargin\":true,\"zerolinewidth\":2},\"scene\":{\"xaxis\":{\"backgroundcolor\":\"#E5ECF6\",\"gridcolor\":\"white\",\"linecolor\":\"white\",\"showbackground\":true,\"ticks\":\"\",\"zerolinecolor\":\"white\",\"gridwidth\":2},\"yaxis\":{\"backgroundcolor\":\"#E5ECF6\",\"gridcolor\":\"white\",\"linecolor\":\"white\",\"showbackground\":true,\"ticks\":\"\",\"zerolinecolor\":\"white\",\"gridwidth\":2},\"zaxis\":{\"backgroundcolor\":\"#E5ECF6\",\"gridcolor\":\"white\",\"linecolor\":\"white\",\"showbackground\":true,\"ticks\":\"\",\"zerolinecolor\":\"white\",\"gridwidth\":2}},\"shapedefaults\":{\"line\":{\"color\":\"#2a3f5f\"}},\"annotationdefaults\":{\"arrowcolor\":\"#2a3f5f\",\"arrowhead\":0,\"arrowwidth\":1},\"geo\":{\"bgcolor\":\"white\",\"landcolor\":\"#E5ECF6\",\"subunitcolor\":\"white\",\"showland\":true,\"showlakes\":true,\"lakecolor\":\"white\"},\"title\":{\"x\":0.05},\"mapbox\":{\"style\":\"light\"}}},\"xaxis\":{\"anchor\":\"y\",\"domain\":[0.0,1.0],\"title\":{\"text\":\"Schizophrenia\"}},\"yaxis\":{\"anchor\":\"x\",\"domain\":[0.0,1.0],\"title\":{\"text\":\"Anxiety\"}},\"coloraxis\":{\"colorbar\":{\"title\":{\"text\":\"Cluster\"}},\"colorscale\":[[0.0,\"#0d0887\"],[0.1111111111111111,\"#46039f\"],[0.2222222222222222,\"#7201a8\"],[0.3333333333333333,\"#9c179e\"],[0.4444444444444444,\"#bd3786\"],[0.5555555555555556,\"#d8576b\"],[0.6666666666666666,\"#ed7953\"],[0.7777777777777778,\"#fb9f3a\"],[0.8888888888888888,\"#fdca26\"],[1.0,\"#f0f921\"]]},\"legend\":{\"tracegroupgap\":0},\"title\":{\"text\":\"Schizophrenia vs Anxiety\"},\"height\":600},                        {\"responsive\": true}                    ).then(function(){\n",
       "                            \n",
       "var gd = document.getElementById('35f63275-6345-4c6a-9d78-ec1ff6b08a8a');\n",
       "var x = new MutationObserver(function (mutations, observer) {{\n",
       "        var display = window.getComputedStyle(gd).display;\n",
       "        if (!display || display === 'none') {{\n",
       "            console.log([gd, 'removed!']);\n",
       "            Plotly.purge(gd);\n",
       "            observer.disconnect();\n",
       "        }}\n",
       "}});\n",
       "\n",
       "// Listen for the removal of the full notebook cells\n",
       "var notebookContainer = gd.closest('#notebook-container');\n",
       "if (notebookContainer) {{\n",
       "    x.observe(notebookContainer, {childList: true});\n",
       "}}\n",
       "\n",
       "// Listen for the clearing of the current output cell\n",
       "var outputEl = gd.closest('.output');\n",
       "if (outputEl) {{\n",
       "    x.observe(outputEl, {childList: true});\n",
       "}}\n",
       "\n",
       "                        })                };                });            </script>        </div>"
      ]
     },
     "metadata": {},
     "output_type": "display_data"
    },
    {
     "data": {
      "application/vnd.plotly.v1+json": {
       "config": {
        "plotlyServerURL": "https://plot.ly"
       },
       "data": [
        {
         "customdata": [
          [
           "AFG"
          ],
          [
           "AGO"
          ],
          [
           "ALB"
          ],
          [
           "AND"
          ],
          [
           "ARE"
          ],
          [
           "ARG"
          ],
          [
           "ARM"
          ],
          [
           "ASM"
          ],
          [
           "ATG"
          ],
          [
           "AUS"
          ],
          [
           "AUT"
          ],
          [
           "AZE"
          ],
          [
           "BDI"
          ],
          [
           "BEL"
          ],
          [
           "BEN"
          ],
          [
           "BFA"
          ],
          [
           "BGD"
          ],
          [
           "BGR"
          ],
          [
           "BHR"
          ],
          [
           "BHS"
          ],
          [
           "BIH"
          ],
          [
           "BLR"
          ],
          [
           "BLZ"
          ],
          [
           "BMU"
          ],
          [
           "BOL"
          ],
          [
           "BRA"
          ],
          [
           "BRB"
          ],
          [
           "BRN"
          ],
          [
           "BTN"
          ],
          [
           "BWA"
          ],
          [
           "CAF"
          ],
          [
           "CAN"
          ],
          [
           "CHE"
          ],
          [
           "CHL"
          ],
          [
           "CHN"
          ],
          [
           "CIV"
          ],
          [
           "CMR"
          ],
          [
           "COD"
          ],
          [
           "COG"
          ],
          [
           "COK"
          ],
          [
           "COL"
          ],
          [
           "COM"
          ],
          [
           "CPV"
          ],
          [
           "CRI"
          ],
          [
           "CUB"
          ],
          [
           "CYP"
          ],
          [
           "CZE"
          ],
          [
           "DEU"
          ],
          [
           "DJI"
          ],
          [
           "DMA"
          ],
          [
           "DNK"
          ],
          [
           "DOM"
          ],
          [
           "DZA"
          ],
          [
           "ECU"
          ],
          [
           "EGY"
          ],
          [
           "ERI"
          ],
          [
           "ESP"
          ],
          [
           "EST"
          ],
          [
           "ETH"
          ],
          [
           "FIN"
          ],
          [
           "FJI"
          ],
          [
           "FRA"
          ],
          [
           "FSM"
          ],
          [
           "GAB"
          ],
          [
           "GBR"
          ],
          [
           "GEO"
          ],
          [
           "GHA"
          ],
          [
           "GIN"
          ],
          [
           "GMB"
          ],
          [
           "GNB"
          ],
          [
           "GNQ"
          ],
          [
           "GRC"
          ],
          [
           "GRD"
          ],
          [
           "GRL"
          ],
          [
           "GTM"
          ],
          [
           "GUM"
          ],
          [
           "GUY"
          ],
          [
           "HND"
          ],
          [
           "HRV"
          ],
          [
           "HTI"
          ],
          [
           "HUN"
          ],
          [
           "IDN"
          ],
          [
           "IND"
          ],
          [
           "IRL"
          ],
          [
           "IRN"
          ],
          [
           "IRQ"
          ],
          [
           "ISL"
          ],
          [
           "ISR"
          ],
          [
           "ITA"
          ],
          [
           "JAM"
          ],
          [
           "JOR"
          ],
          [
           "JPN"
          ],
          [
           "KAZ"
          ],
          [
           "KEN"
          ],
          [
           "KGZ"
          ],
          [
           "KHM"
          ],
          [
           "KIR"
          ],
          [
           "KNA"
          ],
          [
           "KOR"
          ],
          [
           "KWT"
          ],
          [
           "LAO"
          ],
          [
           "LBN"
          ],
          [
           "LBR"
          ],
          [
           "LBY"
          ],
          [
           "LCA"
          ],
          [
           "LKA"
          ],
          [
           "LSO"
          ],
          [
           "LTU"
          ],
          [
           "LUX"
          ],
          [
           "LVA"
          ],
          [
           "MAR"
          ],
          [
           "MCO"
          ],
          [
           "MDA"
          ],
          [
           "MDG"
          ],
          [
           "MDV"
          ],
          [
           "MEX"
          ],
          [
           "MHL"
          ],
          [
           "MKD"
          ],
          [
           "MLI"
          ],
          [
           "MLT"
          ],
          [
           "MMR"
          ],
          [
           "MNE"
          ],
          [
           "MNG"
          ],
          [
           "MNP"
          ],
          [
           "MOZ"
          ],
          [
           "MRT"
          ],
          [
           "MUS"
          ],
          [
           "MWI"
          ],
          [
           "MYS"
          ],
          [
           "NAM"
          ],
          [
           "NER"
          ],
          [
           "NGA"
          ],
          [
           "NIC"
          ],
          [
           "NIU"
          ],
          [
           "NLD"
          ],
          [
           "NOR"
          ],
          [
           "NPL"
          ],
          [
           "NRU"
          ],
          [
           "NZL"
          ],
          [
           "OMN"
          ],
          [
           "OWID_WRL"
          ],
          [
           "PAK"
          ],
          [
           "PAN"
          ],
          [
           "PER"
          ],
          [
           "PHL"
          ],
          [
           "PLW"
          ],
          [
           "PNG"
          ],
          [
           "POL"
          ],
          [
           "PRI"
          ],
          [
           "PRK"
          ],
          [
           "PRT"
          ],
          [
           "PRY"
          ],
          [
           "PSE"
          ],
          [
           "QAT"
          ],
          [
           "ROU"
          ],
          [
           "RUS"
          ],
          [
           "RWA"
          ],
          [
           "SAU"
          ],
          [
           "SDN"
          ],
          [
           "SEN"
          ],
          [
           "SGP"
          ],
          [
           "SLB"
          ],
          [
           "SLE"
          ],
          [
           "SLV"
          ],
          [
           "SMR"
          ],
          [
           "SOM"
          ],
          [
           "SRB"
          ],
          [
           "SSD"
          ],
          [
           "STP"
          ],
          [
           "SUR"
          ],
          [
           "SVK"
          ],
          [
           "SVN"
          ],
          [
           "SWE"
          ],
          [
           "SWZ"
          ],
          [
           "SYC"
          ],
          [
           "SYR"
          ],
          [
           "TCD"
          ],
          [
           "TGO"
          ],
          [
           "THA"
          ],
          [
           "TJK"
          ],
          [
           "TKL"
          ],
          [
           "TKM"
          ],
          [
           "TLS"
          ],
          [
           "TON"
          ],
          [
           "TTO"
          ],
          [
           "TUN"
          ],
          [
           "TUR"
          ],
          [
           "TUV"
          ],
          [
           "TWN"
          ],
          [
           "TZA"
          ],
          [
           "UGA"
          ],
          [
           "UKR"
          ],
          [
           "URY"
          ],
          [
           "USA"
          ],
          [
           "UZB"
          ],
          [
           "VCT"
          ],
          [
           "VEN"
          ],
          [
           "VIR"
          ],
          [
           "VNM"
          ],
          [
           "VUT"
          ],
          [
           "WSM"
          ],
          [
           "YEM"
          ],
          [
           "ZAF"
          ],
          [
           "ZMB"
          ],
          [
           "ZWE"
          ]
         ],
         "hovertemplate": "Schizophrenia=%{x}<br>Bipolar=%{y}<br>Code=%{customdata[0]}<br>Cluster=%{marker.color}<extra></extra>",
         "legendgroup": "",
         "marker": {
          "color": [
           1,
           1,
           0,
           2,
           0,
           2,
           0,
           0,
           0,
           2,
           2,
           0,
           1,
           2,
           1,
           1,
           1,
           0,
           1,
           0,
           0,
           1,
           0,
           0,
           2,
           2,
           0,
           0,
           1,
           1,
           1,
           0,
           2,
           2,
           0,
           1,
           1,
           1,
           1,
           0,
           0,
           1,
           1,
           0,
           1,
           2,
           0,
           2,
           1,
           0,
           2,
           1,
           1,
           2,
           1,
           1,
           2,
           1,
           1,
           1,
           0,
           2,
           0,
           1,
           1,
           0,
           1,
           1,
           1,
           1,
           1,
           2,
           0,
           1,
           1,
           0,
           1,
           0,
           0,
           0,
           0,
           0,
           1,
           2,
           2,
           2,
           2,
           1,
           2,
           0,
           1,
           0,
           0,
           1,
           0,
           0,
           0,
           1,
           0,
           1,
           0,
           2,
           1,
           2,
           0,
           0,
           1,
           1,
           2,
           1,
           1,
           2,
           0,
           1,
           0,
           0,
           0,
           0,
           0,
           2,
           0,
           0,
           1,
           0,
           1,
           0,
           1,
           1,
           0,
           0,
           1,
           1,
           0,
           0,
           2,
           2,
           1,
           0,
           2,
           1,
           0,
           1,
           0,
           2,
           0,
           0,
           0,
           0,
           0,
           0,
           2,
           2,
           1,
           1,
           0,
           0,
           1,
           1,
           1,
           1,
           0,
           0,
           1,
           0,
           2,
           1,
           0,
           1,
           0,
           1,
           0,
           0,
           2,
           1,
           0,
           2,
           1,
           1,
           0,
           0,
           0,
           0,
           0,
           0,
           1,
           1,
           1,
           0,
           0,
           1,
           1,
           1,
           2,
           2,
           0,
           0,
           0,
           0,
           0,
           0,
           0,
           1,
           1,
           1,
           0
          ],
          "coloraxis": "coloraxis",
          "symbol": "circle"
         },
         "mode": "markers",
         "name": "",
         "orientation": "v",
         "showlegend": false,
         "type": "scatter",
         "x": [
          0.21713928233333332,
          0.21501837733333332,
          0.2833509243333333,
          0.2875150026666667,
          0.28100229433333335,
          0.31123931666666665,
          0.2778581686666667,
          0.30863134633333333,
          0.286526879,
          0.38855307299999997,
          0.27556981266666664,
          0.27614362033333334,
          0.20088872466666666,
          0.27423265599999996,
          0.21193578500000002,
          0.20543430599999998,
          0.2786147206666667,
          0.2844358193333333,
          0.2711379783333333,
          0.28502673866666667,
          0.2826658736666667,
          0.27267890866666666,
          0.2692648436666667,
          0.30190666033333335,
          0.26345031999999996,
          0.275675355,
          0.282434899,
          0.30505227933333334,
          0.28560024766666664,
          0.22041105733333335,
          0.19482022499999999,
          0.28848229599999997,
          0.2802294806666667,
          0.31548577666666666,
          0.3028644773333333,
          0.21235484566666668,
          0.212359167,
          0.20282228633333332,
          0.214368294,
          0.311440612,
          0.2775458373333333,
          0.21702505533333336,
          0.22584445466666667,
          0.28374720833333333,
          0.27725792033333335,
          0.27437675433333336,
          0.29469943633333334,
          0.2601667306666667,
          0.21910747066666666,
          0.2724766966666667,
          0.225505864,
          0.27164549433333335,
          0.24905719233333334,
          0.2732963393333333,
          0.24639395066666667,
          0.20647713166666665,
          0.265590325,
          0.28447934566666666,
          0.20795982500000001,
          0.263713991,
          0.29244190866666664,
          0.26861672733333336,
          0.27078995833333336,
          0.22925495366666665,
          0.2558146573333333,
          0.2736103386666667,
          0.21319143633333332,
          0.20858159633333334,
          0.2121028003333333,
          0.20347244466666667,
          0.22366345733333332,
          0.2727419466666667,
          0.2745169746666667,
          0.3786357226666667,
          0.2619045566666667,
          0.32810851533333335,
          0.25783652533333334,
          0.26013903666666666,
          0.29245852266666666,
          0.24206864733333333,
          0.28905868733333334,
          0.28625694,
          0.2817600066666667,
          0.35935977133333336,
          0.25313631666666664,
          0.24403212999999999,
          0.277494858,
          0.30329442900000003,
          0.296646902,
          0.27588185133333337,
          0.254053072,
          0.302280187,
          0.27614281733333335,
          0.21462071000000002,
          0.262605518,
          0.26380592533333336,
          0.25877416766666667,
          0.27962409466666666,
          0.297708408,
          0.2771153136666667,
          0.26940072333333337,
          0.2535111723333333,
          0.20520076499999998,
          0.25693884466666667,
          0.275449095,
          0.29230539699999997,
          0.20026494066666667,
          0.28187760666666667,
          0.28003050999999995,
          0.280560007,
          0.24165551133333332,
          0.29336013966666663,
          0.26705117733333333,
          0.212348209,
          0.30161808633333337,
          0.282790518,
          0.27329803766666666,
          0.2856487793333333,
          0.20923469833333333,
          0.2756702956666667,
          0.26431916266666666,
          0.2861639733333333,
          0.265454146,
          0.318439496,
          0.19943205300000003,
          0.21873483900000001,
          0.3018485263333333,
          0.20055590966666664,
          0.30775145433333334,
          0.21880628333333335,
          0.206904555,
          0.21988878966666667,
          0.26920634633333335,
          0.2959881623333333,
          0.37937442666666665,
          0.2830702796666667,
          0.271269895,
          0.28259147433333337,
          0.38949470966666666,
          0.26494458266666665,
          0.28887678766666663,
          0.281476296,
          0.28224271766666664,
          0.27507421066666665,
          0.285908677,
          0.29829653666666667,
          0.27102160599999997,
          0.2896661476666667,
          0.29061893066666666,
          0.266878532,
          0.26879137566666667,
          0.27464241833333336,
          0.248456562,
          0.28274684533333333,
          0.28377900333333334,
          0.27887184400000004,
          0.20538178666666665,
          0.2628221966666667,
          0.23104516633333333,
          0.21542986133333333,
          0.3146629146666667,
          0.25631550799999997,
          0.20746201433333333,
          0.26609598133333334,
          0.2830158703333333,
          0.18979669566666668,
          0.28343388166666666,
          0.22888002233333332,
          0.22037973533333333,
          0.272355387,
          0.2912527933333333,
          0.2971159073333334,
          0.27975169033333336,
          0.21533192033333334,
          0.30677423633333334,
          0.24530640799999998,
          0.20797962866666667,
          0.207619485,
          0.2937844236666667,
          0.263192437,
          0.28520108499999997,
          0.2723940453333334,
          0.2570117613333333,
          0.29114503633333333,
          0.28031485933333333,
          0.252928822,
          0.24759015433333334,
          0.272706941,
          0.302190317,
          0.20944665633333331,
          0.20446832233333334,
          0.27148857266666665,
          0.31180767299999995,
          0.44947948866666665,
          0.26603073633333335,
          0.2711097823333333,
          0.27737713766666666,
          0.29353587099999995,
          0.31457823566666665,
          0.271230105,
          0.2867680286666667,
          0.230985601,
          0.22349925466666667,
          0.20907906866666667,
          0.20447687199999998
         ],
         "xaxis": "x",
         "y": [
          0.6998860946666666,
          0.5538211096666666,
          0.5421344776666667,
          0.9315064316666667,
          0.7467745296666667,
          1.0126274656666667,
          0.5418222396666666,
          0.27964564433333333,
          0.9466015173333333,
          1.1213279633333333,
          0.90161682,
          0.5226507923333333,
          0.5793489903333333,
          0.8991318516666666,
          0.5456935303333333,
          0.535351129,
          0.39010578333333334,
          0.4667413113333333,
          0.7796779413333332,
          0.8992652083333332,
          0.5488816123333333,
          0.5211881243333333,
          0.9066762006666667,
          0.9781026340000001,
          0.8877415830000001,
          1.11235945,
          0.933097407,
          0.5987697896666667,
          0.3925339603333333,
          0.5409187719999999,
          0.5299352430000001,
          0.7927556336666667,
          0.9388868116666667,
          0.9722841356666667,
          0.18189670433333335,
          0.5315684366666666,
          0.5344666316666667,
          0.5565306943333332,
          0.5453311796666667,
          0.28153661166666666,
          0.7409929453333334,
          0.608812206,
          0.5789942263333334,
          0.8714871439999999,
          0.9481401876666666,
          0.9082629283333333,
          0.5476483830000001,
          0.749852312,
          0.6073205303333334,
          0.9014769143333333,
          0.9446336796666667,
          0.9114126036666667,
          0.7563284786666666,
          0.9083103163333334,
          0.7244988083333334,
          0.5841274163333333,
          0.9221000966666666,
          0.523693726,
          0.6144339456666666,
          0.897339066,
          0.2747414876666667,
          0.9034444283333334,
          0.26457584266666667,
          0.5621796546666666,
          1.09189691,
          0.525418245,
          0.5439094953333333,
          0.537308052,
          0.548424375,
          0.526641679,
          0.5533302513333334,
          0.9059067163333334,
          0.9196528603333333,
          0.6354800583333334,
          0.8009671943333333,
          0.2850097363333333,
          0.8696879726666666,
          0.8115324843333334,
          0.5453924756666667,
          0.8443423153333334,
          0.5379595463333333,
          0.33079211833333333,
          0.35434802266666665,
          0.699331487,
          0.816767343,
          0.676293548,
          0.8996868330000001,
          1.0497659066666667,
          0.8824017573333334,
          0.9444526533333334,
          0.783755777,
          0.649667005,
          0.507632796,
          0.6020568576666666,
          0.5158251423333333,
          0.3184057243333333,
          0.25720081866666666,
          0.9099304776666667,
          0.49590102966666666,
          0.8014218323333334,
          0.324811279,
          0.9415849566666666,
          0.5433274956666667,
          0.7696976406666667,
          0.9255304416666666,
          0.3355597453333334,
          0.532132391,
          0.521706871,
          0.8971210073333334,
          0.5207842936666667,
          0.7460807583333333,
          0.8995786736666667,
          0.5186681026666666,
          0.5974183096666666,
          0.34009222166666664,
          0.9156179306666666,
          0.26576542133333336,
          0.542310758,
          0.541944625,
          0.914693132,
          0.316682943,
          0.541151477,
          0.499824028,
          0.28046817966666665,
          0.578534396,
          0.5560990993333333,
          0.3375026983333333,
          0.5774124333333333,
          0.33959438966666666,
          0.5531637786666667,
          0.5428590456666667,
          0.5544968776666667,
          0.8527349016666667,
          0.27503004366666667,
          0.7868513396666666,
          0.8322395119999999,
          0.38475438833333336,
          0.26157906799999997,
          1.49685864,
          0.6904853523333333,
          0.488208805,
          0.3881882876666667,
          0.849850705,
          0.9200148503333333,
          0.33705268466666666,
          0.2703998083333333,
          0.26355617133333337,
          0.5511171983333334,
          0.9473277746666666,
          0.18218680566666665,
          0.8748461833333334,
          1.0902473366666667,
          0.790974035,
          0.7516152983333334,
          0.6378162103333334,
          0.5141046703333333,
          0.5888014126666667,
          0.7635768006666667,
          0.7325569363333333,
          0.5528290736666667,
          0.713474739,
          0.25496656833333337,
          0.5383856163333333,
          0.8257916243333334,
          0.916550973,
          0.5811742663333334,
          0.5406268483333334,
          0.6102946243333334,
          0.5649700743333333,
          0.8964159706666667,
          0.5428815090000001,
          0.5474732240000001,
          0.9723125926666667,
          0.5346106816666667,
          0.3345979646666667,
          0.768704407,
          0.5377682216666667,
          0.5395908803333334,
          0.32981909066666665,
          0.51609422,
          0.2746303313333333,
          0.5064622643333333,
          0.3160756573333333,
          0.28192221333333334,
          0.9091007163333333,
          0.7874591156666667,
          0.796384691,
          0.26790242833333333,
          0.19388018999999998,
          0.5910892816666666,
          0.5818657816666666,
          0.521511601,
          0.9607055806666666,
          0.6033784373333333,
          0.511356079,
          0.9091814863333333,
          0.8293804476666666,
          0.9205380816666667,
          0.3364498396666667,
          0.266531595,
          0.2747448476666667,
          0.7256414396666667,
          0.5568448336666666,
          0.5744699556666667,
          0.5385299923333334
         ],
         "yaxis": "y"
        }
       ],
       "layout": {
        "coloraxis": {
         "colorbar": {
          "title": {
           "text": "Cluster"
          }
         },
         "colorscale": [
          [
           0,
           "#0d0887"
          ],
          [
           0.1111111111111111,
           "#46039f"
          ],
          [
           0.2222222222222222,
           "#7201a8"
          ],
          [
           0.3333333333333333,
           "#9c179e"
          ],
          [
           0.4444444444444444,
           "#bd3786"
          ],
          [
           0.5555555555555556,
           "#d8576b"
          ],
          [
           0.6666666666666666,
           "#ed7953"
          ],
          [
           0.7777777777777778,
           "#fb9f3a"
          ],
          [
           0.8888888888888888,
           "#fdca26"
          ],
          [
           1,
           "#f0f921"
          ]
         ]
        },
        "height": 600,
        "legend": {
         "tracegroupgap": 0
        },
        "template": {
         "data": {
          "bar": [
           {
            "error_x": {
             "color": "#2a3f5f"
            },
            "error_y": {
             "color": "#2a3f5f"
            },
            "marker": {
             "line": {
              "color": "#E5ECF6",
              "width": 0.5
             },
             "pattern": {
              "fillmode": "overlay",
              "size": 10,
              "solidity": 0.2
             }
            },
            "type": "bar"
           }
          ],
          "barpolar": [
           {
            "marker": {
             "line": {
              "color": "#E5ECF6",
              "width": 0.5
             },
             "pattern": {
              "fillmode": "overlay",
              "size": 10,
              "solidity": 0.2
             }
            },
            "type": "barpolar"
           }
          ],
          "carpet": [
           {
            "aaxis": {
             "endlinecolor": "#2a3f5f",
             "gridcolor": "white",
             "linecolor": "white",
             "minorgridcolor": "white",
             "startlinecolor": "#2a3f5f"
            },
            "baxis": {
             "endlinecolor": "#2a3f5f",
             "gridcolor": "white",
             "linecolor": "white",
             "minorgridcolor": "white",
             "startlinecolor": "#2a3f5f"
            },
            "type": "carpet"
           }
          ],
          "choropleth": [
           {
            "colorbar": {
             "outlinewidth": 0,
             "ticks": ""
            },
            "type": "choropleth"
           }
          ],
          "contour": [
           {
            "colorbar": {
             "outlinewidth": 0,
             "ticks": ""
            },
            "colorscale": [
             [
              0,
              "#0d0887"
             ],
             [
              0.1111111111111111,
              "#46039f"
             ],
             [
              0.2222222222222222,
              "#7201a8"
             ],
             [
              0.3333333333333333,
              "#9c179e"
             ],
             [
              0.4444444444444444,
              "#bd3786"
             ],
             [
              0.5555555555555556,
              "#d8576b"
             ],
             [
              0.6666666666666666,
              "#ed7953"
             ],
             [
              0.7777777777777778,
              "#fb9f3a"
             ],
             [
              0.8888888888888888,
              "#fdca26"
             ],
             [
              1,
              "#f0f921"
             ]
            ],
            "type": "contour"
           }
          ],
          "contourcarpet": [
           {
            "colorbar": {
             "outlinewidth": 0,
             "ticks": ""
            },
            "type": "contourcarpet"
           }
          ],
          "heatmap": [
           {
            "colorbar": {
             "outlinewidth": 0,
             "ticks": ""
            },
            "colorscale": [
             [
              0,
              "#0d0887"
             ],
             [
              0.1111111111111111,
              "#46039f"
             ],
             [
              0.2222222222222222,
              "#7201a8"
             ],
             [
              0.3333333333333333,
              "#9c179e"
             ],
             [
              0.4444444444444444,
              "#bd3786"
             ],
             [
              0.5555555555555556,
              "#d8576b"
             ],
             [
              0.6666666666666666,
              "#ed7953"
             ],
             [
              0.7777777777777778,
              "#fb9f3a"
             ],
             [
              0.8888888888888888,
              "#fdca26"
             ],
             [
              1,
              "#f0f921"
             ]
            ],
            "type": "heatmap"
           }
          ],
          "heatmapgl": [
           {
            "colorbar": {
             "outlinewidth": 0,
             "ticks": ""
            },
            "colorscale": [
             [
              0,
              "#0d0887"
             ],
             [
              0.1111111111111111,
              "#46039f"
             ],
             [
              0.2222222222222222,
              "#7201a8"
             ],
             [
              0.3333333333333333,
              "#9c179e"
             ],
             [
              0.4444444444444444,
              "#bd3786"
             ],
             [
              0.5555555555555556,
              "#d8576b"
             ],
             [
              0.6666666666666666,
              "#ed7953"
             ],
             [
              0.7777777777777778,
              "#fb9f3a"
             ],
             [
              0.8888888888888888,
              "#fdca26"
             ],
             [
              1,
              "#f0f921"
             ]
            ],
            "type": "heatmapgl"
           }
          ],
          "histogram": [
           {
            "marker": {
             "pattern": {
              "fillmode": "overlay",
              "size": 10,
              "solidity": 0.2
             }
            },
            "type": "histogram"
           }
          ],
          "histogram2d": [
           {
            "colorbar": {
             "outlinewidth": 0,
             "ticks": ""
            },
            "colorscale": [
             [
              0,
              "#0d0887"
             ],
             [
              0.1111111111111111,
              "#46039f"
             ],
             [
              0.2222222222222222,
              "#7201a8"
             ],
             [
              0.3333333333333333,
              "#9c179e"
             ],
             [
              0.4444444444444444,
              "#bd3786"
             ],
             [
              0.5555555555555556,
              "#d8576b"
             ],
             [
              0.6666666666666666,
              "#ed7953"
             ],
             [
              0.7777777777777778,
              "#fb9f3a"
             ],
             [
              0.8888888888888888,
              "#fdca26"
             ],
             [
              1,
              "#f0f921"
             ]
            ],
            "type": "histogram2d"
           }
          ],
          "histogram2dcontour": [
           {
            "colorbar": {
             "outlinewidth": 0,
             "ticks": ""
            },
            "colorscale": [
             [
              0,
              "#0d0887"
             ],
             [
              0.1111111111111111,
              "#46039f"
             ],
             [
              0.2222222222222222,
              "#7201a8"
             ],
             [
              0.3333333333333333,
              "#9c179e"
             ],
             [
              0.4444444444444444,
              "#bd3786"
             ],
             [
              0.5555555555555556,
              "#d8576b"
             ],
             [
              0.6666666666666666,
              "#ed7953"
             ],
             [
              0.7777777777777778,
              "#fb9f3a"
             ],
             [
              0.8888888888888888,
              "#fdca26"
             ],
             [
              1,
              "#f0f921"
             ]
            ],
            "type": "histogram2dcontour"
           }
          ],
          "mesh3d": [
           {
            "colorbar": {
             "outlinewidth": 0,
             "ticks": ""
            },
            "type": "mesh3d"
           }
          ],
          "parcoords": [
           {
            "line": {
             "colorbar": {
              "outlinewidth": 0,
              "ticks": ""
             }
            },
            "type": "parcoords"
           }
          ],
          "pie": [
           {
            "automargin": true,
            "type": "pie"
           }
          ],
          "scatter": [
           {
            "fillpattern": {
             "fillmode": "overlay",
             "size": 10,
             "solidity": 0.2
            },
            "type": "scatter"
           }
          ],
          "scatter3d": [
           {
            "line": {
             "colorbar": {
              "outlinewidth": 0,
              "ticks": ""
             }
            },
            "marker": {
             "colorbar": {
              "outlinewidth": 0,
              "ticks": ""
             }
            },
            "type": "scatter3d"
           }
          ],
          "scattercarpet": [
           {
            "marker": {
             "colorbar": {
              "outlinewidth": 0,
              "ticks": ""
             }
            },
            "type": "scattercarpet"
           }
          ],
          "scattergeo": [
           {
            "marker": {
             "colorbar": {
              "outlinewidth": 0,
              "ticks": ""
             }
            },
            "type": "scattergeo"
           }
          ],
          "scattergl": [
           {
            "marker": {
             "colorbar": {
              "outlinewidth": 0,
              "ticks": ""
             }
            },
            "type": "scattergl"
           }
          ],
          "scattermapbox": [
           {
            "marker": {
             "colorbar": {
              "outlinewidth": 0,
              "ticks": ""
             }
            },
            "type": "scattermapbox"
           }
          ],
          "scatterpolar": [
           {
            "marker": {
             "colorbar": {
              "outlinewidth": 0,
              "ticks": ""
             }
            },
            "type": "scatterpolar"
           }
          ],
          "scatterpolargl": [
           {
            "marker": {
             "colorbar": {
              "outlinewidth": 0,
              "ticks": ""
             }
            },
            "type": "scatterpolargl"
           }
          ],
          "scatterternary": [
           {
            "marker": {
             "colorbar": {
              "outlinewidth": 0,
              "ticks": ""
             }
            },
            "type": "scatterternary"
           }
          ],
          "surface": [
           {
            "colorbar": {
             "outlinewidth": 0,
             "ticks": ""
            },
            "colorscale": [
             [
              0,
              "#0d0887"
             ],
             [
              0.1111111111111111,
              "#46039f"
             ],
             [
              0.2222222222222222,
              "#7201a8"
             ],
             [
              0.3333333333333333,
              "#9c179e"
             ],
             [
              0.4444444444444444,
              "#bd3786"
             ],
             [
              0.5555555555555556,
              "#d8576b"
             ],
             [
              0.6666666666666666,
              "#ed7953"
             ],
             [
              0.7777777777777778,
              "#fb9f3a"
             ],
             [
              0.8888888888888888,
              "#fdca26"
             ],
             [
              1,
              "#f0f921"
             ]
            ],
            "type": "surface"
           }
          ],
          "table": [
           {
            "cells": {
             "fill": {
              "color": "#EBF0F8"
             },
             "line": {
              "color": "white"
             }
            },
            "header": {
             "fill": {
              "color": "#C8D4E3"
             },
             "line": {
              "color": "white"
             }
            },
            "type": "table"
           }
          ]
         },
         "layout": {
          "annotationdefaults": {
           "arrowcolor": "#2a3f5f",
           "arrowhead": 0,
           "arrowwidth": 1
          },
          "autotypenumbers": "strict",
          "coloraxis": {
           "colorbar": {
            "outlinewidth": 0,
            "ticks": ""
           }
          },
          "colorscale": {
           "diverging": [
            [
             0,
             "#8e0152"
            ],
            [
             0.1,
             "#c51b7d"
            ],
            [
             0.2,
             "#de77ae"
            ],
            [
             0.3,
             "#f1b6da"
            ],
            [
             0.4,
             "#fde0ef"
            ],
            [
             0.5,
             "#f7f7f7"
            ],
            [
             0.6,
             "#e6f5d0"
            ],
            [
             0.7,
             "#b8e186"
            ],
            [
             0.8,
             "#7fbc41"
            ],
            [
             0.9,
             "#4d9221"
            ],
            [
             1,
             "#276419"
            ]
           ],
           "sequential": [
            [
             0,
             "#0d0887"
            ],
            [
             0.1111111111111111,
             "#46039f"
            ],
            [
             0.2222222222222222,
             "#7201a8"
            ],
            [
             0.3333333333333333,
             "#9c179e"
            ],
            [
             0.4444444444444444,
             "#bd3786"
            ],
            [
             0.5555555555555556,
             "#d8576b"
            ],
            [
             0.6666666666666666,
             "#ed7953"
            ],
            [
             0.7777777777777778,
             "#fb9f3a"
            ],
            [
             0.8888888888888888,
             "#fdca26"
            ],
            [
             1,
             "#f0f921"
            ]
           ],
           "sequentialminus": [
            [
             0,
             "#0d0887"
            ],
            [
             0.1111111111111111,
             "#46039f"
            ],
            [
             0.2222222222222222,
             "#7201a8"
            ],
            [
             0.3333333333333333,
             "#9c179e"
            ],
            [
             0.4444444444444444,
             "#bd3786"
            ],
            [
             0.5555555555555556,
             "#d8576b"
            ],
            [
             0.6666666666666666,
             "#ed7953"
            ],
            [
             0.7777777777777778,
             "#fb9f3a"
            ],
            [
             0.8888888888888888,
             "#fdca26"
            ],
            [
             1,
             "#f0f921"
            ]
           ]
          },
          "colorway": [
           "#636efa",
           "#EF553B",
           "#00cc96",
           "#ab63fa",
           "#FFA15A",
           "#19d3f3",
           "#FF6692",
           "#B6E880",
           "#FF97FF",
           "#FECB52"
          ],
          "font": {
           "color": "#2a3f5f"
          },
          "geo": {
           "bgcolor": "white",
           "lakecolor": "white",
           "landcolor": "#E5ECF6",
           "showlakes": true,
           "showland": true,
           "subunitcolor": "white"
          },
          "hoverlabel": {
           "align": "left"
          },
          "hovermode": "closest",
          "mapbox": {
           "style": "light"
          },
          "paper_bgcolor": "white",
          "plot_bgcolor": "#E5ECF6",
          "polar": {
           "angularaxis": {
            "gridcolor": "white",
            "linecolor": "white",
            "ticks": ""
           },
           "bgcolor": "#E5ECF6",
           "radialaxis": {
            "gridcolor": "white",
            "linecolor": "white",
            "ticks": ""
           }
          },
          "scene": {
           "xaxis": {
            "backgroundcolor": "#E5ECF6",
            "gridcolor": "white",
            "gridwidth": 2,
            "linecolor": "white",
            "showbackground": true,
            "ticks": "",
            "zerolinecolor": "white"
           },
           "yaxis": {
            "backgroundcolor": "#E5ECF6",
            "gridcolor": "white",
            "gridwidth": 2,
            "linecolor": "white",
            "showbackground": true,
            "ticks": "",
            "zerolinecolor": "white"
           },
           "zaxis": {
            "backgroundcolor": "#E5ECF6",
            "gridcolor": "white",
            "gridwidth": 2,
            "linecolor": "white",
            "showbackground": true,
            "ticks": "",
            "zerolinecolor": "white"
           }
          },
          "shapedefaults": {
           "line": {
            "color": "#2a3f5f"
           }
          },
          "ternary": {
           "aaxis": {
            "gridcolor": "white",
            "linecolor": "white",
            "ticks": ""
           },
           "baxis": {
            "gridcolor": "white",
            "linecolor": "white",
            "ticks": ""
           },
           "bgcolor": "#E5ECF6",
           "caxis": {
            "gridcolor": "white",
            "linecolor": "white",
            "ticks": ""
           }
          },
          "title": {
           "x": 0.05
          },
          "xaxis": {
           "automargin": true,
           "gridcolor": "white",
           "linecolor": "white",
           "ticks": "",
           "title": {
            "standoff": 15
           },
           "zerolinecolor": "white",
           "zerolinewidth": 2
          },
          "yaxis": {
           "automargin": true,
           "gridcolor": "white",
           "linecolor": "white",
           "ticks": "",
           "title": {
            "standoff": 15
           },
           "zerolinecolor": "white",
           "zerolinewidth": 2
          }
         }
        },
        "title": {
         "text": "Schizophrenia vs Bipolar"
        },
        "xaxis": {
         "anchor": "y",
         "domain": [
          0,
          1
         ],
         "title": {
          "text": "Schizophrenia"
         }
        },
        "yaxis": {
         "anchor": "x",
         "domain": [
          0,
          1
         ],
         "title": {
          "text": "Bipolar"
         }
        }
       }
      },
      "text/html": [
       "<div>                            <div id=\"57d6b33d-7dc5-4329-ae6a-ece29d481dea\" class=\"plotly-graph-div\" style=\"height:600px; width:100%;\"></div>            <script type=\"text/javascript\">                require([\"plotly\"], function(Plotly) {                    window.PLOTLYENV=window.PLOTLYENV || {};                                    if (document.getElementById(\"57d6b33d-7dc5-4329-ae6a-ece29d481dea\")) {                    Plotly.newPlot(                        \"57d6b33d-7dc5-4329-ae6a-ece29d481dea\",                        [{\"customdata\":[[\"AFG\"],[\"AGO\"],[\"ALB\"],[\"AND\"],[\"ARE\"],[\"ARG\"],[\"ARM\"],[\"ASM\"],[\"ATG\"],[\"AUS\"],[\"AUT\"],[\"AZE\"],[\"BDI\"],[\"BEL\"],[\"BEN\"],[\"BFA\"],[\"BGD\"],[\"BGR\"],[\"BHR\"],[\"BHS\"],[\"BIH\"],[\"BLR\"],[\"BLZ\"],[\"BMU\"],[\"BOL\"],[\"BRA\"],[\"BRB\"],[\"BRN\"],[\"BTN\"],[\"BWA\"],[\"CAF\"],[\"CAN\"],[\"CHE\"],[\"CHL\"],[\"CHN\"],[\"CIV\"],[\"CMR\"],[\"COD\"],[\"COG\"],[\"COK\"],[\"COL\"],[\"COM\"],[\"CPV\"],[\"CRI\"],[\"CUB\"],[\"CYP\"],[\"CZE\"],[\"DEU\"],[\"DJI\"],[\"DMA\"],[\"DNK\"],[\"DOM\"],[\"DZA\"],[\"ECU\"],[\"EGY\"],[\"ERI\"],[\"ESP\"],[\"EST\"],[\"ETH\"],[\"FIN\"],[\"FJI\"],[\"FRA\"],[\"FSM\"],[\"GAB\"],[\"GBR\"],[\"GEO\"],[\"GHA\"],[\"GIN\"],[\"GMB\"],[\"GNB\"],[\"GNQ\"],[\"GRC\"],[\"GRD\"],[\"GRL\"],[\"GTM\"],[\"GUM\"],[\"GUY\"],[\"HND\"],[\"HRV\"],[\"HTI\"],[\"HUN\"],[\"IDN\"],[\"IND\"],[\"IRL\"],[\"IRN\"],[\"IRQ\"],[\"ISL\"],[\"ISR\"],[\"ITA\"],[\"JAM\"],[\"JOR\"],[\"JPN\"],[\"KAZ\"],[\"KEN\"],[\"KGZ\"],[\"KHM\"],[\"KIR\"],[\"KNA\"],[\"KOR\"],[\"KWT\"],[\"LAO\"],[\"LBN\"],[\"LBR\"],[\"LBY\"],[\"LCA\"],[\"LKA\"],[\"LSO\"],[\"LTU\"],[\"LUX\"],[\"LVA\"],[\"MAR\"],[\"MCO\"],[\"MDA\"],[\"MDG\"],[\"MDV\"],[\"MEX\"],[\"MHL\"],[\"MKD\"],[\"MLI\"],[\"MLT\"],[\"MMR\"],[\"MNE\"],[\"MNG\"],[\"MNP\"],[\"MOZ\"],[\"MRT\"],[\"MUS\"],[\"MWI\"],[\"MYS\"],[\"NAM\"],[\"NER\"],[\"NGA\"],[\"NIC\"],[\"NIU\"],[\"NLD\"],[\"NOR\"],[\"NPL\"],[\"NRU\"],[\"NZL\"],[\"OMN\"],[\"OWID_WRL\"],[\"PAK\"],[\"PAN\"],[\"PER\"],[\"PHL\"],[\"PLW\"],[\"PNG\"],[\"POL\"],[\"PRI\"],[\"PRK\"],[\"PRT\"],[\"PRY\"],[\"PSE\"],[\"QAT\"],[\"ROU\"],[\"RUS\"],[\"RWA\"],[\"SAU\"],[\"SDN\"],[\"SEN\"],[\"SGP\"],[\"SLB\"],[\"SLE\"],[\"SLV\"],[\"SMR\"],[\"SOM\"],[\"SRB\"],[\"SSD\"],[\"STP\"],[\"SUR\"],[\"SVK\"],[\"SVN\"],[\"SWE\"],[\"SWZ\"],[\"SYC\"],[\"SYR\"],[\"TCD\"],[\"TGO\"],[\"THA\"],[\"TJK\"],[\"TKL\"],[\"TKM\"],[\"TLS\"],[\"TON\"],[\"TTO\"],[\"TUN\"],[\"TUR\"],[\"TUV\"],[\"TWN\"],[\"TZA\"],[\"UGA\"],[\"UKR\"],[\"URY\"],[\"USA\"],[\"UZB\"],[\"VCT\"],[\"VEN\"],[\"VIR\"],[\"VNM\"],[\"VUT\"],[\"WSM\"],[\"YEM\"],[\"ZAF\"],[\"ZMB\"],[\"ZWE\"]],\"hovertemplate\":\"Schizophrenia=%{x}<br>Bipolar=%{y}<br>Code=%{customdata[0]}<br>Cluster=%{marker.color}<extra></extra>\",\"legendgroup\":\"\",\"marker\":{\"color\":[1,1,0,2,0,2,0,0,0,2,2,0,1,2,1,1,1,0,1,0,0,1,0,0,2,2,0,0,1,1,1,0,2,2,0,1,1,1,1,0,0,1,1,0,1,2,0,2,1,0,2,1,1,2,1,1,2,1,1,1,0,2,0,1,1,0,1,1,1,1,1,2,0,1,1,0,1,0,0,0,0,0,1,2,2,2,2,1,2,0,1,0,0,1,0,0,0,1,0,1,0,2,1,2,0,0,1,1,2,1,1,2,0,1,0,0,0,0,0,2,0,0,1,0,1,0,1,1,0,0,1,1,0,0,2,2,1,0,2,1,0,1,0,2,0,0,0,0,0,0,2,2,1,1,0,0,1,1,1,1,0,0,1,0,2,1,0,1,0,1,0,0,2,1,0,2,1,1,0,0,0,0,0,0,1,1,1,0,0,1,1,1,2,2,0,0,0,0,0,0,0,1,1,1,0],\"coloraxis\":\"coloraxis\",\"symbol\":\"circle\"},\"mode\":\"markers\",\"name\":\"\",\"orientation\":\"v\",\"showlegend\":false,\"x\":[0.21713928233333332,0.21501837733333332,0.2833509243333333,0.2875150026666667,0.28100229433333335,0.31123931666666665,0.2778581686666667,0.30863134633333333,0.286526879,0.38855307299999997,0.27556981266666664,0.27614362033333334,0.20088872466666666,0.27423265599999996,0.21193578500000002,0.20543430599999998,0.2786147206666667,0.2844358193333333,0.2711379783333333,0.28502673866666667,0.2826658736666667,0.27267890866666666,0.2692648436666667,0.30190666033333335,0.26345031999999996,0.275675355,0.282434899,0.30505227933333334,0.28560024766666664,0.22041105733333335,0.19482022499999999,0.28848229599999997,0.2802294806666667,0.31548577666666666,0.3028644773333333,0.21235484566666668,0.212359167,0.20282228633333332,0.214368294,0.311440612,0.2775458373333333,0.21702505533333336,0.22584445466666667,0.28374720833333333,0.27725792033333335,0.27437675433333336,0.29469943633333334,0.2601667306666667,0.21910747066666666,0.2724766966666667,0.225505864,0.27164549433333335,0.24905719233333334,0.2732963393333333,0.24639395066666667,0.20647713166666665,0.265590325,0.28447934566666666,0.20795982500000001,0.263713991,0.29244190866666664,0.26861672733333336,0.27078995833333336,0.22925495366666665,0.2558146573333333,0.2736103386666667,0.21319143633333332,0.20858159633333334,0.2121028003333333,0.20347244466666667,0.22366345733333332,0.2727419466666667,0.2745169746666667,0.3786357226666667,0.2619045566666667,0.32810851533333335,0.25783652533333334,0.26013903666666666,0.29245852266666666,0.24206864733333333,0.28905868733333334,0.28625694,0.2817600066666667,0.35935977133333336,0.25313631666666664,0.24403212999999999,0.277494858,0.30329442900000003,0.296646902,0.27588185133333337,0.254053072,0.302280187,0.27614281733333335,0.21462071000000002,0.262605518,0.26380592533333336,0.25877416766666667,0.27962409466666666,0.297708408,0.2771153136666667,0.26940072333333337,0.2535111723333333,0.20520076499999998,0.25693884466666667,0.275449095,0.29230539699999997,0.20026494066666667,0.28187760666666667,0.28003050999999995,0.280560007,0.24165551133333332,0.29336013966666663,0.26705117733333333,0.212348209,0.30161808633333337,0.282790518,0.27329803766666666,0.2856487793333333,0.20923469833333333,0.2756702956666667,0.26431916266666666,0.2861639733333333,0.265454146,0.318439496,0.19943205300000003,0.21873483900000001,0.3018485263333333,0.20055590966666664,0.30775145433333334,0.21880628333333335,0.206904555,0.21988878966666667,0.26920634633333335,0.2959881623333333,0.37937442666666665,0.2830702796666667,0.271269895,0.28259147433333337,0.38949470966666666,0.26494458266666665,0.28887678766666663,0.281476296,0.28224271766666664,0.27507421066666665,0.285908677,0.29829653666666667,0.27102160599999997,0.2896661476666667,0.29061893066666666,0.266878532,0.26879137566666667,0.27464241833333336,0.248456562,0.28274684533333333,0.28377900333333334,0.27887184400000004,0.20538178666666665,0.2628221966666667,0.23104516633333333,0.21542986133333333,0.3146629146666667,0.25631550799999997,0.20746201433333333,0.26609598133333334,0.2830158703333333,0.18979669566666668,0.28343388166666666,0.22888002233333332,0.22037973533333333,0.272355387,0.2912527933333333,0.2971159073333334,0.27975169033333336,0.21533192033333334,0.30677423633333334,0.24530640799999998,0.20797962866666667,0.207619485,0.2937844236666667,0.263192437,0.28520108499999997,0.2723940453333334,0.2570117613333333,0.29114503633333333,0.28031485933333333,0.252928822,0.24759015433333334,0.272706941,0.302190317,0.20944665633333331,0.20446832233333334,0.27148857266666665,0.31180767299999995,0.44947948866666665,0.26603073633333335,0.2711097823333333,0.27737713766666666,0.29353587099999995,0.31457823566666665,0.271230105,0.2867680286666667,0.230985601,0.22349925466666667,0.20907906866666667,0.20447687199999998],\"xaxis\":\"x\",\"y\":[0.6998860946666666,0.5538211096666666,0.5421344776666667,0.9315064316666667,0.7467745296666667,1.0126274656666667,0.5418222396666666,0.27964564433333333,0.9466015173333333,1.1213279633333333,0.90161682,0.5226507923333333,0.5793489903333333,0.8991318516666666,0.5456935303333333,0.535351129,0.39010578333333334,0.4667413113333333,0.7796779413333332,0.8992652083333332,0.5488816123333333,0.5211881243333333,0.9066762006666667,0.9781026340000001,0.8877415830000001,1.11235945,0.933097407,0.5987697896666667,0.3925339603333333,0.5409187719999999,0.5299352430000001,0.7927556336666667,0.9388868116666667,0.9722841356666667,0.18189670433333335,0.5315684366666666,0.5344666316666667,0.5565306943333332,0.5453311796666667,0.28153661166666666,0.7409929453333334,0.608812206,0.5789942263333334,0.8714871439999999,0.9481401876666666,0.9082629283333333,0.5476483830000001,0.749852312,0.6073205303333334,0.9014769143333333,0.9446336796666667,0.9114126036666667,0.7563284786666666,0.9083103163333334,0.7244988083333334,0.5841274163333333,0.9221000966666666,0.523693726,0.6144339456666666,0.897339066,0.2747414876666667,0.9034444283333334,0.26457584266666667,0.5621796546666666,1.09189691,0.525418245,0.5439094953333333,0.537308052,0.548424375,0.526641679,0.5533302513333334,0.9059067163333334,0.9196528603333333,0.6354800583333334,0.8009671943333333,0.2850097363333333,0.8696879726666666,0.8115324843333334,0.5453924756666667,0.8443423153333334,0.5379595463333333,0.33079211833333333,0.35434802266666665,0.699331487,0.816767343,0.676293548,0.8996868330000001,1.0497659066666667,0.8824017573333334,0.9444526533333334,0.783755777,0.649667005,0.507632796,0.6020568576666666,0.5158251423333333,0.3184057243333333,0.25720081866666666,0.9099304776666667,0.49590102966666666,0.8014218323333334,0.324811279,0.9415849566666666,0.5433274956666667,0.7696976406666667,0.9255304416666666,0.3355597453333334,0.532132391,0.521706871,0.8971210073333334,0.5207842936666667,0.7460807583333333,0.8995786736666667,0.5186681026666666,0.5974183096666666,0.34009222166666664,0.9156179306666666,0.26576542133333336,0.542310758,0.541944625,0.914693132,0.316682943,0.541151477,0.499824028,0.28046817966666665,0.578534396,0.5560990993333333,0.3375026983333333,0.5774124333333333,0.33959438966666666,0.5531637786666667,0.5428590456666667,0.5544968776666667,0.8527349016666667,0.27503004366666667,0.7868513396666666,0.8322395119999999,0.38475438833333336,0.26157906799999997,1.49685864,0.6904853523333333,0.488208805,0.3881882876666667,0.849850705,0.9200148503333333,0.33705268466666666,0.2703998083333333,0.26355617133333337,0.5511171983333334,0.9473277746666666,0.18218680566666665,0.8748461833333334,1.0902473366666667,0.790974035,0.7516152983333334,0.6378162103333334,0.5141046703333333,0.5888014126666667,0.7635768006666667,0.7325569363333333,0.5528290736666667,0.713474739,0.25496656833333337,0.5383856163333333,0.8257916243333334,0.916550973,0.5811742663333334,0.5406268483333334,0.6102946243333334,0.5649700743333333,0.8964159706666667,0.5428815090000001,0.5474732240000001,0.9723125926666667,0.5346106816666667,0.3345979646666667,0.768704407,0.5377682216666667,0.5395908803333334,0.32981909066666665,0.51609422,0.2746303313333333,0.5064622643333333,0.3160756573333333,0.28192221333333334,0.9091007163333333,0.7874591156666667,0.796384691,0.26790242833333333,0.19388018999999998,0.5910892816666666,0.5818657816666666,0.521511601,0.9607055806666666,0.6033784373333333,0.511356079,0.9091814863333333,0.8293804476666666,0.9205380816666667,0.3364498396666667,0.266531595,0.2747448476666667,0.7256414396666667,0.5568448336666666,0.5744699556666667,0.5385299923333334],\"yaxis\":\"y\",\"type\":\"scatter\"}],                        {\"template\":{\"data\":{\"histogram2dcontour\":[{\"type\":\"histogram2dcontour\",\"colorbar\":{\"outlinewidth\":0,\"ticks\":\"\"},\"colorscale\":[[0.0,\"#0d0887\"],[0.1111111111111111,\"#46039f\"],[0.2222222222222222,\"#7201a8\"],[0.3333333333333333,\"#9c179e\"],[0.4444444444444444,\"#bd3786\"],[0.5555555555555556,\"#d8576b\"],[0.6666666666666666,\"#ed7953\"],[0.7777777777777778,\"#fb9f3a\"],[0.8888888888888888,\"#fdca26\"],[1.0,\"#f0f921\"]]}],\"choropleth\":[{\"type\":\"choropleth\",\"colorbar\":{\"outlinewidth\":0,\"ticks\":\"\"}}],\"histogram2d\":[{\"type\":\"histogram2d\",\"colorbar\":{\"outlinewidth\":0,\"ticks\":\"\"},\"colorscale\":[[0.0,\"#0d0887\"],[0.1111111111111111,\"#46039f\"],[0.2222222222222222,\"#7201a8\"],[0.3333333333333333,\"#9c179e\"],[0.4444444444444444,\"#bd3786\"],[0.5555555555555556,\"#d8576b\"],[0.6666666666666666,\"#ed7953\"],[0.7777777777777778,\"#fb9f3a\"],[0.8888888888888888,\"#fdca26\"],[1.0,\"#f0f921\"]]}],\"heatmap\":[{\"type\":\"heatmap\",\"colorbar\":{\"outlinewidth\":0,\"ticks\":\"\"},\"colorscale\":[[0.0,\"#0d0887\"],[0.1111111111111111,\"#46039f\"],[0.2222222222222222,\"#7201a8\"],[0.3333333333333333,\"#9c179e\"],[0.4444444444444444,\"#bd3786\"],[0.5555555555555556,\"#d8576b\"],[0.6666666666666666,\"#ed7953\"],[0.7777777777777778,\"#fb9f3a\"],[0.8888888888888888,\"#fdca26\"],[1.0,\"#f0f921\"]]}],\"heatmapgl\":[{\"type\":\"heatmapgl\",\"colorbar\":{\"outlinewidth\":0,\"ticks\":\"\"},\"colorscale\":[[0.0,\"#0d0887\"],[0.1111111111111111,\"#46039f\"],[0.2222222222222222,\"#7201a8\"],[0.3333333333333333,\"#9c179e\"],[0.4444444444444444,\"#bd3786\"],[0.5555555555555556,\"#d8576b\"],[0.6666666666666666,\"#ed7953\"],[0.7777777777777778,\"#fb9f3a\"],[0.8888888888888888,\"#fdca26\"],[1.0,\"#f0f921\"]]}],\"contourcarpet\":[{\"type\":\"contourcarpet\",\"colorbar\":{\"outlinewidth\":0,\"ticks\":\"\"}}],\"contour\":[{\"type\":\"contour\",\"colorbar\":{\"outlinewidth\":0,\"ticks\":\"\"},\"colorscale\":[[0.0,\"#0d0887\"],[0.1111111111111111,\"#46039f\"],[0.2222222222222222,\"#7201a8\"],[0.3333333333333333,\"#9c179e\"],[0.4444444444444444,\"#bd3786\"],[0.5555555555555556,\"#d8576b\"],[0.6666666666666666,\"#ed7953\"],[0.7777777777777778,\"#fb9f3a\"],[0.8888888888888888,\"#fdca26\"],[1.0,\"#f0f921\"]]}],\"surface\":[{\"type\":\"surface\",\"colorbar\":{\"outlinewidth\":0,\"ticks\":\"\"},\"colorscale\":[[0.0,\"#0d0887\"],[0.1111111111111111,\"#46039f\"],[0.2222222222222222,\"#7201a8\"],[0.3333333333333333,\"#9c179e\"],[0.4444444444444444,\"#bd3786\"],[0.5555555555555556,\"#d8576b\"],[0.6666666666666666,\"#ed7953\"],[0.7777777777777778,\"#fb9f3a\"],[0.8888888888888888,\"#fdca26\"],[1.0,\"#f0f921\"]]}],\"mesh3d\":[{\"type\":\"mesh3d\",\"colorbar\":{\"outlinewidth\":0,\"ticks\":\"\"}}],\"scatter\":[{\"fillpattern\":{\"fillmode\":\"overlay\",\"size\":10,\"solidity\":0.2},\"type\":\"scatter\"}],\"parcoords\":[{\"type\":\"parcoords\",\"line\":{\"colorbar\":{\"outlinewidth\":0,\"ticks\":\"\"}}}],\"scatterpolargl\":[{\"type\":\"scatterpolargl\",\"marker\":{\"colorbar\":{\"outlinewidth\":0,\"ticks\":\"\"}}}],\"bar\":[{\"error_x\":{\"color\":\"#2a3f5f\"},\"error_y\":{\"color\":\"#2a3f5f\"},\"marker\":{\"line\":{\"color\":\"#E5ECF6\",\"width\":0.5},\"pattern\":{\"fillmode\":\"overlay\",\"size\":10,\"solidity\":0.2}},\"type\":\"bar\"}],\"scattergeo\":[{\"type\":\"scattergeo\",\"marker\":{\"colorbar\":{\"outlinewidth\":0,\"ticks\":\"\"}}}],\"scatterpolar\":[{\"type\":\"scatterpolar\",\"marker\":{\"colorbar\":{\"outlinewidth\":0,\"ticks\":\"\"}}}],\"histogram\":[{\"marker\":{\"pattern\":{\"fillmode\":\"overlay\",\"size\":10,\"solidity\":0.2}},\"type\":\"histogram\"}],\"scattergl\":[{\"type\":\"scattergl\",\"marker\":{\"colorbar\":{\"outlinewidth\":0,\"ticks\":\"\"}}}],\"scatter3d\":[{\"type\":\"scatter3d\",\"line\":{\"colorbar\":{\"outlinewidth\":0,\"ticks\":\"\"}},\"marker\":{\"colorbar\":{\"outlinewidth\":0,\"ticks\":\"\"}}}],\"scattermapbox\":[{\"type\":\"scattermapbox\",\"marker\":{\"colorbar\":{\"outlinewidth\":0,\"ticks\":\"\"}}}],\"scatterternary\":[{\"type\":\"scatterternary\",\"marker\":{\"colorbar\":{\"outlinewidth\":0,\"ticks\":\"\"}}}],\"scattercarpet\":[{\"type\":\"scattercarpet\",\"marker\":{\"colorbar\":{\"outlinewidth\":0,\"ticks\":\"\"}}}],\"carpet\":[{\"aaxis\":{\"endlinecolor\":\"#2a3f5f\",\"gridcolor\":\"white\",\"linecolor\":\"white\",\"minorgridcolor\":\"white\",\"startlinecolor\":\"#2a3f5f\"},\"baxis\":{\"endlinecolor\":\"#2a3f5f\",\"gridcolor\":\"white\",\"linecolor\":\"white\",\"minorgridcolor\":\"white\",\"startlinecolor\":\"#2a3f5f\"},\"type\":\"carpet\"}],\"table\":[{\"cells\":{\"fill\":{\"color\":\"#EBF0F8\"},\"line\":{\"color\":\"white\"}},\"header\":{\"fill\":{\"color\":\"#C8D4E3\"},\"line\":{\"color\":\"white\"}},\"type\":\"table\"}],\"barpolar\":[{\"marker\":{\"line\":{\"color\":\"#E5ECF6\",\"width\":0.5},\"pattern\":{\"fillmode\":\"overlay\",\"size\":10,\"solidity\":0.2}},\"type\":\"barpolar\"}],\"pie\":[{\"automargin\":true,\"type\":\"pie\"}]},\"layout\":{\"autotypenumbers\":\"strict\",\"colorway\":[\"#636efa\",\"#EF553B\",\"#00cc96\",\"#ab63fa\",\"#FFA15A\",\"#19d3f3\",\"#FF6692\",\"#B6E880\",\"#FF97FF\",\"#FECB52\"],\"font\":{\"color\":\"#2a3f5f\"},\"hovermode\":\"closest\",\"hoverlabel\":{\"align\":\"left\"},\"paper_bgcolor\":\"white\",\"plot_bgcolor\":\"#E5ECF6\",\"polar\":{\"bgcolor\":\"#E5ECF6\",\"angularaxis\":{\"gridcolor\":\"white\",\"linecolor\":\"white\",\"ticks\":\"\"},\"radialaxis\":{\"gridcolor\":\"white\",\"linecolor\":\"white\",\"ticks\":\"\"}},\"ternary\":{\"bgcolor\":\"#E5ECF6\",\"aaxis\":{\"gridcolor\":\"white\",\"linecolor\":\"white\",\"ticks\":\"\"},\"baxis\":{\"gridcolor\":\"white\",\"linecolor\":\"white\",\"ticks\":\"\"},\"caxis\":{\"gridcolor\":\"white\",\"linecolor\":\"white\",\"ticks\":\"\"}},\"coloraxis\":{\"colorbar\":{\"outlinewidth\":0,\"ticks\":\"\"}},\"colorscale\":{\"sequential\":[[0.0,\"#0d0887\"],[0.1111111111111111,\"#46039f\"],[0.2222222222222222,\"#7201a8\"],[0.3333333333333333,\"#9c179e\"],[0.4444444444444444,\"#bd3786\"],[0.5555555555555556,\"#d8576b\"],[0.6666666666666666,\"#ed7953\"],[0.7777777777777778,\"#fb9f3a\"],[0.8888888888888888,\"#fdca26\"],[1.0,\"#f0f921\"]],\"sequentialminus\":[[0.0,\"#0d0887\"],[0.1111111111111111,\"#46039f\"],[0.2222222222222222,\"#7201a8\"],[0.3333333333333333,\"#9c179e\"],[0.4444444444444444,\"#bd3786\"],[0.5555555555555556,\"#d8576b\"],[0.6666666666666666,\"#ed7953\"],[0.7777777777777778,\"#fb9f3a\"],[0.8888888888888888,\"#fdca26\"],[1.0,\"#f0f921\"]],\"diverging\":[[0,\"#8e0152\"],[0.1,\"#c51b7d\"],[0.2,\"#de77ae\"],[0.3,\"#f1b6da\"],[0.4,\"#fde0ef\"],[0.5,\"#f7f7f7\"],[0.6,\"#e6f5d0\"],[0.7,\"#b8e186\"],[0.8,\"#7fbc41\"],[0.9,\"#4d9221\"],[1,\"#276419\"]]},\"xaxis\":{\"gridcolor\":\"white\",\"linecolor\":\"white\",\"ticks\":\"\",\"title\":{\"standoff\":15},\"zerolinecolor\":\"white\",\"automargin\":true,\"zerolinewidth\":2},\"yaxis\":{\"gridcolor\":\"white\",\"linecolor\":\"white\",\"ticks\":\"\",\"title\":{\"standoff\":15},\"zerolinecolor\":\"white\",\"automargin\":true,\"zerolinewidth\":2},\"scene\":{\"xaxis\":{\"backgroundcolor\":\"#E5ECF6\",\"gridcolor\":\"white\",\"linecolor\":\"white\",\"showbackground\":true,\"ticks\":\"\",\"zerolinecolor\":\"white\",\"gridwidth\":2},\"yaxis\":{\"backgroundcolor\":\"#E5ECF6\",\"gridcolor\":\"white\",\"linecolor\":\"white\",\"showbackground\":true,\"ticks\":\"\",\"zerolinecolor\":\"white\",\"gridwidth\":2},\"zaxis\":{\"backgroundcolor\":\"#E5ECF6\",\"gridcolor\":\"white\",\"linecolor\":\"white\",\"showbackground\":true,\"ticks\":\"\",\"zerolinecolor\":\"white\",\"gridwidth\":2}},\"shapedefaults\":{\"line\":{\"color\":\"#2a3f5f\"}},\"annotationdefaults\":{\"arrowcolor\":\"#2a3f5f\",\"arrowhead\":0,\"arrowwidth\":1},\"geo\":{\"bgcolor\":\"white\",\"landcolor\":\"#E5ECF6\",\"subunitcolor\":\"white\",\"showland\":true,\"showlakes\":true,\"lakecolor\":\"white\"},\"title\":{\"x\":0.05},\"mapbox\":{\"style\":\"light\"}}},\"xaxis\":{\"anchor\":\"y\",\"domain\":[0.0,1.0],\"title\":{\"text\":\"Schizophrenia\"}},\"yaxis\":{\"anchor\":\"x\",\"domain\":[0.0,1.0],\"title\":{\"text\":\"Bipolar\"}},\"coloraxis\":{\"colorbar\":{\"title\":{\"text\":\"Cluster\"}},\"colorscale\":[[0.0,\"#0d0887\"],[0.1111111111111111,\"#46039f\"],[0.2222222222222222,\"#7201a8\"],[0.3333333333333333,\"#9c179e\"],[0.4444444444444444,\"#bd3786\"],[0.5555555555555556,\"#d8576b\"],[0.6666666666666666,\"#ed7953\"],[0.7777777777777778,\"#fb9f3a\"],[0.8888888888888888,\"#fdca26\"],[1.0,\"#f0f921\"]]},\"legend\":{\"tracegroupgap\":0},\"title\":{\"text\":\"Schizophrenia vs Bipolar\"},\"height\":600},                        {\"responsive\": true}                    ).then(function(){\n",
       "                            \n",
       "var gd = document.getElementById('57d6b33d-7dc5-4329-ae6a-ece29d481dea');\n",
       "var x = new MutationObserver(function (mutations, observer) {{\n",
       "        var display = window.getComputedStyle(gd).display;\n",
       "        if (!display || display === 'none') {{\n",
       "            console.log([gd, 'removed!']);\n",
       "            Plotly.purge(gd);\n",
       "            observer.disconnect();\n",
       "        }}\n",
       "}});\n",
       "\n",
       "// Listen for the removal of the full notebook cells\n",
       "var notebookContainer = gd.closest('#notebook-container');\n",
       "if (notebookContainer) {{\n",
       "    x.observe(notebookContainer, {childList: true});\n",
       "}}\n",
       "\n",
       "// Listen for the clearing of the current output cell\n",
       "var outputEl = gd.closest('.output');\n",
       "if (outputEl) {{\n",
       "    x.observe(outputEl, {childList: true});\n",
       "}}\n",
       "\n",
       "                        })                };                });            </script>        </div>"
      ]
     },
     "metadata": {},
     "output_type": "display_data"
    },
    {
     "data": {
      "application/vnd.plotly.v1+json": {
       "config": {
        "plotlyServerURL": "https://plot.ly"
       },
       "data": [
        {
         "customdata": [
          [
           "AFG"
          ],
          [
           "AGO"
          ],
          [
           "ALB"
          ],
          [
           "AND"
          ],
          [
           "ARE"
          ],
          [
           "ARG"
          ],
          [
           "ARM"
          ],
          [
           "ASM"
          ],
          [
           "ATG"
          ],
          [
           "AUS"
          ],
          [
           "AUT"
          ],
          [
           "AZE"
          ],
          [
           "BDI"
          ],
          [
           "BEL"
          ],
          [
           "BEN"
          ],
          [
           "BFA"
          ],
          [
           "BGD"
          ],
          [
           "BGR"
          ],
          [
           "BHR"
          ],
          [
           "BHS"
          ],
          [
           "BIH"
          ],
          [
           "BLR"
          ],
          [
           "BLZ"
          ],
          [
           "BMU"
          ],
          [
           "BOL"
          ],
          [
           "BRA"
          ],
          [
           "BRB"
          ],
          [
           "BRN"
          ],
          [
           "BTN"
          ],
          [
           "BWA"
          ],
          [
           "CAF"
          ],
          [
           "CAN"
          ],
          [
           "CHE"
          ],
          [
           "CHL"
          ],
          [
           "CHN"
          ],
          [
           "CIV"
          ],
          [
           "CMR"
          ],
          [
           "COD"
          ],
          [
           "COG"
          ],
          [
           "COK"
          ],
          [
           "COL"
          ],
          [
           "COM"
          ],
          [
           "CPV"
          ],
          [
           "CRI"
          ],
          [
           "CUB"
          ],
          [
           "CYP"
          ],
          [
           "CZE"
          ],
          [
           "DEU"
          ],
          [
           "DJI"
          ],
          [
           "DMA"
          ],
          [
           "DNK"
          ],
          [
           "DOM"
          ],
          [
           "DZA"
          ],
          [
           "ECU"
          ],
          [
           "EGY"
          ],
          [
           "ERI"
          ],
          [
           "ESP"
          ],
          [
           "EST"
          ],
          [
           "ETH"
          ],
          [
           "FIN"
          ],
          [
           "FJI"
          ],
          [
           "FRA"
          ],
          [
           "FSM"
          ],
          [
           "GAB"
          ],
          [
           "GBR"
          ],
          [
           "GEO"
          ],
          [
           "GHA"
          ],
          [
           "GIN"
          ],
          [
           "GMB"
          ],
          [
           "GNB"
          ],
          [
           "GNQ"
          ],
          [
           "GRC"
          ],
          [
           "GRD"
          ],
          [
           "GRL"
          ],
          [
           "GTM"
          ],
          [
           "GUM"
          ],
          [
           "GUY"
          ],
          [
           "HND"
          ],
          [
           "HRV"
          ],
          [
           "HTI"
          ],
          [
           "HUN"
          ],
          [
           "IDN"
          ],
          [
           "IND"
          ],
          [
           "IRL"
          ],
          [
           "IRN"
          ],
          [
           "IRQ"
          ],
          [
           "ISL"
          ],
          [
           "ISR"
          ],
          [
           "ITA"
          ],
          [
           "JAM"
          ],
          [
           "JOR"
          ],
          [
           "JPN"
          ],
          [
           "KAZ"
          ],
          [
           "KEN"
          ],
          [
           "KGZ"
          ],
          [
           "KHM"
          ],
          [
           "KIR"
          ],
          [
           "KNA"
          ],
          [
           "KOR"
          ],
          [
           "KWT"
          ],
          [
           "LAO"
          ],
          [
           "LBN"
          ],
          [
           "LBR"
          ],
          [
           "LBY"
          ],
          [
           "LCA"
          ],
          [
           "LKA"
          ],
          [
           "LSO"
          ],
          [
           "LTU"
          ],
          [
           "LUX"
          ],
          [
           "LVA"
          ],
          [
           "MAR"
          ],
          [
           "MCO"
          ],
          [
           "MDA"
          ],
          [
           "MDG"
          ],
          [
           "MDV"
          ],
          [
           "MEX"
          ],
          [
           "MHL"
          ],
          [
           "MKD"
          ],
          [
           "MLI"
          ],
          [
           "MLT"
          ],
          [
           "MMR"
          ],
          [
           "MNE"
          ],
          [
           "MNG"
          ],
          [
           "MNP"
          ],
          [
           "MOZ"
          ],
          [
           "MRT"
          ],
          [
           "MUS"
          ],
          [
           "MWI"
          ],
          [
           "MYS"
          ],
          [
           "NAM"
          ],
          [
           "NER"
          ],
          [
           "NGA"
          ],
          [
           "NIC"
          ],
          [
           "NIU"
          ],
          [
           "NLD"
          ],
          [
           "NOR"
          ],
          [
           "NPL"
          ],
          [
           "NRU"
          ],
          [
           "NZL"
          ],
          [
           "OMN"
          ],
          [
           "OWID_WRL"
          ],
          [
           "PAK"
          ],
          [
           "PAN"
          ],
          [
           "PER"
          ],
          [
           "PHL"
          ],
          [
           "PLW"
          ],
          [
           "PNG"
          ],
          [
           "POL"
          ],
          [
           "PRI"
          ],
          [
           "PRK"
          ],
          [
           "PRT"
          ],
          [
           "PRY"
          ],
          [
           "PSE"
          ],
          [
           "QAT"
          ],
          [
           "ROU"
          ],
          [
           "RUS"
          ],
          [
           "RWA"
          ],
          [
           "SAU"
          ],
          [
           "SDN"
          ],
          [
           "SEN"
          ],
          [
           "SGP"
          ],
          [
           "SLB"
          ],
          [
           "SLE"
          ],
          [
           "SLV"
          ],
          [
           "SMR"
          ],
          [
           "SOM"
          ],
          [
           "SRB"
          ],
          [
           "SSD"
          ],
          [
           "STP"
          ],
          [
           "SUR"
          ],
          [
           "SVK"
          ],
          [
           "SVN"
          ],
          [
           "SWE"
          ],
          [
           "SWZ"
          ],
          [
           "SYC"
          ],
          [
           "SYR"
          ],
          [
           "TCD"
          ],
          [
           "TGO"
          ],
          [
           "THA"
          ],
          [
           "TJK"
          ],
          [
           "TKL"
          ],
          [
           "TKM"
          ],
          [
           "TLS"
          ],
          [
           "TON"
          ],
          [
           "TTO"
          ],
          [
           "TUN"
          ],
          [
           "TUR"
          ],
          [
           "TUV"
          ],
          [
           "TWN"
          ],
          [
           "TZA"
          ],
          [
           "UGA"
          ],
          [
           "UKR"
          ],
          [
           "URY"
          ],
          [
           "USA"
          ],
          [
           "UZB"
          ],
          [
           "VCT"
          ],
          [
           "VEN"
          ],
          [
           "VIR"
          ],
          [
           "VNM"
          ],
          [
           "VUT"
          ],
          [
           "WSM"
          ],
          [
           "YEM"
          ],
          [
           "ZAF"
          ],
          [
           "ZMB"
          ],
          [
           "ZWE"
          ]
         ],
         "hovertemplate": "Schizophrenia=%{x}<br>Eating=%{y}<br>Code=%{customdata[0]}<br>Cluster=%{marker.color}<extra></extra>",
         "legendgroup": "",
         "marker": {
          "color": [
           1,
           1,
           0,
           2,
           0,
           2,
           0,
           0,
           0,
           2,
           2,
           0,
           1,
           2,
           1,
           1,
           1,
           0,
           1,
           0,
           0,
           1,
           0,
           0,
           2,
           2,
           0,
           0,
           1,
           1,
           1,
           0,
           2,
           2,
           0,
           1,
           1,
           1,
           1,
           0,
           0,
           1,
           1,
           0,
           1,
           2,
           0,
           2,
           1,
           0,
           2,
           1,
           1,
           2,
           1,
           1,
           2,
           1,
           1,
           1,
           0,
           2,
           0,
           1,
           1,
           0,
           1,
           1,
           1,
           1,
           1,
           2,
           0,
           1,
           1,
           0,
           1,
           0,
           0,
           0,
           0,
           0,
           1,
           2,
           2,
           2,
           2,
           1,
           2,
           0,
           1,
           0,
           0,
           1,
           0,
           0,
           0,
           1,
           0,
           1,
           0,
           2,
           1,
           2,
           0,
           0,
           1,
           1,
           2,
           1,
           1,
           2,
           0,
           1,
           0,
           0,
           0,
           0,
           0,
           2,
           0,
           0,
           1,
           0,
           1,
           0,
           1,
           1,
           0,
           0,
           1,
           1,
           0,
           0,
           2,
           2,
           1,
           0,
           2,
           1,
           0,
           1,
           0,
           2,
           0,
           0,
           0,
           0,
           0,
           0,
           2,
           2,
           1,
           1,
           0,
           0,
           1,
           1,
           1,
           1,
           0,
           0,
           1,
           0,
           2,
           1,
           0,
           1,
           0,
           1,
           0,
           0,
           2,
           1,
           0,
           2,
           1,
           1,
           0,
           0,
           0,
           0,
           0,
           0,
           1,
           1,
           1,
           0,
           0,
           1,
           1,
           1,
           2,
           2,
           0,
           0,
           0,
           0,
           0,
           0,
           0,
           1,
           1,
           1,
           0
          ],
          "coloraxis": "coloraxis",
          "symbol": "circle"
         },
         "mode": "markers",
         "name": "",
         "orientation": "v",
         "showlegend": false,
         "type": "scatter",
         "x": [
          0.21713928233333332,
          0.21501837733333332,
          0.2833509243333333,
          0.2875150026666667,
          0.28100229433333335,
          0.31123931666666665,
          0.2778581686666667,
          0.30863134633333333,
          0.286526879,
          0.38855307299999997,
          0.27556981266666664,
          0.27614362033333334,
          0.20088872466666666,
          0.27423265599999996,
          0.21193578500000002,
          0.20543430599999998,
          0.2786147206666667,
          0.2844358193333333,
          0.2711379783333333,
          0.28502673866666667,
          0.2826658736666667,
          0.27267890866666666,
          0.2692648436666667,
          0.30190666033333335,
          0.26345031999999996,
          0.275675355,
          0.282434899,
          0.30505227933333334,
          0.28560024766666664,
          0.22041105733333335,
          0.19482022499999999,
          0.28848229599999997,
          0.2802294806666667,
          0.31548577666666666,
          0.3028644773333333,
          0.21235484566666668,
          0.212359167,
          0.20282228633333332,
          0.214368294,
          0.311440612,
          0.2775458373333333,
          0.21702505533333336,
          0.22584445466666667,
          0.28374720833333333,
          0.27725792033333335,
          0.27437675433333336,
          0.29469943633333334,
          0.2601667306666667,
          0.21910747066666666,
          0.2724766966666667,
          0.225505864,
          0.27164549433333335,
          0.24905719233333334,
          0.2732963393333333,
          0.24639395066666667,
          0.20647713166666665,
          0.265590325,
          0.28447934566666666,
          0.20795982500000001,
          0.263713991,
          0.29244190866666664,
          0.26861672733333336,
          0.27078995833333336,
          0.22925495366666665,
          0.2558146573333333,
          0.2736103386666667,
          0.21319143633333332,
          0.20858159633333334,
          0.2121028003333333,
          0.20347244466666667,
          0.22366345733333332,
          0.2727419466666667,
          0.2745169746666667,
          0.3786357226666667,
          0.2619045566666667,
          0.32810851533333335,
          0.25783652533333334,
          0.26013903666666666,
          0.29245852266666666,
          0.24206864733333333,
          0.28905868733333334,
          0.28625694,
          0.2817600066666667,
          0.35935977133333336,
          0.25313631666666664,
          0.24403212999999999,
          0.277494858,
          0.30329442900000003,
          0.296646902,
          0.27588185133333337,
          0.254053072,
          0.302280187,
          0.27614281733333335,
          0.21462071000000002,
          0.262605518,
          0.26380592533333336,
          0.25877416766666667,
          0.27962409466666666,
          0.297708408,
          0.2771153136666667,
          0.26940072333333337,
          0.2535111723333333,
          0.20520076499999998,
          0.25693884466666667,
          0.275449095,
          0.29230539699999997,
          0.20026494066666667,
          0.28187760666666667,
          0.28003050999999995,
          0.280560007,
          0.24165551133333332,
          0.29336013966666663,
          0.26705117733333333,
          0.212348209,
          0.30161808633333337,
          0.282790518,
          0.27329803766666666,
          0.2856487793333333,
          0.20923469833333333,
          0.2756702956666667,
          0.26431916266666666,
          0.2861639733333333,
          0.265454146,
          0.318439496,
          0.19943205300000003,
          0.21873483900000001,
          0.3018485263333333,
          0.20055590966666664,
          0.30775145433333334,
          0.21880628333333335,
          0.206904555,
          0.21988878966666667,
          0.26920634633333335,
          0.2959881623333333,
          0.37937442666666665,
          0.2830702796666667,
          0.271269895,
          0.28259147433333337,
          0.38949470966666666,
          0.26494458266666665,
          0.28887678766666663,
          0.281476296,
          0.28224271766666664,
          0.27507421066666665,
          0.285908677,
          0.29829653666666667,
          0.27102160599999997,
          0.2896661476666667,
          0.29061893066666666,
          0.266878532,
          0.26879137566666667,
          0.27464241833333336,
          0.248456562,
          0.28274684533333333,
          0.28377900333333334,
          0.27887184400000004,
          0.20538178666666665,
          0.2628221966666667,
          0.23104516633333333,
          0.21542986133333333,
          0.3146629146666667,
          0.25631550799999997,
          0.20746201433333333,
          0.26609598133333334,
          0.2830158703333333,
          0.18979669566666668,
          0.28343388166666666,
          0.22888002233333332,
          0.22037973533333333,
          0.272355387,
          0.2912527933333333,
          0.2971159073333334,
          0.27975169033333336,
          0.21533192033333334,
          0.30677423633333334,
          0.24530640799999998,
          0.20797962866666667,
          0.207619485,
          0.2937844236666667,
          0.263192437,
          0.28520108499999997,
          0.2723940453333334,
          0.2570117613333333,
          0.29114503633333333,
          0.28031485933333333,
          0.252928822,
          0.24759015433333334,
          0.272706941,
          0.302190317,
          0.20944665633333331,
          0.20446832233333334,
          0.27148857266666665,
          0.31180767299999995,
          0.44947948866666665,
          0.26603073633333335,
          0.2711097823333333,
          0.27737713766666666,
          0.29353587099999995,
          0.31457823566666665,
          0.271230105,
          0.2867680286666667,
          0.230985601,
          0.22349925466666667,
          0.20907906866666667,
          0.20447687199999998
         ],
         "xaxis": "x",
         "y": [
          0.10686852286666666,
          0.11500861323333332,
          0.11395672286666667,
          0.497990565,
          0.31452045933333334,
          0.30848127633333333,
          0.10504627756666667,
          0.13064001333333333,
          0.2576447143333333,
          0.8896206703333334,
          0.505193114,
          0.11718033183333333,
          0.07220322656666665,
          0.40340837366666665,
          0.0928363454,
          0.0826769535,
          0.09435406036666666,
          0.136452161,
          0.27336050766666664,
          0.2930047783333333,
          0.11062661386666667,
          0.11331907786666666,
          0.18430913166666668,
          0.34154143099999995,
          0.20788976166666667,
          0.21372691366666666,
          0.23809125066666667,
          0.43022509433333334,
          0.11665002003333333,
          0.157354774,
          0.07627051853333335,
          0.4160307086666667,
          0.4811782106666667,
          0.313571788,
          0.08253416129999999,
          0.1072906019,
          0.1064676837,
          0.07161026426666667,
          0.12306647463333334,
          0.13855139,
          0.1951745923333333,
          0.08961598416666666,
          0.1192100403,
          0.209292356,
          0.173584371,
          0.38082114499999997,
          0.17396842766666668,
          0.4026529213333333,
          0.102258577,
          0.19382458666666666,
          0.44278674133333334,
          0.195780533,
          0.195033661,
          0.25759762199999997,
          0.17670415966666667,
          0.08436926996666667,
          0.5376768416666666,
          0.151451019,
          0.067875023,
          0.4614690633333333,
          0.09730906026666666,
          0.44115439366666664,
          0.07772938813333334,
          0.17846271866666666,
          0.389307589,
          0.10950309166666666,
          0.1012056567,
          0.08840271006666667,
          0.0910817491,
          0.0856021676,
          0.1649488453,
          0.4221242156666667,
          0.20019638733333334,
          0.4540099636666667,
          0.17465714766666668,
          0.1746941996666667,
          0.1634457066666667,
          0.153561805,
          0.15364550733333332,
          0.12073133296666666,
          0.164785941,
          0.09241259646666666,
          0.10172457546666666,
          0.3804153533333333,
          0.225150434,
          0.18214522566666666,
          0.4143538533333333,
          0.34274318633333334,
          0.533074736,
          0.1897371516666667,
          0.17818668333333332,
          0.378064408,
          0.1365997271,
          0.09797005713333333,
          0.08802571963333333,
          0.06833703799999999,
          0.06865939666666666,
          0.25943143333333335,
          0.2948759786666667,
          0.32833187066666664,
          0.07794088576666666,
          0.20753939866666665,
          0.07077967333333332,
          0.23319089899999998,
          0.20741457233333332,
          0.09761401506666667,
          0.09487364506666666,
          0.145336384,
          0.517864494,
          0.14207233066666666,
          0.16480711466666667,
          0.771963255,
          0.09990423326666667,
          0.08460600176666667,
          0.10709400036666666,
          0.234757618,
          0.07843710009999999,
          0.1283042356,
          0.08511111953333333,
          0.36406304733333333,
          0.07014842586666667,
          0.13812888033333334,
          0.10746497136666666,
          0.15965861233333334,
          0.07061964573333333,
          0.10481613260000001,
          0.12004357466666667,
          0.07513080173333334,
          0.12956678286666665,
          0.14302904933333332,
          0.07478315866666667,
          0.10811955349999999,
          0.15051503266666666,
          0.1076722862,
          0.32968364133333333,
          0.43834543633333334,
          0.08968137286666668,
          0.10142352963333333,
          0.564821815,
          0.26133112566666666,
          0.15817971933333333,
          0.10691368826666667,
          0.23091354166666667,
          0.27411583266666667,
          0.09151495156666667,
          0.11694275193333332,
          0.07588021880000001,
          0.15257036100000002,
          0.2956170303333333,
          0.0663246903,
          0.3865536413333333,
          0.19772562700000001,
          0.14425208733333333,
          0.32972766533333336,
          0.13633083959999998,
          0.143517306,
          0.07990992446666666,
          0.258915362,
          0.1281855505,
          0.09705029533333334,
          0.3820686536666667,
          0.06583809560000001,
          0.08256951853333333,
          0.175671516,
          0.5119202303333333,
          0.046664460766666666,
          0.1275575422,
          0.146665279,
          0.10110539290000001,
          0.204137705,
          0.155900033,
          0.16822800833333332,
          0.4557796393333333,
          0.14190488433333334,
          0.13570275346666666,
          0.15548239533333333,
          0.08740433966666666,
          0.08681446673333333,
          0.11397242276666666,
          0.08283285446666667,
          0.0891327836,
          0.11947524173333333,
          0.0841605827,
          0.0873952742,
          0.24494714833333334,
          0.18420321,
          0.23976165266666666,
          0.0775316707,
          0.1498079416666667,
          0.09099870056666666,
          0.08318576443333334,
          0.11413692040000001,
          0.30811455699999996,
          0.4426151883333333,
          0.09702484709999999,
          0.194107228,
          0.215413242,
          0.336127913,
          0.0754347866,
          0.07480552396666668,
          0.0868544075,
          0.13446707466666666,
          0.154442349,
          0.10037089993333333,
          0.10247358703333333
         ],
         "yaxis": "y"
        }
       ],
       "layout": {
        "coloraxis": {
         "colorbar": {
          "title": {
           "text": "Cluster"
          }
         },
         "colorscale": [
          [
           0,
           "#0d0887"
          ],
          [
           0.1111111111111111,
           "#46039f"
          ],
          [
           0.2222222222222222,
           "#7201a8"
          ],
          [
           0.3333333333333333,
           "#9c179e"
          ],
          [
           0.4444444444444444,
           "#bd3786"
          ],
          [
           0.5555555555555556,
           "#d8576b"
          ],
          [
           0.6666666666666666,
           "#ed7953"
          ],
          [
           0.7777777777777778,
           "#fb9f3a"
          ],
          [
           0.8888888888888888,
           "#fdca26"
          ],
          [
           1,
           "#f0f921"
          ]
         ]
        },
        "height": 600,
        "legend": {
         "tracegroupgap": 0
        },
        "template": {
         "data": {
          "bar": [
           {
            "error_x": {
             "color": "#2a3f5f"
            },
            "error_y": {
             "color": "#2a3f5f"
            },
            "marker": {
             "line": {
              "color": "#E5ECF6",
              "width": 0.5
             },
             "pattern": {
              "fillmode": "overlay",
              "size": 10,
              "solidity": 0.2
             }
            },
            "type": "bar"
           }
          ],
          "barpolar": [
           {
            "marker": {
             "line": {
              "color": "#E5ECF6",
              "width": 0.5
             },
             "pattern": {
              "fillmode": "overlay",
              "size": 10,
              "solidity": 0.2
             }
            },
            "type": "barpolar"
           }
          ],
          "carpet": [
           {
            "aaxis": {
             "endlinecolor": "#2a3f5f",
             "gridcolor": "white",
             "linecolor": "white",
             "minorgridcolor": "white",
             "startlinecolor": "#2a3f5f"
            },
            "baxis": {
             "endlinecolor": "#2a3f5f",
             "gridcolor": "white",
             "linecolor": "white",
             "minorgridcolor": "white",
             "startlinecolor": "#2a3f5f"
            },
            "type": "carpet"
           }
          ],
          "choropleth": [
           {
            "colorbar": {
             "outlinewidth": 0,
             "ticks": ""
            },
            "type": "choropleth"
           }
          ],
          "contour": [
           {
            "colorbar": {
             "outlinewidth": 0,
             "ticks": ""
            },
            "colorscale": [
             [
              0,
              "#0d0887"
             ],
             [
              0.1111111111111111,
              "#46039f"
             ],
             [
              0.2222222222222222,
              "#7201a8"
             ],
             [
              0.3333333333333333,
              "#9c179e"
             ],
             [
              0.4444444444444444,
              "#bd3786"
             ],
             [
              0.5555555555555556,
              "#d8576b"
             ],
             [
              0.6666666666666666,
              "#ed7953"
             ],
             [
              0.7777777777777778,
              "#fb9f3a"
             ],
             [
              0.8888888888888888,
              "#fdca26"
             ],
             [
              1,
              "#f0f921"
             ]
            ],
            "type": "contour"
           }
          ],
          "contourcarpet": [
           {
            "colorbar": {
             "outlinewidth": 0,
             "ticks": ""
            },
            "type": "contourcarpet"
           }
          ],
          "heatmap": [
           {
            "colorbar": {
             "outlinewidth": 0,
             "ticks": ""
            },
            "colorscale": [
             [
              0,
              "#0d0887"
             ],
             [
              0.1111111111111111,
              "#46039f"
             ],
             [
              0.2222222222222222,
              "#7201a8"
             ],
             [
              0.3333333333333333,
              "#9c179e"
             ],
             [
              0.4444444444444444,
              "#bd3786"
             ],
             [
              0.5555555555555556,
              "#d8576b"
             ],
             [
              0.6666666666666666,
              "#ed7953"
             ],
             [
              0.7777777777777778,
              "#fb9f3a"
             ],
             [
              0.8888888888888888,
              "#fdca26"
             ],
             [
              1,
              "#f0f921"
             ]
            ],
            "type": "heatmap"
           }
          ],
          "heatmapgl": [
           {
            "colorbar": {
             "outlinewidth": 0,
             "ticks": ""
            },
            "colorscale": [
             [
              0,
              "#0d0887"
             ],
             [
              0.1111111111111111,
              "#46039f"
             ],
             [
              0.2222222222222222,
              "#7201a8"
             ],
             [
              0.3333333333333333,
              "#9c179e"
             ],
             [
              0.4444444444444444,
              "#bd3786"
             ],
             [
              0.5555555555555556,
              "#d8576b"
             ],
             [
              0.6666666666666666,
              "#ed7953"
             ],
             [
              0.7777777777777778,
              "#fb9f3a"
             ],
             [
              0.8888888888888888,
              "#fdca26"
             ],
             [
              1,
              "#f0f921"
             ]
            ],
            "type": "heatmapgl"
           }
          ],
          "histogram": [
           {
            "marker": {
             "pattern": {
              "fillmode": "overlay",
              "size": 10,
              "solidity": 0.2
             }
            },
            "type": "histogram"
           }
          ],
          "histogram2d": [
           {
            "colorbar": {
             "outlinewidth": 0,
             "ticks": ""
            },
            "colorscale": [
             [
              0,
              "#0d0887"
             ],
             [
              0.1111111111111111,
              "#46039f"
             ],
             [
              0.2222222222222222,
              "#7201a8"
             ],
             [
              0.3333333333333333,
              "#9c179e"
             ],
             [
              0.4444444444444444,
              "#bd3786"
             ],
             [
              0.5555555555555556,
              "#d8576b"
             ],
             [
              0.6666666666666666,
              "#ed7953"
             ],
             [
              0.7777777777777778,
              "#fb9f3a"
             ],
             [
              0.8888888888888888,
              "#fdca26"
             ],
             [
              1,
              "#f0f921"
             ]
            ],
            "type": "histogram2d"
           }
          ],
          "histogram2dcontour": [
           {
            "colorbar": {
             "outlinewidth": 0,
             "ticks": ""
            },
            "colorscale": [
             [
              0,
              "#0d0887"
             ],
             [
              0.1111111111111111,
              "#46039f"
             ],
             [
              0.2222222222222222,
              "#7201a8"
             ],
             [
              0.3333333333333333,
              "#9c179e"
             ],
             [
              0.4444444444444444,
              "#bd3786"
             ],
             [
              0.5555555555555556,
              "#d8576b"
             ],
             [
              0.6666666666666666,
              "#ed7953"
             ],
             [
              0.7777777777777778,
              "#fb9f3a"
             ],
             [
              0.8888888888888888,
              "#fdca26"
             ],
             [
              1,
              "#f0f921"
             ]
            ],
            "type": "histogram2dcontour"
           }
          ],
          "mesh3d": [
           {
            "colorbar": {
             "outlinewidth": 0,
             "ticks": ""
            },
            "type": "mesh3d"
           }
          ],
          "parcoords": [
           {
            "line": {
             "colorbar": {
              "outlinewidth": 0,
              "ticks": ""
             }
            },
            "type": "parcoords"
           }
          ],
          "pie": [
           {
            "automargin": true,
            "type": "pie"
           }
          ],
          "scatter": [
           {
            "fillpattern": {
             "fillmode": "overlay",
             "size": 10,
             "solidity": 0.2
            },
            "type": "scatter"
           }
          ],
          "scatter3d": [
           {
            "line": {
             "colorbar": {
              "outlinewidth": 0,
              "ticks": ""
             }
            },
            "marker": {
             "colorbar": {
              "outlinewidth": 0,
              "ticks": ""
             }
            },
            "type": "scatter3d"
           }
          ],
          "scattercarpet": [
           {
            "marker": {
             "colorbar": {
              "outlinewidth": 0,
              "ticks": ""
             }
            },
            "type": "scattercarpet"
           }
          ],
          "scattergeo": [
           {
            "marker": {
             "colorbar": {
              "outlinewidth": 0,
              "ticks": ""
             }
            },
            "type": "scattergeo"
           }
          ],
          "scattergl": [
           {
            "marker": {
             "colorbar": {
              "outlinewidth": 0,
              "ticks": ""
             }
            },
            "type": "scattergl"
           }
          ],
          "scattermapbox": [
           {
            "marker": {
             "colorbar": {
              "outlinewidth": 0,
              "ticks": ""
             }
            },
            "type": "scattermapbox"
           }
          ],
          "scatterpolar": [
           {
            "marker": {
             "colorbar": {
              "outlinewidth": 0,
              "ticks": ""
             }
            },
            "type": "scatterpolar"
           }
          ],
          "scatterpolargl": [
           {
            "marker": {
             "colorbar": {
              "outlinewidth": 0,
              "ticks": ""
             }
            },
            "type": "scatterpolargl"
           }
          ],
          "scatterternary": [
           {
            "marker": {
             "colorbar": {
              "outlinewidth": 0,
              "ticks": ""
             }
            },
            "type": "scatterternary"
           }
          ],
          "surface": [
           {
            "colorbar": {
             "outlinewidth": 0,
             "ticks": ""
            },
            "colorscale": [
             [
              0,
              "#0d0887"
             ],
             [
              0.1111111111111111,
              "#46039f"
             ],
             [
              0.2222222222222222,
              "#7201a8"
             ],
             [
              0.3333333333333333,
              "#9c179e"
             ],
             [
              0.4444444444444444,
              "#bd3786"
             ],
             [
              0.5555555555555556,
              "#d8576b"
             ],
             [
              0.6666666666666666,
              "#ed7953"
             ],
             [
              0.7777777777777778,
              "#fb9f3a"
             ],
             [
              0.8888888888888888,
              "#fdca26"
             ],
             [
              1,
              "#f0f921"
             ]
            ],
            "type": "surface"
           }
          ],
          "table": [
           {
            "cells": {
             "fill": {
              "color": "#EBF0F8"
             },
             "line": {
              "color": "white"
             }
            },
            "header": {
             "fill": {
              "color": "#C8D4E3"
             },
             "line": {
              "color": "white"
             }
            },
            "type": "table"
           }
          ]
         },
         "layout": {
          "annotationdefaults": {
           "arrowcolor": "#2a3f5f",
           "arrowhead": 0,
           "arrowwidth": 1
          },
          "autotypenumbers": "strict",
          "coloraxis": {
           "colorbar": {
            "outlinewidth": 0,
            "ticks": ""
           }
          },
          "colorscale": {
           "diverging": [
            [
             0,
             "#8e0152"
            ],
            [
             0.1,
             "#c51b7d"
            ],
            [
             0.2,
             "#de77ae"
            ],
            [
             0.3,
             "#f1b6da"
            ],
            [
             0.4,
             "#fde0ef"
            ],
            [
             0.5,
             "#f7f7f7"
            ],
            [
             0.6,
             "#e6f5d0"
            ],
            [
             0.7,
             "#b8e186"
            ],
            [
             0.8,
             "#7fbc41"
            ],
            [
             0.9,
             "#4d9221"
            ],
            [
             1,
             "#276419"
            ]
           ],
           "sequential": [
            [
             0,
             "#0d0887"
            ],
            [
             0.1111111111111111,
             "#46039f"
            ],
            [
             0.2222222222222222,
             "#7201a8"
            ],
            [
             0.3333333333333333,
             "#9c179e"
            ],
            [
             0.4444444444444444,
             "#bd3786"
            ],
            [
             0.5555555555555556,
             "#d8576b"
            ],
            [
             0.6666666666666666,
             "#ed7953"
            ],
            [
             0.7777777777777778,
             "#fb9f3a"
            ],
            [
             0.8888888888888888,
             "#fdca26"
            ],
            [
             1,
             "#f0f921"
            ]
           ],
           "sequentialminus": [
            [
             0,
             "#0d0887"
            ],
            [
             0.1111111111111111,
             "#46039f"
            ],
            [
             0.2222222222222222,
             "#7201a8"
            ],
            [
             0.3333333333333333,
             "#9c179e"
            ],
            [
             0.4444444444444444,
             "#bd3786"
            ],
            [
             0.5555555555555556,
             "#d8576b"
            ],
            [
             0.6666666666666666,
             "#ed7953"
            ],
            [
             0.7777777777777778,
             "#fb9f3a"
            ],
            [
             0.8888888888888888,
             "#fdca26"
            ],
            [
             1,
             "#f0f921"
            ]
           ]
          },
          "colorway": [
           "#636efa",
           "#EF553B",
           "#00cc96",
           "#ab63fa",
           "#FFA15A",
           "#19d3f3",
           "#FF6692",
           "#B6E880",
           "#FF97FF",
           "#FECB52"
          ],
          "font": {
           "color": "#2a3f5f"
          },
          "geo": {
           "bgcolor": "white",
           "lakecolor": "white",
           "landcolor": "#E5ECF6",
           "showlakes": true,
           "showland": true,
           "subunitcolor": "white"
          },
          "hoverlabel": {
           "align": "left"
          },
          "hovermode": "closest",
          "mapbox": {
           "style": "light"
          },
          "paper_bgcolor": "white",
          "plot_bgcolor": "#E5ECF6",
          "polar": {
           "angularaxis": {
            "gridcolor": "white",
            "linecolor": "white",
            "ticks": ""
           },
           "bgcolor": "#E5ECF6",
           "radialaxis": {
            "gridcolor": "white",
            "linecolor": "white",
            "ticks": ""
           }
          },
          "scene": {
           "xaxis": {
            "backgroundcolor": "#E5ECF6",
            "gridcolor": "white",
            "gridwidth": 2,
            "linecolor": "white",
            "showbackground": true,
            "ticks": "",
            "zerolinecolor": "white"
           },
           "yaxis": {
            "backgroundcolor": "#E5ECF6",
            "gridcolor": "white",
            "gridwidth": 2,
            "linecolor": "white",
            "showbackground": true,
            "ticks": "",
            "zerolinecolor": "white"
           },
           "zaxis": {
            "backgroundcolor": "#E5ECF6",
            "gridcolor": "white",
            "gridwidth": 2,
            "linecolor": "white",
            "showbackground": true,
            "ticks": "",
            "zerolinecolor": "white"
           }
          },
          "shapedefaults": {
           "line": {
            "color": "#2a3f5f"
           }
          },
          "ternary": {
           "aaxis": {
            "gridcolor": "white",
            "linecolor": "white",
            "ticks": ""
           },
           "baxis": {
            "gridcolor": "white",
            "linecolor": "white",
            "ticks": ""
           },
           "bgcolor": "#E5ECF6",
           "caxis": {
            "gridcolor": "white",
            "linecolor": "white",
            "ticks": ""
           }
          },
          "title": {
           "x": 0.05
          },
          "xaxis": {
           "automargin": true,
           "gridcolor": "white",
           "linecolor": "white",
           "ticks": "",
           "title": {
            "standoff": 15
           },
           "zerolinecolor": "white",
           "zerolinewidth": 2
          },
          "yaxis": {
           "automargin": true,
           "gridcolor": "white",
           "linecolor": "white",
           "ticks": "",
           "title": {
            "standoff": 15
           },
           "zerolinecolor": "white",
           "zerolinewidth": 2
          }
         }
        },
        "title": {
         "text": "Schizophrenia vs Eating"
        },
        "xaxis": {
         "anchor": "y",
         "domain": [
          0,
          1
         ],
         "title": {
          "text": "Schizophrenia"
         }
        },
        "yaxis": {
         "anchor": "x",
         "domain": [
          0,
          1
         ],
         "title": {
          "text": "Eating"
         }
        }
       }
      },
      "text/html": [
       "<div>                            <div id=\"842b882e-84e5-4d3b-875c-5af0a95a0f3d\" class=\"plotly-graph-div\" style=\"height:600px; width:100%;\"></div>            <script type=\"text/javascript\">                require([\"plotly\"], function(Plotly) {                    window.PLOTLYENV=window.PLOTLYENV || {};                                    if (document.getElementById(\"842b882e-84e5-4d3b-875c-5af0a95a0f3d\")) {                    Plotly.newPlot(                        \"842b882e-84e5-4d3b-875c-5af0a95a0f3d\",                        [{\"customdata\":[[\"AFG\"],[\"AGO\"],[\"ALB\"],[\"AND\"],[\"ARE\"],[\"ARG\"],[\"ARM\"],[\"ASM\"],[\"ATG\"],[\"AUS\"],[\"AUT\"],[\"AZE\"],[\"BDI\"],[\"BEL\"],[\"BEN\"],[\"BFA\"],[\"BGD\"],[\"BGR\"],[\"BHR\"],[\"BHS\"],[\"BIH\"],[\"BLR\"],[\"BLZ\"],[\"BMU\"],[\"BOL\"],[\"BRA\"],[\"BRB\"],[\"BRN\"],[\"BTN\"],[\"BWA\"],[\"CAF\"],[\"CAN\"],[\"CHE\"],[\"CHL\"],[\"CHN\"],[\"CIV\"],[\"CMR\"],[\"COD\"],[\"COG\"],[\"COK\"],[\"COL\"],[\"COM\"],[\"CPV\"],[\"CRI\"],[\"CUB\"],[\"CYP\"],[\"CZE\"],[\"DEU\"],[\"DJI\"],[\"DMA\"],[\"DNK\"],[\"DOM\"],[\"DZA\"],[\"ECU\"],[\"EGY\"],[\"ERI\"],[\"ESP\"],[\"EST\"],[\"ETH\"],[\"FIN\"],[\"FJI\"],[\"FRA\"],[\"FSM\"],[\"GAB\"],[\"GBR\"],[\"GEO\"],[\"GHA\"],[\"GIN\"],[\"GMB\"],[\"GNB\"],[\"GNQ\"],[\"GRC\"],[\"GRD\"],[\"GRL\"],[\"GTM\"],[\"GUM\"],[\"GUY\"],[\"HND\"],[\"HRV\"],[\"HTI\"],[\"HUN\"],[\"IDN\"],[\"IND\"],[\"IRL\"],[\"IRN\"],[\"IRQ\"],[\"ISL\"],[\"ISR\"],[\"ITA\"],[\"JAM\"],[\"JOR\"],[\"JPN\"],[\"KAZ\"],[\"KEN\"],[\"KGZ\"],[\"KHM\"],[\"KIR\"],[\"KNA\"],[\"KOR\"],[\"KWT\"],[\"LAO\"],[\"LBN\"],[\"LBR\"],[\"LBY\"],[\"LCA\"],[\"LKA\"],[\"LSO\"],[\"LTU\"],[\"LUX\"],[\"LVA\"],[\"MAR\"],[\"MCO\"],[\"MDA\"],[\"MDG\"],[\"MDV\"],[\"MEX\"],[\"MHL\"],[\"MKD\"],[\"MLI\"],[\"MLT\"],[\"MMR\"],[\"MNE\"],[\"MNG\"],[\"MNP\"],[\"MOZ\"],[\"MRT\"],[\"MUS\"],[\"MWI\"],[\"MYS\"],[\"NAM\"],[\"NER\"],[\"NGA\"],[\"NIC\"],[\"NIU\"],[\"NLD\"],[\"NOR\"],[\"NPL\"],[\"NRU\"],[\"NZL\"],[\"OMN\"],[\"OWID_WRL\"],[\"PAK\"],[\"PAN\"],[\"PER\"],[\"PHL\"],[\"PLW\"],[\"PNG\"],[\"POL\"],[\"PRI\"],[\"PRK\"],[\"PRT\"],[\"PRY\"],[\"PSE\"],[\"QAT\"],[\"ROU\"],[\"RUS\"],[\"RWA\"],[\"SAU\"],[\"SDN\"],[\"SEN\"],[\"SGP\"],[\"SLB\"],[\"SLE\"],[\"SLV\"],[\"SMR\"],[\"SOM\"],[\"SRB\"],[\"SSD\"],[\"STP\"],[\"SUR\"],[\"SVK\"],[\"SVN\"],[\"SWE\"],[\"SWZ\"],[\"SYC\"],[\"SYR\"],[\"TCD\"],[\"TGO\"],[\"THA\"],[\"TJK\"],[\"TKL\"],[\"TKM\"],[\"TLS\"],[\"TON\"],[\"TTO\"],[\"TUN\"],[\"TUR\"],[\"TUV\"],[\"TWN\"],[\"TZA\"],[\"UGA\"],[\"UKR\"],[\"URY\"],[\"USA\"],[\"UZB\"],[\"VCT\"],[\"VEN\"],[\"VIR\"],[\"VNM\"],[\"VUT\"],[\"WSM\"],[\"YEM\"],[\"ZAF\"],[\"ZMB\"],[\"ZWE\"]],\"hovertemplate\":\"Schizophrenia=%{x}<br>Eating=%{y}<br>Code=%{customdata[0]}<br>Cluster=%{marker.color}<extra></extra>\",\"legendgroup\":\"\",\"marker\":{\"color\":[1,1,0,2,0,2,0,0,0,2,2,0,1,2,1,1,1,0,1,0,0,1,0,0,2,2,0,0,1,1,1,0,2,2,0,1,1,1,1,0,0,1,1,0,1,2,0,2,1,0,2,1,1,2,1,1,2,1,1,1,0,2,0,1,1,0,1,1,1,1,1,2,0,1,1,0,1,0,0,0,0,0,1,2,2,2,2,1,2,0,1,0,0,1,0,0,0,1,0,1,0,2,1,2,0,0,1,1,2,1,1,2,0,1,0,0,0,0,0,2,0,0,1,0,1,0,1,1,0,0,1,1,0,0,2,2,1,0,2,1,0,1,0,2,0,0,0,0,0,0,2,2,1,1,0,0,1,1,1,1,0,0,1,0,2,1,0,1,0,1,0,0,2,1,0,2,1,1,0,0,0,0,0,0,1,1,1,0,0,1,1,1,2,2,0,0,0,0,0,0,0,1,1,1,0],\"coloraxis\":\"coloraxis\",\"symbol\":\"circle\"},\"mode\":\"markers\",\"name\":\"\",\"orientation\":\"v\",\"showlegend\":false,\"x\":[0.21713928233333332,0.21501837733333332,0.2833509243333333,0.2875150026666667,0.28100229433333335,0.31123931666666665,0.2778581686666667,0.30863134633333333,0.286526879,0.38855307299999997,0.27556981266666664,0.27614362033333334,0.20088872466666666,0.27423265599999996,0.21193578500000002,0.20543430599999998,0.2786147206666667,0.2844358193333333,0.2711379783333333,0.28502673866666667,0.2826658736666667,0.27267890866666666,0.2692648436666667,0.30190666033333335,0.26345031999999996,0.275675355,0.282434899,0.30505227933333334,0.28560024766666664,0.22041105733333335,0.19482022499999999,0.28848229599999997,0.2802294806666667,0.31548577666666666,0.3028644773333333,0.21235484566666668,0.212359167,0.20282228633333332,0.214368294,0.311440612,0.2775458373333333,0.21702505533333336,0.22584445466666667,0.28374720833333333,0.27725792033333335,0.27437675433333336,0.29469943633333334,0.2601667306666667,0.21910747066666666,0.2724766966666667,0.225505864,0.27164549433333335,0.24905719233333334,0.2732963393333333,0.24639395066666667,0.20647713166666665,0.265590325,0.28447934566666666,0.20795982500000001,0.263713991,0.29244190866666664,0.26861672733333336,0.27078995833333336,0.22925495366666665,0.2558146573333333,0.2736103386666667,0.21319143633333332,0.20858159633333334,0.2121028003333333,0.20347244466666667,0.22366345733333332,0.2727419466666667,0.2745169746666667,0.3786357226666667,0.2619045566666667,0.32810851533333335,0.25783652533333334,0.26013903666666666,0.29245852266666666,0.24206864733333333,0.28905868733333334,0.28625694,0.2817600066666667,0.35935977133333336,0.25313631666666664,0.24403212999999999,0.277494858,0.30329442900000003,0.296646902,0.27588185133333337,0.254053072,0.302280187,0.27614281733333335,0.21462071000000002,0.262605518,0.26380592533333336,0.25877416766666667,0.27962409466666666,0.297708408,0.2771153136666667,0.26940072333333337,0.2535111723333333,0.20520076499999998,0.25693884466666667,0.275449095,0.29230539699999997,0.20026494066666667,0.28187760666666667,0.28003050999999995,0.280560007,0.24165551133333332,0.29336013966666663,0.26705117733333333,0.212348209,0.30161808633333337,0.282790518,0.27329803766666666,0.2856487793333333,0.20923469833333333,0.2756702956666667,0.26431916266666666,0.2861639733333333,0.265454146,0.318439496,0.19943205300000003,0.21873483900000001,0.3018485263333333,0.20055590966666664,0.30775145433333334,0.21880628333333335,0.206904555,0.21988878966666667,0.26920634633333335,0.2959881623333333,0.37937442666666665,0.2830702796666667,0.271269895,0.28259147433333337,0.38949470966666666,0.26494458266666665,0.28887678766666663,0.281476296,0.28224271766666664,0.27507421066666665,0.285908677,0.29829653666666667,0.27102160599999997,0.2896661476666667,0.29061893066666666,0.266878532,0.26879137566666667,0.27464241833333336,0.248456562,0.28274684533333333,0.28377900333333334,0.27887184400000004,0.20538178666666665,0.2628221966666667,0.23104516633333333,0.21542986133333333,0.3146629146666667,0.25631550799999997,0.20746201433333333,0.26609598133333334,0.2830158703333333,0.18979669566666668,0.28343388166666666,0.22888002233333332,0.22037973533333333,0.272355387,0.2912527933333333,0.2971159073333334,0.27975169033333336,0.21533192033333334,0.30677423633333334,0.24530640799999998,0.20797962866666667,0.207619485,0.2937844236666667,0.263192437,0.28520108499999997,0.2723940453333334,0.2570117613333333,0.29114503633333333,0.28031485933333333,0.252928822,0.24759015433333334,0.272706941,0.302190317,0.20944665633333331,0.20446832233333334,0.27148857266666665,0.31180767299999995,0.44947948866666665,0.26603073633333335,0.2711097823333333,0.27737713766666666,0.29353587099999995,0.31457823566666665,0.271230105,0.2867680286666667,0.230985601,0.22349925466666667,0.20907906866666667,0.20447687199999998],\"xaxis\":\"x\",\"y\":[0.10686852286666666,0.11500861323333332,0.11395672286666667,0.497990565,0.31452045933333334,0.30848127633333333,0.10504627756666667,0.13064001333333333,0.2576447143333333,0.8896206703333334,0.505193114,0.11718033183333333,0.07220322656666665,0.40340837366666665,0.0928363454,0.0826769535,0.09435406036666666,0.136452161,0.27336050766666664,0.2930047783333333,0.11062661386666667,0.11331907786666666,0.18430913166666668,0.34154143099999995,0.20788976166666667,0.21372691366666666,0.23809125066666667,0.43022509433333334,0.11665002003333333,0.157354774,0.07627051853333335,0.4160307086666667,0.4811782106666667,0.313571788,0.08253416129999999,0.1072906019,0.1064676837,0.07161026426666667,0.12306647463333334,0.13855139,0.1951745923333333,0.08961598416666666,0.1192100403,0.209292356,0.173584371,0.38082114499999997,0.17396842766666668,0.4026529213333333,0.102258577,0.19382458666666666,0.44278674133333334,0.195780533,0.195033661,0.25759762199999997,0.17670415966666667,0.08436926996666667,0.5376768416666666,0.151451019,0.067875023,0.4614690633333333,0.09730906026666666,0.44115439366666664,0.07772938813333334,0.17846271866666666,0.389307589,0.10950309166666666,0.1012056567,0.08840271006666667,0.0910817491,0.0856021676,0.1649488453,0.4221242156666667,0.20019638733333334,0.4540099636666667,0.17465714766666668,0.1746941996666667,0.1634457066666667,0.153561805,0.15364550733333332,0.12073133296666666,0.164785941,0.09241259646666666,0.10172457546666666,0.3804153533333333,0.225150434,0.18214522566666666,0.4143538533333333,0.34274318633333334,0.533074736,0.1897371516666667,0.17818668333333332,0.378064408,0.1365997271,0.09797005713333333,0.08802571963333333,0.06833703799999999,0.06865939666666666,0.25943143333333335,0.2948759786666667,0.32833187066666664,0.07794088576666666,0.20753939866666665,0.07077967333333332,0.23319089899999998,0.20741457233333332,0.09761401506666667,0.09487364506666666,0.145336384,0.517864494,0.14207233066666666,0.16480711466666667,0.771963255,0.09990423326666667,0.08460600176666667,0.10709400036666666,0.234757618,0.07843710009999999,0.1283042356,0.08511111953333333,0.36406304733333333,0.07014842586666667,0.13812888033333334,0.10746497136666666,0.15965861233333334,0.07061964573333333,0.10481613260000001,0.12004357466666667,0.07513080173333334,0.12956678286666665,0.14302904933333332,0.07478315866666667,0.10811955349999999,0.15051503266666666,0.1076722862,0.32968364133333333,0.43834543633333334,0.08968137286666668,0.10142352963333333,0.564821815,0.26133112566666666,0.15817971933333333,0.10691368826666667,0.23091354166666667,0.27411583266666667,0.09151495156666667,0.11694275193333332,0.07588021880000001,0.15257036100000002,0.2956170303333333,0.0663246903,0.3865536413333333,0.19772562700000001,0.14425208733333333,0.32972766533333336,0.13633083959999998,0.143517306,0.07990992446666666,0.258915362,0.1281855505,0.09705029533333334,0.3820686536666667,0.06583809560000001,0.08256951853333333,0.175671516,0.5119202303333333,0.046664460766666666,0.1275575422,0.146665279,0.10110539290000001,0.204137705,0.155900033,0.16822800833333332,0.4557796393333333,0.14190488433333334,0.13570275346666666,0.15548239533333333,0.08740433966666666,0.08681446673333333,0.11397242276666666,0.08283285446666667,0.0891327836,0.11947524173333333,0.0841605827,0.0873952742,0.24494714833333334,0.18420321,0.23976165266666666,0.0775316707,0.1498079416666667,0.09099870056666666,0.08318576443333334,0.11413692040000001,0.30811455699999996,0.4426151883333333,0.09702484709999999,0.194107228,0.215413242,0.336127913,0.0754347866,0.07480552396666668,0.0868544075,0.13446707466666666,0.154442349,0.10037089993333333,0.10247358703333333],\"yaxis\":\"y\",\"type\":\"scatter\"}],                        {\"template\":{\"data\":{\"histogram2dcontour\":[{\"type\":\"histogram2dcontour\",\"colorbar\":{\"outlinewidth\":0,\"ticks\":\"\"},\"colorscale\":[[0.0,\"#0d0887\"],[0.1111111111111111,\"#46039f\"],[0.2222222222222222,\"#7201a8\"],[0.3333333333333333,\"#9c179e\"],[0.4444444444444444,\"#bd3786\"],[0.5555555555555556,\"#d8576b\"],[0.6666666666666666,\"#ed7953\"],[0.7777777777777778,\"#fb9f3a\"],[0.8888888888888888,\"#fdca26\"],[1.0,\"#f0f921\"]]}],\"choropleth\":[{\"type\":\"choropleth\",\"colorbar\":{\"outlinewidth\":0,\"ticks\":\"\"}}],\"histogram2d\":[{\"type\":\"histogram2d\",\"colorbar\":{\"outlinewidth\":0,\"ticks\":\"\"},\"colorscale\":[[0.0,\"#0d0887\"],[0.1111111111111111,\"#46039f\"],[0.2222222222222222,\"#7201a8\"],[0.3333333333333333,\"#9c179e\"],[0.4444444444444444,\"#bd3786\"],[0.5555555555555556,\"#d8576b\"],[0.6666666666666666,\"#ed7953\"],[0.7777777777777778,\"#fb9f3a\"],[0.8888888888888888,\"#fdca26\"],[1.0,\"#f0f921\"]]}],\"heatmap\":[{\"type\":\"heatmap\",\"colorbar\":{\"outlinewidth\":0,\"ticks\":\"\"},\"colorscale\":[[0.0,\"#0d0887\"],[0.1111111111111111,\"#46039f\"],[0.2222222222222222,\"#7201a8\"],[0.3333333333333333,\"#9c179e\"],[0.4444444444444444,\"#bd3786\"],[0.5555555555555556,\"#d8576b\"],[0.6666666666666666,\"#ed7953\"],[0.7777777777777778,\"#fb9f3a\"],[0.8888888888888888,\"#fdca26\"],[1.0,\"#f0f921\"]]}],\"heatmapgl\":[{\"type\":\"heatmapgl\",\"colorbar\":{\"outlinewidth\":0,\"ticks\":\"\"},\"colorscale\":[[0.0,\"#0d0887\"],[0.1111111111111111,\"#46039f\"],[0.2222222222222222,\"#7201a8\"],[0.3333333333333333,\"#9c179e\"],[0.4444444444444444,\"#bd3786\"],[0.5555555555555556,\"#d8576b\"],[0.6666666666666666,\"#ed7953\"],[0.7777777777777778,\"#fb9f3a\"],[0.8888888888888888,\"#fdca26\"],[1.0,\"#f0f921\"]]}],\"contourcarpet\":[{\"type\":\"contourcarpet\",\"colorbar\":{\"outlinewidth\":0,\"ticks\":\"\"}}],\"contour\":[{\"type\":\"contour\",\"colorbar\":{\"outlinewidth\":0,\"ticks\":\"\"},\"colorscale\":[[0.0,\"#0d0887\"],[0.1111111111111111,\"#46039f\"],[0.2222222222222222,\"#7201a8\"],[0.3333333333333333,\"#9c179e\"],[0.4444444444444444,\"#bd3786\"],[0.5555555555555556,\"#d8576b\"],[0.6666666666666666,\"#ed7953\"],[0.7777777777777778,\"#fb9f3a\"],[0.8888888888888888,\"#fdca26\"],[1.0,\"#f0f921\"]]}],\"surface\":[{\"type\":\"surface\",\"colorbar\":{\"outlinewidth\":0,\"ticks\":\"\"},\"colorscale\":[[0.0,\"#0d0887\"],[0.1111111111111111,\"#46039f\"],[0.2222222222222222,\"#7201a8\"],[0.3333333333333333,\"#9c179e\"],[0.4444444444444444,\"#bd3786\"],[0.5555555555555556,\"#d8576b\"],[0.6666666666666666,\"#ed7953\"],[0.7777777777777778,\"#fb9f3a\"],[0.8888888888888888,\"#fdca26\"],[1.0,\"#f0f921\"]]}],\"mesh3d\":[{\"type\":\"mesh3d\",\"colorbar\":{\"outlinewidth\":0,\"ticks\":\"\"}}],\"scatter\":[{\"fillpattern\":{\"fillmode\":\"overlay\",\"size\":10,\"solidity\":0.2},\"type\":\"scatter\"}],\"parcoords\":[{\"type\":\"parcoords\",\"line\":{\"colorbar\":{\"outlinewidth\":0,\"ticks\":\"\"}}}],\"scatterpolargl\":[{\"type\":\"scatterpolargl\",\"marker\":{\"colorbar\":{\"outlinewidth\":0,\"ticks\":\"\"}}}],\"bar\":[{\"error_x\":{\"color\":\"#2a3f5f\"},\"error_y\":{\"color\":\"#2a3f5f\"},\"marker\":{\"line\":{\"color\":\"#E5ECF6\",\"width\":0.5},\"pattern\":{\"fillmode\":\"overlay\",\"size\":10,\"solidity\":0.2}},\"type\":\"bar\"}],\"scattergeo\":[{\"type\":\"scattergeo\",\"marker\":{\"colorbar\":{\"outlinewidth\":0,\"ticks\":\"\"}}}],\"scatterpolar\":[{\"type\":\"scatterpolar\",\"marker\":{\"colorbar\":{\"outlinewidth\":0,\"ticks\":\"\"}}}],\"histogram\":[{\"marker\":{\"pattern\":{\"fillmode\":\"overlay\",\"size\":10,\"solidity\":0.2}},\"type\":\"histogram\"}],\"scattergl\":[{\"type\":\"scattergl\",\"marker\":{\"colorbar\":{\"outlinewidth\":0,\"ticks\":\"\"}}}],\"scatter3d\":[{\"type\":\"scatter3d\",\"line\":{\"colorbar\":{\"outlinewidth\":0,\"ticks\":\"\"}},\"marker\":{\"colorbar\":{\"outlinewidth\":0,\"ticks\":\"\"}}}],\"scattermapbox\":[{\"type\":\"scattermapbox\",\"marker\":{\"colorbar\":{\"outlinewidth\":0,\"ticks\":\"\"}}}],\"scatterternary\":[{\"type\":\"scatterternary\",\"marker\":{\"colorbar\":{\"outlinewidth\":0,\"ticks\":\"\"}}}],\"scattercarpet\":[{\"type\":\"scattercarpet\",\"marker\":{\"colorbar\":{\"outlinewidth\":0,\"ticks\":\"\"}}}],\"carpet\":[{\"aaxis\":{\"endlinecolor\":\"#2a3f5f\",\"gridcolor\":\"white\",\"linecolor\":\"white\",\"minorgridcolor\":\"white\",\"startlinecolor\":\"#2a3f5f\"},\"baxis\":{\"endlinecolor\":\"#2a3f5f\",\"gridcolor\":\"white\",\"linecolor\":\"white\",\"minorgridcolor\":\"white\",\"startlinecolor\":\"#2a3f5f\"},\"type\":\"carpet\"}],\"table\":[{\"cells\":{\"fill\":{\"color\":\"#EBF0F8\"},\"line\":{\"color\":\"white\"}},\"header\":{\"fill\":{\"color\":\"#C8D4E3\"},\"line\":{\"color\":\"white\"}},\"type\":\"table\"}],\"barpolar\":[{\"marker\":{\"line\":{\"color\":\"#E5ECF6\",\"width\":0.5},\"pattern\":{\"fillmode\":\"overlay\",\"size\":10,\"solidity\":0.2}},\"type\":\"barpolar\"}],\"pie\":[{\"automargin\":true,\"type\":\"pie\"}]},\"layout\":{\"autotypenumbers\":\"strict\",\"colorway\":[\"#636efa\",\"#EF553B\",\"#00cc96\",\"#ab63fa\",\"#FFA15A\",\"#19d3f3\",\"#FF6692\",\"#B6E880\",\"#FF97FF\",\"#FECB52\"],\"font\":{\"color\":\"#2a3f5f\"},\"hovermode\":\"closest\",\"hoverlabel\":{\"align\":\"left\"},\"paper_bgcolor\":\"white\",\"plot_bgcolor\":\"#E5ECF6\",\"polar\":{\"bgcolor\":\"#E5ECF6\",\"angularaxis\":{\"gridcolor\":\"white\",\"linecolor\":\"white\",\"ticks\":\"\"},\"radialaxis\":{\"gridcolor\":\"white\",\"linecolor\":\"white\",\"ticks\":\"\"}},\"ternary\":{\"bgcolor\":\"#E5ECF6\",\"aaxis\":{\"gridcolor\":\"white\",\"linecolor\":\"white\",\"ticks\":\"\"},\"baxis\":{\"gridcolor\":\"white\",\"linecolor\":\"white\",\"ticks\":\"\"},\"caxis\":{\"gridcolor\":\"white\",\"linecolor\":\"white\",\"ticks\":\"\"}},\"coloraxis\":{\"colorbar\":{\"outlinewidth\":0,\"ticks\":\"\"}},\"colorscale\":{\"sequential\":[[0.0,\"#0d0887\"],[0.1111111111111111,\"#46039f\"],[0.2222222222222222,\"#7201a8\"],[0.3333333333333333,\"#9c179e\"],[0.4444444444444444,\"#bd3786\"],[0.5555555555555556,\"#d8576b\"],[0.6666666666666666,\"#ed7953\"],[0.7777777777777778,\"#fb9f3a\"],[0.8888888888888888,\"#fdca26\"],[1.0,\"#f0f921\"]],\"sequentialminus\":[[0.0,\"#0d0887\"],[0.1111111111111111,\"#46039f\"],[0.2222222222222222,\"#7201a8\"],[0.3333333333333333,\"#9c179e\"],[0.4444444444444444,\"#bd3786\"],[0.5555555555555556,\"#d8576b\"],[0.6666666666666666,\"#ed7953\"],[0.7777777777777778,\"#fb9f3a\"],[0.8888888888888888,\"#fdca26\"],[1.0,\"#f0f921\"]],\"diverging\":[[0,\"#8e0152\"],[0.1,\"#c51b7d\"],[0.2,\"#de77ae\"],[0.3,\"#f1b6da\"],[0.4,\"#fde0ef\"],[0.5,\"#f7f7f7\"],[0.6,\"#e6f5d0\"],[0.7,\"#b8e186\"],[0.8,\"#7fbc41\"],[0.9,\"#4d9221\"],[1,\"#276419\"]]},\"xaxis\":{\"gridcolor\":\"white\",\"linecolor\":\"white\",\"ticks\":\"\",\"title\":{\"standoff\":15},\"zerolinecolor\":\"white\",\"automargin\":true,\"zerolinewidth\":2},\"yaxis\":{\"gridcolor\":\"white\",\"linecolor\":\"white\",\"ticks\":\"\",\"title\":{\"standoff\":15},\"zerolinecolor\":\"white\",\"automargin\":true,\"zerolinewidth\":2},\"scene\":{\"xaxis\":{\"backgroundcolor\":\"#E5ECF6\",\"gridcolor\":\"white\",\"linecolor\":\"white\",\"showbackground\":true,\"ticks\":\"\",\"zerolinecolor\":\"white\",\"gridwidth\":2},\"yaxis\":{\"backgroundcolor\":\"#E5ECF6\",\"gridcolor\":\"white\",\"linecolor\":\"white\",\"showbackground\":true,\"ticks\":\"\",\"zerolinecolor\":\"white\",\"gridwidth\":2},\"zaxis\":{\"backgroundcolor\":\"#E5ECF6\",\"gridcolor\":\"white\",\"linecolor\":\"white\",\"showbackground\":true,\"ticks\":\"\",\"zerolinecolor\":\"white\",\"gridwidth\":2}},\"shapedefaults\":{\"line\":{\"color\":\"#2a3f5f\"}},\"annotationdefaults\":{\"arrowcolor\":\"#2a3f5f\",\"arrowhead\":0,\"arrowwidth\":1},\"geo\":{\"bgcolor\":\"white\",\"landcolor\":\"#E5ECF6\",\"subunitcolor\":\"white\",\"showland\":true,\"showlakes\":true,\"lakecolor\":\"white\"},\"title\":{\"x\":0.05},\"mapbox\":{\"style\":\"light\"}}},\"xaxis\":{\"anchor\":\"y\",\"domain\":[0.0,1.0],\"title\":{\"text\":\"Schizophrenia\"}},\"yaxis\":{\"anchor\":\"x\",\"domain\":[0.0,1.0],\"title\":{\"text\":\"Eating\"}},\"coloraxis\":{\"colorbar\":{\"title\":{\"text\":\"Cluster\"}},\"colorscale\":[[0.0,\"#0d0887\"],[0.1111111111111111,\"#46039f\"],[0.2222222222222222,\"#7201a8\"],[0.3333333333333333,\"#9c179e\"],[0.4444444444444444,\"#bd3786\"],[0.5555555555555556,\"#d8576b\"],[0.6666666666666666,\"#ed7953\"],[0.7777777777777778,\"#fb9f3a\"],[0.8888888888888888,\"#fdca26\"],[1.0,\"#f0f921\"]]},\"legend\":{\"tracegroupgap\":0},\"title\":{\"text\":\"Schizophrenia vs Eating\"},\"height\":600},                        {\"responsive\": true}                    ).then(function(){\n",
       "                            \n",
       "var gd = document.getElementById('842b882e-84e5-4d3b-875c-5af0a95a0f3d');\n",
       "var x = new MutationObserver(function (mutations, observer) {{\n",
       "        var display = window.getComputedStyle(gd).display;\n",
       "        if (!display || display === 'none') {{\n",
       "            console.log([gd, 'removed!']);\n",
       "            Plotly.purge(gd);\n",
       "            observer.disconnect();\n",
       "        }}\n",
       "}});\n",
       "\n",
       "// Listen for the removal of the full notebook cells\n",
       "var notebookContainer = gd.closest('#notebook-container');\n",
       "if (notebookContainer) {{\n",
       "    x.observe(notebookContainer, {childList: true});\n",
       "}}\n",
       "\n",
       "// Listen for the clearing of the current output cell\n",
       "var outputEl = gd.closest('.output');\n",
       "if (outputEl) {{\n",
       "    x.observe(outputEl, {childList: true});\n",
       "}}\n",
       "\n",
       "                        })                };                });            </script>        </div>"
      ]
     },
     "metadata": {},
     "output_type": "display_data"
    }
   ],
   "source": [
    "from sklearn.cluster import KMeans\n",
    "import plotly.express as px\n",
    "import numpy as np\n",
    "\n",
    "kmeans = KMeans(n_clusters=3, random_state=0)\n",
    "df['Cluster'] = kmeans.fit_predict(df)\n",
    "\n",
    "df = df.reset_index()\n",
    "# Displaying the clustered data interactively using Plotly Express\n",
    "fig1 = px.scatter(df, x='Schizophrenia', y='Depressive', color='Cluster', title='Schizophrenia vs Depressive', height=600, hover_data=['Code'])\n",
    "fig2 = px.scatter(df, x='Schizophrenia', y='Anxiety', color='Cluster', title='Schizophrenia vs Anxiety', height=600, hover_data=['Code'])\n",
    "fig3 = px.scatter(df, x='Schizophrenia', y='Bipolar', color='Cluster', title='Schizophrenia vs Bipolar', height=600, hover_data=['Code'])\n",
    "fig4 = px.scatter(df, x='Schizophrenia', y='Eating', color='Cluster', title='Schizophrenia vs Eating', height=600, hover_data=['Code'])\n",
    "\n",
    "# Show the figures\n",
    "fig1.show()\n",
    "fig2.show()\n",
    "fig3.show()\n",
    "fig4.show()"
   ]
  },
  {
   "cell_type": "code",
   "execution_count": 21,
   "id": "a62992b2",
   "metadata": {},
   "outputs": [
    {
     "name": "stdout",
     "output_type": "stream",
     "text": [
      "       Bipolar    Eating  Cluster\n",
      "Code                             \n",
      "AFG   0.699886  0.106869        1\n",
      "AGO   0.553821  0.115009        1\n",
      "ALB   0.542134  0.113957        0\n",
      "AND   0.931506  0.497991        2\n",
      "ARE   0.746775  0.314520        0\n"
     ]
    },
    {
     "data": {
      "application/vnd.plotly.v1+json": {
       "config": {
        "plotlyServerURL": "https://plot.ly"
       },
       "data": [
        {
         "hovertemplate": "Number of Clusters=%{x}<br>Inertia=%{y}<extra></extra>",
         "legendgroup": "",
         "line": {
          "color": "#636efa",
          "dash": "solid"
         },
         "marker": {
          "symbol": "circle"
         },
         "mode": "lines",
         "name": "",
         "orientation": "v",
         "showlegend": false,
         "type": "scatter",
         "x": [
          1,
          2,
          3,
          4,
          5,
          6,
          7,
          8,
          9,
          10
         ],
         "xaxis": "x",
         "y": [
          128.07444342176865,
          38.51229537982116,
          9.783572003453619,
          5.717445158976175,
          4.013657338028114,
          3.0128432897432944,
          2.392877325218027,
          2.0329644557878224,
          1.7872787413838285,
          1.5718114714586418
         ],
         "yaxis": "y"
        }
       ],
       "layout": {
        "legend": {
         "tracegroupgap": 0
        },
        "template": {
         "data": {
          "bar": [
           {
            "error_x": {
             "color": "#2a3f5f"
            },
            "error_y": {
             "color": "#2a3f5f"
            },
            "marker": {
             "line": {
              "color": "#E5ECF6",
              "width": 0.5
             },
             "pattern": {
              "fillmode": "overlay",
              "size": 10,
              "solidity": 0.2
             }
            },
            "type": "bar"
           }
          ],
          "barpolar": [
           {
            "marker": {
             "line": {
              "color": "#E5ECF6",
              "width": 0.5
             },
             "pattern": {
              "fillmode": "overlay",
              "size": 10,
              "solidity": 0.2
             }
            },
            "type": "barpolar"
           }
          ],
          "carpet": [
           {
            "aaxis": {
             "endlinecolor": "#2a3f5f",
             "gridcolor": "white",
             "linecolor": "white",
             "minorgridcolor": "white",
             "startlinecolor": "#2a3f5f"
            },
            "baxis": {
             "endlinecolor": "#2a3f5f",
             "gridcolor": "white",
             "linecolor": "white",
             "minorgridcolor": "white",
             "startlinecolor": "#2a3f5f"
            },
            "type": "carpet"
           }
          ],
          "choropleth": [
           {
            "colorbar": {
             "outlinewidth": 0,
             "ticks": ""
            },
            "type": "choropleth"
           }
          ],
          "contour": [
           {
            "colorbar": {
             "outlinewidth": 0,
             "ticks": ""
            },
            "colorscale": [
             [
              0,
              "#0d0887"
             ],
             [
              0.1111111111111111,
              "#46039f"
             ],
             [
              0.2222222222222222,
              "#7201a8"
             ],
             [
              0.3333333333333333,
              "#9c179e"
             ],
             [
              0.4444444444444444,
              "#bd3786"
             ],
             [
              0.5555555555555556,
              "#d8576b"
             ],
             [
              0.6666666666666666,
              "#ed7953"
             ],
             [
              0.7777777777777778,
              "#fb9f3a"
             ],
             [
              0.8888888888888888,
              "#fdca26"
             ],
             [
              1,
              "#f0f921"
             ]
            ],
            "type": "contour"
           }
          ],
          "contourcarpet": [
           {
            "colorbar": {
             "outlinewidth": 0,
             "ticks": ""
            },
            "type": "contourcarpet"
           }
          ],
          "heatmap": [
           {
            "colorbar": {
             "outlinewidth": 0,
             "ticks": ""
            },
            "colorscale": [
             [
              0,
              "#0d0887"
             ],
             [
              0.1111111111111111,
              "#46039f"
             ],
             [
              0.2222222222222222,
              "#7201a8"
             ],
             [
              0.3333333333333333,
              "#9c179e"
             ],
             [
              0.4444444444444444,
              "#bd3786"
             ],
             [
              0.5555555555555556,
              "#d8576b"
             ],
             [
              0.6666666666666666,
              "#ed7953"
             ],
             [
              0.7777777777777778,
              "#fb9f3a"
             ],
             [
              0.8888888888888888,
              "#fdca26"
             ],
             [
              1,
              "#f0f921"
             ]
            ],
            "type": "heatmap"
           }
          ],
          "heatmapgl": [
           {
            "colorbar": {
             "outlinewidth": 0,
             "ticks": ""
            },
            "colorscale": [
             [
              0,
              "#0d0887"
             ],
             [
              0.1111111111111111,
              "#46039f"
             ],
             [
              0.2222222222222222,
              "#7201a8"
             ],
             [
              0.3333333333333333,
              "#9c179e"
             ],
             [
              0.4444444444444444,
              "#bd3786"
             ],
             [
              0.5555555555555556,
              "#d8576b"
             ],
             [
              0.6666666666666666,
              "#ed7953"
             ],
             [
              0.7777777777777778,
              "#fb9f3a"
             ],
             [
              0.8888888888888888,
              "#fdca26"
             ],
             [
              1,
              "#f0f921"
             ]
            ],
            "type": "heatmapgl"
           }
          ],
          "histogram": [
           {
            "marker": {
             "pattern": {
              "fillmode": "overlay",
              "size": 10,
              "solidity": 0.2
             }
            },
            "type": "histogram"
           }
          ],
          "histogram2d": [
           {
            "colorbar": {
             "outlinewidth": 0,
             "ticks": ""
            },
            "colorscale": [
             [
              0,
              "#0d0887"
             ],
             [
              0.1111111111111111,
              "#46039f"
             ],
             [
              0.2222222222222222,
              "#7201a8"
             ],
             [
              0.3333333333333333,
              "#9c179e"
             ],
             [
              0.4444444444444444,
              "#bd3786"
             ],
             [
              0.5555555555555556,
              "#d8576b"
             ],
             [
              0.6666666666666666,
              "#ed7953"
             ],
             [
              0.7777777777777778,
              "#fb9f3a"
             ],
             [
              0.8888888888888888,
              "#fdca26"
             ],
             [
              1,
              "#f0f921"
             ]
            ],
            "type": "histogram2d"
           }
          ],
          "histogram2dcontour": [
           {
            "colorbar": {
             "outlinewidth": 0,
             "ticks": ""
            },
            "colorscale": [
             [
              0,
              "#0d0887"
             ],
             [
              0.1111111111111111,
              "#46039f"
             ],
             [
              0.2222222222222222,
              "#7201a8"
             ],
             [
              0.3333333333333333,
              "#9c179e"
             ],
             [
              0.4444444444444444,
              "#bd3786"
             ],
             [
              0.5555555555555556,
              "#d8576b"
             ],
             [
              0.6666666666666666,
              "#ed7953"
             ],
             [
              0.7777777777777778,
              "#fb9f3a"
             ],
             [
              0.8888888888888888,
              "#fdca26"
             ],
             [
              1,
              "#f0f921"
             ]
            ],
            "type": "histogram2dcontour"
           }
          ],
          "mesh3d": [
           {
            "colorbar": {
             "outlinewidth": 0,
             "ticks": ""
            },
            "type": "mesh3d"
           }
          ],
          "parcoords": [
           {
            "line": {
             "colorbar": {
              "outlinewidth": 0,
              "ticks": ""
             }
            },
            "type": "parcoords"
           }
          ],
          "pie": [
           {
            "automargin": true,
            "type": "pie"
           }
          ],
          "scatter": [
           {
            "fillpattern": {
             "fillmode": "overlay",
             "size": 10,
             "solidity": 0.2
            },
            "type": "scatter"
           }
          ],
          "scatter3d": [
           {
            "line": {
             "colorbar": {
              "outlinewidth": 0,
              "ticks": ""
             }
            },
            "marker": {
             "colorbar": {
              "outlinewidth": 0,
              "ticks": ""
             }
            },
            "type": "scatter3d"
           }
          ],
          "scattercarpet": [
           {
            "marker": {
             "colorbar": {
              "outlinewidth": 0,
              "ticks": ""
             }
            },
            "type": "scattercarpet"
           }
          ],
          "scattergeo": [
           {
            "marker": {
             "colorbar": {
              "outlinewidth": 0,
              "ticks": ""
             }
            },
            "type": "scattergeo"
           }
          ],
          "scattergl": [
           {
            "marker": {
             "colorbar": {
              "outlinewidth": 0,
              "ticks": ""
             }
            },
            "type": "scattergl"
           }
          ],
          "scattermapbox": [
           {
            "marker": {
             "colorbar": {
              "outlinewidth": 0,
              "ticks": ""
             }
            },
            "type": "scattermapbox"
           }
          ],
          "scatterpolar": [
           {
            "marker": {
             "colorbar": {
              "outlinewidth": 0,
              "ticks": ""
             }
            },
            "type": "scatterpolar"
           }
          ],
          "scatterpolargl": [
           {
            "marker": {
             "colorbar": {
              "outlinewidth": 0,
              "ticks": ""
             }
            },
            "type": "scatterpolargl"
           }
          ],
          "scatterternary": [
           {
            "marker": {
             "colorbar": {
              "outlinewidth": 0,
              "ticks": ""
             }
            },
            "type": "scatterternary"
           }
          ],
          "surface": [
           {
            "colorbar": {
             "outlinewidth": 0,
             "ticks": ""
            },
            "colorscale": [
             [
              0,
              "#0d0887"
             ],
             [
              0.1111111111111111,
              "#46039f"
             ],
             [
              0.2222222222222222,
              "#7201a8"
             ],
             [
              0.3333333333333333,
              "#9c179e"
             ],
             [
              0.4444444444444444,
              "#bd3786"
             ],
             [
              0.5555555555555556,
              "#d8576b"
             ],
             [
              0.6666666666666666,
              "#ed7953"
             ],
             [
              0.7777777777777778,
              "#fb9f3a"
             ],
             [
              0.8888888888888888,
              "#fdca26"
             ],
             [
              1,
              "#f0f921"
             ]
            ],
            "type": "surface"
           }
          ],
          "table": [
           {
            "cells": {
             "fill": {
              "color": "#EBF0F8"
             },
             "line": {
              "color": "white"
             }
            },
            "header": {
             "fill": {
              "color": "#C8D4E3"
             },
             "line": {
              "color": "white"
             }
            },
            "type": "table"
           }
          ]
         },
         "layout": {
          "annotationdefaults": {
           "arrowcolor": "#2a3f5f",
           "arrowhead": 0,
           "arrowwidth": 1
          },
          "autotypenumbers": "strict",
          "coloraxis": {
           "colorbar": {
            "outlinewidth": 0,
            "ticks": ""
           }
          },
          "colorscale": {
           "diverging": [
            [
             0,
             "#8e0152"
            ],
            [
             0.1,
             "#c51b7d"
            ],
            [
             0.2,
             "#de77ae"
            ],
            [
             0.3,
             "#f1b6da"
            ],
            [
             0.4,
             "#fde0ef"
            ],
            [
             0.5,
             "#f7f7f7"
            ],
            [
             0.6,
             "#e6f5d0"
            ],
            [
             0.7,
             "#b8e186"
            ],
            [
             0.8,
             "#7fbc41"
            ],
            [
             0.9,
             "#4d9221"
            ],
            [
             1,
             "#276419"
            ]
           ],
           "sequential": [
            [
             0,
             "#0d0887"
            ],
            [
             0.1111111111111111,
             "#46039f"
            ],
            [
             0.2222222222222222,
             "#7201a8"
            ],
            [
             0.3333333333333333,
             "#9c179e"
            ],
            [
             0.4444444444444444,
             "#bd3786"
            ],
            [
             0.5555555555555556,
             "#d8576b"
            ],
            [
             0.6666666666666666,
             "#ed7953"
            ],
            [
             0.7777777777777778,
             "#fb9f3a"
            ],
            [
             0.8888888888888888,
             "#fdca26"
            ],
            [
             1,
             "#f0f921"
            ]
           ],
           "sequentialminus": [
            [
             0,
             "#0d0887"
            ],
            [
             0.1111111111111111,
             "#46039f"
            ],
            [
             0.2222222222222222,
             "#7201a8"
            ],
            [
             0.3333333333333333,
             "#9c179e"
            ],
            [
             0.4444444444444444,
             "#bd3786"
            ],
            [
             0.5555555555555556,
             "#d8576b"
            ],
            [
             0.6666666666666666,
             "#ed7953"
            ],
            [
             0.7777777777777778,
             "#fb9f3a"
            ],
            [
             0.8888888888888888,
             "#fdca26"
            ],
            [
             1,
             "#f0f921"
            ]
           ]
          },
          "colorway": [
           "#636efa",
           "#EF553B",
           "#00cc96",
           "#ab63fa",
           "#FFA15A",
           "#19d3f3",
           "#FF6692",
           "#B6E880",
           "#FF97FF",
           "#FECB52"
          ],
          "font": {
           "color": "#2a3f5f"
          },
          "geo": {
           "bgcolor": "white",
           "lakecolor": "white",
           "landcolor": "#E5ECF6",
           "showlakes": true,
           "showland": true,
           "subunitcolor": "white"
          },
          "hoverlabel": {
           "align": "left"
          },
          "hovermode": "closest",
          "mapbox": {
           "style": "light"
          },
          "paper_bgcolor": "white",
          "plot_bgcolor": "#E5ECF6",
          "polar": {
           "angularaxis": {
            "gridcolor": "white",
            "linecolor": "white",
            "ticks": ""
           },
           "bgcolor": "#E5ECF6",
           "radialaxis": {
            "gridcolor": "white",
            "linecolor": "white",
            "ticks": ""
           }
          },
          "scene": {
           "xaxis": {
            "backgroundcolor": "#E5ECF6",
            "gridcolor": "white",
            "gridwidth": 2,
            "linecolor": "white",
            "showbackground": true,
            "ticks": "",
            "zerolinecolor": "white"
           },
           "yaxis": {
            "backgroundcolor": "#E5ECF6",
            "gridcolor": "white",
            "gridwidth": 2,
            "linecolor": "white",
            "showbackground": true,
            "ticks": "",
            "zerolinecolor": "white"
           },
           "zaxis": {
            "backgroundcolor": "#E5ECF6",
            "gridcolor": "white",
            "gridwidth": 2,
            "linecolor": "white",
            "showbackground": true,
            "ticks": "",
            "zerolinecolor": "white"
           }
          },
          "shapedefaults": {
           "line": {
            "color": "#2a3f5f"
           }
          },
          "ternary": {
           "aaxis": {
            "gridcolor": "white",
            "linecolor": "white",
            "ticks": ""
           },
           "baxis": {
            "gridcolor": "white",
            "linecolor": "white",
            "ticks": ""
           },
           "bgcolor": "#E5ECF6",
           "caxis": {
            "gridcolor": "white",
            "linecolor": "white",
            "ticks": ""
           }
          },
          "title": {
           "x": 0.05
          },
          "xaxis": {
           "automargin": true,
           "gridcolor": "white",
           "linecolor": "white",
           "ticks": "",
           "title": {
            "standoff": 15
           },
           "zerolinecolor": "white",
           "zerolinewidth": 2
          },
          "yaxis": {
           "automargin": true,
           "gridcolor": "white",
           "linecolor": "white",
           "ticks": "",
           "title": {
            "standoff": 15
           },
           "zerolinecolor": "white",
           "zerolinewidth": 2
          }
         }
        },
        "title": {
         "text": "Elbow Plot"
        },
        "xaxis": {
         "anchor": "y",
         "domain": [
          0,
          1
         ],
         "title": {
          "text": "Number of Clusters"
         }
        },
        "yaxis": {
         "anchor": "x",
         "domain": [
          0,
          1
         ],
         "title": {
          "text": "Inertia"
         }
        }
       }
      },
      "text/html": [
       "<div>                            <div id=\"f884ac7c-1c16-4baa-bbd2-53a4bfe5e853\" class=\"plotly-graph-div\" style=\"height:525px; width:100%;\"></div>            <script type=\"text/javascript\">                require([\"plotly\"], function(Plotly) {                    window.PLOTLYENV=window.PLOTLYENV || {};                                    if (document.getElementById(\"f884ac7c-1c16-4baa-bbd2-53a4bfe5e853\")) {                    Plotly.newPlot(                        \"f884ac7c-1c16-4baa-bbd2-53a4bfe5e853\",                        [{\"hovertemplate\":\"Number of Clusters=%{x}<br>Inertia=%{y}<extra></extra>\",\"legendgroup\":\"\",\"line\":{\"color\":\"#636efa\",\"dash\":\"solid\"},\"marker\":{\"symbol\":\"circle\"},\"mode\":\"lines\",\"name\":\"\",\"orientation\":\"v\",\"showlegend\":false,\"x\":[1,2,3,4,5,6,7,8,9,10],\"xaxis\":\"x\",\"y\":[128.07444342176865,38.51229537982116,9.783572003453619,5.717445158976175,4.013657338028114,3.0128432897432944,2.392877325218027,2.0329644557878224,1.7872787413838285,1.5718114714586418],\"yaxis\":\"y\",\"type\":\"scatter\"}],                        {\"template\":{\"data\":{\"histogram2dcontour\":[{\"type\":\"histogram2dcontour\",\"colorbar\":{\"outlinewidth\":0,\"ticks\":\"\"},\"colorscale\":[[0.0,\"#0d0887\"],[0.1111111111111111,\"#46039f\"],[0.2222222222222222,\"#7201a8\"],[0.3333333333333333,\"#9c179e\"],[0.4444444444444444,\"#bd3786\"],[0.5555555555555556,\"#d8576b\"],[0.6666666666666666,\"#ed7953\"],[0.7777777777777778,\"#fb9f3a\"],[0.8888888888888888,\"#fdca26\"],[1.0,\"#f0f921\"]]}],\"choropleth\":[{\"type\":\"choropleth\",\"colorbar\":{\"outlinewidth\":0,\"ticks\":\"\"}}],\"histogram2d\":[{\"type\":\"histogram2d\",\"colorbar\":{\"outlinewidth\":0,\"ticks\":\"\"},\"colorscale\":[[0.0,\"#0d0887\"],[0.1111111111111111,\"#46039f\"],[0.2222222222222222,\"#7201a8\"],[0.3333333333333333,\"#9c179e\"],[0.4444444444444444,\"#bd3786\"],[0.5555555555555556,\"#d8576b\"],[0.6666666666666666,\"#ed7953\"],[0.7777777777777778,\"#fb9f3a\"],[0.8888888888888888,\"#fdca26\"],[1.0,\"#f0f921\"]]}],\"heatmap\":[{\"type\":\"heatmap\",\"colorbar\":{\"outlinewidth\":0,\"ticks\":\"\"},\"colorscale\":[[0.0,\"#0d0887\"],[0.1111111111111111,\"#46039f\"],[0.2222222222222222,\"#7201a8\"],[0.3333333333333333,\"#9c179e\"],[0.4444444444444444,\"#bd3786\"],[0.5555555555555556,\"#d8576b\"],[0.6666666666666666,\"#ed7953\"],[0.7777777777777778,\"#fb9f3a\"],[0.8888888888888888,\"#fdca26\"],[1.0,\"#f0f921\"]]}],\"heatmapgl\":[{\"type\":\"heatmapgl\",\"colorbar\":{\"outlinewidth\":0,\"ticks\":\"\"},\"colorscale\":[[0.0,\"#0d0887\"],[0.1111111111111111,\"#46039f\"],[0.2222222222222222,\"#7201a8\"],[0.3333333333333333,\"#9c179e\"],[0.4444444444444444,\"#bd3786\"],[0.5555555555555556,\"#d8576b\"],[0.6666666666666666,\"#ed7953\"],[0.7777777777777778,\"#fb9f3a\"],[0.8888888888888888,\"#fdca26\"],[1.0,\"#f0f921\"]]}],\"contourcarpet\":[{\"type\":\"contourcarpet\",\"colorbar\":{\"outlinewidth\":0,\"ticks\":\"\"}}],\"contour\":[{\"type\":\"contour\",\"colorbar\":{\"outlinewidth\":0,\"ticks\":\"\"},\"colorscale\":[[0.0,\"#0d0887\"],[0.1111111111111111,\"#46039f\"],[0.2222222222222222,\"#7201a8\"],[0.3333333333333333,\"#9c179e\"],[0.4444444444444444,\"#bd3786\"],[0.5555555555555556,\"#d8576b\"],[0.6666666666666666,\"#ed7953\"],[0.7777777777777778,\"#fb9f3a\"],[0.8888888888888888,\"#fdca26\"],[1.0,\"#f0f921\"]]}],\"surface\":[{\"type\":\"surface\",\"colorbar\":{\"outlinewidth\":0,\"ticks\":\"\"},\"colorscale\":[[0.0,\"#0d0887\"],[0.1111111111111111,\"#46039f\"],[0.2222222222222222,\"#7201a8\"],[0.3333333333333333,\"#9c179e\"],[0.4444444444444444,\"#bd3786\"],[0.5555555555555556,\"#d8576b\"],[0.6666666666666666,\"#ed7953\"],[0.7777777777777778,\"#fb9f3a\"],[0.8888888888888888,\"#fdca26\"],[1.0,\"#f0f921\"]]}],\"mesh3d\":[{\"type\":\"mesh3d\",\"colorbar\":{\"outlinewidth\":0,\"ticks\":\"\"}}],\"scatter\":[{\"fillpattern\":{\"fillmode\":\"overlay\",\"size\":10,\"solidity\":0.2},\"type\":\"scatter\"}],\"parcoords\":[{\"type\":\"parcoords\",\"line\":{\"colorbar\":{\"outlinewidth\":0,\"ticks\":\"\"}}}],\"scatterpolargl\":[{\"type\":\"scatterpolargl\",\"marker\":{\"colorbar\":{\"outlinewidth\":0,\"ticks\":\"\"}}}],\"bar\":[{\"error_x\":{\"color\":\"#2a3f5f\"},\"error_y\":{\"color\":\"#2a3f5f\"},\"marker\":{\"line\":{\"color\":\"#E5ECF6\",\"width\":0.5},\"pattern\":{\"fillmode\":\"overlay\",\"size\":10,\"solidity\":0.2}},\"type\":\"bar\"}],\"scattergeo\":[{\"type\":\"scattergeo\",\"marker\":{\"colorbar\":{\"outlinewidth\":0,\"ticks\":\"\"}}}],\"scatterpolar\":[{\"type\":\"scatterpolar\",\"marker\":{\"colorbar\":{\"outlinewidth\":0,\"ticks\":\"\"}}}],\"histogram\":[{\"marker\":{\"pattern\":{\"fillmode\":\"overlay\",\"size\":10,\"solidity\":0.2}},\"type\":\"histogram\"}],\"scattergl\":[{\"type\":\"scattergl\",\"marker\":{\"colorbar\":{\"outlinewidth\":0,\"ticks\":\"\"}}}],\"scatter3d\":[{\"type\":\"scatter3d\",\"line\":{\"colorbar\":{\"outlinewidth\":0,\"ticks\":\"\"}},\"marker\":{\"colorbar\":{\"outlinewidth\":0,\"ticks\":\"\"}}}],\"scattermapbox\":[{\"type\":\"scattermapbox\",\"marker\":{\"colorbar\":{\"outlinewidth\":0,\"ticks\":\"\"}}}],\"scatterternary\":[{\"type\":\"scatterternary\",\"marker\":{\"colorbar\":{\"outlinewidth\":0,\"ticks\":\"\"}}}],\"scattercarpet\":[{\"type\":\"scattercarpet\",\"marker\":{\"colorbar\":{\"outlinewidth\":0,\"ticks\":\"\"}}}],\"carpet\":[{\"aaxis\":{\"endlinecolor\":\"#2a3f5f\",\"gridcolor\":\"white\",\"linecolor\":\"white\",\"minorgridcolor\":\"white\",\"startlinecolor\":\"#2a3f5f\"},\"baxis\":{\"endlinecolor\":\"#2a3f5f\",\"gridcolor\":\"white\",\"linecolor\":\"white\",\"minorgridcolor\":\"white\",\"startlinecolor\":\"#2a3f5f\"},\"type\":\"carpet\"}],\"table\":[{\"cells\":{\"fill\":{\"color\":\"#EBF0F8\"},\"line\":{\"color\":\"white\"}},\"header\":{\"fill\":{\"color\":\"#C8D4E3\"},\"line\":{\"color\":\"white\"}},\"type\":\"table\"}],\"barpolar\":[{\"marker\":{\"line\":{\"color\":\"#E5ECF6\",\"width\":0.5},\"pattern\":{\"fillmode\":\"overlay\",\"size\":10,\"solidity\":0.2}},\"type\":\"barpolar\"}],\"pie\":[{\"automargin\":true,\"type\":\"pie\"}]},\"layout\":{\"autotypenumbers\":\"strict\",\"colorway\":[\"#636efa\",\"#EF553B\",\"#00cc96\",\"#ab63fa\",\"#FFA15A\",\"#19d3f3\",\"#FF6692\",\"#B6E880\",\"#FF97FF\",\"#FECB52\"],\"font\":{\"color\":\"#2a3f5f\"},\"hovermode\":\"closest\",\"hoverlabel\":{\"align\":\"left\"},\"paper_bgcolor\":\"white\",\"plot_bgcolor\":\"#E5ECF6\",\"polar\":{\"bgcolor\":\"#E5ECF6\",\"angularaxis\":{\"gridcolor\":\"white\",\"linecolor\":\"white\",\"ticks\":\"\"},\"radialaxis\":{\"gridcolor\":\"white\",\"linecolor\":\"white\",\"ticks\":\"\"}},\"ternary\":{\"bgcolor\":\"#E5ECF6\",\"aaxis\":{\"gridcolor\":\"white\",\"linecolor\":\"white\",\"ticks\":\"\"},\"baxis\":{\"gridcolor\":\"white\",\"linecolor\":\"white\",\"ticks\":\"\"},\"caxis\":{\"gridcolor\":\"white\",\"linecolor\":\"white\",\"ticks\":\"\"}},\"coloraxis\":{\"colorbar\":{\"outlinewidth\":0,\"ticks\":\"\"}},\"colorscale\":{\"sequential\":[[0.0,\"#0d0887\"],[0.1111111111111111,\"#46039f\"],[0.2222222222222222,\"#7201a8\"],[0.3333333333333333,\"#9c179e\"],[0.4444444444444444,\"#bd3786\"],[0.5555555555555556,\"#d8576b\"],[0.6666666666666666,\"#ed7953\"],[0.7777777777777778,\"#fb9f3a\"],[0.8888888888888888,\"#fdca26\"],[1.0,\"#f0f921\"]],\"sequentialminus\":[[0.0,\"#0d0887\"],[0.1111111111111111,\"#46039f\"],[0.2222222222222222,\"#7201a8\"],[0.3333333333333333,\"#9c179e\"],[0.4444444444444444,\"#bd3786\"],[0.5555555555555556,\"#d8576b\"],[0.6666666666666666,\"#ed7953\"],[0.7777777777777778,\"#fb9f3a\"],[0.8888888888888888,\"#fdca26\"],[1.0,\"#f0f921\"]],\"diverging\":[[0,\"#8e0152\"],[0.1,\"#c51b7d\"],[0.2,\"#de77ae\"],[0.3,\"#f1b6da\"],[0.4,\"#fde0ef\"],[0.5,\"#f7f7f7\"],[0.6,\"#e6f5d0\"],[0.7,\"#b8e186\"],[0.8,\"#7fbc41\"],[0.9,\"#4d9221\"],[1,\"#276419\"]]},\"xaxis\":{\"gridcolor\":\"white\",\"linecolor\":\"white\",\"ticks\":\"\",\"title\":{\"standoff\":15},\"zerolinecolor\":\"white\",\"automargin\":true,\"zerolinewidth\":2},\"yaxis\":{\"gridcolor\":\"white\",\"linecolor\":\"white\",\"ticks\":\"\",\"title\":{\"standoff\":15},\"zerolinecolor\":\"white\",\"automargin\":true,\"zerolinewidth\":2},\"scene\":{\"xaxis\":{\"backgroundcolor\":\"#E5ECF6\",\"gridcolor\":\"white\",\"linecolor\":\"white\",\"showbackground\":true,\"ticks\":\"\",\"zerolinecolor\":\"white\",\"gridwidth\":2},\"yaxis\":{\"backgroundcolor\":\"#E5ECF6\",\"gridcolor\":\"white\",\"linecolor\":\"white\",\"showbackground\":true,\"ticks\":\"\",\"zerolinecolor\":\"white\",\"gridwidth\":2},\"zaxis\":{\"backgroundcolor\":\"#E5ECF6\",\"gridcolor\":\"white\",\"linecolor\":\"white\",\"showbackground\":true,\"ticks\":\"\",\"zerolinecolor\":\"white\",\"gridwidth\":2}},\"shapedefaults\":{\"line\":{\"color\":\"#2a3f5f\"}},\"annotationdefaults\":{\"arrowcolor\":\"#2a3f5f\",\"arrowhead\":0,\"arrowwidth\":1},\"geo\":{\"bgcolor\":\"white\",\"landcolor\":\"#E5ECF6\",\"subunitcolor\":\"white\",\"showland\":true,\"showlakes\":true,\"lakecolor\":\"white\"},\"title\":{\"x\":0.05},\"mapbox\":{\"style\":\"light\"}}},\"xaxis\":{\"anchor\":\"y\",\"domain\":[0.0,1.0],\"title\":{\"text\":\"Number of Clusters\"}},\"yaxis\":{\"anchor\":\"x\",\"domain\":[0.0,1.0],\"title\":{\"text\":\"Inertia\"}},\"legend\":{\"tracegroupgap\":0},\"title\":{\"text\":\"Elbow Plot\"}},                        {\"responsive\": true}                    ).then(function(){\n",
       "                            \n",
       "var gd = document.getElementById('f884ac7c-1c16-4baa-bbd2-53a4bfe5e853');\n",
       "var x = new MutationObserver(function (mutations, observer) {{\n",
       "        var display = window.getComputedStyle(gd).display;\n",
       "        if (!display || display === 'none') {{\n",
       "            console.log([gd, 'removed!']);\n",
       "            Plotly.purge(gd);\n",
       "            observer.disconnect();\n",
       "        }}\n",
       "}});\n",
       "\n",
       "// Listen for the removal of the full notebook cells\n",
       "var notebookContainer = gd.closest('#notebook-container');\n",
       "if (notebookContainer) {{\n",
       "    x.observe(notebookContainer, {childList: true});\n",
       "}}\n",
       "\n",
       "// Listen for the clearing of the current output cell\n",
       "var outputEl = gd.closest('.output');\n",
       "if (outputEl) {{\n",
       "    x.observe(outputEl, {childList: true});\n",
       "}}\n",
       "\n",
       "                        })                };                });            </script>        </div>"
      ]
     },
     "metadata": {},
     "output_type": "display_data"
    }
   ],
   "source": [
    "# Selecting only the numerical columns related to mental disorders\n",
    "X= df.iloc[:, 3:]\n",
    "print(X.head())\n",
    "\n",
    "# elbow plot\n",
    "inertia = []\n",
    "for i in range(1, 11):\n",
    "    kmeans = KMeans(n_clusters=i, random_state=42)\n",
    "    kmeans.fit(X)\n",
    "    inertia.append(kmeans.inertia_)\n",
    "\n",
    "# Plotting the elbow plot with plotly\n",
    "fig = px.line(x=range(1, 11), y=inertia, title='Elbow Plot', labels={'x': 'Number of Clusters', 'y': 'Inertia'})\n",
    "fig.show()"
   ]
  },
  {
   "cell_type": "code",
   "execution_count": null,
   "id": "1db52c18",
   "metadata": {},
   "outputs": [],
   "source": []
  }
 ],
 "metadata": {
  "kernelspec": {
   "display_name": "Python 3 (ipykernel)",
   "language": "python",
   "name": "python3"
  },
  "language_info": {
   "codemirror_mode": {
    "name": "ipython",
    "version": 3
   },
   "file_extension": ".py",
   "mimetype": "text/x-python",
   "name": "python",
   "nbconvert_exporter": "python",
   "pygments_lexer": "ipython3",
   "version": "3.11.5"
  }
 },
 "nbformat": 4,
 "nbformat_minor": 5
}
